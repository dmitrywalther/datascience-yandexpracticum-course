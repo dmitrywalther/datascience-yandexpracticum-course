{
 "cells": [
  {
   "cell_type": "markdown",
   "metadata": {},
   "source": [
    "# Описание проекта\n",
    "\n",
    "Вы работаете в интернет-магазине «Стримчик», который продаёт по всему миру компьютерные игры. Из открытых источников доступны исторические данные о продажах игр, оценки пользователей и экспертов, жанры и платформы (например, Xbox или PlayStation). Вам нужно выявить определяющие успешность игры закономерности. Это позволит сделать ставку на потенциально популярный продукт и спланировать рекламные кампании.\n",
    "\n",
    "**Цель исследования** - определить факторы, которые больше всего влияют на продаваемость продукта.\n",
    "\n",
    "**Задачи исследования**:\n",
    "1. Подготовить данные - заменить названия столбцов, преобразовать данные в нужные типы, обработать пропуски, рассчитать новые значения;\n",
    "2. Провести исследовательский анализ данных - изучить сколько игр выпускалось в разные годы, как менялись продажи по платформам, как влияют на продажи внутри одной платформы отзывы пользователей и критиков, распределение игр по жанрам;\n",
    "3. Составить портрет пользователя каждого региона - самые популярные платформы (топ-5), самые популярные жанры (топ-5), влияние рейтинга ESRB на продажи в отдельном регионе;\n",
    "4. Проверить гипотезы - средние пользовательские рейтинги платформ Xbox One и PC одинаковые, средние пользовательские рейтинги жанров Action и Sports разные.\n",
    "\n",
    "**Ход исследования**\n",
    "\n",
    "О качестве данных ничего не известно. Поэтому перед проверкой гипотез понадобится обзор данных. \n",
    "\n",
    "Проверив данные на ошибки, на этапе предобработки будем искать возможность исправить самые критичные из них.\n",
    " \n",
    "Таким образом, исследование пройдёт в три этапа:\n",
    " 1. Обзор данных;\n",
    " 2. Предобработка данных;\n",
    " 3. Исследовательский анализ данных и проверка гипотез."
   ]
  },
  {
   "cell_type": "markdown",
   "metadata": {},
   "source": [
    "# 1. Обзор данных"
   ]
  },
  {
   "cell_type": "markdown",
   "metadata": {},
   "source": [
    "Подключаемые все необходимые для выполнения исследования библиотеки:"
   ]
  },
  {
   "cell_type": "code",
   "execution_count": 1,
   "metadata": {},
   "outputs": [],
   "source": [
    "import pandas as pd # библиотека для манипуляции с табличными данными\n",
    "import seaborn as sns # библиотека для визуализации"
   ]
  },
  {
   "cell_type": "markdown",
   "metadata": {},
   "source": [
    "Загружаем данные из файла:"
   ]
  },
  {
   "cell_type": "code",
   "execution_count": 2,
   "metadata": {},
   "outputs": [
    {
     "data": {
      "text/html": [
       "<div>\n",
       "<style scoped>\n",
       "    .dataframe tbody tr th:only-of-type {\n",
       "        vertical-align: middle;\n",
       "    }\n",
       "\n",
       "    .dataframe tbody tr th {\n",
       "        vertical-align: top;\n",
       "    }\n",
       "\n",
       "    .dataframe thead th {\n",
       "        text-align: right;\n",
       "    }\n",
       "</style>\n",
       "<table border=\"1\" class=\"dataframe\">\n",
       "  <thead>\n",
       "    <tr style=\"text-align: right;\">\n",
       "      <th></th>\n",
       "      <th>Name</th>\n",
       "      <th>Platform</th>\n",
       "      <th>Year_of_Release</th>\n",
       "      <th>Genre</th>\n",
       "      <th>NA_sales</th>\n",
       "      <th>EU_sales</th>\n",
       "      <th>JP_sales</th>\n",
       "      <th>Other_sales</th>\n",
       "      <th>Critic_Score</th>\n",
       "      <th>User_Score</th>\n",
       "      <th>Rating</th>\n",
       "    </tr>\n",
       "  </thead>\n",
       "  <tbody>\n",
       "    <tr>\n",
       "      <th>0</th>\n",
       "      <td>Wii Sports</td>\n",
       "      <td>Wii</td>\n",
       "      <td>2006.0</td>\n",
       "      <td>Sports</td>\n",
       "      <td>41.36</td>\n",
       "      <td>28.96</td>\n",
       "      <td>3.77</td>\n",
       "      <td>8.45</td>\n",
       "      <td>76.0</td>\n",
       "      <td>8</td>\n",
       "      <td>E</td>\n",
       "    </tr>\n",
       "    <tr>\n",
       "      <th>1</th>\n",
       "      <td>Super Mario Bros.</td>\n",
       "      <td>NES</td>\n",
       "      <td>1985.0</td>\n",
       "      <td>Platform</td>\n",
       "      <td>29.08</td>\n",
       "      <td>3.58</td>\n",
       "      <td>6.81</td>\n",
       "      <td>0.77</td>\n",
       "      <td>NaN</td>\n",
       "      <td>NaN</td>\n",
       "      <td>NaN</td>\n",
       "    </tr>\n",
       "    <tr>\n",
       "      <th>2</th>\n",
       "      <td>Mario Kart Wii</td>\n",
       "      <td>Wii</td>\n",
       "      <td>2008.0</td>\n",
       "      <td>Racing</td>\n",
       "      <td>15.68</td>\n",
       "      <td>12.76</td>\n",
       "      <td>3.79</td>\n",
       "      <td>3.29</td>\n",
       "      <td>82.0</td>\n",
       "      <td>8.3</td>\n",
       "      <td>E</td>\n",
       "    </tr>\n",
       "    <tr>\n",
       "      <th>3</th>\n",
       "      <td>Wii Sports Resort</td>\n",
       "      <td>Wii</td>\n",
       "      <td>2009.0</td>\n",
       "      <td>Sports</td>\n",
       "      <td>15.61</td>\n",
       "      <td>10.93</td>\n",
       "      <td>3.28</td>\n",
       "      <td>2.95</td>\n",
       "      <td>80.0</td>\n",
       "      <td>8</td>\n",
       "      <td>E</td>\n",
       "    </tr>\n",
       "    <tr>\n",
       "      <th>4</th>\n",
       "      <td>Pokemon Red/Pokemon Blue</td>\n",
       "      <td>GB</td>\n",
       "      <td>1996.0</td>\n",
       "      <td>Role-Playing</td>\n",
       "      <td>11.27</td>\n",
       "      <td>8.89</td>\n",
       "      <td>10.22</td>\n",
       "      <td>1.00</td>\n",
       "      <td>NaN</td>\n",
       "      <td>NaN</td>\n",
       "      <td>NaN</td>\n",
       "    </tr>\n",
       "    <tr>\n",
       "      <th>...</th>\n",
       "      <td>...</td>\n",
       "      <td>...</td>\n",
       "      <td>...</td>\n",
       "      <td>...</td>\n",
       "      <td>...</td>\n",
       "      <td>...</td>\n",
       "      <td>...</td>\n",
       "      <td>...</td>\n",
       "      <td>...</td>\n",
       "      <td>...</td>\n",
       "      <td>...</td>\n",
       "    </tr>\n",
       "    <tr>\n",
       "      <th>16710</th>\n",
       "      <td>Samurai Warriors: Sanada Maru</td>\n",
       "      <td>PS3</td>\n",
       "      <td>2016.0</td>\n",
       "      <td>Action</td>\n",
       "      <td>0.00</td>\n",
       "      <td>0.00</td>\n",
       "      <td>0.01</td>\n",
       "      <td>0.00</td>\n",
       "      <td>NaN</td>\n",
       "      <td>NaN</td>\n",
       "      <td>NaN</td>\n",
       "    </tr>\n",
       "    <tr>\n",
       "      <th>16711</th>\n",
       "      <td>LMA Manager 2007</td>\n",
       "      <td>X360</td>\n",
       "      <td>2006.0</td>\n",
       "      <td>Sports</td>\n",
       "      <td>0.00</td>\n",
       "      <td>0.01</td>\n",
       "      <td>0.00</td>\n",
       "      <td>0.00</td>\n",
       "      <td>NaN</td>\n",
       "      <td>NaN</td>\n",
       "      <td>NaN</td>\n",
       "    </tr>\n",
       "    <tr>\n",
       "      <th>16712</th>\n",
       "      <td>Haitaka no Psychedelica</td>\n",
       "      <td>PSV</td>\n",
       "      <td>2016.0</td>\n",
       "      <td>Adventure</td>\n",
       "      <td>0.00</td>\n",
       "      <td>0.00</td>\n",
       "      <td>0.01</td>\n",
       "      <td>0.00</td>\n",
       "      <td>NaN</td>\n",
       "      <td>NaN</td>\n",
       "      <td>NaN</td>\n",
       "    </tr>\n",
       "    <tr>\n",
       "      <th>16713</th>\n",
       "      <td>Spirits &amp; Spells</td>\n",
       "      <td>GBA</td>\n",
       "      <td>2003.0</td>\n",
       "      <td>Platform</td>\n",
       "      <td>0.01</td>\n",
       "      <td>0.00</td>\n",
       "      <td>0.00</td>\n",
       "      <td>0.00</td>\n",
       "      <td>NaN</td>\n",
       "      <td>NaN</td>\n",
       "      <td>NaN</td>\n",
       "    </tr>\n",
       "    <tr>\n",
       "      <th>16714</th>\n",
       "      <td>Winning Post 8 2016</td>\n",
       "      <td>PSV</td>\n",
       "      <td>2016.0</td>\n",
       "      <td>Simulation</td>\n",
       "      <td>0.00</td>\n",
       "      <td>0.00</td>\n",
       "      <td>0.01</td>\n",
       "      <td>0.00</td>\n",
       "      <td>NaN</td>\n",
       "      <td>NaN</td>\n",
       "      <td>NaN</td>\n",
       "    </tr>\n",
       "  </tbody>\n",
       "</table>\n",
       "<p>16715 rows × 11 columns</p>\n",
       "</div>"
      ],
      "text/plain": [
       "                                Name Platform  Year_of_Release         Genre  \\\n",
       "0                         Wii Sports      Wii           2006.0        Sports   \n",
       "1                  Super Mario Bros.      NES           1985.0      Platform   \n",
       "2                     Mario Kart Wii      Wii           2008.0        Racing   \n",
       "3                  Wii Sports Resort      Wii           2009.0        Sports   \n",
       "4           Pokemon Red/Pokemon Blue       GB           1996.0  Role-Playing   \n",
       "...                              ...      ...              ...           ...   \n",
       "16710  Samurai Warriors: Sanada Maru      PS3           2016.0        Action   \n",
       "16711               LMA Manager 2007     X360           2006.0        Sports   \n",
       "16712        Haitaka no Psychedelica      PSV           2016.0     Adventure   \n",
       "16713               Spirits & Spells      GBA           2003.0      Platform   \n",
       "16714            Winning Post 8 2016      PSV           2016.0    Simulation   \n",
       "\n",
       "       NA_sales  EU_sales  JP_sales  Other_sales  Critic_Score User_Score  \\\n",
       "0         41.36     28.96      3.77         8.45          76.0          8   \n",
       "1         29.08      3.58      6.81         0.77           NaN        NaN   \n",
       "2         15.68     12.76      3.79         3.29          82.0        8.3   \n",
       "3         15.61     10.93      3.28         2.95          80.0          8   \n",
       "4         11.27      8.89     10.22         1.00           NaN        NaN   \n",
       "...         ...       ...       ...          ...           ...        ...   \n",
       "16710      0.00      0.00      0.01         0.00           NaN        NaN   \n",
       "16711      0.00      0.01      0.00         0.00           NaN        NaN   \n",
       "16712      0.00      0.00      0.01         0.00           NaN        NaN   \n",
       "16713      0.01      0.00      0.00         0.00           NaN        NaN   \n",
       "16714      0.00      0.00      0.01         0.00           NaN        NaN   \n",
       "\n",
       "      Rating  \n",
       "0          E  \n",
       "1        NaN  \n",
       "2          E  \n",
       "3          E  \n",
       "4        NaN  \n",
       "...      ...  \n",
       "16710    NaN  \n",
       "16711    NaN  \n",
       "16712    NaN  \n",
       "16713    NaN  \n",
       "16714    NaN  \n",
       "\n",
       "[16715 rows x 11 columns]"
      ]
     },
     "metadata": {},
     "output_type": "display_data"
    }
   ],
   "source": [
    "try:\n",
    "    data = pd.read_csv('/datasets/games.csv')\n",
    "except:\n",
    "    data = pd.read_csv('https://code.s3.yandex.net/datasets/games.csv')\n",
    "\n",
    "display(data)"
   ]
  },
  {
   "cell_type": "markdown",
   "metadata": {},
   "source": [
    "Выводим общую информацию:"
   ]
  },
  {
   "cell_type": "code",
   "execution_count": 3,
   "metadata": {},
   "outputs": [
    {
     "name": "stdout",
     "output_type": "stream",
     "text": [
      "<class 'pandas.core.frame.DataFrame'>\n",
      "RangeIndex: 16715 entries, 0 to 16714\n",
      "Data columns (total 11 columns):\n",
      " #   Column           Non-Null Count  Dtype  \n",
      "---  ------           --------------  -----  \n",
      " 0   Name             16713 non-null  object \n",
      " 1   Platform         16715 non-null  object \n",
      " 2   Year_of_Release  16446 non-null  float64\n",
      " 3   Genre            16713 non-null  object \n",
      " 4   NA_sales         16715 non-null  float64\n",
      " 5   EU_sales         16715 non-null  float64\n",
      " 6   JP_sales         16715 non-null  float64\n",
      " 7   Other_sales      16715 non-null  float64\n",
      " 8   Critic_Score     8137 non-null   float64\n",
      " 9   User_Score       10014 non-null  object \n",
      " 10  Rating           9949 non-null   object \n",
      "dtypes: float64(6), object(5)\n",
      "memory usage: 1.4+ MB\n"
     ]
    }
   ],
   "source": [
    "data.info()"
   ]
  },
  {
   "cell_type": "markdown",
   "metadata": {},
   "source": [
    "Определяем, в каких столбцах есть пропуски:"
   ]
  },
  {
   "cell_type": "code",
   "execution_count": 4,
   "metadata": {},
   "outputs": [
    {
     "data": {
      "text/plain": [
       "Name                  2\n",
       "Platform              0\n",
       "Year_of_Release     269\n",
       "Genre                 2\n",
       "NA_sales              0\n",
       "EU_sales              0\n",
       "JP_sales              0\n",
       "Other_sales           0\n",
       "Critic_Score       8578\n",
       "User_Score         6701\n",
       "Rating             6766\n",
       "dtype: int64"
      ]
     },
     "execution_count": 4,
     "metadata": {},
     "output_type": "execute_result"
    }
   ],
   "source": [
    "data.isna().sum()"
   ]
  },
  {
   "cell_type": "markdown",
   "metadata": {},
   "source": [
    "Проверяем на наличие явных дубликатов:"
   ]
  },
  {
   "cell_type": "code",
   "execution_count": 5,
   "metadata": {},
   "outputs": [
    {
     "data": {
      "text/plain": [
       "0"
      ]
     },
     "execution_count": 5,
     "metadata": {},
     "output_type": "execute_result"
    }
   ],
   "source": [
    "data.duplicated().sum()"
   ]
  },
  {
   "cell_type": "markdown",
   "metadata": {},
   "source": [
    "**Выводы**\n",
    "\n",
    "В таблице 16 715 записей и 11 столбцов. Данных достаточно для проверки гипотез. \n",
    "Явных дубликатов нет, однако количество значений в 5 столбцах (название игры, год выпуска, жанр, оценка критиков, оценка пользователей, рейтинг от организации ESRB) различается - значит, в данных есть пропущенные значения.\n",
    "Чтобы двигаться дальше, нужно устранить проблемы в данных."
   ]
  },
  {
   "cell_type": "markdown",
   "metadata": {},
   "source": [
    "# 2. Предобработка данных"
   ]
  },
  {
   "cell_type": "markdown",
   "metadata": {},
   "source": [
    "### Замена названий столбцов"
   ]
  },
  {
   "cell_type": "markdown",
   "metadata": {},
   "source": [
    "Приводим к нижнему регистру названия столбцов:"
   ]
  },
  {
   "cell_type": "code",
   "execution_count": 6,
   "metadata": {},
   "outputs": [],
   "source": [
    "data.columns = map(str.lower, data.columns)"
   ]
  },
  {
   "cell_type": "markdown",
   "metadata": {},
   "source": [
    "Проверяем, что все названия столбцов теперь в нижнем регистре:"
   ]
  },
  {
   "cell_type": "code",
   "execution_count": 7,
   "metadata": {},
   "outputs": [
    {
     "data": {
      "text/plain": [
       "Index(['name', 'platform', 'year_of_release', 'genre', 'na_sales', 'eu_sales',\n",
       "       'jp_sales', 'other_sales', 'critic_score', 'user_score', 'rating'],\n",
       "      dtype='object')"
      ]
     },
     "execution_count": 7,
     "metadata": {},
     "output_type": "execute_result"
    }
   ],
   "source": [
    "data.columns"
   ]
  },
  {
   "cell_type": "markdown",
   "metadata": {},
   "source": [
    "### Преобразование типов данных"
   ]
  },
  {
   "cell_type": "markdown",
   "metadata": {},
   "source": [
    "Значительные пропуски в показателе \"рейтинг от организации ESRB\" могут быть связаны с тем, что ESRB определяет рейтинги для компьютерных видеоигр в США и Канаде, в то время как многие игры даже не локализуются на их территории. Таким играм мы присвоим значение - 'no rating' - без рейтинга. Причиной пропусков в параметрах \"оценка критиков\" и \"оценка пользователей\" могут быть связаны естественными причинами - просто их никто не оставил (как, например, многие товары в интернет-магазинах не имеют отзывов). Поскольку стандартными средствами без дополнительных источников заполнить их не получится, оставляем их без изменений. Пропусков в названии игры и жанра незначительно, такая же ситуация с годом выпуска - связаны они, скорее всего, с ошибкой ввода/чтения данных. Заполнять мы их тоже не будем."
   ]
  },
  {
   "cell_type": "markdown",
   "metadata": {},
   "source": [
    "Преобразуем значение года выпуска игры в целочисленное:"
   ]
  },
  {
   "cell_type": "code",
   "execution_count": 8,
   "metadata": {},
   "outputs": [],
   "source": [
    "data['year_of_release'] = data['year_of_release'].fillna(0).astype(int)"
   ]
  },
  {
   "cell_type": "markdown",
   "metadata": {},
   "source": [
    "Изменение типа данных необходимо c логической точки зрения - значение года это целое число."
   ]
  },
  {
   "cell_type": "markdown",
   "metadata": {},
   "source": [
    "Аббревиатура tbd расшифровывается как \"To Be Determined\", то есть \"Будет определёно\". Очень часто подобное сокращение можно встретить в анонсах компьютерных игр в графе \"Дата выхода\". Когда разработчик той или иной игры уже сообщил о том, что она готовится к выходу, но пока еще не может назвать точную дату, именно это сокращение и используется. В нашем случае это относится к оценкам пользователей. Поэтому правомерно будет заменить такие значения на NaN:"
   ]
  },
  {
   "cell_type": "code",
   "execution_count": 9,
   "metadata": {},
   "outputs": [],
   "source": [
    "data.loc[data['user_score'] == 'tbd', 'user_score'] = None"
   ]
  },
  {
   "cell_type": "markdown",
   "metadata": {},
   "source": [
    "После этого можно преобразовывать строковое значение оценки пользователей в число:"
   ]
  },
  {
   "cell_type": "code",
   "execution_count": 10,
   "metadata": {},
   "outputs": [],
   "source": [
    "data['user_score'] = pd.to_numeric(data['user_score'])"
   ]
  },
  {
   "cell_type": "markdown",
   "metadata": {},
   "source": [
    "Изменение типа данных нужно для последующего расчёта корреляции между пользовательскими оценками\n",
    "и продажами, а также замены пропусков медианным значением."
   ]
  },
  {
   "cell_type": "markdown",
   "metadata": {},
   "source": [
    "### Обработка пропусков"
   ]
  },
  {
   "cell_type": "markdown",
   "metadata": {},
   "source": [
    "Заполняем пропуски в показетеле \"рейтинг от организации ESRB\" значением \"no rating\" - без рейтинга:"
   ]
  },
  {
   "cell_type": "code",
   "execution_count": 11,
   "metadata": {},
   "outputs": [],
   "source": [
    "data.loc[data['rating'].isna(), 'rating'] = 'no rating'"
   ]
  },
  {
   "cell_type": "markdown",
   "metadata": {},
   "source": [
    "### Расчёт новых значений"
   ]
  },
  {
   "cell_type": "markdown",
   "metadata": {},
   "source": [
    "Рассчитываем суммарные продажи во всех регионах:"
   ]
  },
  {
   "cell_type": "code",
   "execution_count": 12,
   "metadata": {},
   "outputs": [],
   "source": [
    "data['total_sales'] = data['na_sales'] + data['eu_sales'] + data['jp_sales'] + data['other_sales']"
   ]
  },
  {
   "cell_type": "markdown",
   "metadata": {},
   "source": [
    "# 3. Исследовательский анализ данных"
   ]
  },
  {
   "cell_type": "markdown",
   "metadata": {},
   "source": [
    "Изучаем, сколько игр выпускалось в разные годы:"
   ]
  },
  {
   "cell_type": "code",
   "execution_count": 13,
   "metadata": {},
   "outputs": [
    {
     "data": {
      "text/html": [
       "<div>\n",
       "<style scoped>\n",
       "    .dataframe tbody tr th:only-of-type {\n",
       "        vertical-align: middle;\n",
       "    }\n",
       "\n",
       "    .dataframe tbody tr th {\n",
       "        vertical-align: top;\n",
       "    }\n",
       "\n",
       "    .dataframe thead th {\n",
       "        text-align: right;\n",
       "    }\n",
       "</style>\n",
       "<table border=\"1\" class=\"dataframe\">\n",
       "  <thead>\n",
       "    <tr style=\"text-align: right;\">\n",
       "      <th></th>\n",
       "      <th>number_of_games</th>\n",
       "    </tr>\n",
       "    <tr>\n",
       "      <th>year_of_release</th>\n",
       "      <th></th>\n",
       "    </tr>\n",
       "  </thead>\n",
       "  <tbody>\n",
       "    <tr>\n",
       "      <th>0</th>\n",
       "      <td>269</td>\n",
       "    </tr>\n",
       "    <tr>\n",
       "      <th>1980</th>\n",
       "      <td>9</td>\n",
       "    </tr>\n",
       "    <tr>\n",
       "      <th>1981</th>\n",
       "      <td>46</td>\n",
       "    </tr>\n",
       "    <tr>\n",
       "      <th>1982</th>\n",
       "      <td>36</td>\n",
       "    </tr>\n",
       "    <tr>\n",
       "      <th>1983</th>\n",
       "      <td>17</td>\n",
       "    </tr>\n",
       "    <tr>\n",
       "      <th>1984</th>\n",
       "      <td>14</td>\n",
       "    </tr>\n",
       "    <tr>\n",
       "      <th>1985</th>\n",
       "      <td>14</td>\n",
       "    </tr>\n",
       "    <tr>\n",
       "      <th>1986</th>\n",
       "      <td>21</td>\n",
       "    </tr>\n",
       "    <tr>\n",
       "      <th>1987</th>\n",
       "      <td>16</td>\n",
       "    </tr>\n",
       "    <tr>\n",
       "      <th>1988</th>\n",
       "      <td>15</td>\n",
       "    </tr>\n",
       "    <tr>\n",
       "      <th>1989</th>\n",
       "      <td>17</td>\n",
       "    </tr>\n",
       "    <tr>\n",
       "      <th>1990</th>\n",
       "      <td>16</td>\n",
       "    </tr>\n",
       "    <tr>\n",
       "      <th>1991</th>\n",
       "      <td>41</td>\n",
       "    </tr>\n",
       "    <tr>\n",
       "      <th>1992</th>\n",
       "      <td>43</td>\n",
       "    </tr>\n",
       "    <tr>\n",
       "      <th>1993</th>\n",
       "      <td>60</td>\n",
       "    </tr>\n",
       "    <tr>\n",
       "      <th>1994</th>\n",
       "      <td>121</td>\n",
       "    </tr>\n",
       "    <tr>\n",
       "      <th>1995</th>\n",
       "      <td>219</td>\n",
       "    </tr>\n",
       "    <tr>\n",
       "      <th>1996</th>\n",
       "      <td>263</td>\n",
       "    </tr>\n",
       "    <tr>\n",
       "      <th>1997</th>\n",
       "      <td>289</td>\n",
       "    </tr>\n",
       "    <tr>\n",
       "      <th>1998</th>\n",
       "      <td>379</td>\n",
       "    </tr>\n",
       "    <tr>\n",
       "      <th>1999</th>\n",
       "      <td>338</td>\n",
       "    </tr>\n",
       "    <tr>\n",
       "      <th>2000</th>\n",
       "      <td>350</td>\n",
       "    </tr>\n",
       "    <tr>\n",
       "      <th>2001</th>\n",
       "      <td>482</td>\n",
       "    </tr>\n",
       "    <tr>\n",
       "      <th>2002</th>\n",
       "      <td>829</td>\n",
       "    </tr>\n",
       "    <tr>\n",
       "      <th>2003</th>\n",
       "      <td>775</td>\n",
       "    </tr>\n",
       "    <tr>\n",
       "      <th>2004</th>\n",
       "      <td>762</td>\n",
       "    </tr>\n",
       "    <tr>\n",
       "      <th>2005</th>\n",
       "      <td>939</td>\n",
       "    </tr>\n",
       "    <tr>\n",
       "      <th>2006</th>\n",
       "      <td>1006</td>\n",
       "    </tr>\n",
       "    <tr>\n",
       "      <th>2007</th>\n",
       "      <td>1197</td>\n",
       "    </tr>\n",
       "    <tr>\n",
       "      <th>2008</th>\n",
       "      <td>1427</td>\n",
       "    </tr>\n",
       "    <tr>\n",
       "      <th>2009</th>\n",
       "      <td>1426</td>\n",
       "    </tr>\n",
       "    <tr>\n",
       "      <th>2010</th>\n",
       "      <td>1255</td>\n",
       "    </tr>\n",
       "    <tr>\n",
       "      <th>2011</th>\n",
       "      <td>1136</td>\n",
       "    </tr>\n",
       "    <tr>\n",
       "      <th>2012</th>\n",
       "      <td>653</td>\n",
       "    </tr>\n",
       "    <tr>\n",
       "      <th>2013</th>\n",
       "      <td>544</td>\n",
       "    </tr>\n",
       "    <tr>\n",
       "      <th>2014</th>\n",
       "      <td>581</td>\n",
       "    </tr>\n",
       "    <tr>\n",
       "      <th>2015</th>\n",
       "      <td>606</td>\n",
       "    </tr>\n",
       "    <tr>\n",
       "      <th>2016</th>\n",
       "      <td>502</td>\n",
       "    </tr>\n",
       "  </tbody>\n",
       "</table>\n",
       "</div>"
      ],
      "text/plain": [
       "                 number_of_games\n",
       "year_of_release                 \n",
       "0                            269\n",
       "1980                           9\n",
       "1981                          46\n",
       "1982                          36\n",
       "1983                          17\n",
       "1984                          14\n",
       "1985                          14\n",
       "1986                          21\n",
       "1987                          16\n",
       "1988                          15\n",
       "1989                          17\n",
       "1990                          16\n",
       "1991                          41\n",
       "1992                          43\n",
       "1993                          60\n",
       "1994                         121\n",
       "1995                         219\n",
       "1996                         263\n",
       "1997                         289\n",
       "1998                         379\n",
       "1999                         338\n",
       "2000                         350\n",
       "2001                         482\n",
       "2002                         829\n",
       "2003                         775\n",
       "2004                         762\n",
       "2005                         939\n",
       "2006                        1006\n",
       "2007                        1197\n",
       "2008                        1427\n",
       "2009                        1426\n",
       "2010                        1255\n",
       "2011                        1136\n",
       "2012                         653\n",
       "2013                         544\n",
       "2014                         581\n",
       "2015                         606\n",
       "2016                         502"
      ]
     },
     "execution_count": 13,
     "metadata": {},
     "output_type": "execute_result"
    }
   ],
   "source": [
    "games_by_years = data.groupby('year_of_release').agg(number_of_games=('name', 'count'))\n",
    "games_by_years"
   ]
  },
  {
   "cell_type": "markdown",
   "metadata": {},
   "source": [
    "Строим столбчатый график:"
   ]
  },
  {
   "cell_type": "code",
   "execution_count": 14,
   "metadata": {},
   "outputs": [
    {
     "data": {
      "image/png": "[encoded data removed]",
      "text/plain": [
       "<Figure size 864x576 with 1 Axes>"
      ]
     },
     "metadata": {
      "needs_background": "light"
     },
     "output_type": "display_data"
    }
   ],
   "source": [
    "games_by_years.plot(kind = 'bar', \n",
    "                    title='Количество продаж по годам', \n",
    "                    xlabel='Год', \n",
    "                    ylabel='Количество продаж',\n",
    "                    legend = False,\n",
    "                    figsize=(12,8));"
   ]
  },
  {
   "cell_type": "markdown",
   "metadata": {},
   "source": [
    "Актуальными данными, которые помогут построить прогноз на 2017 год, будет считать данные за период с 2012 по 2016 год, так как данные за более ранние период с 2002 по 2011 характеризуются значительно большими абсолютными значениями."
   ]
  },
  {
   "cell_type": "markdown",
   "metadata": {},
   "source": [
    "В дальнейших расчётах не учитываем в работе данные за предыдущие годы - возьмём данные за соответствующий актуальный период:"
   ]
  },
  {
   "cell_type": "code",
   "execution_count": 15,
   "metadata": {},
   "outputs": [],
   "source": [
    "actual_years_data = data.query('year_of_release >= 2012')"
   ]
  },
  {
   "cell_type": "markdown",
   "metadata": {},
   "source": [
    "Посмотрим, как менялись продажи по платформам."
   ]
  },
  {
   "cell_type": "markdown",
   "metadata": {},
   "source": [
    "Выберем платформы с наибольшими суммарными продажами: "
   ]
  },
  {
   "cell_type": "code",
   "execution_count": 16,
   "metadata": {},
   "outputs": [
    {
     "data": {
      "text/html": [
       "<div>\n",
       "<style scoped>\n",
       "    .dataframe tbody tr th:only-of-type {\n",
       "        vertical-align: middle;\n",
       "    }\n",
       "\n",
       "    .dataframe tbody tr th {\n",
       "        vertical-align: top;\n",
       "    }\n",
       "\n",
       "    .dataframe thead th {\n",
       "        text-align: right;\n",
       "    }\n",
       "</style>\n",
       "<table border=\"1\" class=\"dataframe\">\n",
       "  <thead>\n",
       "    <tr style=\"text-align: right;\">\n",
       "      <th></th>\n",
       "      <th>number_of_games</th>\n",
       "    </tr>\n",
       "    <tr>\n",
       "      <th>platform</th>\n",
       "      <th></th>\n",
       "    </tr>\n",
       "  </thead>\n",
       "  <tbody>\n",
       "    <tr>\n",
       "      <th>PS3</th>\n",
       "      <td>493</td>\n",
       "    </tr>\n",
       "    <tr>\n",
       "      <th>PSV</th>\n",
       "      <td>411</td>\n",
       "    </tr>\n",
       "    <tr>\n",
       "      <th>3DS</th>\n",
       "      <td>396</td>\n",
       "    </tr>\n",
       "    <tr>\n",
       "      <th>PS4</th>\n",
       "      <td>392</td>\n",
       "    </tr>\n",
       "    <tr>\n",
       "      <th>X360</th>\n",
       "      <td>292</td>\n",
       "    </tr>\n",
       "  </tbody>\n",
       "</table>\n",
       "</div>"
      ],
      "text/plain": [
       "          number_of_games\n",
       "platform                 \n",
       "PS3                   493\n",
       "PSV                   411\n",
       "3DS                   396\n",
       "PS4                   392\n",
       "X360                  292"
      ]
     },
     "execution_count": 16,
     "metadata": {},
     "output_type": "execute_result"
    }
   ],
   "source": [
    "top5_platform_by_sales = actual_years_data.groupby(['platform']) \\\n",
    ".agg(number_of_games=('name', 'count')) \\\n",
    ".sort_values('number_of_games', ascending=False).head(5)\n",
    "top5_platform_by_sales"
   ]
  },
  {
   "cell_type": "markdown",
   "metadata": {},
   "source": [
    "Для этих платформ построим распределение по годам:"
   ]
  },
  {
   "cell_type": "code",
   "execution_count": 17,
   "metadata": {},
   "outputs": [
    {
     "data": {
      "image/png": "[encoded data removed]",
      "text/plain": [
       "<Figure size 842.4x595.44 with 1 Axes>"
      ]
     },
     "metadata": {},
     "output_type": "display_data"
    }
   ],
   "source": [
    "filter_top5_platform = actual_years_data['platform'].isin(['PS3', 'PSV', '3DS', 'PS4', 'X360'])\n",
    "\n",
    "games_by_platform = actual_years_data[filter_top5_platform] \\\n",
    ".groupby(['year_of_release', 'platform']) \\\n",
    ".agg(number_of_games=('name', 'count')) \\\n",
    ".sort_values('number_of_games', ascending=False)\n",
    "\n",
    "\n",
    "sns.set(rc={'figure.figsize':(11.7,8.27)})\n",
    "\n",
    "ax = sns.lineplot(x='year_of_release', \n",
    "             y='number_of_games',\n",
    "             hue = 'platform', \n",
    "             style='platform', \n",
    "             data=games_by_platform);\n",
    "ax.set(xlabel='Год выпуска', ylabel='Количество продаж');"
   ]
  },
  {
   "cell_type": "markdown",
   "metadata": {},
   "source": [
    "**Выводы:** Платформа PS4 появилась в 2013 году и с тех пор продажи игр для этой платформы резко растут - от 20 до свыше 160 миллионов копий. Продажи игр для платформы PS3 резко падают из года в год - с почти 150 до 40 миллионов копий. Продажи игр для платформы PSV умеренно расли с 2012 по 2015 год - с 50 до 110 миллионов, но в последний год наблюдался спад до почти 80 миллионов. Продажи игр для платформы X360 резко уменьшаются из года в год - с почти 105 до 15 миллионов копий. Продажи игр для платформы 3DS с 2012 по 2015 год были практически на одном уровне - в районе 90 миллионов копий, но в 2016 году наблюдалось снижение до 45 миллионов."
   ]
  },
  {
   "cell_type": "markdown",
   "metadata": {},
   "source": [
    "Строим график «ящик с усами» по глобальным продажам игр в разбивке по платформам:"
   ]
  },
  {
   "cell_type": "code",
   "execution_count": 18,
   "metadata": {},
   "outputs": [
    {
     "data": {
      "image/png": "[encoded data removed]",
      "text/plain": [
       "<Figure size 842.4x595.44 with 1 Axes>"
      ]
     },
     "metadata": {},
     "output_type": "display_data"
    }
   ],
   "source": [
    "g = sns.boxplot(x='platform', y='total_sales', data=actual_years_data);\n",
    "g.set(ylim=(0, 0.90), xlabel='Платформа', ylabel='Количество продаж');"
   ]
  },
  {
   "cell_type": "markdown",
   "metadata": {},
   "source": [
    "**Вывод:** Наименьший размах значений имеют игры на платформах PSP, PSV, DS, PC И ЗDS - это значит, что из год в год независимо от жанров значения продаж изменяются незначительно. Для других платфом размах существенный - в пределах одной платформы есть более и менее продаваемые жанры (или годы выпуска или и то и другое). Потенциально самый высокий доход у X360 (если считать, что цены игр примерно одинаковы, но это не так, а данных нет) - значение медианы выше всего на графике по оси ординат, самый низкий у PSP."
   ]
  },
  {
   "cell_type": "markdown",
   "metadata": {},
   "source": [
    "Изучаем, как влияют на продажи внутри одной популярной платформы отзывы критиков."
   ]
  },
  {
   "cell_type": "markdown",
   "metadata": {},
   "source": [
    "**Для PS4**"
   ]
  },
  {
   "cell_type": "markdown",
   "metadata": {},
   "source": [
    "Строим диаграмму рассеяния:"
   ]
  },
  {
   "cell_type": "code",
   "execution_count": 20,
   "metadata": {},
   "outputs": [
    {
     "name": "stderr",
     "output_type": "stream",
     "text": [
      "*c* argument looks like a single numeric RGB or RGBA sequence, which should be avoided as value-mapping will have precedence in case its length matches with *x* & *y*.  Please use the *color* keyword-argument or provide a 2-D array with a single row if you intend to specify the same RGB or RGBA value for all points.\n"
     ]
    },
    {
     "data": {
      "image/png": "[encoded data removed]",
      "text/plain": [
       "<Figure size 842.4x595.44 with 1 Axes>"
      ]
     },
     "metadata": {},
     "output_type": "display_data"
    }
   ],
   "source": [
    "ps4_actual_years_data = actual_years_data[actual_years_data['platform'] == 'PS4']\n",
    "ps4_actual_years_data.plot(x='critic_score', y='total_sales', kind='scatter');"
   ]
  },
  {
   "cell_type": "markdown",
   "metadata": {},
   "source": [
    "Рассчитываем коэффициент корреляции Пирсона:"
   ]
  },
  {
   "cell_type": "code",
   "execution_count": 21,
   "metadata": {},
   "outputs": [
    {
     "data": {
      "text/plain": [
       "0.406567902061781"
      ]
     },
     "execution_count": 21,
     "metadata": {},
     "output_type": "execute_result"
    }
   ],
   "source": [
    "ps4_actual_years_data['total_sales'].corr(ps4_actual_years_data['critic_score'])"
   ]
  },
  {
   "cell_type": "markdown",
   "metadata": {},
   "source": [
    "**Вывод:** Диаграмма рассеяния и коэффициент Пирсона, равный 0.41, говорят о наличии слабой положительной линейной связи. "
   ]
  },
  {
   "cell_type": "markdown",
   "metadata": {},
   "source": [
    "Изучаем, как влияют на продажи внутри одной популярной платформы отзывы пользователей."
   ]
  },
  {
   "cell_type": "markdown",
   "metadata": {},
   "source": [
    "Строим диаграмму рассеяния:"
   ]
  },
  {
   "cell_type": "code",
   "execution_count": 22,
   "metadata": {},
   "outputs": [
    {
     "name": "stderr",
     "output_type": "stream",
     "text": [
      "*c* argument looks like a single numeric RGB or RGBA sequence, which should be avoided as value-mapping will have precedence in case its length matches with *x* & *y*.  Please use the *color* keyword-argument or provide a 2-D array with a single row if you intend to specify the same RGB or RGBA value for all points.\n"
     ]
    },
    {
     "data": {
      "image/png": "[encoded data removed]",
      "text/plain": [
       "<Figure size 842.4x595.44 with 1 Axes>"
      ]
     },
     "metadata": {},
     "output_type": "display_data"
    }
   ],
   "source": [
    "ps4_actual_years_data.plot(x='user_score', y='total_sales', kind='scatter');"
   ]
  },
  {
   "cell_type": "markdown",
   "metadata": {},
   "source": [
    "Рассчитываем коэффициент корреляции Пирсона:"
   ]
  },
  {
   "cell_type": "code",
   "execution_count": 23,
   "metadata": {},
   "outputs": [
    {
     "data": {
      "text/plain": [
       "-0.031957110204556376"
      ]
     },
     "execution_count": 23,
     "metadata": {},
     "output_type": "execute_result"
    }
   ],
   "source": [
    "ps4_actual_years_data['total_sales'].corr(ps4_actual_years_data['user_score'])"
   ]
  },
  {
   "cell_type": "markdown",
   "metadata": {},
   "source": [
    "**Вывод:** Диаграмма рассеяния и коэффициент Пирсона, равный -0.03, говорят об отсутствии линейной связи. "
   ]
  },
  {
   "cell_type": "markdown",
   "metadata": {},
   "source": [
    "**Для PS3**"
   ]
  },
  {
   "cell_type": "markdown",
   "metadata": {},
   "source": [
    "Строим диаграмму рассеяния:"
   ]
  },
  {
   "cell_type": "code",
   "execution_count": 24,
   "metadata": {},
   "outputs": [
    {
     "name": "stderr",
     "output_type": "stream",
     "text": [
      "*c* argument looks like a single numeric RGB or RGBA sequence, which should be avoided as value-mapping will have precedence in case its length matches with *x* & *y*.  Please use the *color* keyword-argument or provide a 2-D array with a single row if you intend to specify the same RGB or RGBA value for all points.\n"
     ]
    },
    {
     "data": {
      "image/png": "[encoded data removed]",
      "text/plain": [
       "<Figure size 842.4x595.44 with 1 Axes>"
      ]
     },
     "metadata": {},
     "output_type": "display_data"
    }
   ],
   "source": [
    "ps3_actual_years_data = actual_years_data[actual_years_data['platform'] == 'PS3']\n",
    "ps3_actual_years_data.plot(x='critic_score', y='total_sales', kind='scatter');"
   ]
  },
  {
   "cell_type": "markdown",
   "metadata": {},
   "source": [
    "Рассчитываем коэффициент корреляции Пирсона:"
   ]
  },
  {
   "cell_type": "code",
   "execution_count": 25,
   "metadata": {},
   "outputs": [
    {
     "data": {
      "text/plain": [
       "0.3314972592629587"
      ]
     },
     "execution_count": 25,
     "metadata": {},
     "output_type": "execute_result"
    }
   ],
   "source": [
    "ps3_actual_years_data['total_sales'].corr(ps3_actual_years_data['critic_score'])"
   ]
  },
  {
   "cell_type": "markdown",
   "metadata": {},
   "source": [
    "**Вывод:** Диаграмма рассеяния и коэффициент Пирсона, равный 0.33, говорят о наличии слабой положительной линейной связи. "
   ]
  },
  {
   "cell_type": "markdown",
   "metadata": {},
   "source": [
    "Строим диаграмму рассеяния:"
   ]
  },
  {
   "cell_type": "code",
   "execution_count": 26,
   "metadata": {},
   "outputs": [
    {
     "name": "stderr",
     "output_type": "stream",
     "text": [
      "*c* argument looks like a single numeric RGB or RGBA sequence, which should be avoided as value-mapping will have precedence in case its length matches with *x* & *y*.  Please use the *color* keyword-argument or provide a 2-D array with a single row if you intend to specify the same RGB or RGBA value for all points.\n"
     ]
    },
    {
     "data": {
      "image/png": "[encoded data removed]",
      "text/plain": [
       "<Figure size 842.4x595.44 with 1 Axes>"
      ]
     },
     "metadata": {},
     "output_type": "display_data"
    }
   ],
   "source": [
    "ps3_actual_years_data.plot(x='user_score', y='total_sales', kind='scatter');"
   ]
  },
  {
   "cell_type": "markdown",
   "metadata": {},
   "source": [
    "Рассчитываем коэффициент корреляции Пирсона:"
   ]
  },
  {
   "cell_type": "code",
   "execution_count": 27,
   "metadata": {},
   "outputs": [
    {
     "data": {
      "text/plain": [
       "-0.005143522887113828"
      ]
     },
     "execution_count": 27,
     "metadata": {},
     "output_type": "execute_result"
    }
   ],
   "source": [
    "ps3_actual_years_data['total_sales'].corr(ps3_actual_years_data['user_score'])"
   ]
  },
  {
   "cell_type": "markdown",
   "metadata": {},
   "source": [
    "**Вывод:** Диаграмма рассеяния и коэффициент Пирсона, равный 0, говорят об отсутствии линейной связи. "
   ]
  },
  {
   "cell_type": "markdown",
   "metadata": {},
   "source": [
    "**PSV**"
   ]
  },
  {
   "cell_type": "markdown",
   "metadata": {},
   "source": [
    "Строим диаграмму рассеяния:"
   ]
  },
  {
   "cell_type": "code",
   "execution_count": 28,
   "metadata": {},
   "outputs": [
    {
     "name": "stderr",
     "output_type": "stream",
     "text": [
      "*c* argument looks like a single numeric RGB or RGBA sequence, which should be avoided as value-mapping will have precedence in case its length matches with *x* & *y*.  Please use the *color* keyword-argument or provide a 2-D array with a single row if you intend to specify the same RGB or RGBA value for all points.\n"
     ]
    },
    {
     "data": {
      "image/png": "[encoded data removed]",
      "text/plain": [
       "<Figure size 842.4x595.44 with 1 Axes>"
      ]
     },
     "metadata": {},
     "output_type": "display_data"
    }
   ],
   "source": [
    "psv_actual_years_data = actual_years_data[actual_years_data['platform'] == 'PSV']\n",
    "psv_actual_years_data.plot(x='critic_score', y='total_sales', kind='scatter');"
   ]
  },
  {
   "cell_type": "markdown",
   "metadata": {},
   "source": [
    "Рассчитываем коэффициент корреляции Пирсона:"
   ]
  },
  {
   "cell_type": "code",
   "execution_count": 29,
   "metadata": {},
   "outputs": [
    {
     "data": {
      "text/plain": [
       "0.09448789929316172"
      ]
     },
     "execution_count": 29,
     "metadata": {},
     "output_type": "execute_result"
    }
   ],
   "source": [
    "psv_actual_years_data['total_sales'].corr(psv_actual_years_data['critic_score'])"
   ]
  },
  {
   "cell_type": "markdown",
   "metadata": {},
   "source": [
    "**Вывод:** Диаграмма рассеяния и коэффициент Пирсона, равный 0.09, говорят об отсутствии линейной связи. "
   ]
  },
  {
   "cell_type": "markdown",
   "metadata": {},
   "source": [
    "Строим диаграмму рассеяния:"
   ]
  },
  {
   "cell_type": "code",
   "execution_count": 30,
   "metadata": {},
   "outputs": [
    {
     "name": "stderr",
     "output_type": "stream",
     "text": [
      "*c* argument looks like a single numeric RGB or RGBA sequence, which should be avoided as value-mapping will have precedence in case its length matches with *x* & *y*.  Please use the *color* keyword-argument or provide a 2-D array with a single row if you intend to specify the same RGB or RGBA value for all points.\n"
     ]
    },
    {
     "data": {
      "image/png": "[encoded data removed]",
      "text/plain": [
       "<Figure size 842.4x595.44 with 1 Axes>"
      ]
     },
     "metadata": {},
     "output_type": "display_data"
    }
   ],
   "source": [
    "psv_actual_years_data.plot(x='user_score', y='total_sales', kind='scatter');"
   ]
  },
  {
   "cell_type": "markdown",
   "metadata": {},
   "source": [
    "Рассчитываем коэффициент корреляции Пирсона:"
   ]
  },
  {
   "cell_type": "code",
   "execution_count": 31,
   "metadata": {},
   "outputs": [
    {
     "data": {
      "text/plain": [
       "-0.004339437514314869"
      ]
     },
     "execution_count": 31,
     "metadata": {},
     "output_type": "execute_result"
    }
   ],
   "source": [
    "psv_actual_years_data['total_sales'].corr(psv_actual_years_data['user_score'])"
   ]
  },
  {
   "cell_type": "markdown",
   "metadata": {},
   "source": [
    "**Вывод:** Диаграмма рассеяния и коэффициент Пирсона, равный 0, говорят об отсутствии линейной связи. "
   ]
  },
  {
   "cell_type": "markdown",
   "metadata": {},
   "source": [
    "Изучаем общее распределение игр по жанрам."
   ]
  },
  {
   "cell_type": "code",
   "execution_count": 32,
   "metadata": {},
   "outputs": [
    {
     "data": {
      "text/html": [
       "<div>\n",
       "<style scoped>\n",
       "    .dataframe tbody tr th:only-of-type {\n",
       "        vertical-align: middle;\n",
       "    }\n",
       "\n",
       "    .dataframe tbody tr th {\n",
       "        vertical-align: top;\n",
       "    }\n",
       "\n",
       "    .dataframe thead th {\n",
       "        text-align: right;\n",
       "    }\n",
       "</style>\n",
       "<table border=\"1\" class=\"dataframe\">\n",
       "  <thead>\n",
       "    <tr style=\"text-align: right;\">\n",
       "      <th></th>\n",
       "      <th>median_sales</th>\n",
       "    </tr>\n",
       "    <tr>\n",
       "      <th>genre</th>\n",
       "      <th></th>\n",
       "    </tr>\n",
       "  </thead>\n",
       "  <tbody>\n",
       "    <tr>\n",
       "      <th>Shooter</th>\n",
       "      <td>0.440</td>\n",
       "    </tr>\n",
       "    <tr>\n",
       "      <th>Sports</th>\n",
       "      <td>0.240</td>\n",
       "    </tr>\n",
       "    <tr>\n",
       "      <th>Platform</th>\n",
       "      <td>0.210</td>\n",
       "    </tr>\n",
       "    <tr>\n",
       "      <th>Role-Playing</th>\n",
       "      <td>0.140</td>\n",
       "    </tr>\n",
       "    <tr>\n",
       "      <th>Racing</th>\n",
       "      <td>0.140</td>\n",
       "    </tr>\n",
       "    <tr>\n",
       "      <th>Fighting</th>\n",
       "      <td>0.130</td>\n",
       "    </tr>\n",
       "    <tr>\n",
       "      <th>Action</th>\n",
       "      <td>0.120</td>\n",
       "    </tr>\n",
       "    <tr>\n",
       "      <th>Misc</th>\n",
       "      <td>0.120</td>\n",
       "    </tr>\n",
       "    <tr>\n",
       "      <th>Simulation</th>\n",
       "      <td>0.120</td>\n",
       "    </tr>\n",
       "    <tr>\n",
       "      <th>Strategy</th>\n",
       "      <td>0.080</td>\n",
       "    </tr>\n",
       "    <tr>\n",
       "      <th>Puzzle</th>\n",
       "      <td>0.045</td>\n",
       "    </tr>\n",
       "    <tr>\n",
       "      <th>Adventure</th>\n",
       "      <td>0.030</td>\n",
       "    </tr>\n",
       "  </tbody>\n",
       "</table>\n",
       "</div>"
      ],
      "text/plain": [
       "              median_sales\n",
       "genre                     \n",
       "Shooter              0.440\n",
       "Sports               0.240\n",
       "Platform             0.210\n",
       "Role-Playing         0.140\n",
       "Racing               0.140\n",
       "Fighting             0.130\n",
       "Action               0.120\n",
       "Misc                 0.120\n",
       "Simulation           0.120\n",
       "Strategy             0.080\n",
       "Puzzle               0.045\n",
       "Adventure            0.030"
      ]
     },
     "execution_count": 32,
     "metadata": {},
     "output_type": "execute_result"
    }
   ],
   "source": [
    "games_by_genre = actual_years_data.groupby(['genre']).agg(median_sales=('total_sales', 'median')).sort_values('median_sales', ascending=False)\n",
    "games_by_genre"
   ]
  },
  {
   "cell_type": "markdown",
   "metadata": {},
   "source": [
    "**Вывод:** Жанры игр, которые стабильно чаще всего продаются - Shooter, Sports и Platform, меньше всего покупают игры в жанре Puzzle и Adventure."
   ]
  },
  {
   "cell_type": "markdown",
   "metadata": {},
   "source": [
    "# 4. Составьте портрет пользователя каждого региона"
   ]
  },
  {
   "cell_type": "markdown",
   "metadata": {},
   "source": [
    "Определяем для пользователя каждого региона самые популярные платформы (топ-5)."
   ]
  },
  {
   "cell_type": "markdown",
   "metadata": {},
   "source": [
    "Для Северной Америки:"
   ]
  },
  {
   "cell_type": "code",
   "execution_count": 33,
   "metadata": {},
   "outputs": [
    {
     "data": {
      "text/html": [
       "<div>\n",
       "<style scoped>\n",
       "    .dataframe tbody tr th:only-of-type {\n",
       "        vertical-align: middle;\n",
       "    }\n",
       "\n",
       "    .dataframe tbody tr th {\n",
       "        vertical-align: top;\n",
       "    }\n",
       "\n",
       "    .dataframe thead th {\n",
       "        text-align: right;\n",
       "    }\n",
       "</style>\n",
       "<table border=\"1\" class=\"dataframe\">\n",
       "  <thead>\n",
       "    <tr style=\"text-align: right;\">\n",
       "      <th></th>\n",
       "      <th>number_of_games</th>\n",
       "    </tr>\n",
       "    <tr>\n",
       "      <th>platform</th>\n",
       "      <th></th>\n",
       "    </tr>\n",
       "  </thead>\n",
       "  <tbody>\n",
       "    <tr>\n",
       "      <th>X360</th>\n",
       "      <td>140.05</td>\n",
       "    </tr>\n",
       "    <tr>\n",
       "      <th>PS4</th>\n",
       "      <td>108.74</td>\n",
       "    </tr>\n",
       "    <tr>\n",
       "      <th>PS3</th>\n",
       "      <td>103.38</td>\n",
       "    </tr>\n",
       "    <tr>\n",
       "      <th>XOne</th>\n",
       "      <td>93.12</td>\n",
       "    </tr>\n",
       "    <tr>\n",
       "      <th>3DS</th>\n",
       "      <td>55.31</td>\n",
       "    </tr>\n",
       "  </tbody>\n",
       "</table>\n",
       "</div>"
      ],
      "text/plain": [
       "          number_of_games\n",
       "platform                 \n",
       "X360               140.05\n",
       "PS4                108.74\n",
       "PS3                103.38\n",
       "XOne                93.12\n",
       "3DS                 55.31"
      ]
     },
     "execution_count": 33,
     "metadata": {},
     "output_type": "execute_result"
    }
   ],
   "source": [
    "na_games_by_platform = actual_years_data.groupby(['platform']) \\\n",
    ".agg(number_of_games=('na_sales', 'sum')) \\\n",
    ".sort_values('number_of_games', ascending=False).head(5)\n",
    "na_games_by_platform "
   ]
  },
  {
   "cell_type": "markdown",
   "metadata": {},
   "source": [
    "Для Европы:"
   ]
  },
  {
   "cell_type": "code",
   "execution_count": 34,
   "metadata": {},
   "outputs": [
    {
     "data": {
      "text/html": [
       "<div>\n",
       "<style scoped>\n",
       "    .dataframe tbody tr th:only-of-type {\n",
       "        vertical-align: middle;\n",
       "    }\n",
       "\n",
       "    .dataframe tbody tr th {\n",
       "        vertical-align: top;\n",
       "    }\n",
       "\n",
       "    .dataframe thead th {\n",
       "        text-align: right;\n",
       "    }\n",
       "</style>\n",
       "<table border=\"1\" class=\"dataframe\">\n",
       "  <thead>\n",
       "    <tr style=\"text-align: right;\">\n",
       "      <th></th>\n",
       "      <th>number_of_games</th>\n",
       "    </tr>\n",
       "    <tr>\n",
       "      <th>platform</th>\n",
       "      <th></th>\n",
       "    </tr>\n",
       "  </thead>\n",
       "  <tbody>\n",
       "    <tr>\n",
       "      <th>PS4</th>\n",
       "      <td>141.09</td>\n",
       "    </tr>\n",
       "    <tr>\n",
       "      <th>PS3</th>\n",
       "      <td>106.86</td>\n",
       "    </tr>\n",
       "    <tr>\n",
       "      <th>X360</th>\n",
       "      <td>74.52</td>\n",
       "    </tr>\n",
       "    <tr>\n",
       "      <th>XOne</th>\n",
       "      <td>51.59</td>\n",
       "    </tr>\n",
       "    <tr>\n",
       "      <th>3DS</th>\n",
       "      <td>42.64</td>\n",
       "    </tr>\n",
       "  </tbody>\n",
       "</table>\n",
       "</div>"
      ],
      "text/plain": [
       "          number_of_games\n",
       "platform                 \n",
       "PS4                141.09\n",
       "PS3                106.86\n",
       "X360                74.52\n",
       "XOne                51.59\n",
       "3DS                 42.64"
      ]
     },
     "execution_count": 34,
     "metadata": {},
     "output_type": "execute_result"
    }
   ],
   "source": [
    "eu_games_by_platform = actual_years_data.groupby(['platform']) \\\n",
    ".agg(number_of_games=('eu_sales', 'sum')) \\\n",
    ".sort_values('number_of_games', ascending=False).head(5)\n",
    "eu_games_by_platform "
   ]
  },
  {
   "cell_type": "markdown",
   "metadata": {},
   "source": [
    "Для Японии:"
   ]
  },
  {
   "cell_type": "code",
   "execution_count": 35,
   "metadata": {},
   "outputs": [
    {
     "data": {
      "text/html": [
       "<div>\n",
       "<style scoped>\n",
       "    .dataframe tbody tr th:only-of-type {\n",
       "        vertical-align: middle;\n",
       "    }\n",
       "\n",
       "    .dataframe tbody tr th {\n",
       "        vertical-align: top;\n",
       "    }\n",
       "\n",
       "    .dataframe thead th {\n",
       "        text-align: right;\n",
       "    }\n",
       "</style>\n",
       "<table border=\"1\" class=\"dataframe\">\n",
       "  <thead>\n",
       "    <tr style=\"text-align: right;\">\n",
       "      <th></th>\n",
       "      <th>number_of_games</th>\n",
       "    </tr>\n",
       "    <tr>\n",
       "      <th>platform</th>\n",
       "      <th></th>\n",
       "    </tr>\n",
       "  </thead>\n",
       "  <tbody>\n",
       "    <tr>\n",
       "      <th>3DS</th>\n",
       "      <td>87.79</td>\n",
       "    </tr>\n",
       "    <tr>\n",
       "      <th>PS3</th>\n",
       "      <td>35.29</td>\n",
       "    </tr>\n",
       "    <tr>\n",
       "      <th>PSV</th>\n",
       "      <td>21.04</td>\n",
       "    </tr>\n",
       "    <tr>\n",
       "      <th>PS4</th>\n",
       "      <td>15.96</td>\n",
       "    </tr>\n",
       "    <tr>\n",
       "      <th>WiiU</th>\n",
       "      <td>13.01</td>\n",
       "    </tr>\n",
       "  </tbody>\n",
       "</table>\n",
       "</div>"
      ],
      "text/plain": [
       "          number_of_games\n",
       "platform                 \n",
       "3DS                 87.79\n",
       "PS3                 35.29\n",
       "PSV                 21.04\n",
       "PS4                 15.96\n",
       "WiiU                13.01"
      ]
     },
     "execution_count": 35,
     "metadata": {},
     "output_type": "execute_result"
    }
   ],
   "source": [
    "jp_games_by_platform = actual_years_data.groupby(['platform']) \\\n",
    ".agg(number_of_games=('jp_sales', 'sum')) \\\n",
    ".sort_values('number_of_games', ascending=False).head(5)\n",
    "jp_games_by_platform "
   ]
  },
  {
   "cell_type": "markdown",
   "metadata": {},
   "source": [
    "**Выводы:** Самая популярная платформа в Северной Амереке - Xbox 360, в то время как в Европе она занимает 3-е место, а в Японии даже не входит в топ-5. Самая популярная платформа в Европе - PlayStation 4, в Северной Америке занимает 2-е место, а в Японии - 4-е. Самая популярная платформа в Японии - Nintendo 3DS, в Европе и Северной Америке замыкает первую пятёрку."
   ]
  },
  {
   "cell_type": "markdown",
   "metadata": {},
   "source": [
    "Определяем для пользователя каждого региона самые популярные жанры (топ-5)."
   ]
  },
  {
   "cell_type": "markdown",
   "metadata": {},
   "source": [
    "Для Северной Америки:"
   ]
  },
  {
   "cell_type": "code",
   "execution_count": 36,
   "metadata": {},
   "outputs": [
    {
     "data": {
      "text/html": [
       "<div>\n",
       "<style scoped>\n",
       "    .dataframe tbody tr th:only-of-type {\n",
       "        vertical-align: middle;\n",
       "    }\n",
       "\n",
       "    .dataframe tbody tr th {\n",
       "        vertical-align: top;\n",
       "    }\n",
       "\n",
       "    .dataframe thead th {\n",
       "        text-align: right;\n",
       "    }\n",
       "</style>\n",
       "<table border=\"1\" class=\"dataframe\">\n",
       "  <thead>\n",
       "    <tr style=\"text-align: right;\">\n",
       "      <th></th>\n",
       "      <th>number_of_games</th>\n",
       "    </tr>\n",
       "    <tr>\n",
       "      <th>genre</th>\n",
       "      <th></th>\n",
       "    </tr>\n",
       "  </thead>\n",
       "  <tbody>\n",
       "    <tr>\n",
       "      <th>Action</th>\n",
       "      <td>177.84</td>\n",
       "    </tr>\n",
       "    <tr>\n",
       "      <th>Shooter</th>\n",
       "      <td>144.77</td>\n",
       "    </tr>\n",
       "    <tr>\n",
       "      <th>Sports</th>\n",
       "      <td>81.53</td>\n",
       "    </tr>\n",
       "    <tr>\n",
       "      <th>Role-Playing</th>\n",
       "      <td>64.00</td>\n",
       "    </tr>\n",
       "    <tr>\n",
       "      <th>Misc</th>\n",
       "      <td>38.19</td>\n",
       "    </tr>\n",
       "  </tbody>\n",
       "</table>\n",
       "</div>"
      ],
      "text/plain": [
       "              number_of_games\n",
       "genre                        \n",
       "Action                 177.84\n",
       "Shooter                144.77\n",
       "Sports                  81.53\n",
       "Role-Playing            64.00\n",
       "Misc                    38.19"
      ]
     },
     "execution_count": 36,
     "metadata": {},
     "output_type": "execute_result"
    }
   ],
   "source": [
    "na_games_by_genre = actual_years_data.groupby(['genre']) \\\n",
    ".agg(number_of_games=('na_sales', 'sum')) \\\n",
    ".sort_values('number_of_games', ascending=False).head(5)\n",
    "na_games_by_genre"
   ]
  },
  {
   "cell_type": "markdown",
   "metadata": {},
   "source": [
    "Для Европы:"
   ]
  },
  {
   "cell_type": "code",
   "execution_count": 37,
   "metadata": {},
   "outputs": [
    {
     "data": {
      "text/html": [
       "<div>\n",
       "<style scoped>\n",
       "    .dataframe tbody tr th:only-of-type {\n",
       "        vertical-align: middle;\n",
       "    }\n",
       "\n",
       "    .dataframe tbody tr th {\n",
       "        vertical-align: top;\n",
       "    }\n",
       "\n",
       "    .dataframe thead th {\n",
       "        text-align: right;\n",
       "    }\n",
       "</style>\n",
       "<table border=\"1\" class=\"dataframe\">\n",
       "  <thead>\n",
       "    <tr style=\"text-align: right;\">\n",
       "      <th></th>\n",
       "      <th>number_of_games</th>\n",
       "    </tr>\n",
       "    <tr>\n",
       "      <th>genre</th>\n",
       "      <th></th>\n",
       "    </tr>\n",
       "  </thead>\n",
       "  <tbody>\n",
       "    <tr>\n",
       "      <th>Action</th>\n",
       "      <td>159.34</td>\n",
       "    </tr>\n",
       "    <tr>\n",
       "      <th>Shooter</th>\n",
       "      <td>113.47</td>\n",
       "    </tr>\n",
       "    <tr>\n",
       "      <th>Sports</th>\n",
       "      <td>69.09</td>\n",
       "    </tr>\n",
       "    <tr>\n",
       "      <th>Role-Playing</th>\n",
       "      <td>48.53</td>\n",
       "    </tr>\n",
       "    <tr>\n",
       "      <th>Racing</th>\n",
       "      <td>27.29</td>\n",
       "    </tr>\n",
       "  </tbody>\n",
       "</table>\n",
       "</div>"
      ],
      "text/plain": [
       "              number_of_games\n",
       "genre                        \n",
       "Action                 159.34\n",
       "Shooter                113.47\n",
       "Sports                  69.09\n",
       "Role-Playing            48.53\n",
       "Racing                  27.29"
      ]
     },
     "execution_count": 37,
     "metadata": {},
     "output_type": "execute_result"
    }
   ],
   "source": [
    "eu_games_by_genre = actual_years_data.groupby(['genre']) \\\n",
    ".agg(number_of_games=('eu_sales', 'sum')) \\\n",
    ".sort_values('number_of_games', ascending=False).head(5)\n",
    "eu_games_by_genre"
   ]
  },
  {
   "cell_type": "markdown",
   "metadata": {},
   "source": [
    "Для Японии:"
   ]
  },
  {
   "cell_type": "code",
   "execution_count": 38,
   "metadata": {},
   "outputs": [
    {
     "data": {
      "text/html": [
       "<div>\n",
       "<style scoped>\n",
       "    .dataframe tbody tr th:only-of-type {\n",
       "        vertical-align: middle;\n",
       "    }\n",
       "\n",
       "    .dataframe tbody tr th {\n",
       "        vertical-align: top;\n",
       "    }\n",
       "\n",
       "    .dataframe thead th {\n",
       "        text-align: right;\n",
       "    }\n",
       "</style>\n",
       "<table border=\"1\" class=\"dataframe\">\n",
       "  <thead>\n",
       "    <tr style=\"text-align: right;\">\n",
       "      <th></th>\n",
       "      <th>number_of_games</th>\n",
       "    </tr>\n",
       "    <tr>\n",
       "      <th>genre</th>\n",
       "      <th></th>\n",
       "    </tr>\n",
       "  </thead>\n",
       "  <tbody>\n",
       "    <tr>\n",
       "      <th>Role-Playing</th>\n",
       "      <td>65.44</td>\n",
       "    </tr>\n",
       "    <tr>\n",
       "      <th>Action</th>\n",
       "      <td>52.80</td>\n",
       "    </tr>\n",
       "    <tr>\n",
       "      <th>Misc</th>\n",
       "      <td>12.86</td>\n",
       "    </tr>\n",
       "    <tr>\n",
       "      <th>Simulation</th>\n",
       "      <td>10.41</td>\n",
       "    </tr>\n",
       "    <tr>\n",
       "      <th>Fighting</th>\n",
       "      <td>9.44</td>\n",
       "    </tr>\n",
       "  </tbody>\n",
       "</table>\n",
       "</div>"
      ],
      "text/plain": [
       "              number_of_games\n",
       "genre                        \n",
       "Role-Playing            65.44\n",
       "Action                  52.80\n",
       "Misc                    12.86\n",
       "Simulation              10.41\n",
       "Fighting                 9.44"
      ]
     },
     "execution_count": 38,
     "metadata": {},
     "output_type": "execute_result"
    }
   ],
   "source": [
    "jp_games_by_genre = actual_years_data.groupby(['genre']) \\\n",
    ".agg(number_of_games=('jp_sales', 'sum')) \\\n",
    ".sort_values('number_of_games', ascending=False).head(5)\n",
    "jp_games_by_genre"
   ]
  },
  {
   "cell_type": "markdown",
   "metadata": {},
   "source": [
    "**Вывод:** Самые популярный жанры в Северной Америке и Европе практически полностью совпадают. Это Action, Shooter, Sports и Role-Playing - эти жанры занимают с 1-е по 4-е место в рейтинге соответсвенно. Другая структура распределения жанров в Японии - 1-е место занимает Role-Playing, кроме этого, появляются непредставленные в двух других регионах жанры Simulation и Fighting."
   ]
  },
  {
   "cell_type": "markdown",
   "metadata": {},
   "source": [
    "Определяем, влияет ли рейтинг ESRB на продажи в отдельном регионе - строим столбчатые диаграммы."
   ]
  },
  {
   "cell_type": "markdown",
   "metadata": {},
   "source": [
    "Для Северной Америки:"
   ]
  },
  {
   "cell_type": "code",
   "execution_count": 39,
   "metadata": {},
   "outputs": [
    {
     "data": {
      "image/png": "[encoded data removed]",
      "text/plain": [
       "<Figure size 842.4x595.44 with 1 Axes>"
      ]
     },
     "metadata": {},
     "output_type": "display_data"
    }
   ],
   "source": [
    "ax = sns.barplot(x=\"rating\", y=\"na_sales\", data=actual_years_data)"
   ]
  },
  {
   "cell_type": "markdown",
   "metadata": {},
   "source": [
    "Для Европы:"
   ]
  },
  {
   "cell_type": "code",
   "execution_count": 40,
   "metadata": {},
   "outputs": [
    {
     "data": {
      "image/png": "[encoded data removed]",
      "text/plain": [
       "<Figure size 842.4x595.44 with 1 Axes>"
      ]
     },
     "metadata": {},
     "output_type": "display_data"
    }
   ],
   "source": [
    "ax = sns.barplot(x=\"rating\", y=\"eu_sales\", data=actual_years_data)"
   ]
  },
  {
   "cell_type": "markdown",
   "metadata": {},
   "source": [
    "Для Японии:"
   ]
  },
  {
   "cell_type": "code",
   "execution_count": 41,
   "metadata": {},
   "outputs": [
    {
     "data": {
      "image/png": "[encoded data removed]",
      "text/plain": [
       "<Figure size 842.4x595.44 with 1 Axes>"
      ]
     },
     "metadata": {},
     "output_type": "display_data"
    }
   ],
   "source": [
    "ax = sns.barplot(x=\"rating\", y=\"jp_sales\", data=actual_years_data)"
   ]
  },
  {
   "cell_type": "markdown",
   "metadata": {},
   "source": [
    "**Выводы:** В Европе и Северной Америке самые продаваемые игры имеют рейтинг M. В Японии большинство игр не имеют рейтинга ESRB; среди игр, имеющих рейтинг, выделяются игры с рейтингом E. "
   ]
  },
  {
   "cell_type": "markdown",
   "metadata": {},
   "source": [
    "# 5. Проверка гипотез"
   ]
  },
  {
   "cell_type": "markdown",
   "metadata": {},
   "source": [
    "Проверка гипотезы: средние пользовательские рейтинги платформ Xbox One и PC одинаковые:\n",
    "\n",
    "```\n",
    "H_0: Пользовательские рейтинги (user_score) платформы Xbox One = пользовательские рейтинги (user_score) платформы PC;\n",
    "H_a: Пользовательские рейтинги (user_score) платформы Xbox One ≠ пользовательские рейтинги (user_score) платформы PC.\n",
    "alpha = 0.05\n",
    "```"
   ]
  },
  {
   "cell_type": "code",
   "execution_count": 42,
   "metadata": {},
   "outputs": [
    {
     "name": "stdout",
     "output_type": "stream",
     "text": [
      "nan\n",
      "Не получилось отвергнуть нулевую гипотезу\n"
     ]
    }
   ],
   "source": [
    "from scipy import stats as st\n",
    "\n",
    "XOne_data = actual_years_data.loc[actual_years_data['platform'] == 'XOne', 'user_score']\n",
    "PC_data = actual_years_data.loc[actual_years_data['platform'] == 'PC', 'user_score']\n",
    "results = st.ttest_ind(XOne_data, PC_data, equal_var = False) # results = вызов метода для проверки гипотезы\n",
    "\n",
    "alpha = 0.05\n",
    "\n",
    "print(results.pvalue )  \n",
    "if (results.pvalue < alpha): \n",
    "    print('Отвергаем нулевую гипотезу')\n",
    "else:\n",
    "    print('Не получилось отвергнуть нулевую гипотезу')"
   ]
  },
  {
   "cell_type": "markdown",
   "metadata": {},
   "source": [
    "Проверка гипотезы: cредние пользовательские рейтинги жанров Action и Sports разные:\n",
    "\n",
    "```\n",
    "H_0: Пользовательские рейтинги (user_score) жанра Action = пользовательские рейтинги (user_score) жанра Sports;\n",
    "H_a: Пользовательские рейтинги (user_score) жанра Action ≠ пользовательские рейтинги (user_score) жанра Sports.\n",
    "alpha = 0.05\n",
    "```"
   ]
  },
  {
   "cell_type": "code",
   "execution_count": 43,
   "metadata": {},
   "outputs": [
    {
     "name": "stdout",
     "output_type": "stream",
     "text": [
      "nan\n",
      "Не получилось отвергнуть нулевую гипотезу\n"
     ]
    }
   ],
   "source": [
    "action_data = actual_years_data.loc[actual_years_data['genre'] == 'Action', 'user_score']\n",
    "sports_data = actual_years_data.loc[actual_years_data['genre'] == 'Sports', 'user_score']\n",
    "results = st.ttest_ind(action_data, sports_data, equal_var = False) # results = вызов метода для проверки гипотезы\n",
    "\n",
    "alpha = 0.05\n",
    "\n",
    "print(results.pvalue )  \n",
    "if (results.pvalue < alpha): \n",
    "    print('Отвергаем нулевую гипотезу')\n",
    "else:\n",
    "    print('Не получилось отвергнуть нулевую гипотезу')"
   ]
  },
  {
   "cell_type": "markdown",
   "metadata": {},
   "source": [
    "Исследование прошло в четыре этапа:\n",
    " 1. Обзор данных;\n",
    " 2. Предобработка данных;\n",
    " 3. Исследовательский анализ данных;\n",
    " 4. Проверка гипотез.\n",
    " \n",
    "На первом этапе был выполнен обзор данных, в ходе которого определялось их качество и наличие ошибок.\n",
    "\n",
    "На второй этапе эти ошибки были устранены. Предобработка данных включала в себя заполнение пропущенных значений в столбцах, изменение типов данных столбца, расчёт новых значений.\n",
    "\n",
    "В ходе последнего этапа - ислледовательского анализа данных и проверке гипотез - было установлено, что по имеющимя данным:\n",
    "1. Платформа PS4 появилась в 2013 году и с тех пор продажи игр для этой платформы резко растут - от 20 до свыше 160 миллионов копий. Продажи игр для платформы PS3 резко падают из года в год - с почти 150 до 40 миллионов копий. Продажи игр для платформы PSV умеренно расли с 2012 по 2015 год - с 50 до 110 миллионов, но в последний год наблюдался спад до почти 80 миллионов. Продажи игр для платформы X360 резко уменьшаются из года в год - с почти 105 до 15 миллионов копий. Продажи игр для платформы 3DS с 2012 по 2015 год были практически на одном уровне - в районе 90 миллионов копий, но в 2016 году наблюдалось снижение до 45 миллионов;\n",
    "2. Между продажами игр и отзывами критиков есть слабая линейная связь, а отзывы пользоватлей не влияют на объёмы;\n",
    "3. Самые продаваемые жанры - Action, Shooter, Role-Playing и Sports, меньше всего покупают игры в жанре Strategy и Puzzle;\n",
    "4. Самые популярный жанры в Северной Америке и Европе практически полностью совпадают. Это Action, Shooter, Sports и Role-Playing - эти жанры занимают с 1-е по 4-е место в рейтинге соответсвенно. Другая структура распределения жанров в Японии - 1-е место занимает Role-Playing, кроме этого, появляются непредставленные в двух других регионах жанры Simulation и Fighting;\n",
    "5. Самые популярный жанры в Северной Америке и Европе практически полностью совпадают. Это Action, Shooter, Sports и Role-Playing - эти жанры занимают с 1-е по 4-е место в рейтинге соответсвенно. Другая структура распределения жанров в Японии - 1-е место занимает Role-Playing, кроме этого, появляются непредставленные в двух других регионах жанры Simulation и Fighting;\n",
    "6. В Европе и Северной Америке самые продаваемые игры имеют рейтинг M. В Японии большинство игр не имеют рейтинга ESRB; среди игр, имеющих рейтинг, выделяются игры с рейтингом E;\n",
    "7. У нас нет оснований утверждать, что средние пользовательские рейтинги платформ Xbox One и PC значимо различаются;\n",
    "8. У нас есть основания утверждать, что средние пользовательские рейтинги жанров Action и Sports значимо различаются.\n"
   ]
  }
 ],
 "metadata": {
  "ExecuteTimeLog": [
   {
    "duration": 544,
    "start_time": "2022-07-17T09:06:00.698Z"
   },
   {
    "duration": 326,
    "start_time": "2022-07-17T09:11:02.930Z"
   },
   {
    "duration": 32,
    "start_time": "2022-07-17T09:11:21.821Z"
   },
   {
    "duration": 110,
    "start_time": "2022-07-17T09:11:45.584Z"
   },
   {
    "duration": 22,
    "start_time": "2022-07-17T09:11:49.181Z"
   },
   {
    "duration": 4,
    "start_time": "2022-07-17T09:17:38.725Z"
   },
   {
    "duration": 7,
    "start_time": "2022-07-17T09:17:53.078Z"
   },
   {
    "duration": 3,
    "start_time": "2022-07-17T09:19:16.781Z"
   },
   {
    "duration": 4,
    "start_time": "2022-07-17T09:19:23.530Z"
   },
   {
    "duration": 14,
    "start_time": "2022-07-17T09:21:36.877Z"
   },
   {
    "duration": 49,
    "start_time": "2022-07-17T09:21:41.050Z"
   },
   {
    "duration": 14,
    "start_time": "2022-07-17T09:21:41.782Z"
   },
   {
    "duration": 49,
    "start_time": "2022-07-17T09:22:38.484Z"
   },
   {
    "duration": 63,
    "start_time": "2022-07-17T09:22:46.875Z"
   },
   {
    "duration": 15,
    "start_time": "2022-07-17T09:24:11.710Z"
   },
   {
    "duration": 9,
    "start_time": "2022-07-17T09:24:33.334Z"
   },
   {
    "duration": 12,
    "start_time": "2022-07-17T09:24:52.380Z"
   },
   {
    "duration": 4,
    "start_time": "2022-07-17T09:25:11.448Z"
   },
   {
    "duration": 64,
    "start_time": "2022-07-17T09:29:12.873Z"
   },
   {
    "duration": 21,
    "start_time": "2022-07-17T09:29:13.561Z"
   },
   {
    "duration": 4,
    "start_time": "2022-07-17T09:29:14.844Z"
   },
   {
    "duration": 4,
    "start_time": "2022-07-17T09:29:15.742Z"
   },
   {
    "duration": 3,
    "start_time": "2022-07-17T09:29:16.396Z"
   },
   {
    "duration": 7,
    "start_time": "2022-07-17T09:32:08.038Z"
   },
   {
    "duration": 25,
    "start_time": "2022-07-17T09:39:43.068Z"
   },
   {
    "duration": 11,
    "start_time": "2022-07-17T10:02:51.359Z"
   },
   {
    "duration": 6,
    "start_time": "2022-07-17T10:02:55.763Z"
   },
   {
    "duration": 770,
    "start_time": "2022-07-17T10:05:00.391Z"
   },
   {
    "duration": 20,
    "start_time": "2022-07-17T10:06:16.923Z"
   },
   {
    "duration": 320,
    "start_time": "2022-07-17T10:06:17.900Z"
   },
   {
    "duration": 18,
    "start_time": "2022-07-17T10:26:37.905Z"
   },
   {
    "duration": 24,
    "start_time": "2022-07-17T10:27:18.862Z"
   },
   {
    "duration": 16,
    "start_time": "2022-07-17T10:27:37.766Z"
   },
   {
    "duration": 13,
    "start_time": "2022-07-17T10:31:18.357Z"
   },
   {
    "duration": 30,
    "start_time": "2022-07-17T10:31:30.087Z"
   },
   {
    "duration": 7,
    "start_time": "2022-07-17T10:31:46.445Z"
   },
   {
    "duration": 82,
    "start_time": "2022-07-17T10:31:53.974Z"
   },
   {
    "duration": 15,
    "start_time": "2022-07-17T10:33:24.884Z"
   },
   {
    "duration": 298,
    "start_time": "2022-07-17T10:34:08.914Z"
   },
   {
    "duration": 19,
    "start_time": "2022-07-17T10:36:08.513Z"
   },
   {
    "duration": 16,
    "start_time": "2022-07-17T10:36:31.413Z"
   },
   {
    "duration": 10,
    "start_time": "2022-07-17T10:37:24.465Z"
   },
   {
    "duration": 20,
    "start_time": "2022-07-17T10:37:34.656Z"
   },
   {
    "duration": 3745,
    "start_time": "2022-07-17T10:37:46.492Z"
   },
   {
    "duration": 527,
    "start_time": "2022-07-17T12:58:13.989Z"
   },
   {
    "duration": 15,
    "start_time": "2022-07-17T12:58:15.589Z"
   },
   {
    "duration": 2,
    "start_time": "2022-07-17T12:58:16.463Z"
   },
   {
    "duration": 4,
    "start_time": "2022-07-17T12:58:16.949Z"
   },
   {
    "duration": 5,
    "start_time": "2022-07-17T12:58:17.610Z"
   },
   {
    "duration": 15,
    "start_time": "2022-07-17T12:58:19.064Z"
   },
   {
    "duration": 6,
    "start_time": "2022-07-17T12:58:20.089Z"
   },
   {
    "duration": 15,
    "start_time": "2022-07-17T12:58:30.046Z"
   },
   {
    "duration": 671,
    "start_time": "2022-07-17T12:58:30.754Z"
   },
   {
    "duration": 7,
    "start_time": "2022-07-17T12:58:31.743Z"
   },
   {
    "duration": 20,
    "start_time": "2022-07-17T12:58:32.360Z"
   },
   {
    "duration": 3640,
    "start_time": "2022-07-17T12:58:32.899Z"
   },
   {
    "duration": 472,
    "start_time": "2022-07-17T12:58:36.541Z"
   },
   {
    "duration": 671,
    "start_time": "2022-07-17T13:00:02.338Z"
   },
   {
    "duration": 658,
    "start_time": "2022-07-17T13:04:22.631Z"
   },
   {
    "duration": 165,
    "start_time": "2022-07-17T13:07:26.828Z"
   },
   {
    "duration": 630,
    "start_time": "2022-07-17T13:08:50.756Z"
   },
   {
    "duration": 18,
    "start_time": "2022-07-17T13:11:31.308Z"
   },
   {
    "duration": 589,
    "start_time": "2022-07-17T13:11:35.281Z"
   },
   {
    "duration": 409,
    "start_time": "2022-07-17T13:11:36.245Z"
   },
   {
    "duration": 181,
    "start_time": "2022-07-17T13:12:16.800Z"
   },
   {
    "duration": 351,
    "start_time": "2022-07-17T13:12:38.435Z"
   },
   {
    "duration": 380,
    "start_time": "2022-07-17T13:13:03.635Z"
   },
   {
    "duration": 339,
    "start_time": "2022-07-17T13:13:27.058Z"
   },
   {
    "duration": 459,
    "start_time": "2022-07-17T13:14:21.361Z"
   },
   {
    "duration": 94,
    "start_time": "2022-07-17T13:28:31.960Z"
   },
   {
    "duration": 338,
    "start_time": "2022-07-17T13:29:16.802Z"
   },
   {
    "duration": 281,
    "start_time": "2022-07-17T13:29:23.722Z"
   },
   {
    "duration": 4,
    "start_time": "2022-07-17T13:39:39.897Z"
   },
   {
    "duration": 7,
    "start_time": "2022-07-17T13:51:07.332Z"
   },
   {
    "duration": 4,
    "start_time": "2022-07-17T13:51:22.054Z"
   },
   {
    "duration": 5,
    "start_time": "2022-07-17T13:51:23.926Z"
   },
   {
    "duration": 155,
    "start_time": "2022-07-17T13:52:26.014Z"
   },
   {
    "duration": 834,
    "start_time": "2022-07-17T14:02:34.963Z"
   },
   {
    "duration": 412,
    "start_time": "2022-07-17T14:02:52.883Z"
   },
   {
    "duration": 10,
    "start_time": "2022-07-17T14:08:10.951Z"
   },
   {
    "duration": 7,
    "start_time": "2022-07-17T14:08:22.241Z"
   },
   {
    "duration": 9,
    "start_time": "2022-07-17T14:09:27.241Z"
   },
   {
    "duration": 7,
    "start_time": "2022-07-17T14:09:30.691Z"
   },
   {
    "duration": 12,
    "start_time": "2022-07-17T14:44:15.485Z"
   },
   {
    "duration": 7,
    "start_time": "2022-07-17T14:44:20.162Z"
   },
   {
    "duration": 11,
    "start_time": "2022-07-17T14:45:55.226Z"
   },
   {
    "duration": 10,
    "start_time": "2022-07-17T14:46:16.747Z"
   },
   {
    "duration": 6,
    "start_time": "2022-07-17T14:46:17.367Z"
   },
   {
    "duration": 10,
    "start_time": "2022-07-17T14:46:18.717Z"
   },
   {
    "duration": 7,
    "start_time": "2022-07-17T14:46:24.889Z"
   },
   {
    "duration": 860,
    "start_time": "2022-07-17T15:10:28.435Z"
   },
   {
    "duration": 63,
    "start_time": "2022-07-18T09:55:32.660Z"
   },
   {
    "duration": 631,
    "start_time": "2022-07-18T09:56:23.433Z"
   },
   {
    "duration": 14,
    "start_time": "2022-07-18T09:56:25.566Z"
   },
   {
    "duration": 9,
    "start_time": "2022-07-18T09:56:29.816Z"
   },
   {
    "duration": 155,
    "start_time": "2022-07-18T09:57:31.956Z"
   },
   {
    "duration": 16,
    "start_time": "2022-07-18T09:57:46.220Z"
   },
   {
    "duration": 90,
    "start_time": "2022-07-18T09:58:15.814Z"
   },
   {
    "duration": 36,
    "start_time": "2022-07-18T12:44:25.708Z"
   },
   {
    "duration": 12,
    "start_time": "2022-07-18T12:44:58.268Z"
   },
   {
    "duration": 68,
    "start_time": "2022-07-18T12:45:40.197Z"
   },
   {
    "duration": 15,
    "start_time": "2022-07-18T12:45:41.571Z"
   },
   {
    "duration": 14,
    "start_time": "2022-07-18T12:45:42.891Z"
   },
   {
    "duration": 18,
    "start_time": "2022-07-18T12:45:44.070Z"
   },
   {
    "duration": 2,
    "start_time": "2022-07-18T12:45:46.472Z"
   },
   {
    "duration": 4,
    "start_time": "2022-07-18T12:45:47.779Z"
   },
   {
    "duration": 5,
    "start_time": "2022-07-18T12:45:52.859Z"
   },
   {
    "duration": 9,
    "start_time": "2022-07-18T12:45:54.517Z"
   },
   {
    "duration": 16,
    "start_time": "2022-07-18T13:08:38.799Z"
   },
   {
    "duration": 14,
    "start_time": "2022-07-18T13:09:14.081Z"
   },
   {
    "duration": 7,
    "start_time": "2022-07-18T13:49:37.674Z"
   },
   {
    "duration": 16,
    "start_time": "2022-07-18T13:49:49.287Z"
   },
   {
    "duration": 926,
    "start_time": "2022-07-18T13:49:51.283Z"
   },
   {
    "duration": 397,
    "start_time": "2022-07-18T13:51:04.739Z"
   },
   {
    "duration": 485,
    "start_time": "2022-07-18T13:52:08.327Z"
   },
   {
    "duration": 410,
    "start_time": "2022-07-18T13:52:55.582Z"
   },
   {
    "duration": 349,
    "start_time": "2022-07-18T13:55:40.128Z"
   },
   {
    "duration": 377,
    "start_time": "2022-07-18T13:56:52.639Z"
   },
   {
    "duration": 20,
    "start_time": "2022-07-18T14:03:16.188Z"
   },
   {
    "duration": 11,
    "start_time": "2022-07-18T14:03:21.020Z"
   },
   {
    "duration": 13,
    "start_time": "2022-07-18T14:03:22.074Z"
   },
   {
    "duration": 14,
    "start_time": "2022-07-18T14:03:52.388Z"
   },
   {
    "duration": 14,
    "start_time": "2022-07-18T14:07:56.368Z"
   },
   {
    "duration": 1957,
    "start_time": "2022-07-18T14:09:03.688Z"
   },
   {
    "duration": 14,
    "start_time": "2022-07-18T14:10:48.056Z"
   },
   {
    "duration": 362,
    "start_time": "2022-07-18T14:18:32.975Z"
   },
   {
    "duration": 196,
    "start_time": "2022-07-18T14:35:17.912Z"
   },
   {
    "duration": 132,
    "start_time": "2022-07-18T14:36:35.734Z"
   },
   {
    "duration": 213,
    "start_time": "2022-07-18T14:36:43.154Z"
   },
   {
    "duration": 355,
    "start_time": "2022-07-18T14:37:04.350Z"
   },
   {
    "duration": 12,
    "start_time": "2022-07-19T07:06:41.632Z"
   },
   {
    "duration": 12,
    "start_time": "2022-07-19T07:07:01.950Z"
   },
   {
    "duration": 72,
    "start_time": "2022-07-19T07:07:32.994Z"
   },
   {
    "duration": 14,
    "start_time": "2022-07-19T07:07:33.477Z"
   },
   {
    "duration": 8,
    "start_time": "2022-07-19T07:07:34.036Z"
   },
   {
    "duration": 14,
    "start_time": "2022-07-19T07:07:34.459Z"
   },
   {
    "duration": 3,
    "start_time": "2022-07-19T07:07:35.420Z"
   },
   {
    "duration": 4,
    "start_time": "2022-07-19T07:07:35.889Z"
   },
   {
    "duration": 5,
    "start_time": "2022-07-19T07:07:36.369Z"
   },
   {
    "duration": 9,
    "start_time": "2022-07-19T07:07:37.083Z"
   },
   {
    "duration": 5,
    "start_time": "2022-07-19T07:07:50.028Z"
   },
   {
    "duration": 5,
    "start_time": "2022-07-19T07:07:52.223Z"
   },
   {
    "duration": 14,
    "start_time": "2022-07-19T07:07:52.937Z"
   },
   {
    "duration": 415,
    "start_time": "2022-07-19T07:07:53.527Z"
   },
   {
    "duration": 7,
    "start_time": "2022-07-19T07:07:54.320Z"
   },
   {
    "duration": 14,
    "start_time": "2022-07-19T07:07:55.184Z"
   },
   {
    "duration": 333,
    "start_time": "2022-07-19T07:07:55.724Z"
   },
   {
    "duration": 351,
    "start_time": "2022-07-19T07:07:57.123Z"
   },
   {
    "duration": 211,
    "start_time": "2022-07-19T07:11:04.109Z"
   },
   {
    "duration": 5,
    "start_time": "2022-07-19T07:15:10.058Z"
   },
   {
    "duration": 204,
    "start_time": "2022-07-19T07:15:34.205Z"
   },
   {
    "duration": 5,
    "start_time": "2022-07-19T07:15:50.851Z"
   },
   {
    "duration": 10,
    "start_time": "2022-07-19T07:19:52.657Z"
   },
   {
    "duration": 16,
    "start_time": "2022-07-19T07:20:25.487Z"
   },
   {
    "duration": 11,
    "start_time": "2022-07-19T07:22:26.269Z"
   },
   {
    "duration": 16,
    "start_time": "2022-07-19T07:23:36.930Z"
   },
   {
    "duration": 15,
    "start_time": "2022-07-19T07:28:14.075Z"
   },
   {
    "duration": 16,
    "start_time": "2022-07-19T07:28:51.360Z"
   },
   {
    "duration": 14,
    "start_time": "2022-07-19T07:30:15.332Z"
   },
   {
    "duration": 14,
    "start_time": "2022-07-19T07:55:19.935Z"
   },
   {
    "duration": 81,
    "start_time": "2022-07-19T07:56:51.666Z"
   },
   {
    "duration": 16,
    "start_time": "2022-07-19T08:01:43.181Z"
   },
   {
    "duration": 17,
    "start_time": "2022-07-19T08:02:18.919Z"
   },
   {
    "duration": 16,
    "start_time": "2022-07-19T08:04:02.349Z"
   },
   {
    "duration": 265,
    "start_time": "2022-07-19T08:51:57.176Z"
   },
   {
    "duration": 90,
    "start_time": "2022-07-19T08:53:46.640Z"
   },
   {
    "duration": 15,
    "start_time": "2022-07-19T11:46:51.597Z"
   },
   {
    "duration": 794,
    "start_time": "2022-07-19T13:19:32.656Z"
   },
   {
    "duration": 46,
    "start_time": "2022-07-19T14:00:39.465Z"
   },
   {
    "duration": 86,
    "start_time": "2022-07-19T15:26:15.980Z"
   },
   {
    "duration": 14,
    "start_time": "2022-07-19T15:26:21.209Z"
   },
   {
    "duration": 10,
    "start_time": "2022-07-19T15:26:26.295Z"
   },
   {
    "duration": 16,
    "start_time": "2022-07-19T15:26:27.926Z"
   },
   {
    "duration": 3,
    "start_time": "2022-07-19T15:26:32.392Z"
   },
   {
    "duration": 8,
    "start_time": "2022-07-19T15:26:33.647Z"
   },
   {
    "duration": 6,
    "start_time": "2022-07-19T15:26:38.898Z"
   },
   {
    "duration": 10,
    "start_time": "2022-07-19T15:26:41.674Z"
   },
   {
    "duration": 1908,
    "start_time": "2022-07-19T15:26:46.410Z"
   },
   {
    "duration": 1967,
    "start_time": "2022-07-19T15:26:51.330Z"
   },
   {
    "duration": 21,
    "start_time": "2022-07-19T15:26:57.523Z"
   },
   {
    "duration": 59,
    "start_time": "2022-07-19T15:27:30.069Z"
   },
   {
    "duration": 16,
    "start_time": "2022-07-19T15:28:46.724Z"
   },
   {
    "duration": 9,
    "start_time": "2022-07-19T15:29:11.412Z"
   },
   {
    "duration": 69,
    "start_time": "2022-07-19T15:32:20.997Z"
   },
   {
    "duration": 10,
    "start_time": "2022-07-19T15:32:23.768Z"
   },
   {
    "duration": 67,
    "start_time": "2022-07-19T15:35:01.668Z"
   },
   {
    "duration": 9,
    "start_time": "2022-07-19T15:35:02.512Z"
   },
   {
    "duration": 5,
    "start_time": "2022-07-19T15:35:04.026Z"
   },
   {
    "duration": 15,
    "start_time": "2022-07-19T15:35:05.696Z"
   },
   {
    "duration": 508,
    "start_time": "2022-07-19T15:35:06.606Z"
   },
   {
    "duration": 9,
    "start_time": "2022-07-19T15:35:07.657Z"
   },
   {
    "duration": 26,
    "start_time": "2022-07-19T15:35:08.725Z"
   },
   {
    "duration": 402,
    "start_time": "2022-07-19T15:35:09.486Z"
   },
   {
    "duration": 353,
    "start_time": "2022-07-19T15:43:06.446Z"
   },
   {
    "duration": 265,
    "start_time": "2022-07-19T15:43:10.405Z"
   },
   {
    "duration": 5,
    "start_time": "2022-07-19T15:45:02.141Z"
   },
   {
    "duration": 240,
    "start_time": "2022-07-19T15:46:03.491Z"
   },
   {
    "duration": 5,
    "start_time": "2022-07-19T15:46:05.586Z"
   },
   {
    "duration": 586,
    "start_time": "2022-07-19T16:26:38.108Z"
   },
   {
    "duration": 733,
    "start_time": "2022-07-19T16:33:50.621Z"
   },
   {
    "duration": 632,
    "start_time": "2022-07-19T16:36:07.398Z"
   },
   {
    "duration": 80,
    "start_time": "2022-07-20T09:17:08.776Z"
   },
   {
    "duration": 15,
    "start_time": "2022-07-20T09:17:09.484Z"
   },
   {
    "duration": 11,
    "start_time": "2022-07-20T09:17:10.475Z"
   },
   {
    "duration": 27,
    "start_time": "2022-07-20T09:17:10.930Z"
   },
   {
    "duration": 6,
    "start_time": "2022-07-20T09:17:12.238Z"
   },
   {
    "duration": 4,
    "start_time": "2022-07-20T09:17:12.777Z"
   },
   {
    "duration": 5,
    "start_time": "2022-07-20T09:17:13.520Z"
   },
   {
    "duration": 12,
    "start_time": "2022-07-20T09:17:14.277Z"
   },
   {
    "duration": 2185,
    "start_time": "2022-07-20T09:17:15.217Z"
   },
   {
    "duration": 2055,
    "start_time": "2022-07-20T09:17:17.406Z"
   },
   {
    "duration": 107,
    "start_time": "2022-07-20T09:17:19.463Z"
   },
   {
    "duration": 10,
    "start_time": "2022-07-20T09:17:19.572Z"
   },
   {
    "duration": 23,
    "start_time": "2022-07-20T09:17:19.584Z"
   },
   {
    "duration": 593,
    "start_time": "2022-07-20T09:17:19.609Z"
   },
   {
    "duration": 86,
    "start_time": "2022-07-20T12:50:01.038Z"
   },
   {
    "duration": 15,
    "start_time": "2022-07-20T12:50:01.491Z"
   },
   {
    "duration": 10,
    "start_time": "2022-07-20T12:50:02.001Z"
   },
   {
    "duration": 16,
    "start_time": "2022-07-20T12:50:02.466Z"
   },
   {
    "duration": 3,
    "start_time": "2022-07-20T12:50:03.436Z"
   },
   {
    "duration": 4,
    "start_time": "2022-07-20T12:50:03.800Z"
   },
   {
    "duration": 6,
    "start_time": "2022-07-20T12:50:04.405Z"
   },
   {
    "duration": 9,
    "start_time": "2022-07-20T12:50:04.882Z"
   },
   {
    "duration": 1842,
    "start_time": "2022-07-20T12:50:05.632Z"
   },
   {
    "duration": 1912,
    "start_time": "2022-07-20T12:50:07.476Z"
   },
   {
    "duration": 111,
    "start_time": "2022-07-20T12:50:09.390Z"
   },
   {
    "duration": 8,
    "start_time": "2022-07-20T12:50:09.505Z"
   },
   {
    "duration": 44,
    "start_time": "2022-07-20T12:50:09.516Z"
   },
   {
    "duration": 536,
    "start_time": "2022-07-20T12:50:09.562Z"
   },
   {
    "duration": 7,
    "start_time": "2022-07-20T12:50:10.100Z"
   },
   {
    "duration": 49,
    "start_time": "2022-07-20T12:50:10.109Z"
   },
   {
    "duration": 404,
    "start_time": "2022-07-20T12:50:10.160Z"
   },
   {
    "duration": 360,
    "start_time": "2022-07-20T12:50:10.566Z"
   },
   {
    "duration": 269,
    "start_time": "2022-07-20T12:50:10.928Z"
   },
   {
    "duration": 8,
    "start_time": "2022-07-20T12:50:11.295Z"
   },
   {
    "duration": 245,
    "start_time": "2022-07-20T12:50:12.170Z"
   },
   {
    "duration": 7,
    "start_time": "2022-07-20T12:50:12.563Z"
   },
   {
    "duration": 27,
    "start_time": "2022-07-20T12:50:13.122Z"
   },
   {
    "duration": 21,
    "start_time": "2022-07-20T12:50:14.224Z"
   },
   {
    "duration": 24,
    "start_time": "2022-07-20T12:50:14.633Z"
   },
   {
    "duration": 29,
    "start_time": "2022-07-20T12:50:15.032Z"
   },
   {
    "duration": 16,
    "start_time": "2022-07-20T12:50:15.918Z"
   },
   {
    "duration": 16,
    "start_time": "2022-07-20T12:50:16.282Z"
   },
   {
    "duration": 18,
    "start_time": "2022-07-20T12:50:16.679Z"
   },
   {
    "duration": 597,
    "start_time": "2022-07-20T12:50:17.591Z"
   },
   {
    "duration": 468,
    "start_time": "2022-07-20T12:50:18.191Z"
   },
   {
    "duration": 465,
    "start_time": "2022-07-20T12:50:18.661Z"
   },
   {
    "duration": 9,
    "start_time": "2022-07-20T12:50:20.069Z"
   },
   {
    "duration": 8,
    "start_time": "2022-07-20T12:50:32.209Z"
   },
   {
    "duration": 72,
    "start_time": "2022-07-20T13:22:47.850Z"
   },
   {
    "duration": 15,
    "start_time": "2022-07-20T13:22:48.890Z"
   },
   {
    "duration": 10,
    "start_time": "2022-07-20T13:22:49.875Z"
   },
   {
    "duration": 17,
    "start_time": "2022-07-20T13:22:50.757Z"
   },
   {
    "duration": 3,
    "start_time": "2022-07-20T13:22:52.467Z"
   },
   {
    "duration": 5,
    "start_time": "2022-07-20T13:22:53.161Z"
   },
   {
    "duration": 6,
    "start_time": "2022-07-20T13:22:54.128Z"
   },
   {
    "duration": 10,
    "start_time": "2022-07-20T13:22:55.003Z"
   },
   {
    "duration": 1622,
    "start_time": "2022-07-20T13:22:56.253Z"
   },
   {
    "duration": 1796,
    "start_time": "2022-07-20T13:22:57.878Z"
   },
   {
    "duration": 73,
    "start_time": "2022-07-20T13:22:59.675Z"
   },
   {
    "duration": 5,
    "start_time": "2022-07-20T13:22:59.750Z"
   },
   {
    "duration": 18,
    "start_time": "2022-07-20T13:22:59.757Z"
   },
   {
    "duration": 467,
    "start_time": "2022-07-20T13:23:00.113Z"
   },
   {
    "duration": 7,
    "start_time": "2022-07-20T13:23:00.962Z"
   },
   {
    "duration": 17,
    "start_time": "2022-07-20T13:23:01.791Z"
   },
   {
    "duration": 359,
    "start_time": "2022-07-20T13:23:02.371Z"
   },
   {
    "duration": 320,
    "start_time": "2022-07-20T13:23:03.262Z"
   },
   {
    "duration": 229,
    "start_time": "2022-07-20T13:23:04.460Z"
   },
   {
    "duration": 7,
    "start_time": "2022-07-20T13:23:05.157Z"
   },
   {
    "duration": 224,
    "start_time": "2022-07-20T13:23:06.654Z"
   },
   {
    "duration": 6,
    "start_time": "2022-07-20T13:23:07.554Z"
   },
   {
    "duration": 15,
    "start_time": "2022-07-20T13:23:08.917Z"
   },
   {
    "duration": 20,
    "start_time": "2022-07-20T13:23:11.404Z"
   },
   {
    "duration": 22,
    "start_time": "2022-07-20T13:23:12.014Z"
   },
   {
    "duration": 20,
    "start_time": "2022-07-20T13:23:12.561Z"
   },
   {
    "duration": 16,
    "start_time": "2022-07-20T13:23:14.154Z"
   },
   {
    "duration": 19,
    "start_time": "2022-07-20T13:23:19.640Z"
   },
   {
    "duration": 21,
    "start_time": "2022-07-20T13:23:20.164Z"
   },
   {
    "duration": 21,
    "start_time": "2022-07-20T13:23:20.714Z"
   },
   {
    "duration": 411,
    "start_time": "2022-07-20T13:23:21.706Z"
   },
   {
    "duration": 481,
    "start_time": "2022-07-20T13:23:22.257Z"
   },
   {
    "duration": 437,
    "start_time": "2022-07-20T13:23:23.533Z"
   },
   {
    "duration": 11,
    "start_time": "2022-07-20T13:23:25.314Z"
   },
   {
    "duration": 8,
    "start_time": "2022-07-20T13:23:26.320Z"
   },
   {
    "duration": 543,
    "start_time": "2022-07-20T13:35:37.294Z"
   },
   {
    "duration": 15,
    "start_time": "2022-07-20T13:35:37.840Z"
   },
   {
    "duration": 10,
    "start_time": "2022-07-20T13:35:37.856Z"
   },
   {
    "duration": 24,
    "start_time": "2022-07-20T13:35:37.868Z"
   },
   {
    "duration": 30,
    "start_time": "2022-07-20T13:35:37.894Z"
   },
   {
    "duration": 8,
    "start_time": "2022-07-20T13:35:37.926Z"
   },
   {
    "duration": 9,
    "start_time": "2022-07-20T13:35:37.936Z"
   },
   {
    "duration": 15,
    "start_time": "2022-07-20T13:35:37.947Z"
   },
   {
    "duration": 1593,
    "start_time": "2022-07-20T13:35:37.964Z"
   },
   {
    "duration": 1550,
    "start_time": "2022-07-20T13:35:39.559Z"
   },
   {
    "duration": 89,
    "start_time": "2022-07-20T13:35:41.111Z"
   },
   {
    "duration": 6,
    "start_time": "2022-07-20T13:35:41.202Z"
   },
   {
    "duration": 34,
    "start_time": "2022-07-20T13:35:41.211Z"
   },
   {
    "duration": 586,
    "start_time": "2022-07-20T13:35:41.247Z"
   },
   {
    "duration": 8,
    "start_time": "2022-07-20T13:35:41.835Z"
   },
   {
    "duration": 24,
    "start_time": "2022-07-20T13:35:41.845Z"
   },
   {
    "duration": 897,
    "start_time": "2022-07-20T13:35:41.871Z"
   },
   {
    "duration": 269,
    "start_time": "2022-07-20T13:35:42.770Z"
   },
   {
    "duration": 232,
    "start_time": "2022-07-20T13:35:43.041Z"
   },
   {
    "duration": 6,
    "start_time": "2022-07-20T13:35:43.274Z"
   },
   {
    "duration": 231,
    "start_time": "2022-07-20T13:35:43.282Z"
   },
   {
    "duration": 10,
    "start_time": "2022-07-20T13:35:43.516Z"
   },
   {
    "duration": 26,
    "start_time": "2022-07-20T13:35:43.528Z"
   },
   {
    "duration": 16,
    "start_time": "2022-07-20T13:35:43.556Z"
   },
   {
    "duration": 15,
    "start_time": "2022-07-20T13:35:43.573Z"
   },
   {
    "duration": 40,
    "start_time": "2022-07-20T13:35:43.589Z"
   },
   {
    "duration": 18,
    "start_time": "2022-07-20T13:35:43.631Z"
   },
   {
    "duration": 25,
    "start_time": "2022-07-20T13:35:43.653Z"
   },
   {
    "duration": 14,
    "start_time": "2022-07-20T13:35:43.681Z"
   },
   {
    "duration": 351,
    "start_time": "2022-07-20T13:35:43.697Z"
   },
   {
    "duration": 424,
    "start_time": "2022-07-20T13:35:44.050Z"
   },
   {
    "duration": 395,
    "start_time": "2022-07-20T13:35:44.475Z"
   },
   {
    "duration": 8,
    "start_time": "2022-07-20T13:35:44.872Z"
   },
   {
    "duration": 10,
    "start_time": "2022-07-20T13:35:44.882Z"
   },
   {
    "duration": 1263,
    "start_time": "2022-07-22T06:31:57.332Z"
   },
   {
    "duration": 116,
    "start_time": "2022-07-22T06:33:47.227Z"
   },
   {
    "duration": 3,
    "start_time": "2022-07-22T06:33:53.779Z"
   },
   {
    "duration": 118,
    "start_time": "2022-07-22T06:33:55.339Z"
   },
   {
    "duration": 17,
    "start_time": "2022-07-22T06:33:58.444Z"
   },
   {
    "duration": 10,
    "start_time": "2022-07-22T06:34:01.095Z"
   },
   {
    "duration": 15,
    "start_time": "2022-07-22T06:34:50.890Z"
   },
   {
    "duration": 8,
    "start_time": "2022-07-22T06:35:53.540Z"
   },
   {
    "duration": 3,
    "start_time": "2022-07-22T06:36:30.463Z"
   },
   {
    "duration": 9,
    "start_time": "2022-07-22T06:36:40.148Z"
   },
   {
    "duration": 50,
    "start_time": "2022-07-22T06:37:57.506Z"
   },
   {
    "duration": 10,
    "start_time": "2022-07-22T06:39:02.428Z"
   },
   {
    "duration": 4,
    "start_time": "2022-07-22T06:53:45.970Z"
   },
   {
    "duration": 83,
    "start_time": "2022-07-22T06:53:46.359Z"
   },
   {
    "duration": 18,
    "start_time": "2022-07-22T06:53:47.518Z"
   },
   {
    "duration": 12,
    "start_time": "2022-07-22T06:53:48.013Z"
   },
   {
    "duration": 23,
    "start_time": "2022-07-22T06:53:48.677Z"
   },
   {
    "duration": 10,
    "start_time": "2022-07-22T06:53:51.150Z"
   },
   {
    "duration": 3,
    "start_time": "2022-07-22T06:53:51.974Z"
   },
   {
    "duration": 3,
    "start_time": "2022-07-22T06:53:58.622Z"
   },
   {
    "duration": 6,
    "start_time": "2022-07-22T06:53:59.747Z"
   },
   {
    "duration": 5,
    "start_time": "2022-07-22T06:54:19.487Z"
   },
   {
    "duration": 9,
    "start_time": "2022-07-22T06:54:20.055Z"
   },
   {
    "duration": 10,
    "start_time": "2022-07-22T06:54:20.499Z"
   },
   {
    "duration": 2079,
    "start_time": "2022-07-22T06:54:27.028Z"
   },
   {
    "duration": 1619,
    "start_time": "2022-07-22T06:54:29.110Z"
   },
   {
    "duration": 11,
    "start_time": "2022-07-22T07:30:33.439Z"
   },
   {
    "duration": 3,
    "start_time": "2022-07-22T07:31:07.379Z"
   },
   {
    "duration": 68,
    "start_time": "2022-07-22T07:31:07.730Z"
   },
   {
    "duration": 19,
    "start_time": "2022-07-22T07:31:08.663Z"
   },
   {
    "duration": 14,
    "start_time": "2022-07-22T07:31:09.046Z"
   },
   {
    "duration": 15,
    "start_time": "2022-07-22T07:31:09.418Z"
   },
   {
    "duration": 3,
    "start_time": "2022-07-22T07:31:10.891Z"
   },
   {
    "duration": 4,
    "start_time": "2022-07-22T07:31:12.264Z"
   },
   {
    "duration": 4,
    "start_time": "2022-07-22T07:31:13.421Z"
   },
   {
    "duration": 5,
    "start_time": "2022-07-22T07:31:14.209Z"
   },
   {
    "duration": 7,
    "start_time": "2022-07-22T07:31:14.615Z"
   },
   {
    "duration": 8,
    "start_time": "2022-07-22T07:31:20.992Z"
   },
   {
    "duration": 19,
    "start_time": "2022-07-22T07:31:24.402Z"
   },
   {
    "duration": 357,
    "start_time": "2022-07-22T07:31:25.684Z"
   },
   {
    "duration": 9,
    "start_time": "2022-07-22T07:31:39.973Z"
   },
   {
    "duration": 16,
    "start_time": "2022-07-22T07:31:46.867Z"
   },
   {
    "duration": 371,
    "start_time": "2022-07-22T07:31:47.239Z"
   },
   {
    "duration": 364,
    "start_time": "2022-07-22T07:32:03.921Z"
   },
   {
    "duration": 330,
    "start_time": "2022-07-22T07:32:31.496Z"
   },
   {
    "duration": 346,
    "start_time": "2022-07-22T07:32:42.701Z"
   },
   {
    "duration": 100,
    "start_time": "2022-07-22T07:32:55.108Z"
   },
   {
    "duration": 324,
    "start_time": "2022-07-22T07:32:59.431Z"
   },
   {
    "duration": 357,
    "start_time": "2022-07-22T07:33:11.128Z"
   },
   {
    "duration": 107,
    "start_time": "2022-07-22T07:34:10.194Z"
   },
   {
    "duration": 355,
    "start_time": "2022-07-22T07:37:35.186Z"
   },
   {
    "duration": 56,
    "start_time": "2022-07-22T07:38:08.406Z"
   },
   {
    "duration": 193,
    "start_time": "2022-07-22T07:38:21.259Z"
   },
   {
    "duration": 316,
    "start_time": "2022-07-22T07:40:02.014Z"
   },
   {
    "duration": 306,
    "start_time": "2022-07-22T07:40:30.547Z"
   },
   {
    "duration": 399,
    "start_time": "2022-07-22T07:41:10.391Z"
   },
   {
    "duration": 294,
    "start_time": "2022-07-22T07:42:15.156Z"
   },
   {
    "duration": 393,
    "start_time": "2022-07-22T07:42:32.114Z"
   },
   {
    "duration": 207,
    "start_time": "2022-07-22T07:44:47.496Z"
   },
   {
    "duration": 5,
    "start_time": "2022-07-22T07:44:51.892Z"
   },
   {
    "duration": 279,
    "start_time": "2022-07-22T07:45:29.032Z"
   },
   {
    "duration": 6,
    "start_time": "2022-07-22T07:45:31.833Z"
   },
   {
    "duration": 8,
    "start_time": "2022-07-22T07:46:54.141Z"
   },
   {
    "duration": 263,
    "start_time": "2022-07-22T07:46:55.218Z"
   },
   {
    "duration": 5,
    "start_time": "2022-07-22T07:46:56.153Z"
   },
   {
    "duration": 16,
    "start_time": "2022-07-22T07:52:46.100Z"
   },
   {
    "duration": 15,
    "start_time": "2022-07-22T07:52:56.246Z"
   },
   {
    "duration": 49,
    "start_time": "2022-07-22T08:06:09.335Z"
   },
   {
    "duration": 53,
    "start_time": "2022-07-22T08:10:09.534Z"
   },
   {
    "duration": 175,
    "start_time": "2022-07-22T08:26:48.617Z"
   },
   {
    "duration": 186,
    "start_time": "2022-07-22T08:27:10.819Z"
   },
   {
    "duration": 220,
    "start_time": "2022-07-22T08:27:19.562Z"
   },
   {
    "duration": 7,
    "start_time": "2022-07-22T08:27:29.818Z"
   },
   {
    "duration": 6,
    "start_time": "2022-07-22T08:28:38.682Z"
   },
   {
    "duration": 203,
    "start_time": "2022-07-22T08:30:19.193Z"
   },
   {
    "duration": 60,
    "start_time": "2022-07-22T08:30:20.984Z"
   },
   {
    "duration": 7,
    "start_time": "2022-07-22T08:30:21.738Z"
   },
   {
    "duration": 210,
    "start_time": "2022-07-22T08:34:07.394Z"
   },
   {
    "duration": 56,
    "start_time": "2022-07-22T08:34:09.096Z"
   },
   {
    "duration": 7,
    "start_time": "2022-07-22T08:34:28.299Z"
   },
   {
    "duration": 353,
    "start_time": "2022-07-22T08:36:35.696Z"
   },
   {
    "duration": 7,
    "start_time": "2022-07-22T08:36:59.588Z"
   },
   {
    "duration": 7,
    "start_time": "2022-07-22T08:37:15.626Z"
   },
   {
    "duration": 53,
    "start_time": "2022-07-22T08:37:17.725Z"
   },
   {
    "duration": 199,
    "start_time": "2022-07-22T08:37:40.467Z"
   },
   {
    "duration": 51,
    "start_time": "2022-07-22T08:37:42.973Z"
   },
   {
    "duration": 5,
    "start_time": "2022-07-22T08:37:50.364Z"
   },
   {
    "duration": 56,
    "start_time": "2022-07-22T08:38:42.128Z"
   },
   {
    "duration": 193,
    "start_time": "2022-07-22T08:38:42.754Z"
   },
   {
    "duration": 7,
    "start_time": "2022-07-22T08:38:44.813Z"
   },
   {
    "duration": 107,
    "start_time": "2022-07-22T08:38:50.178Z"
   },
   {
    "duration": 244,
    "start_time": "2022-07-22T08:38:50.899Z"
   },
   {
    "duration": 6,
    "start_time": "2022-07-22T08:38:52.709Z"
   },
   {
    "duration": 275,
    "start_time": "2022-07-22T08:38:59.143Z"
   },
   {
    "duration": 7,
    "start_time": "2022-07-22T08:39:01.373Z"
   },
   {
    "duration": 273,
    "start_time": "2022-07-22T08:39:37.587Z"
   },
   {
    "duration": 7,
    "start_time": "2022-07-22T08:39:39.251Z"
   },
   {
    "duration": 3,
    "start_time": "2022-07-22T08:42:48.603Z"
   },
   {
    "duration": 65,
    "start_time": "2022-07-22T08:42:49.285Z"
   },
   {
    "duration": 18,
    "start_time": "2022-07-22T08:42:50.703Z"
   },
   {
    "duration": 12,
    "start_time": "2022-07-22T08:42:51.334Z"
   },
   {
    "duration": 16,
    "start_time": "2022-07-22T08:42:55.267Z"
   },
   {
    "duration": 4,
    "start_time": "2022-07-22T08:42:56.991Z"
   },
   {
    "duration": 6,
    "start_time": "2022-07-22T08:42:58.388Z"
   },
   {
    "duration": 4,
    "start_time": "2022-07-22T09:00:28.324Z"
   },
   {
    "duration": 5,
    "start_time": "2022-07-22T09:00:33.459Z"
   },
   {
    "duration": 7,
    "start_time": "2022-07-22T09:00:34.371Z"
   },
   {
    "duration": 5,
    "start_time": "2022-07-22T09:00:38.567Z"
   },
   {
    "duration": 14,
    "start_time": "2022-07-22T09:00:41.113Z"
   },
   {
    "duration": 498,
    "start_time": "2022-07-22T09:00:42.253Z"
   },
   {
    "duration": 6,
    "start_time": "2022-07-22T09:00:44.090Z"
   },
   {
    "duration": 14,
    "start_time": "2022-07-22T09:00:46.756Z"
   },
   {
    "duration": 51,
    "start_time": "2022-07-22T09:00:47.331Z"
   },
   {
    "duration": 12,
    "start_time": "2022-07-22T09:01:14.845Z"
   },
   {
    "duration": 18,
    "start_time": "2022-07-22T09:01:30.443Z"
   },
   {
    "duration": 346,
    "start_time": "2022-07-22T09:02:12.052Z"
   },
   {
    "duration": 365,
    "start_time": "2022-07-22T09:02:32.313Z"
   },
   {
    "duration": 397,
    "start_time": "2022-07-22T09:02:43.530Z"
   },
   {
    "duration": 317,
    "start_time": "2022-07-22T09:02:49.248Z"
   },
   {
    "duration": 344,
    "start_time": "2022-07-22T09:02:49.568Z"
   },
   {
    "duration": 226,
    "start_time": "2022-07-22T09:02:55.791Z"
   },
   {
    "duration": 6,
    "start_time": "2022-07-22T09:02:57.913Z"
   },
   {
    "duration": 270,
    "start_time": "2022-07-22T09:02:59.071Z"
   },
   {
    "duration": 6,
    "start_time": "2022-07-22T09:02:59.508Z"
   },
   {
    "duration": 49,
    "start_time": "2022-07-22T09:03:00.967Z"
   },
   {
    "duration": 272,
    "start_time": "2022-07-22T09:03:06.167Z"
   },
   {
    "duration": 6,
    "start_time": "2022-07-22T09:03:07.358Z"
   },
   {
    "duration": 241,
    "start_time": "2022-07-22T09:03:08.834Z"
   },
   {
    "duration": 6,
    "start_time": "2022-07-22T09:03:10.037Z"
   },
   {
    "duration": 228,
    "start_time": "2022-07-22T09:03:12.873Z"
   },
   {
    "duration": 6,
    "start_time": "2022-07-22T09:03:15.224Z"
   },
   {
    "duration": 249,
    "start_time": "2022-07-22T09:03:17.252Z"
   },
   {
    "duration": 7,
    "start_time": "2022-07-22T09:03:18.036Z"
   },
   {
    "duration": 14,
    "start_time": "2022-07-22T09:03:32.786Z"
   },
   {
    "duration": 129,
    "start_time": "2022-07-22T09:03:36.511Z"
   },
   {
    "duration": 92,
    "start_time": "2022-07-22T09:03:49.106Z"
   },
   {
    "duration": 69,
    "start_time": "2022-07-22T09:07:52.591Z"
   },
   {
    "duration": 84,
    "start_time": "2022-07-22T09:08:28.141Z"
   },
   {
    "duration": 118,
    "start_time": "2022-07-22T09:10:12.420Z"
   },
   {
    "duration": 53,
    "start_time": "2022-07-22T09:10:23.880Z"
   },
   {
    "duration": 16,
    "start_time": "2022-07-22T09:10:35.630Z"
   },
   {
    "duration": 18,
    "start_time": "2022-07-22T09:11:20.391Z"
   },
   {
    "duration": 16,
    "start_time": "2022-07-22T09:14:33.022Z"
   },
   {
    "duration": 15,
    "start_time": "2022-07-22T09:15:44.024Z"
   },
   {
    "duration": 17,
    "start_time": "2022-07-22T09:15:44.832Z"
   },
   {
    "duration": 15,
    "start_time": "2022-07-22T09:15:47.076Z"
   },
   {
    "duration": 17,
    "start_time": "2022-07-22T09:15:48.163Z"
   },
   {
    "duration": 17,
    "start_time": "2022-07-22T09:15:49.520Z"
   },
   {
    "duration": 357,
    "start_time": "2022-07-22T09:16:15.708Z"
   },
   {
    "duration": 400,
    "start_time": "2022-07-22T09:16:30.567Z"
   },
   {
    "duration": 365,
    "start_time": "2022-07-22T09:16:31.946Z"
   },
   {
    "duration": 8,
    "start_time": "2022-07-22T09:17:13.341Z"
   },
   {
    "duration": 8,
    "start_time": "2022-07-22T09:17:15.748Z"
   },
   {
    "duration": 3,
    "start_time": "2022-07-22T09:40:00.071Z"
   },
   {
    "duration": 67,
    "start_time": "2022-07-22T09:40:00.624Z"
   },
   {
    "duration": 19,
    "start_time": "2022-07-22T09:40:02.050Z"
   },
   {
    "duration": 11,
    "start_time": "2022-07-22T09:40:02.606Z"
   },
   {
    "duration": 19,
    "start_time": "2022-07-22T09:40:03.499Z"
   },
   {
    "duration": 3,
    "start_time": "2022-07-22T09:40:05.671Z"
   },
   {
    "duration": 4,
    "start_time": "2022-07-22T09:40:07.548Z"
   },
   {
    "duration": 5,
    "start_time": "2022-07-22T09:40:09.291Z"
   },
   {
    "duration": 6,
    "start_time": "2022-07-22T09:40:10.015Z"
   },
   {
    "duration": 7,
    "start_time": "2022-07-22T09:40:10.498Z"
   },
   {
    "duration": 6,
    "start_time": "2022-07-22T09:40:13.908Z"
   },
   {
    "duration": 15,
    "start_time": "2022-07-22T09:40:15.812Z"
   },
   {
    "duration": 474,
    "start_time": "2022-07-22T09:40:16.628Z"
   },
   {
    "duration": 9,
    "start_time": "2022-07-22T09:40:18.442Z"
   },
   {
    "duration": 19,
    "start_time": "2022-07-22T09:40:19.547Z"
   },
   {
    "duration": 347,
    "start_time": "2022-07-22T09:40:20.002Z"
   },
   {
    "duration": 420,
    "start_time": "2022-07-22T09:40:22.339Z"
   },
   {
    "duration": 328,
    "start_time": "2022-07-22T09:40:23.402Z"
   },
   {
    "duration": 206,
    "start_time": "2022-07-22T09:40:27.083Z"
   },
   {
    "duration": 6,
    "start_time": "2022-07-22T09:40:27.921Z"
   },
   {
    "duration": 238,
    "start_time": "2022-07-22T09:40:28.770Z"
   },
   {
    "duration": 7,
    "start_time": "2022-07-22T09:40:29.180Z"
   },
   {
    "duration": 184,
    "start_time": "2022-07-22T09:40:30.236Z"
   },
   {
    "duration": 7,
    "start_time": "2022-07-22T09:40:30.814Z"
   },
   {
    "duration": 176,
    "start_time": "2022-07-22T09:40:31.434Z"
   },
   {
    "duration": 6,
    "start_time": "2022-07-22T09:40:32.186Z"
   },
   {
    "duration": 202,
    "start_time": "2022-07-22T09:40:33.509Z"
   },
   {
    "duration": 5,
    "start_time": "2022-07-22T09:40:33.915Z"
   },
   {
    "duration": 223,
    "start_time": "2022-07-22T09:40:34.568Z"
   },
   {
    "duration": 6,
    "start_time": "2022-07-22T09:40:34.999Z"
   },
   {
    "duration": 15,
    "start_time": "2022-07-22T09:40:36.867Z"
   },
   {
    "duration": 18,
    "start_time": "2022-07-22T09:40:40.322Z"
   },
   {
    "duration": 18,
    "start_time": "2022-07-22T09:40:41.007Z"
   },
   {
    "duration": 29,
    "start_time": "2022-07-22T09:40:41.412Z"
   },
   {
    "duration": 13,
    "start_time": "2022-07-22T09:40:42.181Z"
   },
   {
    "duration": 14,
    "start_time": "2022-07-22T09:40:42.569Z"
   },
   {
    "duration": 14,
    "start_time": "2022-07-22T09:40:42.993Z"
   },
   {
    "duration": 375,
    "start_time": "2022-07-22T09:40:43.794Z"
   },
   {
    "duration": 400,
    "start_time": "2022-07-22T09:40:44.638Z"
   },
   {
    "duration": 369,
    "start_time": "2022-07-22T09:40:45.047Z"
   },
   {
    "duration": 7,
    "start_time": "2022-07-22T09:40:46.192Z"
   },
   {
    "duration": 7,
    "start_time": "2022-07-22T09:40:47.052Z"
   },
   {
    "duration": 1288,
    "start_time": "2022-07-23T06:15:13.124Z"
   },
   {
    "duration": 113,
    "start_time": "2022-07-23T06:15:14.414Z"
   },
   {
    "duration": 15,
    "start_time": "2022-07-23T06:15:14.528Z"
   },
   {
    "duration": 8,
    "start_time": "2022-07-23T06:15:14.545Z"
   },
   {
    "duration": 15,
    "start_time": "2022-07-23T06:15:14.555Z"
   },
   {
    "duration": 3,
    "start_time": "2022-07-23T06:15:14.572Z"
   },
   {
    "duration": 17,
    "start_time": "2022-07-23T06:15:14.576Z"
   },
   {
    "duration": 17,
    "start_time": "2022-07-23T06:15:14.595Z"
   },
   {
    "duration": 12,
    "start_time": "2022-07-23T06:15:14.613Z"
   },
   {
    "duration": 9,
    "start_time": "2022-07-23T06:15:14.627Z"
   },
   {
    "duration": 17,
    "start_time": "2022-07-23T06:15:14.637Z"
   },
   {
    "duration": 21,
    "start_time": "2022-07-23T06:15:14.656Z"
   },
   {
    "duration": 359,
    "start_time": "2022-07-23T06:15:14.679Z"
   },
   {
    "duration": 10,
    "start_time": "2022-07-23T06:15:15.040Z"
   },
   {
    "duration": 17,
    "start_time": "2022-07-23T06:15:15.052Z"
   },
   {
    "duration": 358,
    "start_time": "2022-07-23T06:15:15.070Z"
   },
   {
    "duration": 300,
    "start_time": "2022-07-23T06:15:15.430Z"
   },
   {
    "duration": 309,
    "start_time": "2022-07-23T06:15:15.731Z"
   },
   {
    "duration": 218,
    "start_time": "2022-07-23T06:15:16.041Z"
   },
   {
    "duration": 5,
    "start_time": "2022-07-23T06:15:16.260Z"
   },
   {
    "duration": 203,
    "start_time": "2022-07-23T06:15:16.266Z"
   },
   {
    "duration": 5,
    "start_time": "2022-07-23T06:15:16.471Z"
   },
   {
    "duration": 259,
    "start_time": "2022-07-23T06:15:16.477Z"
   },
   {
    "duration": 5,
    "start_time": "2022-07-23T06:15:16.737Z"
   },
   {
    "duration": 180,
    "start_time": "2022-07-23T06:15:16.743Z"
   },
   {
    "duration": 5,
    "start_time": "2022-07-23T06:15:16.924Z"
   },
   {
    "duration": 224,
    "start_time": "2022-07-23T06:15:16.930Z"
   },
   {
    "duration": 5,
    "start_time": "2022-07-23T06:15:17.159Z"
   },
   {
    "duration": 216,
    "start_time": "2022-07-23T06:15:17.166Z"
   },
   {
    "duration": 6,
    "start_time": "2022-07-23T06:15:17.383Z"
   },
   {
    "duration": 27,
    "start_time": "2022-07-23T06:15:17.390Z"
   },
   {
    "duration": 16,
    "start_time": "2022-07-23T06:15:17.419Z"
   },
   {
    "duration": 18,
    "start_time": "2022-07-23T06:15:17.437Z"
   },
   {
    "duration": 22,
    "start_time": "2022-07-23T06:15:17.456Z"
   },
   {
    "duration": 16,
    "start_time": "2022-07-23T06:15:17.480Z"
   },
   {
    "duration": 23,
    "start_time": "2022-07-23T06:15:17.498Z"
   },
   {
    "duration": 22,
    "start_time": "2022-07-23T06:15:17.522Z"
   },
   {
    "duration": 341,
    "start_time": "2022-07-23T06:15:17.546Z"
   },
   {
    "duration": 378,
    "start_time": "2022-07-23T06:15:17.888Z"
   },
   {
    "duration": 344,
    "start_time": "2022-07-23T06:15:18.267Z"
   },
   {
    "duration": 8,
    "start_time": "2022-07-23T06:15:18.612Z"
   },
   {
    "duration": 16,
    "start_time": "2022-07-23T06:15:18.621Z"
   },
   {
    "duration": 45,
    "start_time": "2022-07-23T08:36:52.173Z"
   },
   {
    "duration": 1355,
    "start_time": "2022-07-23T08:37:05.841Z"
   },
   {
    "duration": 120,
    "start_time": "2022-07-23T08:37:07.198Z"
   },
   {
    "duration": 14,
    "start_time": "2022-07-23T08:37:09.143Z"
   },
   {
    "duration": 9,
    "start_time": "2022-07-23T08:37:09.609Z"
   },
   {
    "duration": 17,
    "start_time": "2022-07-23T08:37:10.236Z"
   },
   {
    "duration": 3,
    "start_time": "2022-07-23T08:37:11.947Z"
   },
   {
    "duration": 6,
    "start_time": "2022-07-23T08:37:13.470Z"
   },
   {
    "duration": 6,
    "start_time": "2022-07-23T08:37:15.559Z"
   },
   {
    "duration": 4,
    "start_time": "2022-07-23T08:37:17.158Z"
   },
   {
    "duration": 7,
    "start_time": "2022-07-23T08:37:17.774Z"
   },
   {
    "duration": 6,
    "start_time": "2022-07-23T08:38:13.501Z"
   },
   {
    "duration": 21,
    "start_time": "2022-07-23T08:38:23.578Z"
   },
   {
    "duration": 324,
    "start_time": "2022-07-23T08:38:29.347Z"
   },
   {
    "duration": 7,
    "start_time": "2022-07-23T08:38:38.463Z"
   },
   {
    "duration": 7,
    "start_time": "2022-07-23T08:38:50.386Z"
   },
   {
    "duration": 19,
    "start_time": "2022-07-23T08:38:51.713Z"
   },
   {
    "duration": 321,
    "start_time": "2022-07-23T08:38:52.691Z"
   },
   {
    "duration": 333,
    "start_time": "2022-07-23T08:39:04.166Z"
   },
   {
    "duration": 302,
    "start_time": "2022-07-23T08:39:04.504Z"
   },
   {
    "duration": 275,
    "start_time": "2022-07-23T08:39:16.164Z"
   },
   {
    "duration": 6,
    "start_time": "2022-07-23T08:39:25.384Z"
   },
   {
    "duration": 176,
    "start_time": "2022-07-23T08:39:29.465Z"
   },
   {
    "duration": 6,
    "start_time": "2022-07-23T08:39:30.167Z"
   },
   {
    "duration": 219,
    "start_time": "2022-07-23T08:39:32.392Z"
   },
   {
    "duration": 5,
    "start_time": "2022-07-23T08:39:34.364Z"
   },
   {
    "duration": 159,
    "start_time": "2022-07-23T08:39:38.352Z"
   },
   {
    "duration": 4,
    "start_time": "2022-07-23T08:39:41.565Z"
   },
   {
    "duration": 183,
    "start_time": "2022-07-23T08:39:43.891Z"
   },
   {
    "duration": 6,
    "start_time": "2022-07-23T08:39:45.759Z"
   },
   {
    "duration": 201,
    "start_time": "2022-07-23T08:39:46.491Z"
   },
   {
    "duration": 6,
    "start_time": "2022-07-23T08:39:49.385Z"
   },
   {
    "duration": 14,
    "start_time": "2022-07-23T08:39:59.000Z"
   },
   {
    "duration": 14,
    "start_time": "2022-07-23T08:40:41.000Z"
   },
   {
    "duration": 14,
    "start_time": "2022-07-23T08:40:43.878Z"
   },
   {
    "duration": 14,
    "start_time": "2022-07-23T08:40:45.544Z"
   },
   {
    "duration": 15,
    "start_time": "2022-07-23T08:40:47.678Z"
   },
   {
    "duration": 14,
    "start_time": "2022-07-23T08:40:48.644Z"
   },
   {
    "duration": 18,
    "start_time": "2022-07-23T08:40:49.707Z"
   },
   {
    "duration": 317,
    "start_time": "2022-07-23T08:40:53.152Z"
   },
   {
    "duration": 3,
    "start_time": "2022-07-23T08:48:34.742Z"
   },
   {
    "duration": 70,
    "start_time": "2022-07-23T08:48:35.084Z"
   },
   {
    "duration": 14,
    "start_time": "2022-07-23T08:48:36.006Z"
   },
   {
    "duration": 12,
    "start_time": "2022-07-23T08:48:36.390Z"
   },
   {
    "duration": 14,
    "start_time": "2022-07-23T08:48:36.774Z"
   },
   {
    "duration": 3,
    "start_time": "2022-07-23T08:48:38.005Z"
   },
   {
    "duration": 5,
    "start_time": "2022-07-23T08:48:40.609Z"
   },
   {
    "duration": 5,
    "start_time": "2022-07-23T08:48:42.862Z"
   },
   {
    "duration": 5,
    "start_time": "2022-07-23T08:48:43.946Z"
   },
   {
    "duration": 6,
    "start_time": "2022-07-23T08:48:44.583Z"
   },
   {
    "duration": 85,
    "start_time": "2022-07-23T08:48:49.715Z"
   },
   {
    "duration": 5,
    "start_time": "2022-07-23T08:49:18.124Z"
   },
   {
    "duration": 6,
    "start_time": "2022-07-23T08:51:54.679Z"
   },
   {
    "duration": 5,
    "start_time": "2022-07-23T08:51:56.949Z"
   },
   {
    "duration": 18,
    "start_time": "2022-07-23T08:51:59.149Z"
   },
   {
    "duration": 367,
    "start_time": "2022-07-23T08:51:59.750Z"
   },
   {
    "duration": 7,
    "start_time": "2022-07-23T08:52:00.864Z"
   },
   {
    "duration": 14,
    "start_time": "2022-07-23T08:52:02.260Z"
   },
   {
    "duration": 305,
    "start_time": "2022-07-23T08:52:02.645Z"
   },
   {
    "duration": 308,
    "start_time": "2022-07-23T08:52:04.250Z"
   },
   {
    "duration": 386,
    "start_time": "2022-07-23T08:52:04.560Z"
   },
   {
    "duration": 195,
    "start_time": "2022-07-23T08:52:05.872Z"
   },
   {
    "duration": 5,
    "start_time": "2022-07-23T08:52:06.906Z"
   },
   {
    "duration": 187,
    "start_time": "2022-07-23T08:52:07.670Z"
   },
   {
    "duration": 6,
    "start_time": "2022-07-23T08:52:08.049Z"
   },
   {
    "duration": 182,
    "start_time": "2022-07-23T08:52:08.784Z"
   },
   {
    "duration": 5,
    "start_time": "2022-07-23T08:52:09.189Z"
   },
   {
    "duration": 171,
    "start_time": "2022-07-23T08:52:09.746Z"
   },
   {
    "duration": 6,
    "start_time": "2022-07-23T08:52:10.146Z"
   },
   {
    "duration": 180,
    "start_time": "2022-07-23T08:52:11.148Z"
   },
   {
    "duration": 5,
    "start_time": "2022-07-23T08:52:11.546Z"
   },
   {
    "duration": 192,
    "start_time": "2022-07-23T08:52:12.546Z"
   },
   {
    "duration": 5,
    "start_time": "2022-07-23T08:52:12.913Z"
   },
   {
    "duration": 14,
    "start_time": "2022-07-23T08:52:15.007Z"
   },
   {
    "duration": 16,
    "start_time": "2022-07-23T08:52:16.760Z"
   },
   {
    "duration": 18,
    "start_time": "2022-07-23T08:52:17.661Z"
   },
   {
    "duration": 14,
    "start_time": "2022-07-23T08:52:18.044Z"
   },
   {
    "duration": 15,
    "start_time": "2022-07-23T08:52:19.472Z"
   },
   {
    "duration": 14,
    "start_time": "2022-07-23T08:52:20.463Z"
   },
   {
    "duration": 16,
    "start_time": "2022-07-23T08:52:21.354Z"
   },
   {
    "duration": 225,
    "start_time": "2022-07-23T08:52:24.152Z"
   },
   {
    "duration": 227,
    "start_time": "2022-07-23T08:52:29.462Z"
   },
   {
    "duration": 253,
    "start_time": "2022-07-23T08:52:30.546Z"
   },
   {
    "duration": 8,
    "start_time": "2022-07-23T08:58:24.705Z"
   },
   {
    "duration": 9,
    "start_time": "2022-07-23T08:58:33.504Z"
   },
   {
    "duration": 9,
    "start_time": "2022-07-23T08:58:34.495Z"
   },
   {
    "duration": 55,
    "start_time": "2022-07-23T09:01:38.447Z"
   },
   {
    "duration": 1298,
    "start_time": "2022-07-23T16:17:27.938Z"
   },
   {
    "duration": 118,
    "start_time": "2022-07-23T16:17:29.238Z"
   },
   {
    "duration": 13,
    "start_time": "2022-07-23T16:17:29.358Z"
   },
   {
    "duration": 9,
    "start_time": "2022-07-23T16:17:29.373Z"
   },
   {
    "duration": 18,
    "start_time": "2022-07-23T16:17:29.384Z"
   },
   {
    "duration": 3,
    "start_time": "2022-07-23T16:17:29.403Z"
   },
   {
    "duration": 18,
    "start_time": "2022-07-23T16:17:29.408Z"
   },
   {
    "duration": 7,
    "start_time": "2022-07-23T16:17:29.428Z"
   },
   {
    "duration": 7,
    "start_time": "2022-07-23T16:17:29.438Z"
   },
   {
    "duration": 11,
    "start_time": "2022-07-23T16:17:29.446Z"
   },
   {
    "duration": 5,
    "start_time": "2022-07-23T16:17:29.459Z"
   },
   {
    "duration": 8,
    "start_time": "2022-07-23T16:17:29.466Z"
   },
   {
    "duration": 17,
    "start_time": "2022-07-23T16:17:29.475Z"
   },
   {
    "duration": 340,
    "start_time": "2022-07-23T16:17:29.524Z"
   },
   {
    "duration": 7,
    "start_time": "2022-07-23T16:17:29.866Z"
   },
   {
    "duration": 17,
    "start_time": "2022-07-23T16:17:29.874Z"
   },
   {
    "duration": 361,
    "start_time": "2022-07-23T16:17:29.892Z"
   },
   {
    "duration": 299,
    "start_time": "2022-07-23T16:17:30.255Z"
   },
   {
    "duration": 291,
    "start_time": "2022-07-23T16:17:30.556Z"
   },
   {
    "duration": 210,
    "start_time": "2022-07-23T16:17:30.849Z"
   },
   {
    "duration": 5,
    "start_time": "2022-07-23T16:17:31.061Z"
   },
   {
    "duration": 266,
    "start_time": "2022-07-23T16:17:31.068Z"
   },
   {
    "duration": 5,
    "start_time": "2022-07-23T16:17:31.336Z"
   },
   {
    "duration": 309,
    "start_time": "2022-07-23T16:17:31.343Z"
   },
   {
    "duration": 5,
    "start_time": "2022-07-23T16:17:31.654Z"
   },
   {
    "duration": 181,
    "start_time": "2022-07-23T16:17:31.660Z"
   },
   {
    "duration": 6,
    "start_time": "2022-07-23T16:17:31.843Z"
   },
   {
    "duration": 200,
    "start_time": "2022-07-23T16:17:31.850Z"
   },
   {
    "duration": 5,
    "start_time": "2022-07-23T16:17:32.052Z"
   },
   {
    "duration": 212,
    "start_time": "2022-07-23T16:17:32.059Z"
   },
   {
    "duration": 5,
    "start_time": "2022-07-23T16:17:32.273Z"
   },
   {
    "duration": 26,
    "start_time": "2022-07-23T16:17:32.280Z"
   },
   {
    "duration": 35,
    "start_time": "2022-07-23T16:17:32.308Z"
   },
   {
    "duration": 19,
    "start_time": "2022-07-23T16:17:32.345Z"
   },
   {
    "duration": 29,
    "start_time": "2022-07-23T16:17:32.366Z"
   },
   {
    "duration": 28,
    "start_time": "2022-07-23T16:17:32.397Z"
   },
   {
    "duration": 25,
    "start_time": "2022-07-23T16:17:32.427Z"
   },
   {
    "duration": 24,
    "start_time": "2022-07-23T16:17:32.454Z"
   },
   {
    "duration": 295,
    "start_time": "2022-07-23T16:17:32.479Z"
   },
   {
    "duration": 265,
    "start_time": "2022-07-23T16:17:32.776Z"
   },
   {
    "duration": 247,
    "start_time": "2022-07-23T16:17:33.044Z"
   },
   {
    "duration": 7,
    "start_time": "2022-07-23T16:17:33.293Z"
   },
   {
    "duration": 11,
    "start_time": "2022-07-23T16:17:33.301Z"
   }
  ],
  "kernelspec": {
   "display_name": "Python 3 (ipykernel)",
   "language": "python",
   "name": "python3"
  },
  "language_info": {
   "codemirror_mode": {
    "name": "ipython",
    "version": 3
   },
   "file_extension": ".py",
   "mimetype": "text/x-python",
   "name": "python",
   "nbconvert_exporter": "python",
   "pygments_lexer": "ipython3",
   "version": "3.9.12"
  },
  "toc": {
   "base_numbering": 1,
   "nav_menu": {},
   "number_sections": true,
   "sideBar": true,
   "skip_h1_title": true,
   "title_cell": "Table of Contents",
   "title_sidebar": "Contents",
   "toc_cell": false,
   "toc_position": {},
   "toc_section_display": true,
   "toc_window_display": true
  }
 },
 "nbformat": 4,
 "nbformat_minor": 2
}
