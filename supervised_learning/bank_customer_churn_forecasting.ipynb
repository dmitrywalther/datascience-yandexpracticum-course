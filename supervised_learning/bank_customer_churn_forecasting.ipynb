{
 "cells": [
  {
   "cell_type": "markdown",
   "metadata": {
    "toc": true
   },
   "source": [
    "<h1>Содержание<span class=\"tocSkip\"></span></h1>\n",
    "<div class=\"toc\"><ul class=\"toc-item\"><li><span><a href=\"#Подготовка-данных\" data-toc-modified-id=\"Подготовка-данных-1\"><span class=\"toc-item-num\">1&nbsp;&nbsp;</span>Подготовка данных</a></span></li><li><span><a href=\"#Исследование-задачи\" data-toc-modified-id=\"Исследование-задачи-2\"><span class=\"toc-item-num\">2&nbsp;&nbsp;</span>Исследование задачи</a></span><ul class=\"toc-item\"><li><span><a href=\"#Выделение-выборок\" data-toc-modified-id=\"Выделение-выборок-2.1\"><span class=\"toc-item-num\">2.1&nbsp;&nbsp;</span>Выделение выборок</a></span></li><li><span><a href=\"#Обучение-моделей-без-учёта-дисбаланса-классов\" data-toc-modified-id=\"Обучение-моделей-без-учёта-дисбаланса-классов-2.2\"><span class=\"toc-item-num\">2.2&nbsp;&nbsp;</span>Обучение моделей без учёта дисбаланса классов</a></span></li></ul></li><li><span><a href=\"#Борьба-с-дисбалансом\" data-toc-modified-id=\"Борьба-с-дисбалансом-3\"><span class=\"toc-item-num\">3&nbsp;&nbsp;</span>Борьба с дисбалансом</a></span><ul class=\"toc-item\"><li><span><a href=\"#Взвешивание-классов\" data-toc-modified-id=\"Взвешивание-классов-3.1\"><span class=\"toc-item-num\">3.1&nbsp;&nbsp;</span>Взвешивание классов</a></span></li><li><span><a href=\"#Увеличение-выборки\" data-toc-modified-id=\"Увеличение-выборки-3.2\"><span class=\"toc-item-num\">3.2&nbsp;&nbsp;</span>Увеличение выборки</a></span></li><li><span><a href=\"#Уменьшение-выборки\" data-toc-modified-id=\"Уменьшение-выборки-3.3\"><span class=\"toc-item-num\">3.3&nbsp;&nbsp;</span>Уменьшение выборки</a></span></li></ul></li><li><span><a href=\"#Тестирование-модели\" data-toc-modified-id=\"Тестирование-модели-4\"><span class=\"toc-item-num\">4&nbsp;&nbsp;</span>Тестирование модели</a></span></li><li><span><a href=\"#Общие-выводы\" data-toc-modified-id=\"Общие-выводы-5\"><span class=\"toc-item-num\">5&nbsp;&nbsp;</span>Общие выводы</a></span></li><li><span><a href=\"#Чек-лист-готовности-проекта\" data-toc-modified-id=\"Чек-лист-готовности-проекта-6\"><span class=\"toc-item-num\">6&nbsp;&nbsp;</span>Чек-лист готовности проекта</a></span></li></ul></div>"
   ]
  },
  {
   "cell_type": "markdown",
   "metadata": {},
   "source": [
    "# Отток клиентов"
   ]
  },
  {
   "cell_type": "markdown",
   "metadata": {},
   "source": [
    "Из «Бета-Банка» стали уходить клиенты. Каждый месяц. Немного, но заметно. Банковские маркетологи посчитали: сохранять текущих клиентов дешевле, чем привлекать новых.\n",
    "\n",
    "Нужно спрогнозировать, уйдёт клиент из банка в ближайшее время или нет. Вам предоставлены исторические данные о поведении клиентов и расторжении договоров с банком. \n",
    "\n",
    "Постройте модель с предельно большим значением *F1*-меры. Чтобы сдать проект успешно, нужно довести метрику до 0.59. Проверьте *F1*-меру на тестовой выборке самостоятельно.\n",
    "\n",
    "Дополнительно измеряйте *AUC-ROC*, сравнивайте её значение с *F1*-мерой.\n",
    "\n",
    "Источник данных: [https://www.kaggle.com/barelydedicated/bank-customer-churn-modeling](https://www.kaggle.com/barelydedicated/bank-customer-churn-modeling)\n",
    "\n",
    "**Цель исследования** - построить модель с максимально большим значением *F1*-меры.\n",
    "\n",
    "**Задачи исследования**:\n",
    "1. Изучить и подготовить данные;\n",
    "2. Исследовать качество разных моделей, меняя гиперпараметры, без учёта дисбаланса классов;\n",
    "3. Уменьшить влияние дисбаланса классов;\n",
    "4. Проверить модель на качество и вменяемость на тестовой выборке.\n",
    "\n",
    "**Ход исследования**\n",
    "\n",
    "В первую очередь необходимо изучить и подготовить данные. На втором этапе подготовленные данные разделить на обучающую, валидационную и тестовую выборки, после чего приступить к исследованию разных моделей. Определив наилучшую модель, необходимо увеличить её качество с учётом имеющегося в данных дисбаланса классов. Определившись с итоговой моделью, необходимо проверить её на качество и адекватность."
   ]
  },
  {
   "cell_type": "markdown",
   "metadata": {},
   "source": [
    "## Подготовка данных"
   ]
  },
  {
   "cell_type": "markdown",
   "metadata": {},
   "source": [
    "Подключаемые все необходимые для выполнения исследования библиотеки:"
   ]
  },
  {
   "cell_type": "code",
   "execution_count": 66,
   "metadata": {},
   "outputs": [],
   "source": [
    "import pandas as pd # работа с табличными данными\n",
    "from sklearn.model_selection import train_test_split # выделение выборок\n",
    "from sklearn.utils import shuffle # перемешивание данных \n",
    "from sklearn.tree import DecisionTreeClassifier, plot_tree # модель решающее дерево\n",
    "from sklearn.ensemble import RandomForestClassifier # модель случайный лес\n",
    "from sklearn.linear_model import LogisticRegression # Модель логистической регресии\n",
    "from sklearn.metrics import f1_score # F1-мера для оценки качества классификации\n",
    "from sklearn.metrics import roc_curve # ROC-кривая\n",
    "from sklearn.metrics import roc_auc_score # AUC-ROC\n",
    "import matplotlib.pyplot as plt # графики\n",
    "import numpy as np # инициализация random_state для всех расчётов"
   ]
  },
  {
   "cell_type": "markdown",
   "metadata": {},
   "source": [
    "Открываем файл с данными:"
   ]
  },
  {
   "cell_type": "code",
   "execution_count": 67,
   "metadata": {},
   "outputs": [
    {
     "data": {
      "text/html": [
       "<div>\n",
       "<style scoped>\n",
       "    .dataframe tbody tr th:only-of-type {\n",
       "        vertical-align: middle;\n",
       "    }\n",
       "\n",
       "    .dataframe tbody tr th {\n",
       "        vertical-align: top;\n",
       "    }\n",
       "\n",
       "    .dataframe thead th {\n",
       "        text-align: right;\n",
       "    }\n",
       "</style>\n",
       "<table border=\"1\" class=\"dataframe\">\n",
       "  <thead>\n",
       "    <tr style=\"text-align: right;\">\n",
       "      <th></th>\n",
       "      <th>RowNumber</th>\n",
       "      <th>CustomerId</th>\n",
       "      <th>Surname</th>\n",
       "      <th>CreditScore</th>\n",
       "      <th>Geography</th>\n",
       "      <th>Gender</th>\n",
       "      <th>Age</th>\n",
       "      <th>Tenure</th>\n",
       "      <th>Balance</th>\n",
       "      <th>NumOfProducts</th>\n",
       "      <th>HasCrCard</th>\n",
       "      <th>IsActiveMember</th>\n",
       "      <th>EstimatedSalary</th>\n",
       "      <th>Exited</th>\n",
       "    </tr>\n",
       "  </thead>\n",
       "  <tbody>\n",
       "    <tr>\n",
       "      <th>0</th>\n",
       "      <td>1</td>\n",
       "      <td>15634602</td>\n",
       "      <td>Hargrave</td>\n",
       "      <td>619</td>\n",
       "      <td>France</td>\n",
       "      <td>Female</td>\n",
       "      <td>42</td>\n",
       "      <td>2.0</td>\n",
       "      <td>0.00</td>\n",
       "      <td>1</td>\n",
       "      <td>1</td>\n",
       "      <td>1</td>\n",
       "      <td>101348.88</td>\n",
       "      <td>1</td>\n",
       "    </tr>\n",
       "    <tr>\n",
       "      <th>1</th>\n",
       "      <td>2</td>\n",
       "      <td>15647311</td>\n",
       "      <td>Hill</td>\n",
       "      <td>608</td>\n",
       "      <td>Spain</td>\n",
       "      <td>Female</td>\n",
       "      <td>41</td>\n",
       "      <td>1.0</td>\n",
       "      <td>83807.86</td>\n",
       "      <td>1</td>\n",
       "      <td>0</td>\n",
       "      <td>1</td>\n",
       "      <td>112542.58</td>\n",
       "      <td>0</td>\n",
       "    </tr>\n",
       "    <tr>\n",
       "      <th>2</th>\n",
       "      <td>3</td>\n",
       "      <td>15619304</td>\n",
       "      <td>Onio</td>\n",
       "      <td>502</td>\n",
       "      <td>France</td>\n",
       "      <td>Female</td>\n",
       "      <td>42</td>\n",
       "      <td>8.0</td>\n",
       "      <td>159660.80</td>\n",
       "      <td>3</td>\n",
       "      <td>1</td>\n",
       "      <td>0</td>\n",
       "      <td>113931.57</td>\n",
       "      <td>1</td>\n",
       "    </tr>\n",
       "    <tr>\n",
       "      <th>3</th>\n",
       "      <td>4</td>\n",
       "      <td>15701354</td>\n",
       "      <td>Boni</td>\n",
       "      <td>699</td>\n",
       "      <td>France</td>\n",
       "      <td>Female</td>\n",
       "      <td>39</td>\n",
       "      <td>1.0</td>\n",
       "      <td>0.00</td>\n",
       "      <td>2</td>\n",
       "      <td>0</td>\n",
       "      <td>0</td>\n",
       "      <td>93826.63</td>\n",
       "      <td>0</td>\n",
       "    </tr>\n",
       "    <tr>\n",
       "      <th>4</th>\n",
       "      <td>5</td>\n",
       "      <td>15737888</td>\n",
       "      <td>Mitchell</td>\n",
       "      <td>850</td>\n",
       "      <td>Spain</td>\n",
       "      <td>Female</td>\n",
       "      <td>43</td>\n",
       "      <td>2.0</td>\n",
       "      <td>125510.82</td>\n",
       "      <td>1</td>\n",
       "      <td>1</td>\n",
       "      <td>1</td>\n",
       "      <td>79084.10</td>\n",
       "      <td>0</td>\n",
       "    </tr>\n",
       "    <tr>\n",
       "      <th>...</th>\n",
       "      <td>...</td>\n",
       "      <td>...</td>\n",
       "      <td>...</td>\n",
       "      <td>...</td>\n",
       "      <td>...</td>\n",
       "      <td>...</td>\n",
       "      <td>...</td>\n",
       "      <td>...</td>\n",
       "      <td>...</td>\n",
       "      <td>...</td>\n",
       "      <td>...</td>\n",
       "      <td>...</td>\n",
       "      <td>...</td>\n",
       "      <td>...</td>\n",
       "    </tr>\n",
       "    <tr>\n",
       "      <th>9995</th>\n",
       "      <td>9996</td>\n",
       "      <td>15606229</td>\n",
       "      <td>Obijiaku</td>\n",
       "      <td>771</td>\n",
       "      <td>France</td>\n",
       "      <td>Male</td>\n",
       "      <td>39</td>\n",
       "      <td>5.0</td>\n",
       "      <td>0.00</td>\n",
       "      <td>2</td>\n",
       "      <td>1</td>\n",
       "      <td>0</td>\n",
       "      <td>96270.64</td>\n",
       "      <td>0</td>\n",
       "    </tr>\n",
       "    <tr>\n",
       "      <th>9996</th>\n",
       "      <td>9997</td>\n",
       "      <td>15569892</td>\n",
       "      <td>Johnstone</td>\n",
       "      <td>516</td>\n",
       "      <td>France</td>\n",
       "      <td>Male</td>\n",
       "      <td>35</td>\n",
       "      <td>10.0</td>\n",
       "      <td>57369.61</td>\n",
       "      <td>1</td>\n",
       "      <td>1</td>\n",
       "      <td>1</td>\n",
       "      <td>101699.77</td>\n",
       "      <td>0</td>\n",
       "    </tr>\n",
       "    <tr>\n",
       "      <th>9997</th>\n",
       "      <td>9998</td>\n",
       "      <td>15584532</td>\n",
       "      <td>Liu</td>\n",
       "      <td>709</td>\n",
       "      <td>France</td>\n",
       "      <td>Female</td>\n",
       "      <td>36</td>\n",
       "      <td>7.0</td>\n",
       "      <td>0.00</td>\n",
       "      <td>1</td>\n",
       "      <td>0</td>\n",
       "      <td>1</td>\n",
       "      <td>42085.58</td>\n",
       "      <td>1</td>\n",
       "    </tr>\n",
       "    <tr>\n",
       "      <th>9998</th>\n",
       "      <td>9999</td>\n",
       "      <td>15682355</td>\n",
       "      <td>Sabbatini</td>\n",
       "      <td>772</td>\n",
       "      <td>Germany</td>\n",
       "      <td>Male</td>\n",
       "      <td>42</td>\n",
       "      <td>3.0</td>\n",
       "      <td>75075.31</td>\n",
       "      <td>2</td>\n",
       "      <td>1</td>\n",
       "      <td>0</td>\n",
       "      <td>92888.52</td>\n",
       "      <td>1</td>\n",
       "    </tr>\n",
       "    <tr>\n",
       "      <th>9999</th>\n",
       "      <td>10000</td>\n",
       "      <td>15628319</td>\n",
       "      <td>Walker</td>\n",
       "      <td>792</td>\n",
       "      <td>France</td>\n",
       "      <td>Female</td>\n",
       "      <td>28</td>\n",
       "      <td>NaN</td>\n",
       "      <td>130142.79</td>\n",
       "      <td>1</td>\n",
       "      <td>1</td>\n",
       "      <td>0</td>\n",
       "      <td>38190.78</td>\n",
       "      <td>0</td>\n",
       "    </tr>\n",
       "  </tbody>\n",
       "</table>\n",
       "<p>10000 rows × 14 columns</p>\n",
       "</div>"
      ],
      "text/plain": [
       "      RowNumber  CustomerId    Surname  CreditScore Geography  Gender  Age  \\\n",
       "0             1    15634602   Hargrave          619    France  Female   42   \n",
       "1             2    15647311       Hill          608     Spain  Female   41   \n",
       "2             3    15619304       Onio          502    France  Female   42   \n",
       "3             4    15701354       Boni          699    France  Female   39   \n",
       "4             5    15737888   Mitchell          850     Spain  Female   43   \n",
       "...         ...         ...        ...          ...       ...     ...  ...   \n",
       "9995       9996    15606229   Obijiaku          771    France    Male   39   \n",
       "9996       9997    15569892  Johnstone          516    France    Male   35   \n",
       "9997       9998    15584532        Liu          709    France  Female   36   \n",
       "9998       9999    15682355  Sabbatini          772   Germany    Male   42   \n",
       "9999      10000    15628319     Walker          792    France  Female   28   \n",
       "\n",
       "      Tenure    Balance  NumOfProducts  HasCrCard  IsActiveMember  \\\n",
       "0        2.0       0.00              1          1               1   \n",
       "1        1.0   83807.86              1          0               1   \n",
       "2        8.0  159660.80              3          1               0   \n",
       "3        1.0       0.00              2          0               0   \n",
       "4        2.0  125510.82              1          1               1   \n",
       "...      ...        ...            ...        ...             ...   \n",
       "9995     5.0       0.00              2          1               0   \n",
       "9996    10.0   57369.61              1          1               1   \n",
       "9997     7.0       0.00              1          0               1   \n",
       "9998     3.0   75075.31              2          1               0   \n",
       "9999     NaN  130142.79              1          1               0   \n",
       "\n",
       "      EstimatedSalary  Exited  \n",
       "0           101348.88       1  \n",
       "1           112542.58       0  \n",
       "2           113931.57       1  \n",
       "3            93826.63       0  \n",
       "4            79084.10       0  \n",
       "...               ...     ...  \n",
       "9995         96270.64       0  \n",
       "9996        101699.77       0  \n",
       "9997         42085.58       1  \n",
       "9998         92888.52       1  \n",
       "9999         38190.78       0  \n",
       "\n",
       "[10000 rows x 14 columns]"
      ]
     },
     "execution_count": 67,
     "metadata": {},
     "output_type": "execute_result"
    }
   ],
   "source": [
    "data = pd.read_csv('/datasets/Churn.csv')\n",
    "data"
   ]
  },
  {
   "cell_type": "markdown",
   "metadata": {},
   "source": [
    "Выводим общую информацию:"
   ]
  },
  {
   "cell_type": "code",
   "execution_count": 68,
   "metadata": {},
   "outputs": [
    {
     "name": "stdout",
     "output_type": "stream",
     "text": [
      "<class 'pandas.core.frame.DataFrame'>\n",
      "RangeIndex: 10000 entries, 0 to 9999\n",
      "Data columns (total 14 columns):\n",
      " #   Column           Non-Null Count  Dtype  \n",
      "---  ------           --------------  -----  \n",
      " 0   RowNumber        10000 non-null  int64  \n",
      " 1   CustomerId       10000 non-null  int64  \n",
      " 2   Surname          10000 non-null  object \n",
      " 3   CreditScore      10000 non-null  int64  \n",
      " 4   Geography        10000 non-null  object \n",
      " 5   Gender           10000 non-null  object \n",
      " 6   Age              10000 non-null  int64  \n",
      " 7   Tenure           9091 non-null   float64\n",
      " 8   Balance          10000 non-null  float64\n",
      " 9   NumOfProducts    10000 non-null  int64  \n",
      " 10  HasCrCard        10000 non-null  int64  \n",
      " 11  IsActiveMember   10000 non-null  int64  \n",
      " 12  EstimatedSalary  10000 non-null  float64\n",
      " 13  Exited           10000 non-null  int64  \n",
      "dtypes: float64(3), int64(8), object(3)\n",
      "memory usage: 1.1+ MB\n"
     ]
    }
   ],
   "source": [
    "data.info()"
   ]
  },
  {
   "cell_type": "markdown",
   "metadata": {},
   "source": [
    "Определяем, в каких столбцах есть пропуски:"
   ]
  },
  {
   "cell_type": "code",
   "execution_count": 69,
   "metadata": {},
   "outputs": [
    {
     "data": {
      "text/plain": [
       "RowNumber            0\n",
       "CustomerId           0\n",
       "Surname              0\n",
       "CreditScore          0\n",
       "Geography            0\n",
       "Gender               0\n",
       "Age                  0\n",
       "Tenure             909\n",
       "Balance              0\n",
       "NumOfProducts        0\n",
       "HasCrCard            0\n",
       "IsActiveMember       0\n",
       "EstimatedSalary      0\n",
       "Exited               0\n",
       "dtype: int64"
      ]
     },
     "execution_count": 69,
     "metadata": {},
     "output_type": "execute_result"
    }
   ],
   "source": [
    "data.isna().sum()"
   ]
  },
  {
   "cell_type": "markdown",
   "metadata": {},
   "source": [
    "Избавляемся от пропусков:"
   ]
  },
  {
   "cell_type": "code",
   "execution_count": 71,
   "metadata": {},
   "outputs": [],
   "source": [
    "data = data.dropna(subset=['Tenure'])"
   ]
  },
  {
   "cell_type": "markdown",
   "metadata": {},
   "source": [
    "<div class=\"alert alert-info\"> <b>Комментарии студента:</b> Исходных данных недостаточно, чтобы заполнить этот столбец (заполнять медианным значением по каким-то группам нелогично). Заполнял нулями (ставил «заглушку») - качество итоговой модели было хуже. Оставил вариант с удалением (сократилось 9 % от всего объёма). </div>"
   ]
  },
  {
   "cell_type": "markdown",
   "metadata": {},
   "source": [
    "Проверяем, что пропусков не осталось:"
   ]
  },
  {
   "cell_type": "code",
   "execution_count": 72,
   "metadata": {},
   "outputs": [
    {
     "data": {
      "text/plain": [
       "RowNumber          0\n",
       "CustomerId         0\n",
       "Surname            0\n",
       "CreditScore        0\n",
       "Geography          0\n",
       "Gender             0\n",
       "Age                0\n",
       "Tenure             0\n",
       "Balance            0\n",
       "NumOfProducts      0\n",
       "HasCrCard          0\n",
       "IsActiveMember     0\n",
       "EstimatedSalary    0\n",
       "Exited             0\n",
       "dtype: int64"
      ]
     },
     "execution_count": 72,
     "metadata": {},
     "output_type": "execute_result"
    }
   ],
   "source": [
    "data.isna().sum()"
   ]
  },
  {
   "cell_type": "markdown",
   "metadata": {},
   "source": [
    "Проверяем на наличие явных дубликатов:"
   ]
  },
  {
   "cell_type": "code",
   "execution_count": 73,
   "metadata": {},
   "outputs": [
    {
     "data": {
      "text/plain": [
       "0"
      ]
     },
     "execution_count": 73,
     "metadata": {},
     "output_type": "execute_result"
    }
   ],
   "source": [
    "data.duplicated().sum()"
   ]
  },
  {
   "cell_type": "markdown",
   "metadata": {},
   "source": [
    "Проверяем данные на распределение целевого признака - сбалансированность классов:"
   ]
  },
  {
   "cell_type": "code",
   "execution_count": 74,
   "metadata": {},
   "outputs": [
    {
     "data": {
      "text/plain": [
       "0    0.796062\n",
       "1    0.203938\n",
       "Name: Exited, dtype: float64"
      ]
     },
     "execution_count": 74,
     "metadata": {},
     "output_type": "execute_result"
    }
   ],
   "source": [
    "data['Exited'].value_counts(normalize=True)"
   ]
  },
  {
   "cell_type": "markdown",
   "metadata": {},
   "source": [
    "Преобразуем категориальные признаки Gender и Geography в численные с помощью техники прямого кодирования, или отображения (англ. One-Hot Encoding, OHE). При этом поле Surname исключаем из расчётов (фильтрация ненужных признаков):"
   ]
  },
  {
   "cell_type": "code",
   "execution_count": 75,
   "metadata": {},
   "outputs": [],
   "source": [
    "data_ohe = pd.get_dummies(data.drop('Surname', axis = 1), drop_first=True)"
   ]
  },
  {
   "cell_type": "markdown",
   "metadata": {},
   "source": [
    "Проверяем результат преобразования:"
   ]
  },
  {
   "cell_type": "code",
   "execution_count": 76,
   "metadata": {},
   "outputs": [
    {
     "data": {
      "text/html": [
       "<div>\n",
       "<style scoped>\n",
       "    .dataframe tbody tr th:only-of-type {\n",
       "        vertical-align: middle;\n",
       "    }\n",
       "\n",
       "    .dataframe tbody tr th {\n",
       "        vertical-align: top;\n",
       "    }\n",
       "\n",
       "    .dataframe thead th {\n",
       "        text-align: right;\n",
       "    }\n",
       "</style>\n",
       "<table border=\"1\" class=\"dataframe\">\n",
       "  <thead>\n",
       "    <tr style=\"text-align: right;\">\n",
       "      <th></th>\n",
       "      <th>RowNumber</th>\n",
       "      <th>CustomerId</th>\n",
       "      <th>CreditScore</th>\n",
       "      <th>Age</th>\n",
       "      <th>Tenure</th>\n",
       "      <th>Balance</th>\n",
       "      <th>NumOfProducts</th>\n",
       "      <th>HasCrCard</th>\n",
       "      <th>IsActiveMember</th>\n",
       "      <th>EstimatedSalary</th>\n",
       "      <th>Exited</th>\n",
       "      <th>Geography_Germany</th>\n",
       "      <th>Geography_Spain</th>\n",
       "      <th>Gender_Male</th>\n",
       "    </tr>\n",
       "  </thead>\n",
       "  <tbody>\n",
       "    <tr>\n",
       "      <th>0</th>\n",
       "      <td>1</td>\n",
       "      <td>15634602</td>\n",
       "      <td>619</td>\n",
       "      <td>42</td>\n",
       "      <td>2.0</td>\n",
       "      <td>0.00</td>\n",
       "      <td>1</td>\n",
       "      <td>1</td>\n",
       "      <td>1</td>\n",
       "      <td>101348.88</td>\n",
       "      <td>1</td>\n",
       "      <td>0</td>\n",
       "      <td>0</td>\n",
       "      <td>0</td>\n",
       "    </tr>\n",
       "    <tr>\n",
       "      <th>1</th>\n",
       "      <td>2</td>\n",
       "      <td>15647311</td>\n",
       "      <td>608</td>\n",
       "      <td>41</td>\n",
       "      <td>1.0</td>\n",
       "      <td>83807.86</td>\n",
       "      <td>1</td>\n",
       "      <td>0</td>\n",
       "      <td>1</td>\n",
       "      <td>112542.58</td>\n",
       "      <td>0</td>\n",
       "      <td>0</td>\n",
       "      <td>1</td>\n",
       "      <td>0</td>\n",
       "    </tr>\n",
       "    <tr>\n",
       "      <th>2</th>\n",
       "      <td>3</td>\n",
       "      <td>15619304</td>\n",
       "      <td>502</td>\n",
       "      <td>42</td>\n",
       "      <td>8.0</td>\n",
       "      <td>159660.80</td>\n",
       "      <td>3</td>\n",
       "      <td>1</td>\n",
       "      <td>0</td>\n",
       "      <td>113931.57</td>\n",
       "      <td>1</td>\n",
       "      <td>0</td>\n",
       "      <td>0</td>\n",
       "      <td>0</td>\n",
       "    </tr>\n",
       "    <tr>\n",
       "      <th>3</th>\n",
       "      <td>4</td>\n",
       "      <td>15701354</td>\n",
       "      <td>699</td>\n",
       "      <td>39</td>\n",
       "      <td>1.0</td>\n",
       "      <td>0.00</td>\n",
       "      <td>2</td>\n",
       "      <td>0</td>\n",
       "      <td>0</td>\n",
       "      <td>93826.63</td>\n",
       "      <td>0</td>\n",
       "      <td>0</td>\n",
       "      <td>0</td>\n",
       "      <td>0</td>\n",
       "    </tr>\n",
       "    <tr>\n",
       "      <th>4</th>\n",
       "      <td>5</td>\n",
       "      <td>15737888</td>\n",
       "      <td>850</td>\n",
       "      <td>43</td>\n",
       "      <td>2.0</td>\n",
       "      <td>125510.82</td>\n",
       "      <td>1</td>\n",
       "      <td>1</td>\n",
       "      <td>1</td>\n",
       "      <td>79084.10</td>\n",
       "      <td>0</td>\n",
       "      <td>0</td>\n",
       "      <td>1</td>\n",
       "      <td>0</td>\n",
       "    </tr>\n",
       "    <tr>\n",
       "      <th>...</th>\n",
       "      <td>...</td>\n",
       "      <td>...</td>\n",
       "      <td>...</td>\n",
       "      <td>...</td>\n",
       "      <td>...</td>\n",
       "      <td>...</td>\n",
       "      <td>...</td>\n",
       "      <td>...</td>\n",
       "      <td>...</td>\n",
       "      <td>...</td>\n",
       "      <td>...</td>\n",
       "      <td>...</td>\n",
       "      <td>...</td>\n",
       "      <td>...</td>\n",
       "    </tr>\n",
       "    <tr>\n",
       "      <th>9994</th>\n",
       "      <td>9995</td>\n",
       "      <td>15719294</td>\n",
       "      <td>800</td>\n",
       "      <td>29</td>\n",
       "      <td>2.0</td>\n",
       "      <td>0.00</td>\n",
       "      <td>2</td>\n",
       "      <td>0</td>\n",
       "      <td>0</td>\n",
       "      <td>167773.55</td>\n",
       "      <td>0</td>\n",
       "      <td>0</td>\n",
       "      <td>0</td>\n",
       "      <td>0</td>\n",
       "    </tr>\n",
       "    <tr>\n",
       "      <th>9995</th>\n",
       "      <td>9996</td>\n",
       "      <td>15606229</td>\n",
       "      <td>771</td>\n",
       "      <td>39</td>\n",
       "      <td>5.0</td>\n",
       "      <td>0.00</td>\n",
       "      <td>2</td>\n",
       "      <td>1</td>\n",
       "      <td>0</td>\n",
       "      <td>96270.64</td>\n",
       "      <td>0</td>\n",
       "      <td>0</td>\n",
       "      <td>0</td>\n",
       "      <td>1</td>\n",
       "    </tr>\n",
       "    <tr>\n",
       "      <th>9996</th>\n",
       "      <td>9997</td>\n",
       "      <td>15569892</td>\n",
       "      <td>516</td>\n",
       "      <td>35</td>\n",
       "      <td>10.0</td>\n",
       "      <td>57369.61</td>\n",
       "      <td>1</td>\n",
       "      <td>1</td>\n",
       "      <td>1</td>\n",
       "      <td>101699.77</td>\n",
       "      <td>0</td>\n",
       "      <td>0</td>\n",
       "      <td>0</td>\n",
       "      <td>1</td>\n",
       "    </tr>\n",
       "    <tr>\n",
       "      <th>9997</th>\n",
       "      <td>9998</td>\n",
       "      <td>15584532</td>\n",
       "      <td>709</td>\n",
       "      <td>36</td>\n",
       "      <td>7.0</td>\n",
       "      <td>0.00</td>\n",
       "      <td>1</td>\n",
       "      <td>0</td>\n",
       "      <td>1</td>\n",
       "      <td>42085.58</td>\n",
       "      <td>1</td>\n",
       "      <td>0</td>\n",
       "      <td>0</td>\n",
       "      <td>0</td>\n",
       "    </tr>\n",
       "    <tr>\n",
       "      <th>9998</th>\n",
       "      <td>9999</td>\n",
       "      <td>15682355</td>\n",
       "      <td>772</td>\n",
       "      <td>42</td>\n",
       "      <td>3.0</td>\n",
       "      <td>75075.31</td>\n",
       "      <td>2</td>\n",
       "      <td>1</td>\n",
       "      <td>0</td>\n",
       "      <td>92888.52</td>\n",
       "      <td>1</td>\n",
       "      <td>1</td>\n",
       "      <td>0</td>\n",
       "      <td>1</td>\n",
       "    </tr>\n",
       "  </tbody>\n",
       "</table>\n",
       "<p>9091 rows × 14 columns</p>\n",
       "</div>"
      ],
      "text/plain": [
       "      RowNumber  CustomerId  CreditScore  Age  Tenure    Balance  \\\n",
       "0             1    15634602          619   42     2.0       0.00   \n",
       "1             2    15647311          608   41     1.0   83807.86   \n",
       "2             3    15619304          502   42     8.0  159660.80   \n",
       "3             4    15701354          699   39     1.0       0.00   \n",
       "4             5    15737888          850   43     2.0  125510.82   \n",
       "...         ...         ...          ...  ...     ...        ...   \n",
       "9994       9995    15719294          800   29     2.0       0.00   \n",
       "9995       9996    15606229          771   39     5.0       0.00   \n",
       "9996       9997    15569892          516   35    10.0   57369.61   \n",
       "9997       9998    15584532          709   36     7.0       0.00   \n",
       "9998       9999    15682355          772   42     3.0   75075.31   \n",
       "\n",
       "      NumOfProducts  HasCrCard  IsActiveMember  EstimatedSalary  Exited  \\\n",
       "0                 1          1               1        101348.88       1   \n",
       "1                 1          0               1        112542.58       0   \n",
       "2                 3          1               0        113931.57       1   \n",
       "3                 2          0               0         93826.63       0   \n",
       "4                 1          1               1         79084.10       0   \n",
       "...             ...        ...             ...              ...     ...   \n",
       "9994              2          0               0        167773.55       0   \n",
       "9995              2          1               0         96270.64       0   \n",
       "9996              1          1               1        101699.77       0   \n",
       "9997              1          0               1         42085.58       1   \n",
       "9998              2          1               0         92888.52       1   \n",
       "\n",
       "      Geography_Germany  Geography_Spain  Gender_Male  \n",
       "0                     0                0            0  \n",
       "1                     0                1            0  \n",
       "2                     0                0            0  \n",
       "3                     0                0            0  \n",
       "4                     0                1            0  \n",
       "...                 ...              ...          ...  \n",
       "9994                  0                0            0  \n",
       "9995                  0                0            1  \n",
       "9996                  0                0            1  \n",
       "9997                  0                0            0  \n",
       "9998                  1                0            1  \n",
       "\n",
       "[9091 rows x 14 columns]"
      ]
     },
     "execution_count": 76,
     "metadata": {},
     "output_type": "execute_result"
    }
   ],
   "source": [
    "data_ohe"
   ]
  },
  {
   "cell_type": "markdown",
   "metadata": {},
   "source": [
    "**Выводы**\n",
    "\n",
    "В таблице 10 000 записей и 14 столбцов. Данных достаточно для построения моделей. \n",
    "Пропущенные значения есть только в столбце Tenure - сколько лет человек является клиентом банка, их 909. Поскольку их заполнить по имеющимися данным невозможно, от таких значений просто избавились. Явных дубликатов нет. Имеет место дисбаланс классов. В подготовку признаков входило преобразование категориальных признаков Gender и Geography в численные с помощью техники OHE. Приступаем к разделению исходных данных на обучающую, валидационную и тестовую выборки."
   ]
  },
  {
   "cell_type": "markdown",
   "metadata": {},
   "source": [
    "## Исследование задачи"
   ]
  },
  {
   "cell_type": "markdown",
   "metadata": {},
   "source": [
    "### Выделение выборок"
   ]
  },
  {
   "cell_type": "markdown",
   "metadata": {},
   "source": [
    "Задаём random_state для всех расчётов:"
   ]
  },
  {
   "cell_type": "code",
   "execution_count": 77,
   "metadata": {},
   "outputs": [],
   "source": [
    "state = np.random.RandomState(12345)"
   ]
  },
  {
   "cell_type": "markdown",
   "metadata": {},
   "source": [
    "Разбиваем данные на обучающую, валидационную и тестововую выборки:"
   ]
  },
  {
   "cell_type": "code",
   "execution_count": 78,
   "metadata": {},
   "outputs": [],
   "source": [
    "features = data_ohe.drop(['CustomerId', 'Exited', 'RowNumber'], axis=1)\n",
    "target = data_ohe['Exited'] \n",
    "\n",
    "features_train, features_valid, target_train, target_valid = train_test_split(features, target, stratify = target, \\\n",
    "                                                                              train_size=0.6, random_state=state)\n",
    "\n",
    "features_valid, features_test, target_valid, target_test = train_test_split(features_valid, target_valid, stratify = target_valid, \\\n",
    "                                                                            train_size=0.5, random_state=state)"
   ]
  },
  {
   "cell_type": "markdown",
   "metadata": {},
   "source": [
    "Проверяем размеры получившихся выборок:"
   ]
  },
  {
   "cell_type": "code",
   "execution_count": 79,
   "metadata": {},
   "outputs": [
    {
     "name": "stdout",
     "output_type": "stream",
     "text": [
      "Обучающая: 5454\n",
      "Валидационная: 1818\n",
      "Тестовая: 1819\n"
     ]
    }
   ],
   "source": [
    "print('Обучающая:', target_train.shape[0])\n",
    "print('Валидационная:', target_valid.shape[0])\n",
    "print('Тестовая:', target_test.shape[0])"
   ]
  },
  {
   "cell_type": "markdown",
   "metadata": {},
   "source": [
    "### Обучение моделей без учёта дисбаланса классов"
   ]
  },
  {
   "cell_type": "markdown",
   "metadata": {},
   "source": [
    "Решающее дерево:"
   ]
  },
  {
   "cell_type": "code",
   "execution_count": 80,
   "metadata": {},
   "outputs": [
    {
     "name": "stdout",
     "output_type": "stream",
     "text": [
      "F1 наилучшей модели решающего дерева на валидационной выборке: 0.5709342560553633 Максимальная глубина: 6\n"
     ]
    }
   ],
   "source": [
    "result_list = []\n",
    "depth_list = []\n",
    "best_model_dt = None\n",
    "best_result_dt = 0\n",
    "best_depth_dt = 0\n",
    "for depth in range(1,10):\n",
    "    model = DecisionTreeClassifier(random_state=state, max_depth=depth) # инициализируем модель DecisionTreeClassifier \n",
    "    model.fit(features_train, target_train) # обучаем модель на тренировочной выборке\n",
    "    predictions_valid = model.predict(features_valid) # получаем предсказания модели на валидационной выборке\n",
    "    result = f1_score(target_valid, predictions_valid) # посчитаем значение метрики accuracy на валидационной выборке\n",
    "    result_list.append(result)\n",
    "    depth_list.append(depth)\n",
    "    if result > best_result_dt:\n",
    "        best_model_dt = model\n",
    "        best_result_dt = result\n",
    "        best_depth_dt = depth\n",
    "\n",
    "print(\"F1 наилучшей модели решающего дерева на валидационной выборке:\", best_result_dt, \"Максимальная глубина:\", best_depth_dt)"
   ]
  },
  {
   "cell_type": "markdown",
   "metadata": {},
   "source": [
    "Строим график:"
   ]
  },
  {
   "cell_type": "code",
   "execution_count": 81,
   "metadata": {},
   "outputs": [
    {
     "data": {
      "image/png": "[encoded data removed]",
      "text/plain": [
       "<Figure size 1296x864 with 1 Axes>"
      ]
     },
     "metadata": {
      "needs_background": "light"
     },
     "output_type": "display_data"
    }
   ],
   "source": [
    "plt.figure(figsize=(18,12)) \n",
    "plot_tree(best_model_dt, fontsize=8)\n",
    "plt.show()"
   ]
  },
  {
   "cell_type": "markdown",
   "metadata": {},
   "source": [
    "Случайный лес:"
   ]
  },
  {
   "cell_type": "code",
   "execution_count": 82,
   "metadata": {},
   "outputs": [
    {
     "name": "stdout",
     "output_type": "stream",
     "text": [
      "F1 наилучшей модели случайного леса на валидационной выборке: 0.5870307167235495 Количество деревьев: 20 Максимальная глубина: 10\n",
      "CPU times: user 6.27 s, sys: 23.8 ms, total: 6.3 s\n",
      "Wall time: 6.3 s\n"
     ]
    }
   ],
   "source": [
    "%%time\n",
    "\n",
    "best_model_rf = None\n",
    "best_result_rf = 0\n",
    "best_est = 0\n",
    "best_depth_rf = 0\n",
    "for est in range(10, 51, 10):\n",
    "    for depth in range(1, 11):\n",
    "        model = RandomForestClassifier(random_state=state, n_estimators = est, max_depth=depth) # инициализируем модель RandomForestClassifier \n",
    "        model.fit(features_train, target_train) # обучаем модель на тренировочной выборке\n",
    "        predictions_valid = model.predict(features_valid) # получаем предсказания модели на валидационной выборке\n",
    "        result = f1_score(target_valid, predictions_valid) # посчитаем значение метрики accuracy на валидационной выборке\n",
    "        if result > best_result_rf:\n",
    "            best_model_rf = model\n",
    "            best_result_rf = result\n",
    "            best_est = est\n",
    "            best_depth_rf = depth\n",
    "\n",
    "print(\"F1 наилучшей модели случайного леса на валидационной выборке:\", best_result_rf, \"Количество деревьев:\", best_est, \"Максимальная глубина:\", best_depth_rf)"
   ]
  },
  {
   "cell_type": "code",
   "execution_count": 83,
   "metadata": {},
   "outputs": [
    {
     "name": "stdout",
     "output_type": "stream",
     "text": [
      "F1 логистической регрессии: 0.072992700729927\n"
     ]
    }
   ],
   "source": [
    "model_lr = LogisticRegression(random_state=state, solver='liblinear')\n",
    "model_lr.fit(features_train, target_train)\n",
    "predicted_valid = model_lr.predict(features_valid)\n",
    "print(\"F1 логистической регрессии:\", f1_score(target_valid, predicted_valid))"
   ]
  },
  {
   "cell_type": "markdown",
   "metadata": {},
   "source": [
    "**Выводы**\n",
    "\n",
    "Наилучший результат на валидационной выборке показала модель случайного леса с числом деревьев 20 и максимальной глубиной дерева 10 - F1-мера равна 0.59. Второй результат показала модель решающего дерева с максимальной глубиной дерева 6 - в этом случае метрика равна 0.57, при этом модель работает значительно быстрее. Третье место - у модели логистической регрессии с F1-мерой равной 0.1. На следующем этапе приступаем к борьбе с дисбалансом классов."
   ]
  },
  {
   "cell_type": "markdown",
   "metadata": {},
   "source": [
    "## Борьба с дисбалансом"
   ]
  },
  {
   "cell_type": "markdown",
   "metadata": {},
   "source": [
    "Пытамеся улучшить качество модели, учитывая дисбаланс классов. Используем 3 разных варианта - взвешивание классов, увеличение и уменьшение выборок. Используем наилучшую модель из предыдущего этапа - модель случайного леса с количеством деревьев 20 и максимальной глубиной 10."
   ]
  },
  {
   "cell_type": "markdown",
   "metadata": {},
   "source": [
    "### Взвешивание классов"
   ]
  },
  {
   "cell_type": "code",
   "execution_count": 84,
   "metadata": {},
   "outputs": [
    {
     "name": "stdout",
     "output_type": "stream",
     "text": [
      "F1 с учётом взвешивание классов 0.6096551724137931\n"
     ]
    }
   ],
   "source": [
    "model = RandomForestClassifier(random_state=state, n_estimators = 20, max_depth=10, class_weight = 'balanced') # инициализируем модель RandomForestClassifier \n",
    "model.fit(features_train, target_train) # обучаем модель на тренировочной выборке\n",
    "predictions_valid = model.predict(features_valid) # получаем предсказания модели на тестовой выборке\n",
    "result_cw = f1_score(target_valid, predictions_valid) # посчитаем значение метрики accuracy на тестовой выборке\n",
    "print(\"F1 с учётом взвешивание классов\", result_cw)    "
   ]
  },
  {
   "cell_type": "markdown",
   "metadata": {},
   "source": [
    "### Увеличение выборки"
   ]
  },
  {
   "cell_type": "code",
   "execution_count": 85,
   "metadata": {},
   "outputs": [
    {
     "name": "stdout",
     "output_type": "stream",
     "text": [
      "F1 с учётом увеличение выборки положительного класса 0.5394736842105263\n"
     ]
    }
   ],
   "source": [
    "def upsample(features, target, repeat):\n",
    "    features_zeros = features[target == 0]\n",
    "    features_ones = features[target == 1]\n",
    "    target_zeros = target[target == 0]\n",
    "    target_ones = target[target == 1]\n",
    "\n",
    "    features_upsampled = pd.concat([features_zeros] + [features_ones] * repeat)\n",
    "    target_upsampled = pd.concat([target_zeros] + [target_ones] * repeat)\n",
    "    \n",
    "    features_upsampled, target_upsampled = shuffle(\n",
    "        features_upsampled, target_upsampled, random_state=state)\n",
    "    \n",
    "    return features_upsampled, target_upsampled\n",
    "\n",
    "features_upsampled, target_upsampled = upsample(features_train, target_train, 10)\n",
    "\n",
    "model = RandomForestClassifier(random_state=state, n_estimators = 20, max_depth=10) # инициализируем модель RandomForestClassifier \n",
    "model.fit(features_upsampled, target_upsampled) # обучаем модель на тренировочной выборке\n",
    "predictions_valid = model.predict(features_valid) # получаем предсказания модели на тестовой выборке\n",
    "result_upsample = f1_score(target_valid, predictions_valid) # посчитаем значение метрики accuracy на тестовой выборке\n",
    "print(\"F1 с учётом увеличение выборки положительного класса\", result_upsample) "
   ]
  },
  {
   "cell_type": "markdown",
   "metadata": {},
   "source": [
    "### Уменьшение выборки"
   ]
  },
  {
   "cell_type": "code",
   "execution_count": 86,
   "metadata": {},
   "outputs": [
    {
     "name": "stdout",
     "output_type": "stream",
     "text": [
      "F1 с учётом уменьшение выборки отрицательного класса 0.4738675958188154\n"
     ]
    }
   ],
   "source": [
    "def downsample(features, target, fraction):\n",
    "    features_zeros = features[target == 0]\n",
    "    features_ones = features[target == 1]\n",
    "    target_zeros = target[target == 0]\n",
    "    target_ones = target[target == 1]\n",
    "\n",
    "    features_downsampled = pd.concat(\n",
    "        [features_zeros.sample(frac=fraction, random_state=state)] + [features_ones])\n",
    "    target_downsampled = pd.concat(\n",
    "        [target_zeros.sample(frac=fraction, random_state=state)] + [target_ones])\n",
    "    \n",
    "    features_downsampled, target_downsampled = shuffle(\n",
    "        features_downsampled, target_downsampled, random_state=state)\n",
    "    \n",
    "    return features_downsampled, target_downsampled\n",
    "\n",
    "features_downsampled, target_downsampled = downsample(features_train, target_train, 0.1)\n",
    "\n",
    "model = RandomForestClassifier(random_state=state, n_estimators = 20, max_depth=10) # инициализируем модель RandomForestClassifier \n",
    "model.fit(features_downsampled, target_downsampled) # обучаем модель на тренировочной выборке\n",
    "predictions_valid = model.predict(features_valid) # получаем предсказания модели на тестовой выборке\n",
    "result_downsample = f1_score(target_valid, predictions_valid) # посчитаем значение метрики accuracy на тестовой выборке\n",
    "print(\"F1 с учётом уменьшение выборки отрицательного класса\", result_downsample) "
   ]
  },
  {
   "cell_type": "markdown",
   "metadata": {},
   "source": [
    "**Выводы**\n",
    "\n",
    "Использование взвешивания классов при инициализации модели позволило увеличить F1-меру на валидационной выборке с 0.59 до 0.61. Другие техники эту меру уменьшили. Переходим к тестированию итоговой модели."
   ]
  },
  {
   "cell_type": "markdown",
   "metadata": {},
   "source": [
    "## Тестирование модели"
   ]
  },
  {
   "cell_type": "code",
   "execution_count": 87,
   "metadata": {},
   "outputs": [
    {
     "name": "stdout",
     "output_type": "stream",
     "text": [
      "F1 наилучшей модели RandomForestClassifier на тестовой выборке: 0.6021220159151193\n"
     ]
    }
   ],
   "source": [
    "model = RandomForestClassifier(random_state=state, n_estimators = 20, max_depth=10, class_weight = 'balanced') # инициализируем модель RandomForestClassifier \n",
    "model.fit(pd.concat([features_train, features_valid]), pd.concat([target_train, target_valid])) # обучаем модель на объединённом наборе данных\n",
    "predictions_test = model.predict(features_test) # получаем предсказания модели на тестовой выборке\n",
    "result = f1_score(target_test, predictions_test) # посчитаем значение метрики accuracy на тестовой выборке\n",
    "print(\"F1 наилучшей модели RandomForestClassifier на тестовой выборке:\", result) "
   ]
  },
  {
   "cell_type": "markdown",
   "metadata": {},
   "source": [
    "Строим ROC-кривую:"
   ]
  },
  {
   "cell_type": "code",
   "execution_count": 88,
   "metadata": {},
   "outputs": [
    {
     "data": {
      "image/png": "[encoded data removed]",
      "text/plain": [
       "<Figure size 432x288 with 1 Axes>"
      ]
     },
     "metadata": {
      "needs_background": "light"
     },
     "output_type": "display_data"
    }
   ],
   "source": [
    "probabilities_test = model.predict_proba(features_test)\n",
    "probabilities_one_test = probabilities_test[:, 1]\n",
    "\n",
    "fpr, tpr, thresholds = roc_curve(target_test, probabilities_one_test)\n",
    "\n",
    "plt.figure()\n",
    "\n",
    "plt.plot(fpr, tpr, linestyle='--')\n",
    "\n",
    "# ROC-кривая случайной модели (выглядит как прямая)\n",
    "plt.plot([0, 1], [0, 1], linestyle='--')\n",
    "\n",
    "plt.xlim([0, 1])\n",
    "plt.ylim([0, 1])\n",
    "\n",
    "plt.xlabel('False Positive Rate')\n",
    "plt.ylabel('True Positive Rate')\n",
    "\n",
    "plt.title('ROC-кривая')\n",
    "\n",
    "plt.grid()\n",
    "plt.show()"
   ]
  },
  {
   "cell_type": "markdown",
   "metadata": {},
   "source": [
    "Чтобы выявить, как сильно наша модель отличается от случайной, посчитаем площадь под ROC-кривой — AUC-ROC (от англ. Area Under Curve ROC, «площадь под ROC-кривой»):"
   ]
  },
  {
   "cell_type": "code",
   "execution_count": 89,
   "metadata": {},
   "outputs": [
    {
     "name": "stdout",
     "output_type": "stream",
     "text": [
      "0.8561627898318714\n"
     ]
    }
   ],
   "source": [
    "auc_roc = roc_auc_score(target_test, probabilities_one_test)\n",
    "\n",
    "print(auc_roc)"
   ]
  },
  {
   "cell_type": "markdown",
   "metadata": {},
   "source": [
    "**Выводы**\n",
    "\n",
    "На тестовой выборке F1-мера равна 0.60 - переобучения нет. Для модели, которая всегда отвечает случайно, ROC-кривая выглядит как прямая, идущая из левого нижнего угла в верхний правый,  AUC-ROC случайной модели равна 0.5. В нашем случае график выше, выше значение TPR и лучше качество модели, AUC-ROC составляет 0.86 - модель проходит проверку на адекватность (вменяемость)."
   ]
  },
  {
   "cell_type": "markdown",
   "metadata": {},
   "source": [
    "## Общие выводы"
   ]
  },
  {
   "cell_type": "markdown",
   "metadata": {},
   "source": [
    "Исследование прошло в 4 этапа:\n",
    "1. Изучение и подготовка данных;\n",
    "2. Исследование качества разных моделей, меняя гиперпараметры, без учёта дисбаланса классов;\n",
    "3. Борьба с дисбалансом классов;\n",
    "4. Проверка модели на качество и вменяемость на тестовой выборке.\n",
    " \n",
    "На первом этапе был выполнен обзор данных, в ходе которого определялось их качество и наличие ошибок. Предобработка данных включала в себя удаление пропущенных значений и подготовку признаков - преобразование категориальных признаков в численные с помощью техники OHE. Также было установлено наличие в данных дисбаланса классов.\n",
    "\n",
    "На втором этапе исследовалось качество разных моделей, перед этим исходные данные разделялись на обучающую, валидационную и тестовую выборки в соотношении 60%, 20% и 20% соответственно. Наилучший результат на валидационной выборке показала модель случайного леса с числом деревьев 20 и максимальной глубиной дерева 10 - F1-мера равна 0.59. Второй результат показала модель решающего дерева с максимальной глубиной дерева 6 - в этом случае метрика равна 0.57, при этом модель работает значительно быстрее. Третье место - у модели логистической регрессии с F1-мерой равной 0.1. \n",
    "\n",
    "На третьем этапе с целью увеличения качества модели учитывался имеющийся дисбаланс классов. Использовались 3 разные техники - взвешивание классов, увеличение и уменьшение выборок. Использование взвешивания классов позволило увеличить F1-меру на валидационной выборке с 0.59 до 0.61.\n",
    "\n",
    "На заключительном этапе выполнялась проверка модели на качество и вменяемость. На тестовой выборке F1-мера составляет 0.60 - переобучения нет. ROC-кривая высокая, AUC-ROC составляет 0.86 - модель проходит проверку на адекватность (вменяемость)."
   ]
  }
 ],
 "metadata": {
  "ExecuteTimeLog": [
   {
    "duration": 382,
    "start_time": "2022-08-20T12:50:42.441Z"
   },
   {
    "duration": 85,
    "start_time": "2022-08-20T12:50:43.432Z"
   },
   {
    "duration": 15,
    "start_time": "2022-08-20T12:50:54.867Z"
   },
   {
    "duration": 62,
    "start_time": "2022-08-20T12:56:49.823Z"
   },
   {
    "duration": 13,
    "start_time": "2022-08-20T12:56:53.057Z"
   },
   {
    "duration": 8,
    "start_time": "2022-08-20T12:57:23.511Z"
   },
   {
    "duration": 11,
    "start_time": "2022-08-20T12:57:47.012Z"
   },
   {
    "duration": 19,
    "start_time": "2022-08-20T12:58:47.236Z"
   },
   {
    "duration": 353,
    "start_time": "2022-08-21T08:33:00.449Z"
   },
   {
    "duration": 97,
    "start_time": "2022-08-21T08:33:00.909Z"
   },
   {
    "duration": 12,
    "start_time": "2022-08-21T08:33:09.322Z"
   },
   {
    "duration": 8,
    "start_time": "2022-08-21T08:33:10.336Z"
   },
   {
    "duration": 11,
    "start_time": "2022-08-21T08:33:11.091Z"
   },
   {
    "duration": 7,
    "start_time": "2022-08-21T08:33:11.969Z"
   },
   {
    "duration": 72,
    "start_time": "2022-08-21T08:34:33.128Z"
   },
   {
    "duration": 5,
    "start_time": "2022-08-21T08:34:42.834Z"
   },
   {
    "duration": 220,
    "start_time": "2022-08-21T08:34:43.893Z"
   },
   {
    "duration": 16,
    "start_time": "2022-08-21T08:34:46.018Z"
   },
   {
    "duration": 25,
    "start_time": "2022-08-21T08:35:29.276Z"
   },
   {
    "duration": 691,
    "start_time": "2022-08-21T08:40:16.110Z"
   },
   {
    "duration": 55,
    "start_time": "2022-08-21T08:40:16.894Z"
   },
   {
    "duration": 14,
    "start_time": "2022-08-21T08:40:17.625Z"
   },
   {
    "duration": 9,
    "start_time": "2022-08-21T08:40:18.291Z"
   },
   {
    "duration": 14,
    "start_time": "2022-08-21T08:40:19.291Z"
   },
   {
    "duration": 5,
    "start_time": "2022-08-21T08:40:20.123Z"
   },
   {
    "duration": 11,
    "start_time": "2022-08-21T08:40:20.876Z"
   },
   {
    "duration": 25,
    "start_time": "2022-08-21T08:40:22.171Z"
   },
   {
    "duration": 13,
    "start_time": "2022-08-21T08:41:29.694Z"
   },
   {
    "duration": 4,
    "start_time": "2022-08-21T08:41:32.899Z"
   },
   {
    "duration": 55,
    "start_time": "2022-08-21T08:41:47.278Z"
   },
   {
    "duration": 2,
    "start_time": "2022-08-21T08:45:43.652Z"
   },
   {
    "duration": 56,
    "start_time": "2022-08-21T08:45:44.194Z"
   },
   {
    "duration": 10,
    "start_time": "2022-08-21T08:45:44.856Z"
   },
   {
    "duration": 7,
    "start_time": "2022-08-21T08:45:45.689Z"
   },
   {
    "duration": 12,
    "start_time": "2022-08-21T08:45:46.520Z"
   },
   {
    "duration": 12,
    "start_time": "2022-08-21T08:45:47.307Z"
   },
   {
    "duration": 7,
    "start_time": "2022-08-21T08:46:12.654Z"
   },
   {
    "duration": 9,
    "start_time": "2022-08-21T08:46:31.565Z"
   },
   {
    "duration": 12,
    "start_time": "2022-08-21T08:46:48.406Z"
   },
   {
    "duration": 9,
    "start_time": "2022-08-21T08:46:57.644Z"
   },
   {
    "duration": 12,
    "start_time": "2022-08-21T08:47:00.724Z"
   },
   {
    "duration": 6,
    "start_time": "2022-08-21T08:47:01.717Z"
   },
   {
    "duration": 11,
    "start_time": "2022-08-21T08:47:03.482Z"
   },
   {
    "duration": 17,
    "start_time": "2022-08-21T08:47:05.886Z"
   },
   {
    "duration": 13,
    "start_time": "2022-08-21T08:47:09.591Z"
   },
   {
    "duration": 4,
    "start_time": "2022-08-21T08:47:11.842Z"
   },
   {
    "duration": 39,
    "start_time": "2022-08-21T08:47:13.314Z"
   },
   {
    "duration": 17,
    "start_time": "2022-08-21T08:47:50.067Z"
   },
   {
    "duration": 58,
    "start_time": "2022-08-21T08:48:17.079Z"
   },
   {
    "duration": 45,
    "start_time": "2022-08-21T08:48:29.962Z"
   },
   {
    "duration": 3,
    "start_time": "2022-08-21T08:49:20.281Z"
   },
   {
    "duration": 11,
    "start_time": "2022-08-21T08:58:26.298Z"
   },
   {
    "duration": 18,
    "start_time": "2022-08-21T08:58:49.971Z"
   },
   {
    "duration": 14,
    "start_time": "2022-08-21T09:01:53.757Z"
   },
   {
    "duration": 38,
    "start_time": "2022-08-21T09:02:00.777Z"
   },
   {
    "duration": 67,
    "start_time": "2022-08-21T09:02:01.423Z"
   },
   {
    "duration": 11,
    "start_time": "2022-08-21T09:02:02.004Z"
   },
   {
    "duration": 10,
    "start_time": "2022-08-21T09:02:02.634Z"
   },
   {
    "duration": 6,
    "start_time": "2022-08-21T09:02:03.227Z"
   },
   {
    "duration": 8,
    "start_time": "2022-08-21T09:02:03.984Z"
   },
   {
    "duration": 11,
    "start_time": "2022-08-21T09:02:05.030Z"
   },
   {
    "duration": 6,
    "start_time": "2022-08-21T09:02:05.863Z"
   },
   {
    "duration": 10,
    "start_time": "2022-08-21T09:02:06.998Z"
   },
   {
    "duration": 18,
    "start_time": "2022-08-21T09:02:09.722Z"
   },
   {
    "duration": 18,
    "start_time": "2022-08-21T09:02:13.243Z"
   },
   {
    "duration": 5,
    "start_time": "2022-08-21T09:02:14.731Z"
   },
   {
    "duration": 82,
    "start_time": "2022-08-21T09:02:16.654Z"
   },
   {
    "duration": 6654,
    "start_time": "2022-08-21T09:04:05.607Z"
   },
   {
    "duration": 97,
    "start_time": "2022-08-21T09:04:22.314Z"
   },
   {
    "duration": 616,
    "start_time": "2022-08-21T09:04:53.498Z"
   },
   {
    "duration": 120,
    "start_time": "2022-08-21T09:06:36.192Z"
   },
   {
    "duration": 11,
    "start_time": "2022-08-21T09:08:04.930Z"
   },
   {
    "duration": 14,
    "start_time": "2022-08-21T09:16:12.677Z"
   },
   {
    "duration": 106,
    "start_time": "2022-08-21T09:16:19.661Z"
   },
   {
    "duration": 62,
    "start_time": "2022-08-21T09:17:27.322Z"
   },
   {
    "duration": 62,
    "start_time": "2022-08-21T09:18:16.032Z"
   },
   {
    "duration": 24,
    "start_time": "2022-08-21T09:20:27.907Z"
   },
   {
    "duration": 40,
    "start_time": "2022-08-21T09:22:16.157Z"
   },
   {
    "duration": 61,
    "start_time": "2022-08-21T09:24:18.241Z"
   },
   {
    "duration": 3164,
    "start_time": "2022-08-21T09:24:38.747Z"
   },
   {
    "duration": 40,
    "start_time": "2022-08-21T09:25:33.306Z"
   },
   {
    "duration": 3229,
    "start_time": "2022-08-21T09:25:49.567Z"
   },
   {
    "duration": 64,
    "start_time": "2022-08-21T09:26:11.769Z"
   },
   {
    "duration": 3,
    "start_time": "2022-08-21T09:35:39.195Z"
   },
   {
    "duration": 51,
    "start_time": "2022-08-21T09:35:39.567Z"
   },
   {
    "duration": 11,
    "start_time": "2022-08-21T09:35:39.936Z"
   },
   {
    "duration": 9,
    "start_time": "2022-08-21T09:35:40.323Z"
   },
   {
    "duration": 5,
    "start_time": "2022-08-21T09:35:40.703Z"
   },
   {
    "duration": 7,
    "start_time": "2022-08-21T09:35:41.075Z"
   },
   {
    "duration": 12,
    "start_time": "2022-08-21T09:35:41.444Z"
   },
   {
    "duration": 5,
    "start_time": "2022-08-21T09:35:41.819Z"
   },
   {
    "duration": 10,
    "start_time": "2022-08-21T09:35:42.185Z"
   },
   {
    "duration": 21,
    "start_time": "2022-08-21T09:35:42.590Z"
   },
   {
    "duration": 12,
    "start_time": "2022-08-21T09:35:43.369Z"
   },
   {
    "duration": 3,
    "start_time": "2022-08-21T09:35:43.797Z"
   },
   {
    "duration": 70,
    "start_time": "2022-08-21T09:35:44.878Z"
   },
   {
    "duration": 71,
    "start_time": "2022-08-21T09:35:52.009Z"
   },
   {
    "duration": 6476,
    "start_time": "2022-08-21T09:35:55.191Z"
   },
   {
    "duration": 39,
    "start_time": "2022-08-21T09:36:03.677Z"
   },
   {
    "duration": 68,
    "start_time": "2022-08-21T09:40:01.939Z"
   },
   {
    "duration": 71,
    "start_time": "2022-08-21T09:40:12.435Z"
   },
   {
    "duration": 137,
    "start_time": "2022-08-21T09:41:26.314Z"
   },
   {
    "duration": 147,
    "start_time": "2022-08-21T09:41:38.429Z"
   },
   {
    "duration": 3,
    "start_time": "2022-08-21T09:42:16.906Z"
   },
   {
    "duration": 68,
    "start_time": "2022-08-21T09:42:17.260Z"
   },
   {
    "duration": 11,
    "start_time": "2022-08-21T09:42:17.695Z"
   },
   {
    "duration": 9,
    "start_time": "2022-08-21T09:42:19.685Z"
   },
   {
    "duration": 6,
    "start_time": "2022-08-21T09:42:20.417Z"
   },
   {
    "duration": 7,
    "start_time": "2022-08-21T09:46:36.446Z"
   },
   {
    "duration": 10,
    "start_time": "2022-08-21T09:46:36.816Z"
   },
   {
    "duration": 5,
    "start_time": "2022-08-21T09:46:37.231Z"
   },
   {
    "duration": 9,
    "start_time": "2022-08-21T09:46:37.661Z"
   },
   {
    "duration": 18,
    "start_time": "2022-08-21T09:46:38.399Z"
   },
   {
    "duration": 16,
    "start_time": "2022-08-21T09:46:39.215Z"
   },
   {
    "duration": 4,
    "start_time": "2022-08-21T09:46:39.951Z"
   },
   {
    "duration": 76,
    "start_time": "2022-08-21T09:46:41.035Z"
   },
   {
    "duration": 6689,
    "start_time": "2022-08-21T09:46:41.587Z"
   },
   {
    "duration": 46,
    "start_time": "2022-08-21T09:46:48.278Z"
   },
   {
    "duration": 185,
    "start_time": "2022-08-21T09:46:48.326Z"
   },
   {
    "duration": 144,
    "start_time": "2022-08-21T09:46:57.734Z"
   },
   {
    "duration": 1186,
    "start_time": "2022-08-27T09:29:20.742Z"
   },
   {
    "duration": 179,
    "start_time": "2022-08-27T09:29:22.230Z"
   },
   {
    "duration": 13,
    "start_time": "2022-08-27T09:29:24.073Z"
   },
   {
    "duration": 14,
    "start_time": "2022-08-27T09:29:25.952Z"
   },
   {
    "duration": 8,
    "start_time": "2022-08-27T09:29:27.773Z"
   },
   {
    "duration": 8,
    "start_time": "2022-08-27T09:29:33.577Z"
   },
   {
    "duration": 13,
    "start_time": "2022-08-27T09:29:34.963Z"
   },
   {
    "duration": 7,
    "start_time": "2022-08-27T09:29:36.966Z"
   },
   {
    "duration": 14,
    "start_time": "2022-08-27T09:29:40.252Z"
   },
   {
    "duration": 20,
    "start_time": "2022-08-27T09:29:42.185Z"
   },
   {
    "duration": 4,
    "start_time": "2022-08-27T09:52:31.647Z"
   },
   {
    "duration": 57,
    "start_time": "2022-08-27T09:52:32.050Z"
   },
   {
    "duration": 13,
    "start_time": "2022-08-27T09:52:32.467Z"
   },
   {
    "duration": 8,
    "start_time": "2022-08-27T09:52:32.963Z"
   },
   {
    "duration": 5,
    "start_time": "2022-08-27T09:52:34.223Z"
   },
   {
    "duration": 7,
    "start_time": "2022-08-27T09:52:34.807Z"
   },
   {
    "duration": 11,
    "start_time": "2022-08-27T09:52:35.237Z"
   },
   {
    "duration": 6,
    "start_time": "2022-08-27T09:52:36.022Z"
   },
   {
    "duration": 13,
    "start_time": "2022-08-27T09:52:36.912Z"
   },
   {
    "duration": 30,
    "start_time": "2022-08-27T09:52:38.397Z"
   },
   {
    "duration": 18,
    "start_time": "2022-08-27T09:52:40.951Z"
   },
   {
    "duration": 5,
    "start_time": "2022-08-27T09:52:42.569Z"
   },
   {
    "duration": 76,
    "start_time": "2022-08-27T09:52:52.929Z"
   },
   {
    "duration": 6886,
    "start_time": "2022-08-27T09:52:58.432Z"
   },
   {
    "duration": 85,
    "start_time": "2022-08-27T09:53:15.284Z"
   },
   {
    "duration": 3,
    "start_time": "2022-08-27T10:08:46.137Z"
   },
   {
    "duration": 56,
    "start_time": "2022-08-27T10:08:47.027Z"
   },
   {
    "duration": 12,
    "start_time": "2022-08-27T10:08:47.919Z"
   },
   {
    "duration": 8,
    "start_time": "2022-08-27T10:08:48.871Z"
   },
   {
    "duration": 6,
    "start_time": "2022-08-27T10:08:49.805Z"
   },
   {
    "duration": 9,
    "start_time": "2022-08-27T10:08:50.470Z"
   },
   {
    "duration": 16,
    "start_time": "2022-08-27T10:08:51.166Z"
   },
   {
    "duration": 6,
    "start_time": "2022-08-27T10:08:52.043Z"
   },
   {
    "duration": 13,
    "start_time": "2022-08-27T10:08:52.808Z"
   },
   {
    "duration": 21,
    "start_time": "2022-08-27T10:08:53.696Z"
   },
   {
    "duration": 15,
    "start_time": "2022-08-27T10:08:56.205Z"
   },
   {
    "duration": 4,
    "start_time": "2022-08-27T10:09:00.210Z"
   },
   {
    "duration": 74,
    "start_time": "2022-08-27T10:09:03.227Z"
   },
   {
    "duration": 6702,
    "start_time": "2022-08-27T10:09:06.643Z"
   },
   {
    "duration": 48,
    "start_time": "2022-08-27T10:09:24.982Z"
   },
   {
    "duration": 136,
    "start_time": "2022-08-27T10:09:28.045Z"
   },
   {
    "duration": 257,
    "start_time": "2022-08-27T10:09:35.034Z"
   },
   {
    "duration": 248,
    "start_time": "2022-08-27T10:10:00.851Z"
   },
   {
    "duration": 87,
    "start_time": "2022-08-27T10:10:13.955Z"
   },
   {
    "duration": 144,
    "start_time": "2022-08-27T10:11:51.851Z"
   },
   {
    "duration": 258,
    "start_time": "2022-08-27T10:12:20.639Z"
   },
   {
    "duration": 78,
    "start_time": "2022-08-27T10:12:58.305Z"
   },
   {
    "duration": 171,
    "start_time": "2022-08-27T10:14:09.631Z"
   },
   {
    "duration": 187,
    "start_time": "2022-08-27T10:14:39.468Z"
   },
   {
    "duration": 156,
    "start_time": "2022-08-27T10:14:46.454Z"
   },
   {
    "duration": 22,
    "start_time": "2022-08-27T10:15:04.542Z"
   },
   {
    "duration": 10,
    "start_time": "2022-08-27T10:16:50.832Z"
   },
   {
    "duration": 4,
    "start_time": "2022-08-27T10:17:07.078Z"
   },
   {
    "duration": 4,
    "start_time": "2022-08-27T10:17:52.505Z"
   },
   {
    "duration": 22,
    "start_time": "2022-08-27T10:18:08.426Z"
   },
   {
    "duration": 484,
    "start_time": "2022-08-27T10:18:40.005Z"
   },
   {
    "duration": 182,
    "start_time": "2022-08-27T10:18:46.711Z"
   },
   {
    "duration": 7,
    "start_time": "2022-08-27T10:18:59.794Z"
   },
   {
    "duration": 185,
    "start_time": "2022-08-27T10:23:10.231Z"
   },
   {
    "duration": 517,
    "start_time": "2022-08-27T10:23:20.042Z"
   },
   {
    "duration": 166,
    "start_time": "2022-08-27T10:23:24.385Z"
   },
   {
    "duration": 110,
    "start_time": "2022-08-27T10:43:26.249Z"
   },
   {
    "duration": 2023,
    "start_time": "2022-08-27T23:35:54.620Z"
   },
   {
    "duration": 101,
    "start_time": "2022-08-27T23:35:56.646Z"
   },
   {
    "duration": 13,
    "start_time": "2022-08-27T23:35:56.748Z"
   },
   {
    "duration": 8,
    "start_time": "2022-08-27T23:35:56.763Z"
   },
   {
    "duration": 10,
    "start_time": "2022-08-27T23:35:56.772Z"
   },
   {
    "duration": 8,
    "start_time": "2022-08-27T23:35:56.784Z"
   },
   {
    "duration": 12,
    "start_time": "2022-08-27T23:35:56.793Z"
   },
   {
    "duration": 6,
    "start_time": "2022-08-27T23:35:56.806Z"
   },
   {
    "duration": 14,
    "start_time": "2022-08-27T23:35:56.813Z"
   },
   {
    "duration": 17,
    "start_time": "2022-08-27T23:35:56.829Z"
   },
   {
    "duration": 39,
    "start_time": "2022-08-27T23:35:56.848Z"
   },
   {
    "duration": 4,
    "start_time": "2022-08-27T23:35:56.888Z"
   },
   {
    "duration": 167,
    "start_time": "2022-08-27T23:35:56.893Z"
   },
   {
    "duration": 6366,
    "start_time": "2022-08-27T23:35:57.062Z"
   },
   {
    "duration": 65,
    "start_time": "2022-08-27T23:36:03.429Z"
   },
   {
    "duration": 303,
    "start_time": "2022-08-27T23:36:03.496Z"
   },
   {
    "duration": 252,
    "start_time": "2022-08-27T23:36:03.801Z"
   },
   {
    "duration": 78,
    "start_time": "2022-08-27T23:36:04.055Z"
   },
   {
    "duration": 166,
    "start_time": "2022-08-27T23:36:04.135Z"
   },
   {
    "duration": 145,
    "start_time": "2022-08-27T23:36:04.303Z"
   },
   {
    "duration": 7,
    "start_time": "2022-08-27T23:36:04.450Z"
   },
   {
    "duration": 1644,
    "start_time": "2022-09-01T07:23:50.107Z"
   },
   {
    "duration": 122,
    "start_time": "2022-09-01T07:23:54.869Z"
   },
   {
    "duration": 17,
    "start_time": "2022-09-01T07:23:56.117Z"
   },
   {
    "duration": 8,
    "start_time": "2022-09-01T07:23:58.415Z"
   },
   {
    "duration": 10,
    "start_time": "2022-09-01T07:23:59.737Z"
   },
   {
    "duration": 9,
    "start_time": "2022-09-01T07:24:02.992Z"
   },
   {
    "duration": 21,
    "start_time": "2022-09-01T07:24:04.280Z"
   },
   {
    "duration": 9,
    "start_time": "2022-09-01T07:24:05.382Z"
   },
   {
    "duration": 14,
    "start_time": "2022-09-01T07:24:08.912Z"
   },
   {
    "duration": 24,
    "start_time": "2022-09-01T07:24:12.204Z"
   },
   {
    "duration": 8,
    "start_time": "2022-09-01T07:24:22.707Z"
   },
   {
    "duration": 12,
    "start_time": "2022-09-01T07:24:42.245Z"
   },
   {
    "duration": 5,
    "start_time": "2022-09-01T07:25:32.132Z"
   },
   {
    "duration": 168,
    "start_time": "2022-09-01T07:25:40.342Z"
   },
   {
    "duration": 8057,
    "start_time": "2022-09-01T07:28:11.906Z"
   },
   {
    "duration": 4,
    "start_time": "2022-09-01T07:58:46.633Z"
   },
   {
    "duration": 81,
    "start_time": "2022-09-01T07:58:48.620Z"
   },
   {
    "duration": 13,
    "start_time": "2022-09-01T07:58:49.644Z"
   },
   {
    "duration": 8,
    "start_time": "2022-09-01T07:58:51.811Z"
   },
   {
    "duration": 8,
    "start_time": "2022-09-01T07:58:52.852Z"
   },
   {
    "duration": 9,
    "start_time": "2022-09-01T07:58:54.704Z"
   },
   {
    "duration": 11,
    "start_time": "2022-09-01T07:58:56.039Z"
   },
   {
    "duration": 7,
    "start_time": "2022-09-01T07:58:57.018Z"
   },
   {
    "duration": 13,
    "start_time": "2022-09-01T07:58:59.143Z"
   },
   {
    "duration": 19,
    "start_time": "2022-09-01T07:59:00.617Z"
   },
   {
    "duration": 4,
    "start_time": "2022-09-01T07:59:05.218Z"
   },
   {
    "duration": 13,
    "start_time": "2022-09-01T07:59:10.816Z"
   },
   {
    "duration": 4,
    "start_time": "2022-09-01T07:59:16.662Z"
   },
   {
    "duration": 138,
    "start_time": "2022-09-01T07:59:20.267Z"
   },
   {
    "duration": 3949,
    "start_time": "2022-09-01T07:59:22.051Z"
   },
   {
    "duration": 6141,
    "start_time": "2022-09-01T07:59:39.425Z"
   },
   {
    "duration": 43,
    "start_time": "2022-09-01T07:59:45.568Z"
   },
   {
    "duration": 117,
    "start_time": "2022-09-01T08:00:12.241Z"
   },
   {
    "duration": 240,
    "start_time": "2022-09-01T08:00:14.493Z"
   },
   {
    "duration": 78,
    "start_time": "2022-09-01T08:00:20.278Z"
   },
   {
    "duration": 153,
    "start_time": "2022-09-01T08:00:25.035Z"
   },
   {
    "duration": 149,
    "start_time": "2022-09-01T08:00:29.203Z"
   },
   {
    "duration": 6,
    "start_time": "2022-09-01T08:00:32.933Z"
   },
   {
    "duration": 6,
    "start_time": "2022-09-01T08:22:42.898Z"
   },
   {
    "duration": 63,
    "start_time": "2022-09-01T08:22:43.825Z"
   },
   {
    "duration": 13,
    "start_time": "2022-09-01T08:22:44.964Z"
   },
   {
    "duration": 7,
    "start_time": "2022-09-01T08:22:48.253Z"
   },
   {
    "duration": 4,
    "start_time": "2022-09-01T08:22:49.247Z"
   },
   {
    "duration": 7,
    "start_time": "2022-09-01T08:23:06.692Z"
   },
   {
    "duration": 9,
    "start_time": "2022-09-01T08:23:10.809Z"
   },
   {
    "duration": 12,
    "start_time": "2022-09-01T08:23:12.258Z"
   },
   {
    "duration": 8,
    "start_time": "2022-09-01T08:23:13.366Z"
   },
   {
    "duration": 13,
    "start_time": "2022-09-01T08:23:15.406Z"
   },
   {
    "duration": 19,
    "start_time": "2022-09-01T08:23:17.559Z"
   },
   {
    "duration": 4,
    "start_time": "2022-09-01T08:23:21.048Z"
   },
   {
    "duration": 13,
    "start_time": "2022-09-01T08:23:22.033Z"
   },
   {
    "duration": 4,
    "start_time": "2022-09-01T08:23:28.641Z"
   },
   {
    "duration": 155,
    "start_time": "2022-09-01T08:23:32.133Z"
   },
   {
    "duration": 5650,
    "start_time": "2022-09-01T08:23:38.607Z"
   },
   {
    "duration": 6855,
    "start_time": "2022-09-01T08:23:44.259Z"
   },
   {
    "duration": 46,
    "start_time": "2022-09-01T08:24:01.043Z"
   },
   {
    "duration": 134,
    "start_time": "2022-09-01T08:24:05.026Z"
   },
   {
    "duration": 252,
    "start_time": "2022-09-01T08:24:09.597Z"
   },
   {
    "duration": 72,
    "start_time": "2022-09-01T08:24:11.620Z"
   },
   {
    "duration": 184,
    "start_time": "2022-09-01T08:24:15.584Z"
   },
   {
    "duration": 140,
    "start_time": "2022-09-01T08:24:51.497Z"
   },
   {
    "duration": 8,
    "start_time": "2022-09-01T08:24:55.795Z"
   },
   {
    "duration": 132,
    "start_time": "2022-09-01T08:31:51.297Z"
   },
   {
    "duration": 247,
    "start_time": "2022-09-01T08:31:51.672Z"
   },
   {
    "duration": 81,
    "start_time": "2022-09-01T08:31:52.880Z"
   },
   {
    "duration": 4,
    "start_time": "2022-09-01T08:32:03.478Z"
   },
   {
    "duration": 56,
    "start_time": "2022-09-01T08:32:04.042Z"
   },
   {
    "duration": 16,
    "start_time": "2022-09-01T08:32:07.087Z"
   },
   {
    "duration": 7,
    "start_time": "2022-09-01T08:32:08.842Z"
   },
   {
    "duration": 7,
    "start_time": "2022-09-01T08:32:10.196Z"
   },
   {
    "duration": 6,
    "start_time": "2022-09-01T08:32:14.276Z"
   },
   {
    "duration": 17,
    "start_time": "2022-09-01T08:32:16.785Z"
   },
   {
    "duration": 15,
    "start_time": "2022-09-01T08:32:18.128Z"
   },
   {
    "duration": 7,
    "start_time": "2022-09-01T08:32:20.597Z"
   },
   {
    "duration": 14,
    "start_time": "2022-09-01T08:32:21.786Z"
   },
   {
    "duration": 25,
    "start_time": "2022-09-01T08:32:22.983Z"
   },
   {
    "duration": 6,
    "start_time": "2022-09-01T08:32:24.584Z"
   },
   {
    "duration": 14,
    "start_time": "2022-09-01T08:32:25.233Z"
   },
   {
    "duration": 4,
    "start_time": "2022-09-01T08:32:26.960Z"
   },
   {
    "duration": 134,
    "start_time": "2022-09-01T08:32:28.445Z"
   },
   {
    "duration": 3960,
    "start_time": "2022-09-01T08:32:31.042Z"
   },
   {
    "duration": 6305,
    "start_time": "2022-09-01T08:32:38.260Z"
   },
   {
    "duration": 128,
    "start_time": "2022-09-01T08:32:47.373Z"
   },
   {
    "duration": 140,
    "start_time": "2022-09-01T08:33:04.212Z"
   },
   {
    "duration": 234,
    "start_time": "2022-09-01T08:33:08.307Z"
   },
   {
    "duration": 87,
    "start_time": "2022-09-01T08:33:10.361Z"
   },
   {
    "duration": 187,
    "start_time": "2022-09-01T08:33:34.613Z"
   },
   {
    "duration": 147,
    "start_time": "2022-09-01T08:33:38.318Z"
   },
   {
    "duration": 7,
    "start_time": "2022-09-01T08:33:40.408Z"
   }
  ],
  "kernelspec": {
   "display_name": "Python 3 (ipykernel)",
   "language": "python",
   "name": "python3"
  },
  "language_info": {
   "codemirror_mode": {
    "name": "ipython",
    "version": 3
   },
   "file_extension": ".py",
   "mimetype": "text/x-python",
   "name": "python",
   "nbconvert_exporter": "python",
   "pygments_lexer": "ipython3",
   "version": "3.9.12"
  },
  "toc": {
   "base_numbering": 1,
   "nav_menu": {},
   "number_sections": true,
   "sideBar": true,
   "skip_h1_title": true,
   "title_cell": "Содержание",
   "title_sidebar": "Contents",
   "toc_cell": true,
   "toc_position": {},
   "toc_section_display": true,
   "toc_window_display": false
  }
 },
 "nbformat": 4,
 "nbformat_minor": 2
}
