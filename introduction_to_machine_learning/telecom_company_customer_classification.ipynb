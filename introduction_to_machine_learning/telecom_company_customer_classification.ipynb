{
 "cells": [
  {
   "cell_type": "markdown",
   "metadata": {},
   "source": [
    "# Рекомендация тарифов"
   ]
  },
  {
   "cell_type": "markdown",
   "metadata": {},
   "source": [
    "В вашем распоряжении данные о поведении клиентов, которые уже перешли на эти тарифы (из проекта курса «Статистический анализ данных»). Нужно построить модель для задачи классификации, которая выберет подходящий тариф. Предобработка данных не понадобится — вы её уже сделали.\n",
    "\n",
    "Постройте модель с максимально большим значением *accuracy*. Чтобы сдать проект успешно, нужно довести долю правильных ответов по крайней мере до 0.75. Проверьте *accuracy* на тестовой выборке самостоятельно.\n",
    "\n",
    "**Цель исследования** - построить модель с максимально большим значением *accuracy*.\n",
    "\n",
    "**Задачи исследования**:\n",
    "1. Изучить данные;\n",
    "2. Разделите исходные данные на обучающую, валидационную и тестовую выборки;\n",
    "3. Исследовать качество разных моделей, меняя гиперпараметры;\n",
    "4. Проверить качество модели на тестовой выборке;\n",
    "5. Проверить модели на вменяемость. \n",
    "\n",
    "**Ход исследования**\n",
    "\n",
    "Поскольку предобработка данных не понадобится - сразу приступаем к исследованию моделей.\n"
   ]
  },
  {
   "cell_type": "markdown",
   "metadata": {},
   "source": [
    "## Откройте и изучите файл"
   ]
  },
  {
   "cell_type": "markdown",
   "metadata": {},
   "source": [
    "Подключаемые все необходимые для выполнения исследования библиотеки:"
   ]
  },
  {
   "cell_type": "code",
   "execution_count": 1,
   "metadata": {},
   "outputs": [],
   "source": [
    "import pandas as pd # работа с табличными данными\n",
    "from sklearn.tree import DecisionTreeClassifier, plot_tree # модель решающее дерево\n",
    "from sklearn.ensemble import RandomForestClassifier # модель случайный лес\n",
    "from sklearn.linear_model import LogisticRegression # модель логистической регрессии\n",
    "from sklearn.metrics import accuracy_score # оценка качества модели\n",
    "from sklearn.model_selection import train_test_split # выделение обучающей и валидационной выборок\n",
    "import matplotlib.pyplot as plt # графики\n",
    "import seaborn as sns # графики"
   ]
  },
  {
   "cell_type": "markdown",
   "metadata": {},
   "source": [
    "Открываем файл с данными:"
   ]
  },
  {
   "cell_type": "code",
   "execution_count": 2,
   "metadata": {},
   "outputs": [
    {
     "data": {
      "text/html": [
       "<div>\n",
       "<style scoped>\n",
       "    .dataframe tbody tr th:only-of-type {\n",
       "        vertical-align: middle;\n",
       "    }\n",
       "\n",
       "    .dataframe tbody tr th {\n",
       "        vertical-align: top;\n",
       "    }\n",
       "\n",
       "    .dataframe thead th {\n",
       "        text-align: right;\n",
       "    }\n",
       "</style>\n",
       "<table border=\"1\" class=\"dataframe\">\n",
       "  <thead>\n",
       "    <tr style=\"text-align: right;\">\n",
       "      <th></th>\n",
       "      <th>calls</th>\n",
       "      <th>minutes</th>\n",
       "      <th>messages</th>\n",
       "      <th>mb_used</th>\n",
       "      <th>is_ultra</th>\n",
       "    </tr>\n",
       "  </thead>\n",
       "  <tbody>\n",
       "    <tr>\n",
       "      <th>0</th>\n",
       "      <td>40.0</td>\n",
       "      <td>311.90</td>\n",
       "      <td>83.0</td>\n",
       "      <td>19915.42</td>\n",
       "      <td>0</td>\n",
       "    </tr>\n",
       "    <tr>\n",
       "      <th>1</th>\n",
       "      <td>85.0</td>\n",
       "      <td>516.75</td>\n",
       "      <td>56.0</td>\n",
       "      <td>22696.96</td>\n",
       "      <td>0</td>\n",
       "    </tr>\n",
       "    <tr>\n",
       "      <th>2</th>\n",
       "      <td>77.0</td>\n",
       "      <td>467.66</td>\n",
       "      <td>86.0</td>\n",
       "      <td>21060.45</td>\n",
       "      <td>0</td>\n",
       "    </tr>\n",
       "    <tr>\n",
       "      <th>3</th>\n",
       "      <td>106.0</td>\n",
       "      <td>745.53</td>\n",
       "      <td>81.0</td>\n",
       "      <td>8437.39</td>\n",
       "      <td>1</td>\n",
       "    </tr>\n",
       "    <tr>\n",
       "      <th>4</th>\n",
       "      <td>66.0</td>\n",
       "      <td>418.74</td>\n",
       "      <td>1.0</td>\n",
       "      <td>14502.75</td>\n",
       "      <td>0</td>\n",
       "    </tr>\n",
       "    <tr>\n",
       "      <th>...</th>\n",
       "      <td>...</td>\n",
       "      <td>...</td>\n",
       "      <td>...</td>\n",
       "      <td>...</td>\n",
       "      <td>...</td>\n",
       "    </tr>\n",
       "    <tr>\n",
       "      <th>3209</th>\n",
       "      <td>122.0</td>\n",
       "      <td>910.98</td>\n",
       "      <td>20.0</td>\n",
       "      <td>35124.90</td>\n",
       "      <td>1</td>\n",
       "    </tr>\n",
       "    <tr>\n",
       "      <th>3210</th>\n",
       "      <td>25.0</td>\n",
       "      <td>190.36</td>\n",
       "      <td>0.0</td>\n",
       "      <td>3275.61</td>\n",
       "      <td>0</td>\n",
       "    </tr>\n",
       "    <tr>\n",
       "      <th>3211</th>\n",
       "      <td>97.0</td>\n",
       "      <td>634.44</td>\n",
       "      <td>70.0</td>\n",
       "      <td>13974.06</td>\n",
       "      <td>0</td>\n",
       "    </tr>\n",
       "    <tr>\n",
       "      <th>3212</th>\n",
       "      <td>64.0</td>\n",
       "      <td>462.32</td>\n",
       "      <td>90.0</td>\n",
       "      <td>31239.78</td>\n",
       "      <td>0</td>\n",
       "    </tr>\n",
       "    <tr>\n",
       "      <th>3213</th>\n",
       "      <td>80.0</td>\n",
       "      <td>566.09</td>\n",
       "      <td>6.0</td>\n",
       "      <td>29480.52</td>\n",
       "      <td>1</td>\n",
       "    </tr>\n",
       "  </tbody>\n",
       "</table>\n",
       "<p>3214 rows × 5 columns</p>\n",
       "</div>"
      ],
      "text/plain": [
       "      calls  minutes  messages   mb_used  is_ultra\n",
       "0      40.0   311.90      83.0  19915.42         0\n",
       "1      85.0   516.75      56.0  22696.96         0\n",
       "2      77.0   467.66      86.0  21060.45         0\n",
       "3     106.0   745.53      81.0   8437.39         1\n",
       "4      66.0   418.74       1.0  14502.75         0\n",
       "...     ...      ...       ...       ...       ...\n",
       "3209  122.0   910.98      20.0  35124.90         1\n",
       "3210   25.0   190.36       0.0   3275.61         0\n",
       "3211   97.0   634.44      70.0  13974.06         0\n",
       "3212   64.0   462.32      90.0  31239.78         0\n",
       "3213   80.0   566.09       6.0  29480.52         1\n",
       "\n",
       "[3214 rows x 5 columns]"
      ]
     },
     "execution_count": 2,
     "metadata": {},
     "output_type": "execute_result"
    }
   ],
   "source": [
    "data = pd.read_csv('/datasets/users_behavior.csv')\n",
    "data"
   ]
  },
  {
   "cell_type": "markdown",
   "metadata": {},
   "source": [
    "Выводим общую информацию:"
   ]
  },
  {
   "cell_type": "code",
   "execution_count": 3,
   "metadata": {},
   "outputs": [
    {
     "name": "stdout",
     "output_type": "stream",
     "text": [
      "<class 'pandas.core.frame.DataFrame'>\n",
      "RangeIndex: 3214 entries, 0 to 3213\n",
      "Data columns (total 5 columns):\n",
      " #   Column    Non-Null Count  Dtype  \n",
      "---  ------    --------------  -----  \n",
      " 0   calls     3214 non-null   float64\n",
      " 1   minutes   3214 non-null   float64\n",
      " 2   messages  3214 non-null   float64\n",
      " 3   mb_used   3214 non-null   float64\n",
      " 4   is_ultra  3214 non-null   int64  \n",
      "dtypes: float64(4), int64(1)\n",
      "memory usage: 125.7 KB\n"
     ]
    }
   ],
   "source": [
    "data.info()"
   ]
  },
  {
   "cell_type": "markdown",
   "metadata": {},
   "source": [
    "Определяем, в каких столбцах есть пропуски:"
   ]
  },
  {
   "cell_type": "code",
   "execution_count": 4,
   "metadata": {},
   "outputs": [
    {
     "data": {
      "text/plain": [
       "calls       0\n",
       "minutes     0\n",
       "messages    0\n",
       "mb_used     0\n",
       "is_ultra    0\n",
       "dtype: int64"
      ]
     },
     "execution_count": 4,
     "metadata": {},
     "output_type": "execute_result"
    }
   ],
   "source": [
    "data.isna().sum()"
   ]
  },
  {
   "cell_type": "markdown",
   "metadata": {},
   "source": [
    "Проверяем на наличие явных дубликатов:"
   ]
  },
  {
   "cell_type": "code",
   "execution_count": 5,
   "metadata": {},
   "outputs": [
    {
     "data": {
      "text/plain": [
       "0"
      ]
     },
     "execution_count": 5,
     "metadata": {},
     "output_type": "execute_result"
    }
   ],
   "source": [
    "data.duplicated().sum()"
   ]
  },
  {
   "cell_type": "markdown",
   "metadata": {},
   "source": [
    "Проверяем данные на распределение целевого признака - сбалансированность классов:"
   ]
  },
  {
   "cell_type": "code",
   "execution_count": 6,
   "metadata": {},
   "outputs": [
    {
     "data": {
      "text/plain": [
       "0    0.693528\n",
       "1    0.306472\n",
       "Name: is_ultra, dtype: float64"
      ]
     },
     "execution_count": 6,
     "metadata": {},
     "output_type": "execute_result"
    }
   ],
   "source": [
    "data['is_ultra'].value_counts(normalize=True)"
   ]
  },
  {
   "cell_type": "markdown",
   "metadata": {},
   "source": [
    "**Выводы**\n",
    "\n",
    "В таблице 3 214 записей и 5 столбцов. Данных достаточно для постороение моделей. \n",
    "Пропущенных значений нет, явных дубликатов нет, но имеет место дисбаланс классов - приступаем к разделению исходных данных на обучающую, валидационную и тестовую выборки."
   ]
  },
  {
   "cell_type": "markdown",
   "metadata": {},
   "source": [
    "## Разбейте данные на выборки"
   ]
  },
  {
   "cell_type": "code",
   "execution_count": 7,
   "metadata": {},
   "outputs": [],
   "source": [
    "features = data.drop(['is_ultra'], axis=1)\n",
    "target = data['is_ultra'] \n",
    "\n",
    "features_train, features_valid, target_train, target_valid = train_test_split(features, target, stratify = target, \\\n",
    "                                                                              train_size=0.6, random_state=12345)\n",
    "\n",
    "features_valid, features_test, target_valid, target_test = train_test_split(features_valid, target_valid, stratify = target_valid, \\\n",
    "                                                                            train_size=0.5, random_state=12345)"
   ]
  },
  {
   "cell_type": "markdown",
   "metadata": {},
   "source": [
    "Проверяем размеры получившихся выборок:"
   ]
  },
  {
   "cell_type": "code",
   "execution_count": 8,
   "metadata": {},
   "outputs": [
    {
     "name": "stdout",
     "output_type": "stream",
     "text": [
      "Обучающая: 1928\n",
      "Валидационная: 643\n",
      "Тестовая: 643\n"
     ]
    }
   ],
   "source": [
    "print('Обучающая:', target_train.shape[0])\n",
    "print('Валидационная:', target_valid.shape[0])\n",
    "print('Тестовая:', target_test.shape[0])"
   ]
  },
  {
   "cell_type": "markdown",
   "metadata": {},
   "source": [
    "## Исследуйте модели"
   ]
  },
  {
   "cell_type": "markdown",
   "metadata": {},
   "source": [
    "Решающее дерево:"
   ]
  },
  {
   "cell_type": "code",
   "execution_count": 9,
   "metadata": {},
   "outputs": [
    {
     "name": "stdout",
     "output_type": "stream",
     "text": [
      "Accuracy наилучшей модели на валидационной выборке: 0.7853810264385692 Максимальная глубина: 5\n"
     ]
    }
   ],
   "source": [
    "result_list = []\n",
    "depth_list = []\n",
    "best_model_dt = None\n",
    "best_result_dt = 0\n",
    "best_depth_dt = 0\n",
    "for depth in range(1, 6):\n",
    "    model = DecisionTreeClassifier(random_state=12345, max_depth=depth) # инициализируем модель DecisionTreeClassifier \n",
    "    model.fit(features_train, target_train) # обучаем модель на тренировочной выборке\n",
    "    predictions_valid = model.predict(features_valid) # получаем предсказания модели на валидационной выборке\n",
    "    result = accuracy_score(target_valid, predictions_valid) # посчитаем значение метрики accuracy на валидационной выборке\n",
    "    result_list.append(result)\n",
    "    depth_list.append(depth)\n",
    "    if result > best_result_dt:\n",
    "        best_model_dt = model\n",
    "        best_result_dt = result\n",
    "        best_depth_dt = depth\n",
    "\n",
    "print(\"Accuracy наилучшей модели на валидационной выборке:\", best_result_dt, \"Максимальная глубина:\", best_depth_dt)"
   ]
  },
  {
   "cell_type": "markdown",
   "metadata": {},
   "source": [
    "Строим график:"
   ]
  },
  {
   "cell_type": "code",
   "execution_count": 10,
   "metadata": {},
   "outputs": [
    {
     "data": {
      "image/png": "[encoded data removed]",
      "text/plain": [
       "<Figure size 1296x864 with 1 Axes>"
      ]
     },
     "metadata": {
      "needs_background": "light"
     },
     "output_type": "display_data"
    }
   ],
   "source": [
    "plt.figure(figsize=(18,12)) \n",
    "plot_tree(best_model_dt, fontsize=8)\n",
    "plt.show()"
   ]
  },
  {
   "cell_type": "code",
   "execution_count": 11,
   "metadata": {
    "scrolled": false
   },
   "outputs": [
    {
     "data": {
      "image/png": "[encoded data removed]",
      "text/plain": [
       "<Figure size 842.4x595.44 with 1 Axes>"
      ]
     },
     "metadata": {},
     "output_type": "display_data"
    }
   ],
   "source": [
    "sns.set(rc={'figure.figsize':(11.7,8.27)})\n",
    "sns.set_theme(style=\"whitegrid\")\n",
    "ax = sns.barplot(x=depth_list, y=result_list)\n",
    "ax.set(xlabel='Глубина дерева', ylabel='Доля правильных ответов', title='Зависимость accuracy от гиперпараметра max_depth');"
   ]
  },
  {
   "cell_type": "markdown",
   "metadata": {},
   "source": [
    "Случайный лес:"
   ]
  },
  {
   "cell_type": "code",
   "execution_count": 12,
   "metadata": {},
   "outputs": [
    {
     "name": "stdout",
     "output_type": "stream",
     "text": [
      "Accuracy наилучшей модели на валидационной выборке: 0.8211508553654744 Количество деревьев: 40 Максимальная глубина: 9\n",
      "CPU times: user 4.09 s, sys: 27.6 ms, total: 4.11 s\n",
      "Wall time: 4.11 s\n"
     ]
    }
   ],
   "source": [
    "%%time\n",
    "\n",
    "best_model_rf = None\n",
    "best_result_rf = 0\n",
    "best_est = 0\n",
    "best_depth_rf = 0\n",
    "for est in range(10, 51, 10):\n",
    "    for depth in range (1, 11):\n",
    "        model = RandomForestClassifier(random_state=12345, n_estimators = est, max_depth=depth) # инициализируем модель RandomForestClassifier \n",
    "        model.fit(features_train, target_train) # обучаем модель на тренировочной выборке\n",
    "        predictions_valid = model.predict(features_valid) # получаем предсказания модели на валидационной выборке\n",
    "        result = accuracy_score(target_valid, predictions_valid) # посчитаем значение метрики accuracy на валидационной выборке\n",
    "        if result > best_result_rf:\n",
    "            best_model_rf = model\n",
    "            best_result_rf = result\n",
    "            best_est = est\n",
    "            best_depth_rf = depth\n",
    "\n",
    "print(\"Accuracy наилучшей модели на валидационной выборке:\", best_result_rf, \"Количество деревьев:\", best_est, \"Максимальная глубина:\", best_depth_rf)"
   ]
  },
  {
   "cell_type": "markdown",
   "metadata": {},
   "source": [
    "Логистическая регрессия:"
   ]
  },
  {
   "cell_type": "code",
   "execution_count": 13,
   "metadata": {},
   "outputs": [
    {
     "name": "stdout",
     "output_type": "stream",
     "text": [
      "Accuracy модели на валидационной выборке: 0.7387247278382582\n"
     ]
    }
   ],
   "source": [
    "model_lr = LogisticRegression(random_state=12345, solver='lbfgs', max_iter=1000) # инициализируем модель LogisticRegression \n",
    "model_lr.fit(features_train, target_train) # обучаем модель на тренировочной выборке\n",
    "predictions_valid = model_lr.predict(features_valid) # получаем предсказания модели на валидационной выборке\n",
    "result_lr = accuracy_score(target_valid, predictions_valid) # посчитаем значение метрики accuracy на валидационной выборке\n",
    "print(\"Accuracy модели на валидационной выборке:\", result_lr)"
   ]
  },
  {
   "cell_type": "markdown",
   "metadata": {},
   "source": [
    "**Выводы**\n",
    "\n",
    "Наилучший результат на валидационной выборке показала модель случайного леса с числом деревьев 40 и максимальной\n",
    "глубиной дерева 9 - доля правильных ответов составляет 82,1 %. Второй результат показала модель решающего дерева\n",
    "с максимальной глубиной дерева 5 - в этом случае показатель правильности accuracy равен 78,5 %, при этом модель работает\n",
    "значительно быстрее. Третье место - у модели логистической регрессии с accuracy равным 73,9 %."
   ]
  },
  {
   "cell_type": "markdown",
   "metadata": {},
   "source": [
    "## Проверьте модель на тестовой выборке"
   ]
  },
  {
   "cell_type": "markdown",
   "metadata": {},
   "source": [
    "Случайный лес:"
   ]
  },
  {
   "cell_type": "code",
   "execution_count": 14,
   "metadata": {},
   "outputs": [
    {
     "name": "stdout",
     "output_type": "stream",
     "text": [
      "Accuracy наилучшей модели RandomForestClassifier на тестовой выборке: 0.8289269051321928\n"
     ]
    }
   ],
   "source": [
    "model = RandomForestClassifier(random_state=12345, n_estimators = 40, max_depth=9) # инициализируем модель RandomForestClassifier \n",
    "model.fit(pd.concat([features_train, features_valid]), pd.concat([target_train, target_valid])) # обучаем модель на тренировочной выборке\n",
    "predictions_test = model.predict(features_test) # получаем предсказания модели на тестовой выборке\n",
    "result = accuracy_score(target_test, predictions_test) # посчитаем значение метрики accuracy на тестовой выборке\n",
    "print(\"Accuracy наилучшей модели RandomForestClassifier на тестовой выборке:\", result)    "
   ]
  },
  {
   "cell_type": "markdown",
   "metadata": {},
   "source": [
    "**Выводы**\n",
    "\n",
    "Доля правильных ответов на тестовой выборке модели случайного леса с числом деревьев 40 и максимальной глубиной дерева 9 составляет 83,0 %."
   ]
  },
  {
   "cell_type": "markdown",
   "metadata": {},
   "source": [
    "## (бонус) Проверьте модели на адекватность"
   ]
  },
  {
   "cell_type": "markdown",
   "metadata": {},
   "source": [
    "Рассчитываем accuracy константной модели: любому объекту она прогнозирует класс «0»:"
   ]
  },
  {
   "cell_type": "code",
   "execution_count": 15,
   "metadata": {},
   "outputs": [
    {
     "name": "stdout",
     "output_type": "stream",
     "text": [
      "0.6936236391912908\n"
     ]
    }
   ],
   "source": [
    "target_pred_constant = pd.Series(0, index = target_test.index)\n",
    "print(accuracy_score(target_test, target_pred_constant))"
   ]
  },
  {
   "cell_type": "markdown",
   "metadata": {},
   "source": [
    "Очевидные границы: accuracy не может быть меньше нуля (все ответы неправильные) и больше единицы (все ответы правильные). Всегда стоит сравнивать модель со случайной - так мы сможем оценить её адекватность, или проверить на вменяемость. Случайные ответы даёт долю правильных ответов, равной 69 %, то есть результат 83 % на самом деле не является высоким. "
   ]
  },
  {
   "cell_type": "markdown",
   "metadata": {},
   "source": [
    "## Общие выводы"
   ]
  },
  {
   "cell_type": "markdown",
   "metadata": {},
   "source": [
    "Исследование прошло в 5 этапов:\n",
    "1. Изучение данные;\n",
    "2. Разбиение данных на выборки;\n",
    "3. Исследование качества разных моделей, меняя гиперпараметры;\n",
    "4. Проверка качества модели на тестовой выборке;\n",
    "5. Проверка модели на вменяемость. \n",
    " \n",
    "На первом этапе был выполнен обзор данных, в ходе которого определялось их качество и наличие ошибок. Предобработка данных не понадобилась.\n",
    "\n",
    "На второй этапе исходные данные разделялись на обучающую, валидационную и тестовую выборки в соотношении 60%, 20% и 20% соответственно.\n",
    "\n",
    "На третьем этапе исследовалось качество разных моделей. Наилучший результат на валидационной выборке показала модель случайного леса с числом деревьев 40 и максимальной глубиной дерева 10 - доля правильных ответов составляет 80,9 %. Второй результат показала модель решающего дерева с максимальной глубиной дерева 5 - в этом случае показатель правильности accuracy равен 78,5 %, при этом модель работает значительно быстрее. Третье место - у модели логистической регрессии с accuracy равным 71,1 %.\n",
    "\n",
    "На четвёртом этапе проверялось качество моделей уже на тестовой выборке - доля правильных ответов лучшей модели составляет 80,1 %.\n",
    "\n",
    "На заключительном этапе проверялась модель на адекватность. Так как результат оказался значительно выше, чем у случайных ответов, можно сказать, что модель вменяема. "
   ]
  }
 ],
 "metadata": {
  "ExecuteTimeLog": [
   {
    "duration": 41,
    "start_time": "2022-07-31T14:01:41.879Z"
   },
   {
    "duration": 1032,
    "start_time": "2022-07-31T14:01:47.296Z"
   },
   {
    "duration": 9,
    "start_time": "2022-07-31T14:02:08.790Z"
   },
   {
    "duration": 3,
    "start_time": "2022-07-31T14:02:31.222Z"
   },
   {
    "duration": 62,
    "start_time": "2022-07-31T14:02:35.378Z"
   },
   {
    "duration": 24,
    "start_time": "2022-07-31T14:02:50.936Z"
   },
   {
    "duration": 35,
    "start_time": "2022-07-31T14:03:12.465Z"
   },
   {
    "duration": 9,
    "start_time": "2022-07-31T14:03:52.094Z"
   },
   {
    "duration": 5,
    "start_time": "2022-07-31T14:04:23.014Z"
   },
   {
    "duration": 6,
    "start_time": "2022-07-31T14:05:04.212Z"
   },
   {
    "duration": 11,
    "start_time": "2022-07-31T14:28:43.812Z"
   },
   {
    "duration": 46,
    "start_time": "2022-07-31T14:28:46.070Z"
   },
   {
    "duration": 11,
    "start_time": "2022-07-31T14:28:48.509Z"
   },
   {
    "duration": 5,
    "start_time": "2022-07-31T14:28:50.522Z"
   },
   {
    "duration": 6,
    "start_time": "2022-07-31T14:28:52.861Z"
   },
   {
    "duration": 9,
    "start_time": "2022-07-31T14:28:55.168Z"
   },
   {
    "duration": 5,
    "start_time": "2022-07-31T14:29:08.959Z"
   },
   {
    "duration": 29,
    "start_time": "2022-07-31T14:29:14.057Z"
   },
   {
    "duration": 4082,
    "start_time": "2022-07-31T14:29:24.520Z"
   },
   {
    "duration": 22,
    "start_time": "2022-07-31T14:31:34.333Z"
   },
   {
    "duration": 1114,
    "start_time": "2022-08-06T12:51:53.631Z"
   },
   {
    "duration": 85,
    "start_time": "2022-08-06T12:51:54.746Z"
   },
   {
    "duration": 12,
    "start_time": "2022-08-06T12:51:56.367Z"
   },
   {
    "duration": 8,
    "start_time": "2022-08-06T12:51:58.066Z"
   },
   {
    "duration": 12,
    "start_time": "2022-08-06T12:52:16.337Z"
   },
   {
    "duration": 35,
    "start_time": "2022-08-06T12:52:28.072Z"
   },
   {
    "duration": 3949,
    "start_time": "2022-08-06T12:52:29.612Z"
   },
   {
    "duration": 32,
    "start_time": "2022-08-06T12:52:33.563Z"
   },
   {
    "duration": 111,
    "start_time": "2022-08-06T12:56:58.998Z"
   },
   {
    "duration": 12,
    "start_time": "2022-08-06T12:57:10.885Z"
   },
   {
    "duration": 134,
    "start_time": "2022-08-06T12:58:55.748Z"
   },
   {
    "duration": 143,
    "start_time": "2022-08-06T12:59:29.182Z"
   },
   {
    "duration": 28,
    "start_time": "2022-08-06T13:01:52.567Z"
   },
   {
    "duration": 78,
    "start_time": "2022-08-07T07:49:54.021Z"
   },
   {
    "duration": 75,
    "start_time": "2022-08-07T08:02:34.949Z"
   },
   {
    "duration": 76,
    "start_time": "2022-08-07T08:05:21.062Z"
   },
   {
    "duration": 1111,
    "start_time": "2022-08-07T08:37:30.367Z"
   },
   {
    "duration": 85,
    "start_time": "2022-08-07T08:37:31.479Z"
   },
   {
    "duration": 9,
    "start_time": "2022-08-07T08:37:31.566Z"
   },
   {
    "duration": 7,
    "start_time": "2022-08-07T08:37:31.725Z"
   },
   {
    "duration": 6,
    "start_time": "2022-08-07T08:37:32.532Z"
   },
   {
    "duration": 7,
    "start_time": "2022-08-07T08:37:33.117Z"
   },
   {
    "duration": 27,
    "start_time": "2022-08-07T08:37:33.691Z"
   },
   {
    "duration": 3313,
    "start_time": "2022-08-07T08:37:34.051Z"
   },
   {
    "duration": 34,
    "start_time": "2022-08-07T08:37:37.366Z"
   },
   {
    "duration": 15,
    "start_time": "2022-08-07T08:37:37.404Z"
   },
   {
    "duration": 155,
    "start_time": "2022-08-07T08:37:37.421Z"
   },
   {
    "duration": 28,
    "start_time": "2022-08-07T08:37:37.578Z"
   },
   {
    "duration": 1307,
    "start_time": "2022-08-07T12:57:04.250Z"
   },
   {
    "duration": 131,
    "start_time": "2022-08-07T12:57:05.559Z"
   },
   {
    "duration": 12,
    "start_time": "2022-08-07T12:57:05.691Z"
   },
   {
    "duration": 6,
    "start_time": "2022-08-07T12:57:05.705Z"
   },
   {
    "duration": 14,
    "start_time": "2022-08-07T12:57:05.712Z"
   },
   {
    "duration": 8,
    "start_time": "2022-08-07T12:57:05.728Z"
   },
   {
    "duration": 34,
    "start_time": "2022-08-07T12:57:05.738Z"
   },
   {
    "duration": 3571,
    "start_time": "2022-08-07T12:57:05.774Z"
   },
   {
    "duration": 20,
    "start_time": "2022-08-07T12:57:09.347Z"
   },
   {
    "duration": 11,
    "start_time": "2022-08-07T12:57:09.369Z"
   },
   {
    "duration": 160,
    "start_time": "2022-08-07T12:57:09.381Z"
   },
   {
    "duration": 21,
    "start_time": "2022-08-07T12:57:09.543Z"
   },
   {
    "duration": 1037,
    "start_time": "2022-08-14T10:23:54.633Z"
   },
   {
    "duration": 146,
    "start_time": "2022-08-14T10:23:58.654Z"
   },
   {
    "duration": 11,
    "start_time": "2022-08-14T10:23:59.389Z"
   },
   {
    "duration": 8,
    "start_time": "2022-08-14T10:23:59.774Z"
   },
   {
    "duration": 7,
    "start_time": "2022-08-14T10:24:00.535Z"
   },
   {
    "duration": 116,
    "start_time": "2022-08-14T10:24:01.765Z"
   },
   {
    "duration": 10,
    "start_time": "2022-08-14T10:28:16.003Z"
   },
   {
    "duration": 17,
    "start_time": "2022-08-14T10:29:35.384Z"
   },
   {
    "duration": 7,
    "start_time": "2022-08-14T10:29:41.438Z"
   },
   {
    "duration": 46,
    "start_time": "2022-08-14T10:34:34.332Z"
   },
   {
    "duration": 15,
    "start_time": "2022-08-14T10:34:43.149Z"
   },
   {
    "duration": 15,
    "start_time": "2022-08-14T10:35:22.236Z"
   },
   {
    "duration": 13,
    "start_time": "2022-08-14T10:35:42.136Z"
   },
   {
    "duration": 3,
    "start_time": "2022-08-14T10:35:57.495Z"
   },
   {
    "duration": 41,
    "start_time": "2022-08-14T10:35:58.253Z"
   },
   {
    "duration": 10,
    "start_time": "2022-08-14T10:35:58.653Z"
   },
   {
    "duration": 6,
    "start_time": "2022-08-14T10:35:59.306Z"
   },
   {
    "duration": 6,
    "start_time": "2022-08-14T10:35:59.803Z"
   },
   {
    "duration": 5,
    "start_time": "2022-08-14T10:36:00.430Z"
   },
   {
    "duration": 14,
    "start_time": "2022-08-14T10:36:03.120Z"
   },
   {
    "duration": 7,
    "start_time": "2022-08-14T10:36:24.795Z"
   },
   {
    "duration": 5,
    "start_time": "2022-08-14T10:39:25.727Z"
   },
   {
    "duration": 4,
    "start_time": "2022-08-14T10:39:59.617Z"
   },
   {
    "duration": 17,
    "start_time": "2022-08-14T10:43:05.626Z"
   },
   {
    "duration": 9,
    "start_time": "2022-08-14T10:43:20.174Z"
   },
   {
    "duration": 4,
    "start_time": "2022-08-14T11:12:03.075Z"
   },
   {
    "duration": 4,
    "start_time": "2022-08-14T11:12:29.775Z"
   },
   {
    "duration": 4,
    "start_time": "2022-08-14T11:12:42.828Z"
   },
   {
    "duration": 5,
    "start_time": "2022-08-14T11:12:58.888Z"
   },
   {
    "duration": 5,
    "start_time": "2022-08-14T11:13:05.906Z"
   },
   {
    "duration": 5,
    "start_time": "2022-08-14T11:13:09.625Z"
   },
   {
    "duration": 5,
    "start_time": "2022-08-14T11:59:32.948Z"
   },
   {
    "duration": 48,
    "start_time": "2022-08-14T11:59:34.645Z"
   },
   {
    "duration": 14,
    "start_time": "2022-08-14T11:59:35.021Z"
   },
   {
    "duration": 7,
    "start_time": "2022-08-14T11:59:35.412Z"
   },
   {
    "duration": 7,
    "start_time": "2022-08-14T11:59:35.862Z"
   },
   {
    "duration": 8,
    "start_time": "2022-08-14T11:59:36.281Z"
   },
   {
    "duration": 12,
    "start_time": "2022-08-14T11:59:39.013Z"
   },
   {
    "duration": 5,
    "start_time": "2022-08-14T11:59:42.162Z"
   },
   {
    "duration": 16,
    "start_time": "2022-08-14T11:59:52.670Z"
   },
   {
    "duration": 36,
    "start_time": "2022-08-14T12:00:06.258Z"
   },
   {
    "duration": 2014,
    "start_time": "2022-08-14T12:00:41.968Z"
   },
   {
    "duration": 1595,
    "start_time": "2022-08-14T12:00:57.314Z"
   },
   {
    "duration": 4,
    "start_time": "2022-08-14T12:03:45.861Z"
   },
   {
    "duration": 69,
    "start_time": "2022-08-14T12:03:46.678Z"
   },
   {
    "duration": 11,
    "start_time": "2022-08-14T12:03:47.212Z"
   },
   {
    "duration": 9,
    "start_time": "2022-08-14T12:03:47.627Z"
   },
   {
    "duration": 7,
    "start_time": "2022-08-14T12:03:49.124Z"
   },
   {
    "duration": 9,
    "start_time": "2022-08-14T12:03:49.685Z"
   },
   {
    "duration": 11,
    "start_time": "2022-08-14T12:03:50.823Z"
   },
   {
    "duration": 5,
    "start_time": "2022-08-14T12:03:51.475Z"
   },
   {
    "duration": 29,
    "start_time": "2022-08-14T12:03:53.547Z"
   },
   {
    "duration": 1701,
    "start_time": "2022-08-14T12:03:54.343Z"
   },
   {
    "duration": 2002,
    "start_time": "2022-08-14T12:04:14.308Z"
   },
   {
    "duration": 1993,
    "start_time": "2022-08-14T12:04:30.042Z"
   },
   {
    "duration": 1868,
    "start_time": "2022-08-14T12:04:41.749Z"
   },
   {
    "duration": 1929,
    "start_time": "2022-08-14T12:04:49.433Z"
   },
   {
    "duration": 2136,
    "start_time": "2022-08-14T12:05:00.483Z"
   },
   {
    "duration": 2375,
    "start_time": "2022-08-14T12:05:14.782Z"
   },
   {
    "duration": 2283,
    "start_time": "2022-08-14T12:06:13.504Z"
   },
   {
    "duration": 69,
    "start_time": "2022-08-14T12:10:50.359Z"
   },
   {
    "duration": 29,
    "start_time": "2022-08-14T12:15:09.874Z"
   },
   {
    "duration": 60,
    "start_time": "2022-08-14T12:17:16.718Z"
   },
   {
    "duration": 51,
    "start_time": "2022-08-14T12:17:17.548Z"
   },
   {
    "duration": 17,
    "start_time": "2022-08-14T12:17:17.886Z"
   },
   {
    "duration": 9,
    "start_time": "2022-08-14T12:17:18.227Z"
   },
   {
    "duration": 9,
    "start_time": "2022-08-14T12:17:18.575Z"
   },
   {
    "duration": 10,
    "start_time": "2022-08-14T12:17:18.934Z"
   },
   {
    "duration": 9,
    "start_time": "2022-08-14T12:17:19.845Z"
   },
   {
    "duration": 4,
    "start_time": "2022-08-14T12:17:20.217Z"
   },
   {
    "duration": 30,
    "start_time": "2022-08-14T12:17:21.172Z"
   },
   {
    "duration": 1833,
    "start_time": "2022-08-14T12:17:21.545Z"
   },
   {
    "duration": 33,
    "start_time": "2022-08-14T12:17:23.386Z"
   },
   {
    "duration": 119,
    "start_time": "2022-08-14T12:17:53.211Z"
   },
   {
    "duration": 236,
    "start_time": "2022-08-14T12:20:48.129Z"
   },
   {
    "duration": 145,
    "start_time": "2022-08-14T12:22:18.500Z"
   },
   {
    "duration": 196,
    "start_time": "2022-08-14T12:23:16.435Z"
   },
   {
    "duration": 203,
    "start_time": "2022-08-14T12:23:24.956Z"
   },
   {
    "duration": 1631,
    "start_time": "2022-08-14T13:58:41.637Z"
   },
   {
    "duration": 190,
    "start_time": "2022-08-14T13:58:43.270Z"
   },
   {
    "duration": 11,
    "start_time": "2022-08-14T13:58:43.462Z"
   },
   {
    "duration": 6,
    "start_time": "2022-08-14T13:58:43.475Z"
   },
   {
    "duration": 18,
    "start_time": "2022-08-14T13:58:43.537Z"
   },
   {
    "duration": 6,
    "start_time": "2022-08-14T13:58:43.901Z"
   },
   {
    "duration": 8,
    "start_time": "2022-08-14T13:58:45.081Z"
   },
   {
    "duration": 4,
    "start_time": "2022-08-14T13:58:45.554Z"
   },
   {
    "duration": 36,
    "start_time": "2022-08-14T13:58:48.644Z"
   },
   {
    "duration": 2042,
    "start_time": "2022-08-14T13:58:49.156Z"
   },
   {
    "duration": 198,
    "start_time": "2022-08-14T13:58:51.200Z"
   },
   {
    "duration": 212,
    "start_time": "2022-08-14T13:58:54.359Z"
   },
   {
    "duration": 4079,
    "start_time": "2022-08-14T13:59:08.473Z"
   },
   {
    "duration": 66,
    "start_time": "2022-08-14T13:59:37.540Z"
   },
   {
    "duration": 33,
    "start_time": "2022-08-14T14:01:11.074Z"
   },
   {
    "duration": 46,
    "start_time": "2022-08-14T14:01:22.394Z"
   },
   {
    "duration": 4,
    "start_time": "2022-08-14T14:01:38.187Z"
   },
   {
    "duration": 40,
    "start_time": "2022-08-14T14:01:39.041Z"
   },
   {
    "duration": 18,
    "start_time": "2022-08-14T14:01:39.401Z"
   },
   {
    "duration": 12,
    "start_time": "2022-08-14T14:01:39.939Z"
   },
   {
    "duration": 13,
    "start_time": "2022-08-14T14:01:40.435Z"
   },
   {
    "duration": 11,
    "start_time": "2022-08-14T14:01:40.827Z"
   },
   {
    "duration": 12,
    "start_time": "2022-08-14T14:01:41.838Z"
   },
   {
    "duration": 6,
    "start_time": "2022-08-14T14:01:42.232Z"
   },
   {
    "duration": 31,
    "start_time": "2022-08-14T14:01:43.051Z"
   },
   {
    "duration": 2014,
    "start_time": "2022-08-14T14:01:43.854Z"
   },
   {
    "duration": 244,
    "start_time": "2022-08-14T14:01:45.870Z"
   },
   {
    "duration": 3979,
    "start_time": "2022-08-14T14:01:47.798Z"
   },
   {
    "duration": 45,
    "start_time": "2022-08-14T14:01:53.891Z"
   },
   {
    "duration": 31,
    "start_time": "2022-08-14T14:25:53.231Z"
   },
   {
    "duration": 1859,
    "start_time": "2022-08-14T14:25:55.434Z"
   },
   {
    "duration": 242,
    "start_time": "2022-08-14T14:25:57.295Z"
   },
   {
    "duration": 31,
    "start_time": "2022-08-14T14:26:20.184Z"
   },
   {
    "duration": 1945,
    "start_time": "2022-08-14T14:26:21.284Z"
   },
   {
    "duration": 192,
    "start_time": "2022-08-14T14:26:23.231Z"
   },
   {
    "duration": 72,
    "start_time": "2022-08-14T14:30:14.461Z"
   },
   {
    "duration": 4,
    "start_time": "2022-08-14T14:31:48.427Z"
   },
   {
    "duration": 70,
    "start_time": "2022-08-14T14:32:02.429Z"
   },
   {
    "duration": 14,
    "start_time": "2022-08-14T14:32:21.385Z"
   },
   {
    "duration": 4,
    "start_time": "2022-08-14T14:33:11.078Z"
   },
   {
    "duration": 38,
    "start_time": "2022-08-14T14:33:11.819Z"
   },
   {
    "duration": 10,
    "start_time": "2022-08-14T14:33:12.148Z"
   },
   {
    "duration": 5,
    "start_time": "2022-08-14T14:33:12.519Z"
   },
   {
    "duration": 6,
    "start_time": "2022-08-14T14:33:12.856Z"
   },
   {
    "duration": 5,
    "start_time": "2022-08-14T14:33:13.238Z"
   },
   {
    "duration": 8,
    "start_time": "2022-08-14T14:33:14.635Z"
   },
   {
    "duration": 4,
    "start_time": "2022-08-14T14:33:15.622Z"
   },
   {
    "duration": 32,
    "start_time": "2022-08-14T14:33:16.749Z"
   },
   {
    "duration": 1798,
    "start_time": "2022-08-14T14:33:17.134Z"
   },
   {
    "duration": 190,
    "start_time": "2022-08-14T14:33:18.934Z"
   },
   {
    "duration": 3556,
    "start_time": "2022-08-14T14:33:19.125Z"
   },
   {
    "duration": 45,
    "start_time": "2022-08-14T14:33:22.682Z"
   },
   {
    "duration": 11,
    "start_time": "2022-08-14T14:33:31.926Z"
   },
   {
    "duration": 153,
    "start_time": "2022-08-14T14:34:47.850Z"
   },
   {
    "duration": 5,
    "start_time": "2022-08-14T14:34:57.032Z"
   },
   {
    "duration": 1917,
    "start_time": "2022-08-15T07:20:33.747Z"
   },
   {
    "duration": 86,
    "start_time": "2022-08-15T07:20:35.666Z"
   },
   {
    "duration": 13,
    "start_time": "2022-08-15T07:20:35.754Z"
   },
   {
    "duration": 5,
    "start_time": "2022-08-15T07:20:35.769Z"
   },
   {
    "duration": 7,
    "start_time": "2022-08-15T07:20:36.722Z"
   },
   {
    "duration": 8,
    "start_time": "2022-08-15T07:20:37.400Z"
   },
   {
    "duration": 10,
    "start_time": "2022-08-15T07:20:38.759Z"
   },
   {
    "duration": 5,
    "start_time": "2022-08-15T07:20:39.221Z"
   },
   {
    "duration": 43,
    "start_time": "2022-08-15T07:20:40.368Z"
   },
   {
    "duration": 2213,
    "start_time": "2022-08-15T07:20:40.795Z"
   },
   {
    "duration": 196,
    "start_time": "2022-08-15T07:20:43.010Z"
   },
   {
    "duration": 4117,
    "start_time": "2022-08-15T07:20:45.023Z"
   },
   {
    "duration": 40,
    "start_time": "2022-08-15T07:20:52.234Z"
   },
   {
    "duration": 180,
    "start_time": "2022-08-15T07:21:16.054Z"
   },
   {
    "duration": 5,
    "start_time": "2022-08-15T07:22:03.377Z"
   }
  ],
  "kernelspec": {
   "display_name": "Python 3 (ipykernel)",
   "language": "python",
   "name": "python3"
  },
  "language_info": {
   "codemirror_mode": {
    "name": "ipython",
    "version": 3
   },
   "file_extension": ".py",
   "mimetype": "text/x-python",
   "name": "python",
   "nbconvert_exporter": "python",
   "pygments_lexer": "ipython3",
   "version": "3.9.12"
  },
  "toc": {
   "base_numbering": 1,
   "nav_menu": {},
   "number_sections": true,
   "sideBar": true,
   "skip_h1_title": true,
   "title_cell": "Table of Contents",
   "title_sidebar": "Contents",
   "toc_cell": false,
   "toc_position": {},
   "toc_section_display": true,
   "toc_window_display": false
  }
 },
 "nbformat": 4,
 "nbformat_minor": 2
}
