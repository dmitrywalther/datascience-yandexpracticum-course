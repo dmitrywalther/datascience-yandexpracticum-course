{
 "cells": [
  {
   "cell_type": "markdown",
   "metadata": {},
   "source": [
    "# Исследование объявлений о продаже квартир\n",
    "\n",
    "В вашем распоряжении данные сервиса Яндекс.Недвижимость — архив объявлений о продаже квартир в Санкт-Петербурге и соседних населённых пунктов за несколько лет. Нужно научиться определять рыночную стоимость объектов недвижимости. Ваша задача — установить параметры. Это позволит построить автоматизированную систему: она отследит аномалии и мошенническую деятельность. \n",
    "\n",
    "По каждой квартире на продажу доступны два вида данных. Первые вписаны пользователем, вторые — получены автоматически на основе картографических данных. Например, расстояние до центра, аэропорта, ближайшего парка и водоёма. \n",
    "\n",
    "**Цель исследования** - определить факторы, которые больше всего влияют на рыночную стоимость объектов недвижимости.\n",
    "\n",
    "**Задачи исследования**:\n",
    "1. Изучить параметры объявлений и описать наблюдения по ним;\n",
    "2. Изучить, как быстро продавались квартиры;\n",
    "3. Изучить, зависит ли цена от общей площади, жилой площади, площади кухни, количества комнат, этажа, даты размещения. Определить, какие факторы больше всего влияют на общую (полную) стоимость объекта;\n",
    "4. Посчитать среднюю цену одного квадратного метра в 10 населённых пунктах с наибольшим числом объявлений. Выделить населённые пункты с самой высокой и низкой стоимостью квадратного метра.\n",
    "5. Определить как стоимость объектов зависит от расстояния до центра города.\n",
    "\n",
    "**Ход исследования**\n",
    "\n",
    "О качестве данных ничего не известно. Поэтому перед проверкой гипотез понадобится обзор данных. \n",
    "\n",
    "Проверив данные на ошибки, на этапе предобработки будем искать возможность исправить самые критичные из них.\n",
    " \n",
    "Таким образом, исследование пройдёт в три этапа:\n",
    " 1. Обзор данных;\n",
    " 2. Предобработка данных;\n",
    " 3. Исследовательский анализ данных и проверка гипотез."
   ]
  },
  {
   "cell_type": "markdown",
   "metadata": {},
   "source": [
    "### Откройте файл с данными и изучите общую информацию. "
   ]
  },
  {
   "cell_type": "markdown",
   "metadata": {},
   "source": [
    "Загружаем данные из файла:"
   ]
  },
  {
   "cell_type": "code",
   "execution_count": 172,
   "metadata": {
    "scrolled": false
   },
   "outputs": [
    {
     "data": {
      "text/html": [
       "<div>\n",
       "<style scoped>\n",
       "    .dataframe tbody tr th:only-of-type {\n",
       "        vertical-align: middle;\n",
       "    }\n",
       "\n",
       "    .dataframe tbody tr th {\n",
       "        vertical-align: top;\n",
       "    }\n",
       "\n",
       "    .dataframe thead th {\n",
       "        text-align: right;\n",
       "    }\n",
       "</style>\n",
       "<table border=\"1\" class=\"dataframe\">\n",
       "  <thead>\n",
       "    <tr style=\"text-align: right;\">\n",
       "      <th></th>\n",
       "      <th>total_images</th>\n",
       "      <th>last_price</th>\n",
       "      <th>total_area</th>\n",
       "      <th>first_day_exposition</th>\n",
       "      <th>rooms</th>\n",
       "      <th>ceiling_height</th>\n",
       "      <th>floors_total</th>\n",
       "      <th>living_area</th>\n",
       "      <th>floor</th>\n",
       "      <th>is_apartment</th>\n",
       "      <th>...</th>\n",
       "      <th>kitchen_area</th>\n",
       "      <th>balcony</th>\n",
       "      <th>locality_name</th>\n",
       "      <th>airports_nearest</th>\n",
       "      <th>cityCenters_nearest</th>\n",
       "      <th>parks_around3000</th>\n",
       "      <th>parks_nearest</th>\n",
       "      <th>ponds_around3000</th>\n",
       "      <th>ponds_nearest</th>\n",
       "      <th>days_exposition</th>\n",
       "    </tr>\n",
       "  </thead>\n",
       "  <tbody>\n",
       "    <tr>\n",
       "      <th>0</th>\n",
       "      <td>20</td>\n",
       "      <td>13000000.0</td>\n",
       "      <td>108.0</td>\n",
       "      <td>2019-03-07T00:00:00</td>\n",
       "      <td>3</td>\n",
       "      <td>2.70</td>\n",
       "      <td>16.0</td>\n",
       "      <td>51.0</td>\n",
       "      <td>8</td>\n",
       "      <td>NaN</td>\n",
       "      <td>...</td>\n",
       "      <td>25.0</td>\n",
       "      <td>NaN</td>\n",
       "      <td>Санкт-Петербург</td>\n",
       "      <td>18863.0</td>\n",
       "      <td>16028.0</td>\n",
       "      <td>1.0</td>\n",
       "      <td>482.0</td>\n",
       "      <td>2.0</td>\n",
       "      <td>755.0</td>\n",
       "      <td>NaN</td>\n",
       "    </tr>\n",
       "    <tr>\n",
       "      <th>1</th>\n",
       "      <td>7</td>\n",
       "      <td>3350000.0</td>\n",
       "      <td>40.4</td>\n",
       "      <td>2018-12-04T00:00:00</td>\n",
       "      <td>1</td>\n",
       "      <td>NaN</td>\n",
       "      <td>11.0</td>\n",
       "      <td>18.6</td>\n",
       "      <td>1</td>\n",
       "      <td>NaN</td>\n",
       "      <td>...</td>\n",
       "      <td>11.0</td>\n",
       "      <td>2.0</td>\n",
       "      <td>посёлок Шушары</td>\n",
       "      <td>12817.0</td>\n",
       "      <td>18603.0</td>\n",
       "      <td>0.0</td>\n",
       "      <td>NaN</td>\n",
       "      <td>0.0</td>\n",
       "      <td>NaN</td>\n",
       "      <td>81.0</td>\n",
       "    </tr>\n",
       "    <tr>\n",
       "      <th>2</th>\n",
       "      <td>10</td>\n",
       "      <td>5196000.0</td>\n",
       "      <td>56.0</td>\n",
       "      <td>2015-08-20T00:00:00</td>\n",
       "      <td>2</td>\n",
       "      <td>NaN</td>\n",
       "      <td>5.0</td>\n",
       "      <td>34.3</td>\n",
       "      <td>4</td>\n",
       "      <td>NaN</td>\n",
       "      <td>...</td>\n",
       "      <td>8.3</td>\n",
       "      <td>0.0</td>\n",
       "      <td>Санкт-Петербург</td>\n",
       "      <td>21741.0</td>\n",
       "      <td>13933.0</td>\n",
       "      <td>1.0</td>\n",
       "      <td>90.0</td>\n",
       "      <td>2.0</td>\n",
       "      <td>574.0</td>\n",
       "      <td>558.0</td>\n",
       "    </tr>\n",
       "    <tr>\n",
       "      <th>3</th>\n",
       "      <td>0</td>\n",
       "      <td>64900000.0</td>\n",
       "      <td>159.0</td>\n",
       "      <td>2015-07-24T00:00:00</td>\n",
       "      <td>3</td>\n",
       "      <td>NaN</td>\n",
       "      <td>14.0</td>\n",
       "      <td>NaN</td>\n",
       "      <td>9</td>\n",
       "      <td>NaN</td>\n",
       "      <td>...</td>\n",
       "      <td>NaN</td>\n",
       "      <td>0.0</td>\n",
       "      <td>Санкт-Петербург</td>\n",
       "      <td>28098.0</td>\n",
       "      <td>6800.0</td>\n",
       "      <td>2.0</td>\n",
       "      <td>84.0</td>\n",
       "      <td>3.0</td>\n",
       "      <td>234.0</td>\n",
       "      <td>424.0</td>\n",
       "    </tr>\n",
       "    <tr>\n",
       "      <th>4</th>\n",
       "      <td>2</td>\n",
       "      <td>10000000.0</td>\n",
       "      <td>100.0</td>\n",
       "      <td>2018-06-19T00:00:00</td>\n",
       "      <td>2</td>\n",
       "      <td>3.03</td>\n",
       "      <td>14.0</td>\n",
       "      <td>32.0</td>\n",
       "      <td>13</td>\n",
       "      <td>NaN</td>\n",
       "      <td>...</td>\n",
       "      <td>41.0</td>\n",
       "      <td>NaN</td>\n",
       "      <td>Санкт-Петербург</td>\n",
       "      <td>31856.0</td>\n",
       "      <td>8098.0</td>\n",
       "      <td>2.0</td>\n",
       "      <td>112.0</td>\n",
       "      <td>1.0</td>\n",
       "      <td>48.0</td>\n",
       "      <td>121.0</td>\n",
       "    </tr>\n",
       "  </tbody>\n",
       "</table>\n",
       "<p>5 rows × 22 columns</p>\n",
       "</div>"
      ],
      "text/plain": [
       "   total_images  last_price  total_area first_day_exposition  rooms  \\\n",
       "0            20  13000000.0       108.0  2019-03-07T00:00:00      3   \n",
       "1             7   3350000.0        40.4  2018-12-04T00:00:00      1   \n",
       "2            10   5196000.0        56.0  2015-08-20T00:00:00      2   \n",
       "3             0  64900000.0       159.0  2015-07-24T00:00:00      3   \n",
       "4             2  10000000.0       100.0  2018-06-19T00:00:00      2   \n",
       "\n",
       "   ceiling_height  floors_total  living_area  floor is_apartment  ...  \\\n",
       "0            2.70          16.0         51.0      8          NaN  ...   \n",
       "1             NaN          11.0         18.6      1          NaN  ...   \n",
       "2             NaN           5.0         34.3      4          NaN  ...   \n",
       "3             NaN          14.0          NaN      9          NaN  ...   \n",
       "4            3.03          14.0         32.0     13          NaN  ...   \n",
       "\n",
       "   kitchen_area  balcony    locality_name  airports_nearest  \\\n",
       "0          25.0      NaN  Санкт-Петербург           18863.0   \n",
       "1          11.0      2.0   посёлок Шушары           12817.0   \n",
       "2           8.3      0.0  Санкт-Петербург           21741.0   \n",
       "3           NaN      0.0  Санкт-Петербург           28098.0   \n",
       "4          41.0      NaN  Санкт-Петербург           31856.0   \n",
       "\n",
       "  cityCenters_nearest  parks_around3000  parks_nearest  ponds_around3000  \\\n",
       "0             16028.0               1.0          482.0               2.0   \n",
       "1             18603.0               0.0            NaN               0.0   \n",
       "2             13933.0               1.0           90.0               2.0   \n",
       "3              6800.0               2.0           84.0               3.0   \n",
       "4              8098.0               2.0          112.0               1.0   \n",
       "\n",
       "   ponds_nearest  days_exposition  \n",
       "0          755.0              NaN  \n",
       "1            NaN             81.0  \n",
       "2          574.0            558.0  \n",
       "3          234.0            424.0  \n",
       "4           48.0            121.0  \n",
       "\n",
       "[5 rows x 22 columns]"
      ]
     },
     "execution_count": 172,
     "metadata": {},
     "output_type": "execute_result"
    }
   ],
   "source": [
    "import pandas as pd \n",
    "\n",
    "data = pd.read_csv('/datasets/real_estate_data.csv', sep='\\t')\n",
    "\n",
    "data.head(5)"
   ]
  },
  {
   "cell_type": "markdown",
   "metadata": {},
   "source": [
    "Выводим основную информацию:"
   ]
  },
  {
   "cell_type": "code",
   "execution_count": 173,
   "metadata": {},
   "outputs": [
    {
     "name": "stdout",
     "output_type": "stream",
     "text": [
      "<class 'pandas.core.frame.DataFrame'>\n",
      "RangeIndex: 23699 entries, 0 to 23698\n",
      "Data columns (total 22 columns):\n",
      " #   Column                Non-Null Count  Dtype  \n",
      "---  ------                --------------  -----  \n",
      " 0   total_images          23699 non-null  int64  \n",
      " 1   last_price            23699 non-null  float64\n",
      " 2   total_area            23699 non-null  float64\n",
      " 3   first_day_exposition  23699 non-null  object \n",
      " 4   rooms                 23699 non-null  int64  \n",
      " 5   ceiling_height        14504 non-null  float64\n",
      " 6   floors_total          23613 non-null  float64\n",
      " 7   living_area           21796 non-null  float64\n",
      " 8   floor                 23699 non-null  int64  \n",
      " 9   is_apartment          2775 non-null   object \n",
      " 10  studio                23699 non-null  bool   \n",
      " 11  open_plan             23699 non-null  bool   \n",
      " 12  kitchen_area          21421 non-null  float64\n",
      " 13  balcony               12180 non-null  float64\n",
      " 14  locality_name         23650 non-null  object \n",
      " 15  airports_nearest      18157 non-null  float64\n",
      " 16  cityCenters_nearest   18180 non-null  float64\n",
      " 17  parks_around3000      18181 non-null  float64\n",
      " 18  parks_nearest         8079 non-null   float64\n",
      " 19  ponds_around3000      18181 non-null  float64\n",
      " 20  ponds_nearest         9110 non-null   float64\n",
      " 21  days_exposition       20518 non-null  float64\n",
      "dtypes: bool(2), float64(14), int64(3), object(3)\n",
      "memory usage: 3.7+ MB\n"
     ]
    }
   ],
   "source": [
    "data.info()"
   ]
  },
  {
   "cell_type": "markdown",
   "metadata": {},
   "source": [
    "Строим общую гистограмму для всех столбцов таблицы:"
   ]
  },
  {
   "cell_type": "code",
   "execution_count": 174,
   "metadata": {},
   "outputs": [
    {
     "data": {
      "image/png": "[encoded data removed]",
      "text/plain": [
       "<Figure size 1080x1440 with 20 Axes>"
      ]
     },
     "metadata": {
      "needs_background": "light"
     },
     "output_type": "display_data"
    }
   ],
   "source": [
    "data.hist(figsize=(15, 20));"
   ]
  },
  {
   "cell_type": "markdown",
   "metadata": {},
   "source": [
    "Определяем, в каких столбцах есть пропуски:"
   ]
  },
  {
   "cell_type": "code",
   "execution_count": 175,
   "metadata": {},
   "outputs": [
    {
     "data": {
      "text/plain": [
       "total_images                0\n",
       "last_price                  0\n",
       "total_area                  0\n",
       "first_day_exposition        0\n",
       "rooms                       0\n",
       "ceiling_height           9195\n",
       "floors_total               86\n",
       "living_area              1903\n",
       "floor                       0\n",
       "is_apartment            20924\n",
       "studio                      0\n",
       "open_plan                   0\n",
       "kitchen_area             2278\n",
       "balcony                 11519\n",
       "locality_name              49\n",
       "airports_nearest         5542\n",
       "cityCenters_nearest      5519\n",
       "parks_around3000         5518\n",
       "parks_nearest           15620\n",
       "ponds_around3000         5518\n",
       "ponds_nearest           14589\n",
       "days_exposition          3181\n",
       "dtype: int64"
      ]
     },
     "execution_count": 175,
     "metadata": {},
     "output_type": "execute_result"
    }
   ],
   "source": [
    "data.isna().sum()"
   ]
  },
  {
   "cell_type": "markdown",
   "metadata": {},
   "source": [
    "Проверяем на наличие явных дубликатов:"
   ]
  },
  {
   "cell_type": "code",
   "execution_count": 176,
   "metadata": {},
   "outputs": [
    {
     "data": {
      "text/plain": [
       "0"
      ]
     },
     "execution_count": 176,
     "metadata": {},
     "output_type": "execute_result"
    }
   ],
   "source": [
    "data.duplicated().sum()"
   ]
  },
  {
   "cell_type": "markdown",
   "metadata": {},
   "source": [
    "**Выводы**\n",
    "\n",
    "В таблице 23 699 записей и 22 столбца. Данных достаточно для проверки гипотез. \n",
    "Явных дубликатов нет, однако количество значений в 14 столбцах (`ceiling_height`, `floors_total`, `living_area`, `is_apartment`, `kitchen_area`, `balcony`, `balcony`, `airports_nearest`, `cityCenters_nearest`, `parks_around3000`, `parks_nearest`, `ponds_around3000`, `ponds_nearest`, `days_exposition`) различается - значит, в данных есть пропущенные значения.\n",
    "Чтобы двигаться дальше, нужно устранить проблемы в данных."
   ]
  },
  {
   "cell_type": "markdown",
   "metadata": {},
   "source": [
    "### Предобработка данных"
   ]
  },
  {
   "cell_type": "markdown",
   "metadata": {},
   "source": [
    "Заполняем пропущенные значения, где это возможно."
   ]
  },
  {
   "cell_type": "markdown",
   "metadata": {},
   "source": [
    "Если продавец не указал число балконов, то, скорее всего, их в квартире нет. Такие пропуски правильно заменить на 0:"
   ]
  },
  {
   "cell_type": "code",
   "execution_count": 177,
   "metadata": {},
   "outputs": [],
   "source": [
    "data.loc[data['balcony'].isna(), 'balcony'] = 0 "
   ]
  },
  {
   "cell_type": "markdown",
   "metadata": {},
   "source": [
    "Если продавец не указал признак апартамента, то, скорее всего, это обычная квартира. Такие пропуски правильно заменить на False (не является апартаментом):"
   ]
  },
  {
   "cell_type": "code",
   "execution_count": 178,
   "metadata": {},
   "outputs": [],
   "source": [
    "data.loc[data['is_apartment'].isna(), 'is_apartment'] = False"
   ]
  },
  {
   "cell_type": "markdown",
   "metadata": {},
   "source": [
    "Если продавец не указал число парков в радиусе 3 км, то, скорее всего, их поблизости нет. Такие пропуски правильно заменить на 0:"
   ]
  },
  {
   "cell_type": "code",
   "execution_count": 179,
   "metadata": {},
   "outputs": [],
   "source": [
    "data.loc[data['parks_around3000'].isna(), 'parks_around3000'] = 0"
   ]
  },
  {
   "cell_type": "markdown",
   "metadata": {},
   "source": [
    "Если продавец не указал число водоёмов в радиусе 3 км, то, скорее всего, их поблизости нет. Такие пропуски правильно заменить на 0:"
   ]
  },
  {
   "cell_type": "code",
   "execution_count": 180,
   "metadata": {},
   "outputs": [],
   "source": [
    "data.loc[data['ponds_around3000'].isna(), 'ponds_around3000'] = 0"
   ]
  },
  {
   "cell_type": "markdown",
   "metadata": {},
   "source": [
    "Жилую площадь можно аппроксимировать через коэффициент отношения жилой площади к общей площади для объектов с заполненными значениями:"
   ]
  },
  {
   "cell_type": "code",
   "execution_count": 181,
   "metadata": {},
   "outputs": [],
   "source": [
    "live_to_total = data.loc[~data['living_area'].isna(), 'living_area'] / data.loc[~data['living_area'].isna(), 'total_area']\n",
    "live_to_total_coef = live_to_total.median()\n",
    "\n",
    "data.loc[data['living_area'].isna(), 'living_area'] = data.loc[data['living_area'].isna(), 'total_area'] * live_to_total_coef"
   ]
  },
  {
   "cell_type": "markdown",
   "metadata": {},
   "source": [
    "Площадь кухни можно аппроксимировать через коэффициент отношения площади кухни к общей площади для объектов с заполненными значениями:"
   ]
  },
  {
   "cell_type": "code",
   "execution_count": 182,
   "metadata": {},
   "outputs": [],
   "source": [
    "kitchen_to_total = data.loc[~data['kitchen_area'].isna(), 'kitchen_area'] / data.loc[~data['kitchen_area'].isna(), 'total_area']\n",
    "kitchen_to_total_coef = kitchen_to_total.median()\n",
    "\n",
    "data.loc[data['kitchen_area'].isna(), 'kitchen_area'] = data.loc[data['kitchen_area'].isna(), 'total_area'] * kitchen_to_total_coef"
   ]
  },
  {
   "cell_type": "markdown",
   "metadata": {},
   "source": [
    "Проверим результат - убедимся, что пропуски в вышеуказанных параметрах теперь отсутствуют:"
   ]
  },
  {
   "cell_type": "code",
   "execution_count": 183,
   "metadata": {},
   "outputs": [
    {
     "data": {
      "text/plain": [
       "total_images                0\n",
       "last_price                  0\n",
       "total_area                  0\n",
       "first_day_exposition        0\n",
       "rooms                       0\n",
       "ceiling_height           9195\n",
       "floors_total               86\n",
       "living_area                 0\n",
       "floor                       0\n",
       "is_apartment                0\n",
       "studio                      0\n",
       "open_plan                   0\n",
       "kitchen_area                0\n",
       "balcony                     0\n",
       "locality_name              49\n",
       "airports_nearest         5542\n",
       "cityCenters_nearest      5519\n",
       "parks_around3000            0\n",
       "parks_nearest           15620\n",
       "ponds_around3000            0\n",
       "ponds_nearest           14589\n",
       "days_exposition          3181\n",
       "dtype: int64"
      ]
     },
     "execution_count": 183,
     "metadata": {},
     "output_type": "execute_result"
    }
   ],
   "source": [
    "data.isna().sum()"
   ]
  },
  {
   "cell_type": "markdown",
   "metadata": {},
   "source": [
    "Причинами появления пропусков могут быть сокрытие информации - например, нежелание автора объявления указывать некоторые параметры объектов. Также могут сказаться ошибки ввода данных при создании объявления на странице сервиса Яндекс.Недвижимость."
   ]
  },
  {
   "cell_type": "markdown",
   "metadata": {},
   "source": [
    "Преобразуем строковое значение даты публикации в формат даты:"
   ]
  },
  {
   "cell_type": "code",
   "execution_count": 184,
   "metadata": {},
   "outputs": [],
   "source": [
    "data['first_day_exposition'] = pd.to_datetime(data['first_day_exposition'], format='%Y-%m-%dT%H:%M:%S')"
   ]
  },
  {
   "cell_type": "markdown",
   "metadata": {},
   "source": [
    "В данном случае, изменение типа данных необходимо для последующего определения дня недели, месяца и года даты публикации объявления методами, применимым только к объекут типа datetime.\n"
   ]
  },
  {
   "cell_type": "markdown",
   "metadata": {},
   "source": [
    "Преобразуем значение всего этажей в доме в целочисленное:"
   ]
  },
  {
   "cell_type": "code",
   "execution_count": 185,
   "metadata": {},
   "outputs": [],
   "source": [
    "data['floors_total'] = data['floors_total'].fillna(0).astype(int)"
   ]
  },
  {
   "cell_type": "markdown",
   "metadata": {},
   "source": [
    "В данном случае, изменение типа данных необходимо c логической точки зрения - дробых этажей не бывает."
   ]
  },
  {
   "cell_type": "code",
   "execution_count": 186,
   "metadata": {},
   "outputs": [
    {
     "data": {
      "text/plain": [
       "array(['Санкт-Петербург', 'посёлок Шушары', 'городской посёлок Янино-1',\n",
       "       'посёлок Парголово', 'посёлок Мурино', 'Ломоносов', 'Сертолово',\n",
       "       'Петергоф', 'Пушкин', 'деревня Кудрово', 'Коммунар', 'Колпино',\n",
       "       'поселок городского типа Красный Бор', 'Гатчина', 'поселок Мурино',\n",
       "       'деревня Фёдоровское', 'Выборг', 'Кронштадт', 'Кировск',\n",
       "       'деревня Новое Девяткино', 'посёлок Металлострой',\n",
       "       'посёлок городского типа Лебяжье',\n",
       "       'посёлок городского типа Сиверский', 'поселок Молодцово',\n",
       "       'поселок городского типа Кузьмоловский',\n",
       "       'садовое товарищество Новая Ропша', 'Павловск',\n",
       "       'деревня Пикколово', 'Всеволожск', 'Волхов', 'Кингисепп',\n",
       "       'Приозерск', 'Сестрорецк', 'деревня Куттузи', 'посёлок Аннино',\n",
       "       'поселок городского типа Ефимовский', 'посёлок Плодовое',\n",
       "       'деревня Заклинье', 'поселок Торковичи', 'поселок Первомайское',\n",
       "       'Красное Село', 'посёлок Понтонный', 'Сясьстрой', 'деревня Старая',\n",
       "       'деревня Лесколово', 'посёлок Новый Свет', 'Сланцы',\n",
       "       'село Путилово', 'Ивангород', 'Мурино', 'Шлиссельбург',\n",
       "       'Никольское', 'Зеленогорск', 'Сосновый Бор', 'поселок Новый Свет',\n",
       "       'деревня Оржицы', 'деревня Кальтино', 'Кудрово',\n",
       "       'поселок Романовка', 'посёлок Бугры', 'поселок Бугры',\n",
       "       'поселок городского типа Рощино', 'Кириши', 'Луга', 'Волосово',\n",
       "       'Отрадное', 'село Павлово', 'поселок Оредеж', 'село Копорье',\n",
       "       'посёлок городского типа Красный Бор', 'посёлок Молодёжное',\n",
       "       'Тихвин', 'посёлок Победа', 'деревня Нурма',\n",
       "       'поселок городского типа Синявино', 'Тосно',\n",
       "       'посёлок городского типа Кузьмоловский', 'посёлок Стрельна',\n",
       "       'Бокситогорск', 'посёлок Александровская', 'деревня Лопухинка',\n",
       "       'Пикалёво', 'поселок Терволово',\n",
       "       'поселок городского типа Советский', 'Подпорожье',\n",
       "       'посёлок Петровское', 'посёлок городского типа Токсово',\n",
       "       'поселок Сельцо', 'посёлок городского типа Вырица',\n",
       "       'деревня Кипень', 'деревня Келози', 'деревня Вартемяги',\n",
       "       'посёлок Тельмана', 'поселок Севастьяново',\n",
       "       'городской поселок Большая Ижора', nan,\n",
       "       'городской посёлок Павлово', 'деревня Агалатово',\n",
       "       'посёлок Новогорелово', 'городской посёлок Лесогорский',\n",
       "       'деревня Лаголово', 'поселок Цвелодубово',\n",
       "       'поселок городского типа Рахья', 'поселок городского типа Вырица',\n",
       "       'деревня Белогорка', 'поселок Заводской',\n",
       "       'городской посёлок Новоселье', 'деревня Большие Колпаны',\n",
       "       'деревня Горбунки', 'деревня Батово', 'деревня Заневка',\n",
       "       'деревня Иссад', 'Приморск', 'городской посёлок Фёдоровское',\n",
       "       'деревня Мистолово', 'Новая Ладога', 'поселок Зимитицы',\n",
       "       'поселок Барышево', 'деревня Разметелево',\n",
       "       'поселок городского типа имени Свердлова', 'деревня Пеники',\n",
       "       'поселок Рябово', 'деревня Пудомяги', 'поселок станции Корнево',\n",
       "       'деревня Низино', 'деревня Бегуницы', 'посёлок Поляны',\n",
       "       'городской посёлок Мга', 'поселок Елизаветино',\n",
       "       'посёлок городского типа Кузнечное', 'деревня Колтуши',\n",
       "       'поселок Запорожское', 'посёлок городского типа Рощино',\n",
       "       'деревня Гостилицы', 'деревня Малое Карлино',\n",
       "       'посёлок Мичуринское', 'посёлок городского типа имени Морозова',\n",
       "       'посёлок Песочный', 'посёлок Сосново', 'деревня Аро',\n",
       "       'поселок Ильичёво', 'посёлок городского типа Тайцы',\n",
       "       'деревня Малое Верево', 'деревня Извара', 'поселок станции Вещево',\n",
       "       'село Паша', 'деревня Калитино',\n",
       "       'посёлок городского типа Ульяновка', 'деревня Чудской Бор',\n",
       "       'поселок городского типа Дубровка', 'деревня Мины',\n",
       "       'поселок Войсковицы', 'посёлок городского типа имени Свердлова',\n",
       "       'деревня Коркино', 'посёлок Ропша',\n",
       "       'поселок городского типа Приладожский', 'посёлок Щеглово',\n",
       "       'посёлок Гаврилово', 'Лодейное Поле', 'деревня Рабитицы',\n",
       "       'поселок городского типа Никольский', 'деревня Кузьмолово',\n",
       "       'деревня Малые Колпаны', 'поселок Тельмана',\n",
       "       'посёлок Петро-Славянка', 'городской посёлок Назия',\n",
       "       'посёлок Репино', 'посёлок Ильичёво', 'поселок Углово',\n",
       "       'поселок Старая Малукса', 'садовое товарищество Рахья',\n",
       "       'поселок Аннино', 'поселок Победа', 'деревня Меньково',\n",
       "       'деревня Старые Бегуницы', 'посёлок Сапёрный', 'поселок Семрино',\n",
       "       'поселок Гаврилово', 'поселок Глажево', 'поселок Кобринское',\n",
       "       'деревня Гарболово', 'деревня Юкки',\n",
       "       'поселок станции Приветнинское', 'деревня Мануйлово',\n",
       "       'деревня Пчева', 'поселок Поляны', 'поселок Цвылёво',\n",
       "       'поселок Мельниково', 'посёлок Пудость', 'посёлок Усть-Луга',\n",
       "       'Светогорск', 'Любань', 'поселок Селезнёво',\n",
       "       'поселок городского типа Рябово', 'Каменногорск', 'деревня Кривко',\n",
       "       'поселок Глебычево', 'деревня Парицы', 'поселок Жилпосёлок',\n",
       "       'посёлок городского типа Мга', 'городской поселок Янино-1',\n",
       "       'посёлок Войскорово', 'село Никольское', 'посёлок Терволово',\n",
       "       'поселок Стеклянный', 'посёлок городского типа Важины',\n",
       "       'посёлок Мыза-Ивановка', 'село Русско-Высоцкое',\n",
       "       'поселок городского типа Лебяжье',\n",
       "       'поселок городского типа Форносово', 'село Старая Ладога',\n",
       "       'поселок Житково', 'городской посёлок Виллози', 'деревня Лампово',\n",
       "       'деревня Шпаньково', 'деревня Лаврики', 'посёлок Сумино',\n",
       "       'посёлок Возрождение', 'деревня Старосиверская',\n",
       "       'посёлок Кикерино', 'поселок Возрождение',\n",
       "       'деревня Старое Хинколово', 'посёлок Пригородный',\n",
       "       'посёлок Торфяное', 'городской посёлок Будогощь',\n",
       "       'поселок Суходолье', 'поселок Красная Долина', 'деревня Хапо-Ое',\n",
       "       'поселок городского типа Дружная Горка', 'поселок Лисий Нос',\n",
       "       'деревня Яльгелево', 'посёлок Стеклянный', 'село Рождествено',\n",
       "       'деревня Старополье', 'посёлок Левашово', 'деревня Сяськелево',\n",
       "       'деревня Камышовка',\n",
       "       'садоводческое некоммерческое товарищество Лесная Поляна',\n",
       "       'деревня Хязельки', 'поселок Жилгородок',\n",
       "       'посёлок городского типа Павлово', 'деревня Ялгино',\n",
       "       'поселок Новый Учхоз', 'городской посёлок Рощино',\n",
       "       'поселок Гончарово', 'поселок Почап', 'посёлок Сапёрное',\n",
       "       'посёлок Платформа 69-й километр', 'поселок Каложицы',\n",
       "       'деревня Фалилеево', 'деревня Пельгора',\n",
       "       'поселок городского типа Лесогорский', 'деревня Торошковичи',\n",
       "       'посёлок Белоостров', 'посёлок Алексеевка', 'поселок Серебрянский',\n",
       "       'поселок Лукаши', 'поселок Петровское', 'деревня Щеглово',\n",
       "       'поселок Мичуринское', 'деревня Тарасово', 'поселок Кингисеппский',\n",
       "       'посёлок при железнодорожной станции Вещево', 'поселок Ушаки',\n",
       "       'деревня Котлы', 'деревня Сижно', 'деревня Торосово',\n",
       "       'посёлок Форт Красная Горка', 'поселок городского типа Токсово',\n",
       "       'деревня Новолисино', 'посёлок станции Громово', 'деревня Глинка',\n",
       "       'посёлок Мельниково', 'поселок городского типа Назия',\n",
       "       'деревня Старая Пустошь', 'поселок Коммунары', 'поселок Починок',\n",
       "       'посёлок городского типа Вознесенье', 'деревня Разбегаево',\n",
       "       'посёлок городского типа Рябово', 'поселок Гладкое',\n",
       "       'посёлок при железнодорожной станции Приветнинское',\n",
       "       'поселок Тёсово-4', 'посёлок Жилгородок', 'деревня Бор',\n",
       "       'посёлок Коробицыно', 'деревня Большая Вруда', 'деревня Курковицы',\n",
       "       'посёлок Лисий Нос', 'городской посёлок Советский',\n",
       "       'посёлок Кобралово', 'деревня Суоранда', 'поселок Кобралово',\n",
       "       'поселок городского типа Кондратьево',\n",
       "       'коттеджный поселок Счастье', 'поселок Любань', 'деревня Реброво',\n",
       "       'деревня Зимитицы', 'деревня Тойворово', 'поселок Семиозерье',\n",
       "       'поселок Лесное', 'поселок Совхозный', 'поселок Усть-Луга',\n",
       "       'посёлок Ленинское', 'посёлок Суйда',\n",
       "       'посёлок городского типа Форносово', 'деревня Нижние Осельки',\n",
       "       'посёлок станции Свирь', 'поселок Перово', 'Высоцк',\n",
       "       'поселок Гарболово', 'село Шум', 'поселок Котельский',\n",
       "       'поселок станции Лужайка', 'деревня Большая Пустомержа',\n",
       "       'поселок Красносельское', 'деревня Вахнова Кара', 'деревня Пижма',\n",
       "       'коттеджный поселок Кивеннапа Север', 'поселок Коробицыно',\n",
       "       'поселок Ромашки', 'посёлок Перово', 'деревня Каськово',\n",
       "       'деревня Куровицы', 'посёлок Плоское', 'поселок Сумино',\n",
       "       'поселок городского типа Большая Ижора', 'поселок Кирпичное',\n",
       "       'деревня Ям-Тесово', 'деревня Раздолье', 'деревня Терпилицы',\n",
       "       'посёлок Шугозеро', 'деревня Ваганово', 'поселок Пушное',\n",
       "       'садовое товарищество Садко', 'посёлок Усть-Ижора',\n",
       "       'деревня Выскатка', 'городской посёлок Свирьстрой',\n",
       "       'поселок Громово', 'деревня Кисельня', 'посёлок Старая Малукса',\n",
       "       'деревня Трубников Бор', 'поселок Калитино',\n",
       "       'посёлок Высокоключевой', 'садовое товарищество Приладожский',\n",
       "       'посёлок Пансионат Зелёный Бор', 'деревня Ненимяки',\n",
       "       'поселок Пансионат Зелёный Бор', 'деревня Снегирёвка',\n",
       "       'деревня Рапполово', 'деревня Пустынка', 'поселок Рабитицы',\n",
       "       'деревня Большой Сабск', 'деревня Русско', 'деревня Лупполово',\n",
       "       'деревня Большое Рейзино', 'деревня Малая Романовка',\n",
       "       'поселок Дружноселье', 'поселок Пчевжа', 'поселок Володарское',\n",
       "       'деревня Нижняя', 'коттеджный посёлок Лесное', 'деревня Тихковицы',\n",
       "       'деревня Борисова Грива', 'посёлок Дзержинского'], dtype=object)"
      ]
     },
     "execution_count": 186,
     "metadata": {},
     "output_type": "execute_result"
    }
   ],
   "source": [
    "# Изучаем уникальные значения в столбце с названиями\n",
    "data['locality_name'].unique()"
   ]
  },
  {
   "cell_type": "code",
   "execution_count": 187,
   "metadata": {},
   "outputs": [],
   "source": [
    "# Устраняем неявные дубликаты\n",
    "data['locality_name'] = data['locality_name'].replace('поселок', 'посёлок') # во всех названиях посёлок будет через Ё\n",
    "data['locality_name'] = data['locality_name'].replace('посёлок городского типа', 'посёлок') "
   ]
  },
  {
   "cell_type": "markdown",
   "metadata": {},
   "source": [
    "Устранить неявные дубликаты по названию необходимо, так как в последующем будет выполняться группировка по этому параметру с определением количества объявлений в каждом населённым пункте."
   ]
  },
  {
   "cell_type": "markdown",
   "metadata": {},
   "source": [
    "Находим редкие и выбивающиеся значения для высоты потолков в метрах:"
   ]
  },
  {
   "cell_type": "code",
   "execution_count": 188,
   "metadata": {
    "scrolled": true
   },
   "outputs": [
    {
     "data": {
      "text/plain": [
       "array([  1.  ,   1.2 ,   1.75,   2.  ,   2.2 ,   2.25,   2.3 ,   2.34,\n",
       "         2.4 ,   2.45,   2.46,   2.47,   2.48,   2.49,   2.5 ,   2.51,\n",
       "         2.52,   2.53,   2.54,   2.55,   2.56,   2.57,   2.58,   2.59,\n",
       "         2.6 ,   2.61,   2.62,   2.63,   2.64,   2.65,   2.66,   2.67,\n",
       "         2.68,   2.69,   2.7 ,   2.71,   2.72,   2.73,   2.74,   2.75,\n",
       "         2.76,   2.77,   2.78,   2.79,   2.8 ,   2.81,   2.82,   2.83,\n",
       "         2.84,   2.85,   2.86,   2.87,   2.88,   2.89,   2.9 ,   2.91,\n",
       "         2.92,   2.93,   2.94,   2.95,   2.96,   2.97,   2.98,   2.99,\n",
       "         3.  ,   3.01,   3.02,   3.03,   3.04,   3.05,   3.06,   3.07,\n",
       "         3.08,   3.09,   3.1 ,   3.11,   3.12,   3.13,   3.14,   3.15,\n",
       "         3.16,   3.17,   3.18,   3.2 ,   3.21,   3.22,   3.23,   3.24,\n",
       "         3.25,   3.26,   3.27,   3.28,   3.29,   3.3 ,   3.31,   3.32,\n",
       "         3.33,   3.34,   3.35,   3.36,   3.37,   3.38,   3.39,   3.4 ,\n",
       "         3.42,   3.43,   3.44,   3.45,   3.46,   3.47,   3.48,   3.49,\n",
       "         3.5 ,   3.51,   3.52,   3.53,   3.54,   3.55,   3.56,   3.57,\n",
       "         3.58,   3.59,   3.6 ,   3.62,   3.63,   3.65,   3.66,   3.67,\n",
       "         3.68,   3.69,   3.7 ,   3.75,   3.76,   3.78,   3.8 ,   3.82,\n",
       "         3.83,   3.84,   3.85,   3.86,   3.87,   3.88,   3.9 ,   3.93,\n",
       "         3.95,   3.98,   4.  ,   4.06,   4.1 ,   4.14,   4.15,   4.19,\n",
       "         4.2 ,   4.25,   4.3 ,   4.37,   4.4 ,   4.45,   4.5 ,   4.65,\n",
       "         4.7 ,   4.8 ,   4.9 ,   5.  ,   5.2 ,   5.3 ,   5.5 ,   5.6 ,\n",
       "         5.8 ,   6.  ,   8.  ,   8.3 ,  10.3 ,  14.  ,  20.  ,  22.6 ,\n",
       "        24.  ,  25.  ,  26.  ,  27.  ,  27.5 ,  32.  , 100.  ,    nan])"
      ]
     },
     "execution_count": 188,
     "metadata": {},
     "output_type": "execute_result"
    }
   ],
   "source": [
    "data['ceiling_height'].sort_values().unique()"
   ]
  },
  {
   "cell_type": "code",
   "execution_count": 189,
   "metadata": {},
   "outputs": [],
   "source": [
    "# Устраняем редкие и выбивающие значения для высоты потолков в м\n",
    "filter = data['ceiling_height'] >= 20\n",
    "data.loc[filter, 'ceiling_height'] = data.loc[filter, 'ceiling_height'] / 10"
   ]
  },
  {
   "cell_type": "code",
   "execution_count": 190,
   "metadata": {},
   "outputs": [
    {
     "data": {
      "text/plain": [
       "array([ 1.  ,  1.2 ,  1.75,  2.  ,  2.2 ,  2.25,  2.26,  2.3 ,  2.34,\n",
       "        2.4 ,  2.45,  2.46,  2.47,  2.48,  2.49,  2.5 ,  2.51,  2.52,\n",
       "        2.53,  2.54,  2.55,  2.56,  2.57,  2.58,  2.59,  2.6 ,  2.61,\n",
       "        2.62,  2.63,  2.64,  2.65,  2.66,  2.67,  2.68,  2.69,  2.7 ,\n",
       "        2.71,  2.72,  2.73,  2.74,  2.75,  2.76,  2.77,  2.78,  2.79,\n",
       "        2.8 ,  2.81,  2.82,  2.83,  2.84,  2.85,  2.86,  2.87,  2.88,\n",
       "        2.89,  2.9 ,  2.91,  2.92,  2.93,  2.94,  2.95,  2.96,  2.97,\n",
       "        2.98,  2.99,  3.  ,  3.01,  3.02,  3.03,  3.04,  3.05,  3.06,\n",
       "        3.07,  3.08,  3.09,  3.1 ,  3.11,  3.12,  3.13,  3.14,  3.15,\n",
       "        3.16,  3.17,  3.18,  3.2 ,  3.21,  3.22,  3.23,  3.24,  3.25,\n",
       "        3.26,  3.27,  3.28,  3.29,  3.3 ,  3.31,  3.32,  3.33,  3.34,\n",
       "        3.35,  3.36,  3.37,  3.38,  3.39,  3.4 ,  3.42,  3.43,  3.44,\n",
       "        3.45,  3.46,  3.47,  3.48,  3.49,  3.5 ,  3.51,  3.52,  3.53,\n",
       "        3.54,  3.55,  3.56,  3.57,  3.58,  3.59,  3.6 ,  3.62,  3.63,\n",
       "        3.65,  3.66,  3.67,  3.68,  3.69,  3.7 ,  3.75,  3.76,  3.78,\n",
       "        3.8 ,  3.82,  3.83,  3.84,  3.85,  3.86,  3.87,  3.88,  3.9 ,\n",
       "        3.93,  3.95,  3.98,  4.  ,  4.06,  4.1 ,  4.14,  4.15,  4.19,\n",
       "        4.2 ,  4.25,  4.3 ,  4.37,  4.4 ,  4.45,  4.5 ,  4.65,  4.7 ,\n",
       "        4.8 ,  4.9 ,  5.  ,  5.2 ,  5.3 ,  5.5 ,  5.6 ,  5.8 ,  6.  ,\n",
       "        8.  ,  8.3 , 10.  , 10.3 , 14.  ,   nan])"
      ]
     },
     "execution_count": 190,
     "metadata": {},
     "output_type": "execute_result"
    }
   ],
   "source": [
    "# Проверяем, что корректное значение восстановлено\n",
    "data['ceiling_height'].sort_values().unique()"
   ]
  },
  {
   "cell_type": "markdown",
   "metadata": {},
   "source": [
    "В случае параметра «высота потолков» природа аномалии понятна и данные действительно искажены - скорее всего, вместо двузначных чисел, больше или равные 20, должны быть вещественные числа - между цифрами должен быть разделить целой и дробной части. Тогда исходные значения 25, 32, 27, 24, 26, 20, 22,6, 27,5 и 100 м уменьшатся на порядок и аномально выские значения исчезнут."
   ]
  },
  {
   "cell_type": "markdown",
   "metadata": {},
   "source": [
    "<div class=\"alert alert-info\"> <b>Комментарии студента:</b>\n",
    "    \n",
    "1. Пропуски в расстояниях до ближайшего аэропорта, парка, водоёма можно не заполнять (хотя их много), так как они не участвуют в последующих расчётах. К тому же стандартными методами это сделать не получится (нужно по адресу объекта в результате операции геокодирования определить геодезические координаты - широту и долготу и иметь тематический слой целевых объектов - водоёмов, парков, аэропортов - тогда можно будет рассчитать расстояние). Пропусков в названиях населённых пунктов незначительно (49 / 23699 * 100 ~ 0.2 %), поэтому ими можно пренебречь, хотя они и участвуют в исследовании. Такая же ситуация с параметром «всего этажей в доме» (86 / 23699 * 100 ~ 0.36 %) В расчётах также не участвует параметр «высота потолков», поэтому их тоже можно не заполнять. В расчётах не участвуют параметры «число балконов», «число парков в радиусе 3 км», «число водоёмов в радиусе 3 км»  и «апартаменты», однако логика их заполнения проста, поэтому пропуски в них устранили. Параметр «расстояние до центра города» участвут в рассчётах, однако стандартными методами пустые значения заполнить не получится. К тому же в пределах Санкт-Петербурга наблюдений достаточно для исследования. Параметр «сколько дней было размещено объявление (от публикации до снятия)» используется в расчётах, однако заполнить его без дополнительных сведений невозможно.\n",
    "    \n",
    "2. Измнение типа данных параметра «всего этажей в доме» проблему не решило, причина не в этом. Оставил этот этап с логической точки зрения - дробных этажей не бывает.\n"
   ]
  },
  {
   "cell_type": "markdown",
   "metadata": {},
   "source": [
    "### Посчитайте и добавьте в таблицу новые столбцы"
   ]
  },
  {
   "cell_type": "markdown",
   "metadata": {},
   "source": [
    "Цена одного квадратного метра:"
   ]
  },
  {
   "cell_type": "code",
   "execution_count": 191,
   "metadata": {},
   "outputs": [],
   "source": [
    "data['price_per_square_meter'] = data['last_price'] / data['total_area']"
   ]
  },
  {
   "cell_type": "markdown",
   "metadata": {},
   "source": [
    "День недели, месяц и год публикации:"
   ]
  },
  {
   "cell_type": "code",
   "execution_count": 192,
   "metadata": {},
   "outputs": [],
   "source": [
    "data['first_day_exposition_weekday'] = data['first_day_exposition'].dt.day_of_week # день недели публикации объявления\n",
    "data['first_day_exposition_month'] = data['first_day_exposition'].dt.month # месяц публикации объявления\n",
    "data['first_day_exposition_year'] = data['first_day_exposition'].dt.year # год публикации объявления"
   ]
  },
  {
   "cell_type": "markdown",
   "metadata": {},
   "source": [
    "Тип этажа квартиры:\n"
   ]
  },
  {
   "cell_type": "code",
   "execution_count": 193,
   "metadata": {},
   "outputs": [],
   "source": [
    "'''\n",
    "# почему-то с apply возвращает некорректный результат - все этажи попадают в категорию 'другой'\n",
    "def categorize_floor(floor, floors_total):\n",
    "    try:\n",
    "        if floor == 1:\n",
    "            return 'первый'\n",
    "        elif floor == floors_total:\n",
    "            return 'последний'\n",
    "        else:\n",
    "            return 'другой'\n",
    "    except:\n",
    "        pass\n",
    "data['floor_type'] = data.apply(lambda x: categorize_floor('floor', 'floors_total'), axis=1) '''\n",
    "\n",
    "\n",
    "data['floor_type'] = 'другой'\n",
    "data.loc[data['floor'] == 1, 'floor_type'] = 'первый'\n",
    "data.loc[data['floor'] == data['floors_total'], 'floor_type'] = 'последний' "
   ]
  },
  {
   "cell_type": "markdown",
   "metadata": {},
   "source": [
    "Расстояние до центра города в километрах:"
   ]
  },
  {
   "cell_type": "code",
   "execution_count": 194,
   "metadata": {},
   "outputs": [],
   "source": [
    "data['cityCenters_nearest_km'] = round(data['cityCenters_nearest'] / 1000, 0)"
   ]
  },
  {
   "cell_type": "markdown",
   "metadata": {},
   "source": [
    "Проверяем, что новые столбцы добавились в таблицу:"
   ]
  },
  {
   "cell_type": "code",
   "execution_count": 195,
   "metadata": {},
   "outputs": [
    {
     "data": {
      "text/html": [
       "<div>\n",
       "<style scoped>\n",
       "    .dataframe tbody tr th:only-of-type {\n",
       "        vertical-align: middle;\n",
       "    }\n",
       "\n",
       "    .dataframe tbody tr th {\n",
       "        vertical-align: top;\n",
       "    }\n",
       "\n",
       "    .dataframe thead th {\n",
       "        text-align: right;\n",
       "    }\n",
       "</style>\n",
       "<table border=\"1\" class=\"dataframe\">\n",
       "  <thead>\n",
       "    <tr style=\"text-align: right;\">\n",
       "      <th></th>\n",
       "      <th>total_images</th>\n",
       "      <th>last_price</th>\n",
       "      <th>total_area</th>\n",
       "      <th>first_day_exposition</th>\n",
       "      <th>rooms</th>\n",
       "      <th>ceiling_height</th>\n",
       "      <th>floors_total</th>\n",
       "      <th>living_area</th>\n",
       "      <th>floor</th>\n",
       "      <th>is_apartment</th>\n",
       "      <th>...</th>\n",
       "      <th>parks_nearest</th>\n",
       "      <th>ponds_around3000</th>\n",
       "      <th>ponds_nearest</th>\n",
       "      <th>days_exposition</th>\n",
       "      <th>price_per_square_meter</th>\n",
       "      <th>first_day_exposition_weekday</th>\n",
       "      <th>first_day_exposition_month</th>\n",
       "      <th>first_day_exposition_year</th>\n",
       "      <th>floor_type</th>\n",
       "      <th>cityCenters_nearest_km</th>\n",
       "    </tr>\n",
       "  </thead>\n",
       "  <tbody>\n",
       "    <tr>\n",
       "      <th>0</th>\n",
       "      <td>20</td>\n",
       "      <td>13000000.0</td>\n",
       "      <td>108.00</td>\n",
       "      <td>2019-03-07</td>\n",
       "      <td>3</td>\n",
       "      <td>2.70</td>\n",
       "      <td>16</td>\n",
       "      <td>51.000000</td>\n",
       "      <td>8</td>\n",
       "      <td>False</td>\n",
       "      <td>...</td>\n",
       "      <td>482.0</td>\n",
       "      <td>2.0</td>\n",
       "      <td>755.0</td>\n",
       "      <td>NaN</td>\n",
       "      <td>120370.370370</td>\n",
       "      <td>3</td>\n",
       "      <td>3</td>\n",
       "      <td>2019</td>\n",
       "      <td>другой</td>\n",
       "      <td>16.0</td>\n",
       "    </tr>\n",
       "    <tr>\n",
       "      <th>1</th>\n",
       "      <td>7</td>\n",
       "      <td>3350000.0</td>\n",
       "      <td>40.40</td>\n",
       "      <td>2018-12-04</td>\n",
       "      <td>1</td>\n",
       "      <td>NaN</td>\n",
       "      <td>11</td>\n",
       "      <td>18.600000</td>\n",
       "      <td>1</td>\n",
       "      <td>False</td>\n",
       "      <td>...</td>\n",
       "      <td>NaN</td>\n",
       "      <td>0.0</td>\n",
       "      <td>NaN</td>\n",
       "      <td>81.0</td>\n",
       "      <td>82920.792079</td>\n",
       "      <td>1</td>\n",
       "      <td>12</td>\n",
       "      <td>2018</td>\n",
       "      <td>первый</td>\n",
       "      <td>19.0</td>\n",
       "    </tr>\n",
       "    <tr>\n",
       "      <th>2</th>\n",
       "      <td>10</td>\n",
       "      <td>5196000.0</td>\n",
       "      <td>56.00</td>\n",
       "      <td>2015-08-20</td>\n",
       "      <td>2</td>\n",
       "      <td>NaN</td>\n",
       "      <td>5</td>\n",
       "      <td>34.300000</td>\n",
       "      <td>4</td>\n",
       "      <td>False</td>\n",
       "      <td>...</td>\n",
       "      <td>90.0</td>\n",
       "      <td>2.0</td>\n",
       "      <td>574.0</td>\n",
       "      <td>558.0</td>\n",
       "      <td>92785.714286</td>\n",
       "      <td>3</td>\n",
       "      <td>8</td>\n",
       "      <td>2015</td>\n",
       "      <td>другой</td>\n",
       "      <td>14.0</td>\n",
       "    </tr>\n",
       "    <tr>\n",
       "      <th>3</th>\n",
       "      <td>0</td>\n",
       "      <td>64900000.0</td>\n",
       "      <td>159.00</td>\n",
       "      <td>2015-07-24</td>\n",
       "      <td>3</td>\n",
       "      <td>NaN</td>\n",
       "      <td>14</td>\n",
       "      <td>90.289724</td>\n",
       "      <td>9</td>\n",
       "      <td>False</td>\n",
       "      <td>...</td>\n",
       "      <td>84.0</td>\n",
       "      <td>3.0</td>\n",
       "      <td>234.0</td>\n",
       "      <td>424.0</td>\n",
       "      <td>408176.100629</td>\n",
       "      <td>4</td>\n",
       "      <td>7</td>\n",
       "      <td>2015</td>\n",
       "      <td>другой</td>\n",
       "      <td>7.0</td>\n",
       "    </tr>\n",
       "    <tr>\n",
       "      <th>4</th>\n",
       "      <td>2</td>\n",
       "      <td>10000000.0</td>\n",
       "      <td>100.00</td>\n",
       "      <td>2018-06-19</td>\n",
       "      <td>2</td>\n",
       "      <td>3.03</td>\n",
       "      <td>14</td>\n",
       "      <td>32.000000</td>\n",
       "      <td>13</td>\n",
       "      <td>False</td>\n",
       "      <td>...</td>\n",
       "      <td>112.0</td>\n",
       "      <td>1.0</td>\n",
       "      <td>48.0</td>\n",
       "      <td>121.0</td>\n",
       "      <td>100000.000000</td>\n",
       "      <td>1</td>\n",
       "      <td>6</td>\n",
       "      <td>2018</td>\n",
       "      <td>другой</td>\n",
       "      <td>8.0</td>\n",
       "    </tr>\n",
       "    <tr>\n",
       "      <th>5</th>\n",
       "      <td>10</td>\n",
       "      <td>2890000.0</td>\n",
       "      <td>30.40</td>\n",
       "      <td>2018-09-10</td>\n",
       "      <td>1</td>\n",
       "      <td>NaN</td>\n",
       "      <td>12</td>\n",
       "      <td>14.400000</td>\n",
       "      <td>5</td>\n",
       "      <td>False</td>\n",
       "      <td>...</td>\n",
       "      <td>NaN</td>\n",
       "      <td>0.0</td>\n",
       "      <td>NaN</td>\n",
       "      <td>55.0</td>\n",
       "      <td>95065.789474</td>\n",
       "      <td>0</td>\n",
       "      <td>9</td>\n",
       "      <td>2018</td>\n",
       "      <td>другой</td>\n",
       "      <td>NaN</td>\n",
       "    </tr>\n",
       "    <tr>\n",
       "      <th>6</th>\n",
       "      <td>6</td>\n",
       "      <td>3700000.0</td>\n",
       "      <td>37.30</td>\n",
       "      <td>2017-11-02</td>\n",
       "      <td>1</td>\n",
       "      <td>NaN</td>\n",
       "      <td>26</td>\n",
       "      <td>10.600000</td>\n",
       "      <td>6</td>\n",
       "      <td>False</td>\n",
       "      <td>...</td>\n",
       "      <td>NaN</td>\n",
       "      <td>0.0</td>\n",
       "      <td>NaN</td>\n",
       "      <td>155.0</td>\n",
       "      <td>99195.710456</td>\n",
       "      <td>3</td>\n",
       "      <td>11</td>\n",
       "      <td>2017</td>\n",
       "      <td>другой</td>\n",
       "      <td>19.0</td>\n",
       "    </tr>\n",
       "    <tr>\n",
       "      <th>7</th>\n",
       "      <td>5</td>\n",
       "      <td>7915000.0</td>\n",
       "      <td>71.60</td>\n",
       "      <td>2019-04-18</td>\n",
       "      <td>2</td>\n",
       "      <td>NaN</td>\n",
       "      <td>24</td>\n",
       "      <td>40.658769</td>\n",
       "      <td>22</td>\n",
       "      <td>False</td>\n",
       "      <td>...</td>\n",
       "      <td>NaN</td>\n",
       "      <td>0.0</td>\n",
       "      <td>NaN</td>\n",
       "      <td>NaN</td>\n",
       "      <td>110544.692737</td>\n",
       "      <td>3</td>\n",
       "      <td>4</td>\n",
       "      <td>2019</td>\n",
       "      <td>другой</td>\n",
       "      <td>12.0</td>\n",
       "    </tr>\n",
       "    <tr>\n",
       "      <th>8</th>\n",
       "      <td>20</td>\n",
       "      <td>2900000.0</td>\n",
       "      <td>33.16</td>\n",
       "      <td>2018-05-23</td>\n",
       "      <td>1</td>\n",
       "      <td>NaN</td>\n",
       "      <td>27</td>\n",
       "      <td>15.430000</td>\n",
       "      <td>26</td>\n",
       "      <td>False</td>\n",
       "      <td>...</td>\n",
       "      <td>NaN</td>\n",
       "      <td>0.0</td>\n",
       "      <td>NaN</td>\n",
       "      <td>189.0</td>\n",
       "      <td>87454.764777</td>\n",
       "      <td>2</td>\n",
       "      <td>5</td>\n",
       "      <td>2018</td>\n",
       "      <td>другой</td>\n",
       "      <td>NaN</td>\n",
       "    </tr>\n",
       "    <tr>\n",
       "      <th>9</th>\n",
       "      <td>18</td>\n",
       "      <td>5400000.0</td>\n",
       "      <td>61.00</td>\n",
       "      <td>2017-02-26</td>\n",
       "      <td>3</td>\n",
       "      <td>2.50</td>\n",
       "      <td>9</td>\n",
       "      <td>43.600000</td>\n",
       "      <td>7</td>\n",
       "      <td>False</td>\n",
       "      <td>...</td>\n",
       "      <td>NaN</td>\n",
       "      <td>0.0</td>\n",
       "      <td>NaN</td>\n",
       "      <td>289.0</td>\n",
       "      <td>88524.590164</td>\n",
       "      <td>6</td>\n",
       "      <td>2</td>\n",
       "      <td>2017</td>\n",
       "      <td>другой</td>\n",
       "      <td>15.0</td>\n",
       "    </tr>\n",
       "  </tbody>\n",
       "</table>\n",
       "<p>10 rows × 28 columns</p>\n",
       "</div>"
      ],
      "text/plain": [
       "   total_images  last_price  total_area first_day_exposition  rooms  \\\n",
       "0            20  13000000.0      108.00           2019-03-07      3   \n",
       "1             7   3350000.0       40.40           2018-12-04      1   \n",
       "2            10   5196000.0       56.00           2015-08-20      2   \n",
       "3             0  64900000.0      159.00           2015-07-24      3   \n",
       "4             2  10000000.0      100.00           2018-06-19      2   \n",
       "5            10   2890000.0       30.40           2018-09-10      1   \n",
       "6             6   3700000.0       37.30           2017-11-02      1   \n",
       "7             5   7915000.0       71.60           2019-04-18      2   \n",
       "8            20   2900000.0       33.16           2018-05-23      1   \n",
       "9            18   5400000.0       61.00           2017-02-26      3   \n",
       "\n",
       "   ceiling_height  floors_total  living_area  floor is_apartment  ...  \\\n",
       "0            2.70            16    51.000000      8        False  ...   \n",
       "1             NaN            11    18.600000      1        False  ...   \n",
       "2             NaN             5    34.300000      4        False  ...   \n",
       "3             NaN            14    90.289724      9        False  ...   \n",
       "4            3.03            14    32.000000     13        False  ...   \n",
       "5             NaN            12    14.400000      5        False  ...   \n",
       "6             NaN            26    10.600000      6        False  ...   \n",
       "7             NaN            24    40.658769     22        False  ...   \n",
       "8             NaN            27    15.430000     26        False  ...   \n",
       "9            2.50             9    43.600000      7        False  ...   \n",
       "\n",
       "   parks_nearest  ponds_around3000  ponds_nearest  days_exposition  \\\n",
       "0          482.0               2.0          755.0              NaN   \n",
       "1            NaN               0.0            NaN             81.0   \n",
       "2           90.0               2.0          574.0            558.0   \n",
       "3           84.0               3.0          234.0            424.0   \n",
       "4          112.0               1.0           48.0            121.0   \n",
       "5            NaN               0.0            NaN             55.0   \n",
       "6            NaN               0.0            NaN            155.0   \n",
       "7            NaN               0.0            NaN              NaN   \n",
       "8            NaN               0.0            NaN            189.0   \n",
       "9            NaN               0.0            NaN            289.0   \n",
       "\n",
       "  price_per_square_meter  first_day_exposition_weekday  \\\n",
       "0          120370.370370                             3   \n",
       "1           82920.792079                             1   \n",
       "2           92785.714286                             3   \n",
       "3          408176.100629                             4   \n",
       "4          100000.000000                             1   \n",
       "5           95065.789474                             0   \n",
       "6           99195.710456                             3   \n",
       "7          110544.692737                             3   \n",
       "8           87454.764777                             2   \n",
       "9           88524.590164                             6   \n",
       "\n",
       "   first_day_exposition_month  first_day_exposition_year  floor_type  \\\n",
       "0                           3                       2019      другой   \n",
       "1                          12                       2018      первый   \n",
       "2                           8                       2015      другой   \n",
       "3                           7                       2015      другой   \n",
       "4                           6                       2018      другой   \n",
       "5                           9                       2018      другой   \n",
       "6                          11                       2017      другой   \n",
       "7                           4                       2019      другой   \n",
       "8                           5                       2018      другой   \n",
       "9                           2                       2017      другой   \n",
       "\n",
       "   cityCenters_nearest_km  \n",
       "0                    16.0  \n",
       "1                    19.0  \n",
       "2                    14.0  \n",
       "3                     7.0  \n",
       "4                     8.0  \n",
       "5                     NaN  \n",
       "6                    19.0  \n",
       "7                    12.0  \n",
       "8                     NaN  \n",
       "9                    15.0  \n",
       "\n",
       "[10 rows x 28 columns]"
      ]
     },
     "execution_count": 195,
     "metadata": {},
     "output_type": "execute_result"
    }
   ],
   "source": [
    "data.head(10)"
   ]
  },
  {
   "cell_type": "markdown",
   "metadata": {},
   "source": [
    "**Выводы**\n",
    "\n",
    "Предобработка данных включала в себя:\n",
    "\n",
    "- заполнение пропущенных значений в столбцах `balcony`, `is_apartment`, `living_area`, `kitchen_area`,\n",
    "`parks_around3000` и `ponds_around3000`;\n",
    "- изменение типа данных столбца `first_day_exposition` и `floors_total`;\n",
    "- обработку аномальных значений столбца `ceiling_height`;\n",
    "- удаление неявных дубликатов для столбца `locality_name`,\n",
    "- добавление новых столбцов - цена одного квадратного метра, день недели, месяц, год публикации объявления, \n",
    "тип этажа квартиры, расстояние до центра города в километрах.\n",
    "\n",
    "Теперь можно перейти к исследовательскому анализу данных и проверке гипотез."
   ]
  },
  {
   "cell_type": "markdown",
   "metadata": {},
   "source": [
    "### Проведите исследовательский анализ данных"
   ]
  },
  {
   "cell_type": "markdown",
   "metadata": {},
   "source": [
    "Строим гистограмму и рассчитываем описательные статистики для показателя общей площади:"
   ]
  },
  {
   "cell_type": "code",
   "execution_count": 196,
   "metadata": {},
   "outputs": [
    {
     "data": {
      "image/png": "[encoded data removed]",
      "text/plain": [
       "<Figure size 432x288 with 1 Axes>"
      ]
     },
     "metadata": {
      "needs_background": "light"
     },
     "output_type": "display_data"
    }
   ],
   "source": [
    "data.plot(y = 'total_area', title = 'total_area', kind='hist', bins = 50);"
   ]
  },
  {
   "cell_type": "code",
   "execution_count": 197,
   "metadata": {},
   "outputs": [
    {
     "data": {
      "text/plain": [
       "count    23699.000000\n",
       "mean        60.348651\n",
       "std         35.654083\n",
       "min         12.000000\n",
       "25%         40.000000\n",
       "50%         52.000000\n",
       "75%         69.900000\n",
       "max        900.000000\n",
       "Name: total_area, dtype: float64"
      ]
     },
     "execution_count": 197,
     "metadata": {},
     "output_type": "execute_result"
    }
   ],
   "source": [
    "data['total_area'].describe()"
   ]
  },
  {
   "cell_type": "markdown",
   "metadata": {},
   "source": [
    "**Вывод:** Общая площадь. Среднее значение 60, медиана 52, значения изменяются от 12 до 900 квадратных метров. Нормальное распределение, смещённое в сторону больших значений."
   ]
  },
  {
   "cell_type": "markdown",
   "metadata": {},
   "source": [
    "Строим гистограмму и рассчитываем описательные статистики для показателя жилой площади:"
   ]
  },
  {
   "cell_type": "code",
   "execution_count": 198,
   "metadata": {},
   "outputs": [
    {
     "data": {
      "image/png": "[encoded data removed]",
      "text/plain": [
       "<Figure size 432x288 with 1 Axes>"
      ]
     },
     "metadata": {
      "needs_background": "light"
     },
     "output_type": "display_data"
    }
   ],
   "source": [
    "data.plot(y = 'living_area', title = 'living_area', kind='hist', bins = 50);"
   ]
  },
  {
   "cell_type": "code",
   "execution_count": 199,
   "metadata": {},
   "outputs": [
    {
     "data": {
      "text/plain": [
       "count    23699.000000\n",
       "mean        34.578214\n",
       "std         22.340665\n",
       "min          2.000000\n",
       "25%         19.000000\n",
       "50%         30.000000\n",
       "75%         42.100000\n",
       "max        409.700000\n",
       "Name: living_area, dtype: float64"
      ]
     },
     "execution_count": 199,
     "metadata": {},
     "output_type": "execute_result"
    }
   ],
   "source": [
    "data['living_area'].describe()"
   ]
  },
  {
   "cell_type": "markdown",
   "metadata": {},
   "source": [
    "**Вывод:** Жилая площадь. Среднее значение 34.6, медиана 30, значения изменяются от 2 до 410 квадратных метров. Нормальное распределение, смещённое в сторону больших значений."
   ]
  },
  {
   "cell_type": "markdown",
   "metadata": {},
   "source": [
    "Строим гистограмму и рассчитываем описательные статистики для показателя площади кухни:"
   ]
  },
  {
   "cell_type": "code",
   "execution_count": 200,
   "metadata": {},
   "outputs": [
    {
     "data": {
      "image/png": "[encoded data removed]",
      "text/plain": [
       "<Figure size 432x288 with 1 Axes>"
      ]
     },
     "metadata": {
      "needs_background": "light"
     },
     "output_type": "display_data"
    }
   ],
   "source": [
    "data.plot(y = 'kitchen_area', title = 'kitchen_area', kind='hist', bins = 50);"
   ]
  },
  {
   "cell_type": "code",
   "execution_count": 201,
   "metadata": {},
   "outputs": [
    {
     "data": {
      "text/plain": [
       "count    23699.000000\n",
       "mean        10.491431\n",
       "std          6.029020\n",
       "min          1.300000\n",
       "25%          7.000000\n",
       "50%          9.000000\n",
       "75%         12.000000\n",
       "max        112.000000\n",
       "Name: kitchen_area, dtype: float64"
      ]
     },
     "execution_count": 201,
     "metadata": {},
     "output_type": "execute_result"
    }
   ],
   "source": [
    "data['kitchen_area'].describe()"
   ]
  },
  {
   "cell_type": "markdown",
   "metadata": {},
   "source": [
    "**Вывод:** Площадь кухни. Среднее значение 10.5, медиана 9, значения изменяются от 1.3 до 112 квадратных метров. Нормальное распределение, смещённое в сторону больших значений."
   ]
  },
  {
   "cell_type": "markdown",
   "metadata": {},
   "source": [
    "Строим гистограмму и рассчитываем описательные статистики для показателя цены на момент снятия с публикации:"
   ]
  },
  {
   "cell_type": "code",
   "execution_count": 202,
   "metadata": {},
   "outputs": [
    {
     "data": {
      "image/png": "[encoded data removed]",
      "text/plain": [
       "<Figure size 432x288 with 1 Axes>"
      ]
     },
     "metadata": {
      "needs_background": "light"
     },
     "output_type": "display_data"
    }
   ],
   "source": [
    "data.plot(y = 'last_price', title = 'last_price', kind='hist', bins = 50);"
   ]
  },
  {
   "cell_type": "code",
   "execution_count": 203,
   "metadata": {},
   "outputs": [
    {
     "data": {
      "text/plain": [
       "count    2.369900e+04\n",
       "mean     6.541549e+06\n",
       "std      1.088701e+07\n",
       "min      1.219000e+04\n",
       "25%      3.400000e+06\n",
       "50%      4.650000e+06\n",
       "75%      6.800000e+06\n",
       "max      7.630000e+08\n",
       "Name: last_price, dtype: float64"
      ]
     },
     "execution_count": 203,
     "metadata": {},
     "output_type": "execute_result"
    }
   ],
   "source": [
    "data['last_price'].describe()"
   ]
  },
  {
   "cell_type": "markdown",
   "metadata": {},
   "source": [
    "**Вывод:** Цена объекта. Среднее значение 6 500 000, медиана 4 650 000, значения изменяются от 12 190 до 763 000 000 рублей. Ненормальное распределение."
   ]
  },
  {
   "cell_type": "markdown",
   "metadata": {},
   "source": [
    "Строим гистограмму и рассчитываем описательные статистики для показателя числа комнат:"
   ]
  },
  {
   "cell_type": "code",
   "execution_count": 204,
   "metadata": {},
   "outputs": [
    {
     "data": {
      "image/png": "[encoded data removed]",
      "text/plain": [
       "<Figure size 432x288 with 1 Axes>"
      ]
     },
     "metadata": {
      "needs_background": "light"
     },
     "output_type": "display_data"
    }
   ],
   "source": [
    "data.plot(y = 'rooms', title = 'rooms', kind='hist', bins = 50);"
   ]
  },
  {
   "cell_type": "code",
   "execution_count": 205,
   "metadata": {},
   "outputs": [
    {
     "data": {
      "text/plain": [
       "count    23699.000000\n",
       "mean         2.070636\n",
       "std          1.078405\n",
       "min          0.000000\n",
       "25%          1.000000\n",
       "50%          2.000000\n",
       "75%          3.000000\n",
       "max         19.000000\n",
       "Name: rooms, dtype: float64"
      ]
     },
     "execution_count": 205,
     "metadata": {},
     "output_type": "execute_result"
    }
   ],
   "source": [
    "data['rooms'].describe()"
   ]
  },
  {
   "cell_type": "markdown",
   "metadata": {},
   "source": [
    "**Вывод:** Количество комнат. Среднее значение 2, медиана 2, значения изменяются от 0 до 19 комнат. Нормальное распределение, смещённое в сторону больших значений."
   ]
  },
  {
   "cell_type": "markdown",
   "metadata": {},
   "source": [
    "Строим гистограмму и рассчитываем описательные статистики для показателя высоты потолков:"
   ]
  },
  {
   "cell_type": "code",
   "execution_count": 206,
   "metadata": {},
   "outputs": [
    {
     "data": {
      "image/png": "[encoded data removed]",
      "text/plain": [
       "<Figure size 432x288 with 1 Axes>"
      ]
     },
     "metadata": {
      "needs_background": "light"
     },
     "output_type": "display_data"
    }
   ],
   "source": [
    "data.plot(y = 'ceiling_height', title = 'ceiling_height', kind='hist', bins = 50);"
   ]
  },
  {
   "cell_type": "code",
   "execution_count": 207,
   "metadata": {},
   "outputs": [
    {
     "data": {
      "text/plain": [
       "count    14504.000000\n",
       "mean         2.729608\n",
       "std          0.319850\n",
       "min          1.000000\n",
       "25%          2.510000\n",
       "50%          2.650000\n",
       "75%          2.800000\n",
       "max         14.000000\n",
       "Name: ceiling_height, dtype: float64"
      ]
     },
     "execution_count": 207,
     "metadata": {},
     "output_type": "execute_result"
    }
   ],
   "source": [
    "data['ceiling_height'].describe()"
   ]
  },
  {
   "cell_type": "markdown",
   "metadata": {},
   "source": [
    "**Вывод:** Высота потолков. Среднее значение 2.73, медиана 2.65, значения изменяются от 1 до 20 метров. Нормальное распределение, смещённое в сторону больших значений."
   ]
  },
  {
   "cell_type": "markdown",
   "metadata": {},
   "source": [
    "Строим гистограмму и рассчитываем описательные статистики для показателя этажа:"
   ]
  },
  {
   "cell_type": "code",
   "execution_count": 208,
   "metadata": {},
   "outputs": [
    {
     "data": {
      "image/png": "[encoded data removed]",
      "text/plain": [
       "<Figure size 432x288 with 1 Axes>"
      ]
     },
     "metadata": {
      "needs_background": "light"
     },
     "output_type": "display_data"
    }
   ],
   "source": [
    "data.plot(y = 'floor', title = 'floor', kind='hist', bins = 50);"
   ]
  },
  {
   "cell_type": "code",
   "execution_count": 209,
   "metadata": {},
   "outputs": [
    {
     "data": {
      "text/plain": [
       "count    23699.000000\n",
       "mean         5.892358\n",
       "std          4.885249\n",
       "min          1.000000\n",
       "25%          2.000000\n",
       "50%          4.000000\n",
       "75%          8.000000\n",
       "max         33.000000\n",
       "Name: floor, dtype: float64"
      ]
     },
     "execution_count": 209,
     "metadata": {},
     "output_type": "execute_result"
    }
   ],
   "source": [
    "data['floor'].describe()"
   ]
  },
  {
   "cell_type": "markdown",
   "metadata": {},
   "source": [
    "**Вывод:** Этаж квартиры. Среднее значение 6, медиана 4, значения изменяются от 1 до 33 этажей. Ненормальное распределение."
   ]
  },
  {
   "cell_type": "markdown",
   "metadata": {},
   "source": [
    "Для параметра «тип этажа» гистограмму стандартным методом построить не получилось, \n",
    "так как это категориальные данные и pandas выдаёт ошибку - строим столбчатую диаграмму:"
   ]
  },
  {
   "cell_type": "code",
   "execution_count": 210,
   "metadata": {},
   "outputs": [
    {
     "data": {
      "image/png": "[encoded data removed]",
      "text/plain": [
       "<Figure size 432x288 with 1 Axes>"
      ]
     },
     "metadata": {
      "needs_background": "light"
     },
     "output_type": "display_data"
    }
   ],
   "source": [
    "data.groupby('floor_type')['floor_type'].count().plot(kind = 'bar', title='floor_type');"
   ]
  },
  {
   "cell_type": "markdown",
   "metadata": {},
   "source": [
    "**Вывод:**  Объектов на первом этаже примерно 2 500, что составляет 12,5% от числа всех объвлений. Примерно столько же объектов с последним этажом (чуть больше). Основную массу составляют объявления с типом этажа «другой»."
   ]
  },
  {
   "cell_type": "markdown",
   "metadata": {},
   "source": [
    "Строим гистограмму и рассчитываем описательные статистики для показателя этажности дома:"
   ]
  },
  {
   "cell_type": "code",
   "execution_count": 211,
   "metadata": {},
   "outputs": [
    {
     "data": {
      "image/png": "[encoded data removed]",
      "text/plain": [
       "<Figure size 432x288 with 1 Axes>"
      ]
     },
     "metadata": {
      "needs_background": "light"
     },
     "output_type": "display_data"
    }
   ],
   "source": [
    "data.plot(y = 'floors_total', title = 'floors_total', kind='hist', bins = 50);"
   ]
  },
  {
   "cell_type": "code",
   "execution_count": 212,
   "metadata": {},
   "outputs": [
    {
     "data": {
      "text/plain": [
       "count    23699.000000\n",
       "mean        10.635090\n",
       "std          6.616396\n",
       "min          0.000000\n",
       "25%          5.000000\n",
       "50%          9.000000\n",
       "75%         16.000000\n",
       "max         60.000000\n",
       "Name: floors_total, dtype: float64"
      ]
     },
     "execution_count": 212,
     "metadata": {},
     "output_type": "execute_result"
    }
   ],
   "source": [
    "data['floors_total'].describe()"
   ]
  },
  {
   "cell_type": "markdown",
   "metadata": {},
   "source": [
    "**Вывод:** Общее количество этажей в доме. Среднее значение 11, медиана 9, значения изменяются от 1 до 60 этажей.\n",
    "Распределение с несколькими максимумами - ненормальное (на самом деле содержит объекты разных классов - малоэтажные и \n",
    "многоэтажные дома, которые по отдельности имеют нормальное распределение)."
   ]
  },
  {
   "cell_type": "markdown",
   "metadata": {},
   "source": [
    "Строим гистограмму и рассчитываем описательные статистики для показателя расстояния до центра города:"
   ]
  },
  {
   "cell_type": "code",
   "execution_count": 213,
   "metadata": {},
   "outputs": [
    {
     "data": {
      "image/png": "[encoded data removed]",
      "text/plain": [
       "<Figure size 432x288 with 1 Axes>"
      ]
     },
     "metadata": {
      "needs_background": "light"
     },
     "output_type": "display_data"
    }
   ],
   "source": [
    "data.plot(y = 'cityCenters_nearest', title = 'cityCenters_nearest', kind='hist', bins = 50);"
   ]
  },
  {
   "cell_type": "code",
   "execution_count": 214,
   "metadata": {},
   "outputs": [
    {
     "data": {
      "text/plain": [
       "count    18180.000000\n",
       "mean     14191.277833\n",
       "std       8608.386210\n",
       "min        181.000000\n",
       "25%       9238.000000\n",
       "50%      13098.500000\n",
       "75%      16293.000000\n",
       "max      65968.000000\n",
       "Name: cityCenters_nearest, dtype: float64"
      ]
     },
     "execution_count": 214,
     "metadata": {},
     "output_type": "execute_result"
    }
   ],
   "source": [
    "data['cityCenters_nearest'].describe()"
   ]
  },
  {
   "cell_type": "markdown",
   "metadata": {},
   "source": [
    "**Вывод:** Среднее значение 14, медиана 13, значения изменяются от 0.2 до 66 км. Распределение с несколькими максимумами - ненормальное (на самом деле содержит объекты разных классов, которые по отдельности имеют нормальное распределение)."
   ]
  },
  {
   "cell_type": "markdown",
   "metadata": {},
   "source": [
    "Строим гистограмму и рассчитываем описательные статистики для показателя расстояния до ближайшего аэропорта:"
   ]
  },
  {
   "cell_type": "code",
   "execution_count": 215,
   "metadata": {},
   "outputs": [
    {
     "data": {
      "image/png": "[encoded data removed]",
      "text/plain": [
       "<Figure size 432x288 with 1 Axes>"
      ]
     },
     "metadata": {
      "needs_background": "light"
     },
     "output_type": "display_data"
    }
   ],
   "source": [
    "data.plot(y = 'airports_nearest', title = 'airports_nearest', kind='hist', bins = 50);"
   ]
  },
  {
   "cell_type": "code",
   "execution_count": 216,
   "metadata": {},
   "outputs": [
    {
     "data": {
      "text/plain": [
       "count    18157.000000\n",
       "mean     28793.672193\n",
       "std      12630.880622\n",
       "min          0.000000\n",
       "25%      18585.000000\n",
       "50%      26726.000000\n",
       "75%      37273.000000\n",
       "max      84869.000000\n",
       "Name: airports_nearest, dtype: float64"
      ]
     },
     "execution_count": 216,
     "metadata": {},
     "output_type": "execute_result"
    }
   ],
   "source": [
    "data['airports_nearest'].describe()"
   ]
  },
  {
   "cell_type": "markdown",
   "metadata": {},
   "source": [
    "**Вывод:** Среднее значение 29, медиана 27, значения изменяются от 0 до 85 км. Распределение с несколькими максимумами - ненормальное (на самом деле содержит объекты разных классов, которые по отдельности имеют нормальное распределение)."
   ]
  },
  {
   "cell_type": "markdown",
   "metadata": {},
   "source": [
    "Строим гистограмму и рассчитываем описательные статистики для показателя расстояния до ближайшего парка:"
   ]
  },
  {
   "cell_type": "code",
   "execution_count": 217,
   "metadata": {},
   "outputs": [
    {
     "data": {
      "image/png": "[encoded data removed]",
      "text/plain": [
       "<Figure size 432x288 with 1 Axes>"
      ]
     },
     "metadata": {
      "needs_background": "light"
     },
     "output_type": "display_data"
    }
   ],
   "source": [
    "data.plot(y = 'parks_nearest', title = 'parks_nearest', kind='hist', bins = 50);"
   ]
  },
  {
   "cell_type": "code",
   "execution_count": 218,
   "metadata": {},
   "outputs": [
    {
     "data": {
      "text/plain": [
       "count    8079.000000\n",
       "mean      490.804555\n",
       "std       342.317995\n",
       "min         1.000000\n",
       "25%       288.000000\n",
       "50%       455.000000\n",
       "75%       612.000000\n",
       "max      3190.000000\n",
       "Name: parks_nearest, dtype: float64"
      ]
     },
     "execution_count": 218,
     "metadata": {},
     "output_type": "execute_result"
    }
   ],
   "source": [
    "data['parks_nearest'].describe()"
   ]
  },
  {
   "cell_type": "markdown",
   "metadata": {},
   "source": [
    "**Вывод:** Среднее значение 0.5, медиана 0.5, значения изменяются от 0 до 3 км. Нормальное распределение, смещённое в сторону больших значений."
   ]
  },
  {
   "cell_type": "markdown",
   "metadata": {},
   "source": [
    "Строим гистограмму и рассчитываем описательные статистики для показателя дня недели публикации объявления:"
   ]
  },
  {
   "cell_type": "code",
   "execution_count": 219,
   "metadata": {},
   "outputs": [
    {
     "data": {
      "image/png": "[encoded data removed]",
      "text/plain": [
       "<Figure size 432x288 with 1 Axes>"
      ]
     },
     "metadata": {
      "needs_background": "light"
     },
     "output_type": "display_data"
    }
   ],
   "source": [
    "data.plot(y = 'first_day_exposition_weekday', title = 'first_day_exposition_weekday', kind='hist', bins = 50);"
   ]
  },
  {
   "cell_type": "code",
   "execution_count": 220,
   "metadata": {},
   "outputs": [
    {
     "data": {
      "text/plain": [
       "count    23699.000000\n",
       "mean         2.569307\n",
       "std          1.789082\n",
       "min          0.000000\n",
       "25%          1.000000\n",
       "50%          3.000000\n",
       "75%          4.000000\n",
       "max          6.000000\n",
       "Name: first_day_exposition_weekday, dtype: float64"
      ]
     },
     "execution_count": 220,
     "metadata": {},
     "output_type": "execute_result"
    }
   ],
   "source": [
    "data['first_day_exposition_weekday'].describe()"
   ]
  },
  {
   "cell_type": "markdown",
   "metadata": {},
   "source": [
    "**Вывод:**  Чаще всего объявления выкладывают в четверг, но, в целом, в будние количество объявлений примерно одинаково. В выходные наблюдается резкий спад."
   ]
  },
  {
   "cell_type": "markdown",
   "metadata": {},
   "source": [
    "Строим гистограмму и рассчитываем описательные статистики для показателя месяца публикации объявления:"
   ]
  },
  {
   "cell_type": "code",
   "execution_count": 221,
   "metadata": {},
   "outputs": [
    {
     "data": {
      "image/png": "[encoded data removed]",
      "text/plain": [
       "<Figure size 432x288 with 1 Axes>"
      ]
     },
     "metadata": {
      "needs_background": "light"
     },
     "output_type": "display_data"
    }
   ],
   "source": [
    "data.plot(y = 'first_day_exposition_month', title = 'first_day_exposition_month', kind='hist', bins = 50);"
   ]
  },
  {
   "cell_type": "code",
   "execution_count": 222,
   "metadata": {},
   "outputs": [
    {
     "data": {
      "text/plain": [
       "count    23699.000000\n",
       "mean         6.400101\n",
       "std          3.491561\n",
       "min          1.000000\n",
       "25%          3.000000\n",
       "50%          6.000000\n",
       "75%         10.000000\n",
       "max         12.000000\n",
       "Name: first_day_exposition_month, dtype: float64"
      ]
     },
     "execution_count": 222,
     "metadata": {},
     "output_type": "execute_result"
    }
   ],
   "source": [
    "data['first_day_exposition_month'].describe()"
   ]
  },
  {
   "cell_type": "markdown",
   "metadata": {},
   "source": [
    "**Вывод:** Чаще всего объявления выкладывают в феврале, немного меньше в марте, апреле и ноябре. Меньше всего публикуют объявления в мае."
   ]
  },
  {
   "cell_type": "markdown",
   "metadata": {},
   "source": [
    "**Выводы**\n",
    "\n",
    "- Общая площадь. Среднее значение 60, медиана 52, значения изменяются от 12 до 900 квадратных метров;\n",
    "- Жилая площадь. Среднее значение 35, медиана 30, значения изменяются от 2 до 410 квадратных метров;\n",
    "- Площадь кухни. Среднее значение 11, медиана 9, значения изменяются от 1.3 до 112 квадратных метров;\n",
    "- Цена объекта. Среднее значение 6 500 000, медиана 4 650 000, значения изменяются от 12 190 до 763 000 000 рублей;\n",
    "- Количество комнат. Среднее значение 2, медиана 2, значения изменяются от 0 до 19 комнат;\n",
    "- Высота потолков. Среднее значение 2.73, медиана 2.65, значения изменяются от 1 до 20 метров;\n",
    "- Этаж квартиры. Среднее значение 6, медиана 4, значения изменяются от 1 до 33 этажей;\n",
    "- Тип этажа квартиры. Объектов на первом этаже примерно 2 500, что составляет 12,5% от числа всех объвлений. Примерно столько же объектов с последним этажом (чуть больше). Основную массу составляют объявления с типом этажа «другой»; \n",
    "- Общее количество этажей в доме. Среднее значение 11, медиана 9, значения изменяются от 1 до 60 этажей;\n",
    "- Расстояние до центра города. Среднее значение 14, медиана 13, значения изменяются от 0.2 до 66 км;\n",
    "- Расстояние до ближайшего аэропорта. Среднее значение 29, медиана 27, значения изменяются от 0 до 85 км;\n",
    "- Расстояние до ближайшего парка. Среднее значение 0.5, медиана 0.5, значения изменяются от 0 до 3 км;\n",
    "- День недели публикации объявления. Чаще всего объявления выкладывают в четверг, но, в целом, в будние количество объявлений примерно одинаково. В выходные наблюдается резкий спад;\n",
    "- Месяц публикации объявления. Чаще всего объявления выкладывают в феврале, немного меньше в марте, апреле и ноябре. Меньше всего публикуют объявления в мае."
   ]
  },
  {
   "cell_type": "markdown",
   "metadata": {},
   "source": [
    "Изучаем, как быстро продавались квартиры."
   ]
  },
  {
   "cell_type": "markdown",
   "metadata": {},
   "source": [
    "Строим гистограмму:"
   ]
  },
  {
   "cell_type": "code",
   "execution_count": 223,
   "metadata": {},
   "outputs": [
    {
     "data": {
      "image/png": "[encoded data removed]",
      "text/plain": [
       "<Figure size 432x288 with 1 Axes>"
      ]
     },
     "metadata": {
      "needs_background": "light"
     },
     "output_type": "display_data"
    }
   ],
   "source": [
    "data['days_exposition'].hist(bins=50);"
   ]
  },
  {
   "cell_type": "markdown",
   "metadata": {},
   "source": [
    "Считаем среднее, медиану и другие описательные статистики:"
   ]
  },
  {
   "cell_type": "code",
   "execution_count": 224,
   "metadata": {},
   "outputs": [
    {
     "data": {
      "text/plain": [
       "count    20518.000000\n",
       "mean       180.888634\n",
       "std        219.727988\n",
       "min          1.000000\n",
       "25%         45.000000\n",
       "50%         95.000000\n",
       "75%        232.000000\n",
       "max       1580.000000\n",
       "Name: days_exposition, dtype: float64"
      ]
     },
     "execution_count": 224,
     "metadata": {},
     "output_type": "execute_result"
    }
   ],
   "source": [
    "data['days_exposition'].describe()"
   ]
  },
  {
   "cell_type": "markdown",
   "metadata": {},
   "source": [
    "**Выводы**\n",
    "\n",
    "Если в качестве типичного знанчения рассматривать среднее, то продажа обычно осуществляется за 180 дней, если брать медиану, то за 95 дней. Среднее значение некорректно характеризует данные, так как отдельные значения сильно выделяются среди большинства (имеются наблюдения с аномально высокими значениями, которые завышают эту описательную статистику), поэтому лучше использовать медиану. Минимальное значение состаляет 1 день, максимальное - 1580 дней (больше 4-х лет). Значение первой квартили - 45 дней - в первом приближении будем считать, что все продажи меньше это значение быстрые. Значение третьей квартили - 232 дня - в первом приближении будем считать, что все продажи больше это значение необычно долгие. "
   ]
  },
  {
   "cell_type": "markdown",
   "metadata": {},
   "source": [
    "Определяем, как общая площадь влияет на общую (полную) стоимость объекта."
   ]
  },
  {
   "cell_type": "markdown",
   "metadata": {},
   "source": [
    "Строим диаграмму рассеяния:"
   ]
  },
  {
   "cell_type": "code",
   "execution_count": 225,
   "metadata": {},
   "outputs": [
    {
     "data": {
      "image/png": "[encoded data removed]",
      "text/plain": [
       "<Figure size 432x288 with 1 Axes>"
      ]
     },
     "metadata": {
      "needs_background": "light"
     },
     "output_type": "display_data"
    }
   ],
   "source": [
    "data.plot(x='total_area', y='last_price', kind='scatter');"
   ]
  },
  {
   "cell_type": "markdown",
   "metadata": {},
   "source": [
    "Рассчитываем коэффициент корреляции Пирсона:"
   ]
  },
  {
   "cell_type": "code",
   "execution_count": 226,
   "metadata": {},
   "outputs": [
    {
     "data": {
      "text/plain": [
       "0.6536750579657242"
      ]
     },
     "execution_count": 226,
     "metadata": {},
     "output_type": "execute_result"
    }
   ],
   "source": [
    "data['last_price'].corr(data['total_area'])"
   ]
  },
  {
   "cell_type": "markdown",
   "metadata": {},
   "source": [
    "**Вывод:** Диаграмма рассеяния и коэффициент Пирсона, равный 0.65, говорят о наличии средней положительной линейной связи. "
   ]
  },
  {
   "cell_type": "markdown",
   "metadata": {},
   "source": [
    "Определяем, как жилая площадь влияет на общую (полную) стоимость объекта."
   ]
  },
  {
   "cell_type": "markdown",
   "metadata": {},
   "source": [
    "Строим диаграмму рассеяния:"
   ]
  },
  {
   "cell_type": "code",
   "execution_count": 227,
   "metadata": {},
   "outputs": [
    {
     "data": {
      "image/png": "[encoded data removed]",
      "text/plain": [
       "<Figure size 432x288 with 1 Axes>"
      ]
     },
     "metadata": {
      "needs_background": "light"
     },
     "output_type": "display_data"
    }
   ],
   "source": [
    "data.plot(x='living_area', y='last_price', kind='scatter');"
   ]
  },
  {
   "cell_type": "markdown",
   "metadata": {},
   "source": [
    "Рассчитываем коэффициент корреляции Пирсона:"
   ]
  },
  {
   "cell_type": "code",
   "execution_count": 228,
   "metadata": {},
   "outputs": [
    {
     "data": {
      "text/plain": [
       "0.5857245164413091"
      ]
     },
     "execution_count": 228,
     "metadata": {},
     "output_type": "execute_result"
    }
   ],
   "source": [
    "data['last_price'].corr(data['living_area'])"
   ]
  },
  {
   "cell_type": "markdown",
   "metadata": {},
   "source": [
    "**Вывод:** Диаграмма рассеяния и коэффициент Пирсона, равный 0.59, говорят о наличии средней положительной линейной связи."
   ]
  },
  {
   "cell_type": "markdown",
   "metadata": {},
   "source": [
    "Определяем, как площадь кухни влияет на общую (полную) стоимость объекта."
   ]
  },
  {
   "cell_type": "markdown",
   "metadata": {},
   "source": [
    "Строим диаграмму рассеяния:"
   ]
  },
  {
   "cell_type": "code",
   "execution_count": 229,
   "metadata": {},
   "outputs": [
    {
     "data": {
      "image/png": "[encoded data removed]",
      "text/plain": [
       "<Figure size 432x288 with 1 Axes>"
      ]
     },
     "metadata": {
      "needs_background": "light"
     },
     "output_type": "display_data"
    }
   ],
   "source": [
    "data.plot(x='kitchen_area', y='last_price', kind='scatter');"
   ]
  },
  {
   "cell_type": "markdown",
   "metadata": {},
   "source": [
    "Рассчитываем коэффициент корреляции Пирсона:"
   ]
  },
  {
   "cell_type": "code",
   "execution_count": 230,
   "metadata": {},
   "outputs": [
    {
     "data": {
      "text/plain": [
       "0.5134760486132083"
      ]
     },
     "execution_count": 230,
     "metadata": {},
     "output_type": "execute_result"
    }
   ],
   "source": [
    "data['last_price'].corr(data['kitchen_area'])"
   ]
  },
  {
   "cell_type": "markdown",
   "metadata": {},
   "source": [
    "**Вывод:** Диаграмма рассеяния и коэффициент Пирсона, равный 0.51, говорят о наличии средней положительной линейной связи. "
   ]
  },
  {
   "cell_type": "markdown",
   "metadata": {},
   "source": [
    "Определяем, как количество комнат влияет на общую (полную) стоимость объекта."
   ]
  },
  {
   "cell_type": "markdown",
   "metadata": {},
   "source": [
    "Строим диаграмму рассеяния:"
   ]
  },
  {
   "cell_type": "code",
   "execution_count": 231,
   "metadata": {},
   "outputs": [
    {
     "data": {
      "image/png": "[encoded data removed]",
      "text/plain": [
       "<Figure size 432x288 with 1 Axes>"
      ]
     },
     "metadata": {
      "needs_background": "light"
     },
     "output_type": "display_data"
    }
   ],
   "source": [
    "data.plot(x='rooms', y='last_price', kind='scatter');"
   ]
  },
  {
   "cell_type": "markdown",
   "metadata": {},
   "source": [
    "Рассчитываем коэффициент корреляции Пирсона:"
   ]
  },
  {
   "cell_type": "code",
   "execution_count": 232,
   "metadata": {},
   "outputs": [
    {
     "data": {
      "text/plain": [
       "0.3633428499648948"
      ]
     },
     "execution_count": 232,
     "metadata": {},
     "output_type": "execute_result"
    }
   ],
   "source": [
    "data['last_price'].corr(data['rooms'])"
   ]
  },
  {
   "cell_type": "markdown",
   "metadata": {},
   "source": [
    "**Вывод:** Диаграмма рассеяния и коэффициент Пирсона, равный 0.36, говорят о наличии слабой положительной линейной связи."
   ]
  },
  {
   "cell_type": "markdown",
   "metadata": {},
   "source": [
    "Определяем, как этаж, на котором расположена квартира, влияет на общую (полную) стоимость объекта."
   ]
  },
  {
   "cell_type": "markdown",
   "metadata": {},
   "source": [
    "Строим столбчатую диаграмму:"
   ]
  },
  {
   "cell_type": "code",
   "execution_count": 233,
   "metadata": {},
   "outputs": [
    {
     "data": {
      "image/png": "[encoded data removed]",
      "text/plain": [
       "<Figure size 432x288 with 1 Axes>"
      ]
     },
     "metadata": {
      "needs_background": "light"
     },
     "output_type": "display_data"
    }
   ],
   "source": [
    "import seaborn as sns\n",
    "ax = sns.barplot(x=\"floor_type\", y=\"last_price\", data=data)"
   ]
  },
  {
   "cell_type": "markdown",
   "metadata": {},
   "source": [
    "**Вывод:** График говорит нам о том, что объекты на первом этаже - самые дешёвые."
   ]
  },
  {
   "cell_type": "markdown",
   "metadata": {},
   "source": [
    "Определяем, как день недели даты размещения влияет на общую (полную) стоимость объекта."
   ]
  },
  {
   "cell_type": "markdown",
   "metadata": {},
   "source": [
    "Строим столбчатую диаграмму:"
   ]
  },
  {
   "cell_type": "code",
   "execution_count": 234,
   "metadata": {},
   "outputs": [
    {
     "data": {
      "image/png": "[encoded data removed]",
      "text/plain": [
       "<Figure size 432x288 with 1 Axes>"
      ]
     },
     "metadata": {
      "needs_background": "light"
     },
     "output_type": "display_data"
    }
   ],
   "source": [
    "ax = sns.barplot(x=\"first_day_exposition_weekday\", y=\"last_price\", data=data)"
   ]
  },
  {
   "cell_type": "markdown",
   "metadata": {},
   "source": [
    "**Вывод:** Связи между днём недели размещения объявления и стоимостью квартиры нет (цены распределены примерно равномерно по дням). "
   ]
  },
  {
   "cell_type": "markdown",
   "metadata": {},
   "source": [
    "Определяем, как месяц даты размещения влияет на общую (полную) стоимость объекта."
   ]
  },
  {
   "cell_type": "markdown",
   "metadata": {},
   "source": [
    "Строим столбчатую диаграмму:"
   ]
  },
  {
   "cell_type": "code",
   "execution_count": 235,
   "metadata": {},
   "outputs": [
    {
     "data": {
      "image/png": "[encoded data removed]",
      "text/plain": [
       "<Figure size 432x288 with 1 Axes>"
      ]
     },
     "metadata": {
      "needs_background": "light"
     },
     "output_type": "display_data"
    }
   ],
   "source": [
    "ax = sns.barplot(x=\"first_day_exposition_month\", y=\"last_price\", data=data)"
   ]
  },
  {
   "cell_type": "markdown",
   "metadata": {},
   "source": [
    "**Вывод:** Связи между месяцем размещения объявления и стоимостью квартиры нет (цены распределены примерно равномерно по месяцам). "
   ]
  },
  {
   "cell_type": "markdown",
   "metadata": {},
   "source": [
    "Определяем, как год даты размещения влияет на общую (полную) стоимость объекта."
   ]
  },
  {
   "cell_type": "markdown",
   "metadata": {},
   "source": [
    "Строим стобчатую диаграмму:"
   ]
  },
  {
   "cell_type": "code",
   "execution_count": 236,
   "metadata": {},
   "outputs": [
    {
     "data": {
      "image/png": "[encoded data removed]",
      "text/plain": [
       "<Figure size 432x288 with 1 Axes>"
      ]
     },
     "metadata": {
      "needs_background": "light"
     },
     "output_type": "display_data"
    }
   ],
   "source": [
    "ax = sns.barplot(x=\"first_day_exposition_year\", y=\"last_price\", data=data)"
   ]
  },
  {
   "cell_type": "markdown",
   "metadata": {},
   "source": [
    "**Вывод:** График говорит нам о том, что самые дорогие цены были в 2014 году, самые дешёвые в 2018 году."
   ]
  },
  {
   "cell_type": "markdown",
   "metadata": {},
   "source": [
    "**Выводы**\n",
    "\n",
    "На общую стоимость объекта больше всего влияет общая площадь квартиры. Об этом говорит и диаграмма рассеяния и коэффициент Пирсона, равный 0.65, что говорит о наличии положительной линейной связи. Также имеется связь, однако менее выраженная, с жилой площадью, площадью кухни и числом комнат - коэффициент корреляции равен 0.57, 0.49 и 0.36 соответсвенно. Объекты на первом этаже - самые дешёвые, объявления 2014 года - самые дорогие. Отсутствует связь с днём недели и месяцем размещения объявления."
   ]
  },
  {
   "cell_type": "markdown",
   "metadata": {},
   "source": [
    "Считаем среднюю цену одного квадратного метра в 10 населённых пунктах с наибольшим числом объявлений:"
   ]
  },
  {
   "cell_type": "code",
   "execution_count": 237,
   "metadata": {},
   "outputs": [
    {
     "data": {
      "text/html": [
       "<div>\n",
       "<style scoped>\n",
       "    .dataframe tbody tr th:only-of-type {\n",
       "        vertical-align: middle;\n",
       "    }\n",
       "\n",
       "    .dataframe tbody tr th {\n",
       "        vertical-align: top;\n",
       "    }\n",
       "\n",
       "    .dataframe thead th {\n",
       "        text-align: right;\n",
       "    }\n",
       "</style>\n",
       "<table border=\"1\" class=\"dataframe\">\n",
       "  <thead>\n",
       "    <tr style=\"text-align: right;\">\n",
       "      <th></th>\n",
       "      <th>count</th>\n",
       "      <th>mean</th>\n",
       "    </tr>\n",
       "    <tr>\n",
       "      <th>locality_name</th>\n",
       "      <th></th>\n",
       "      <th></th>\n",
       "    </tr>\n",
       "  </thead>\n",
       "  <tbody>\n",
       "    <tr>\n",
       "      <th>Санкт-Петербург</th>\n",
       "      <td>15721</td>\n",
       "      <td>114849.008794</td>\n",
       "    </tr>\n",
       "    <tr>\n",
       "      <th>посёлок Мурино</th>\n",
       "      <td>522</td>\n",
       "      <td>85752.189195</td>\n",
       "    </tr>\n",
       "    <tr>\n",
       "      <th>посёлок Шушары</th>\n",
       "      <td>440</td>\n",
       "      <td>78677.364217</td>\n",
       "    </tr>\n",
       "    <tr>\n",
       "      <th>Всеволожск</th>\n",
       "      <td>398</td>\n",
       "      <td>68654.473986</td>\n",
       "    </tr>\n",
       "    <tr>\n",
       "      <th>Пушкин</th>\n",
       "      <td>369</td>\n",
       "      <td>103125.819291</td>\n",
       "    </tr>\n",
       "    <tr>\n",
       "      <th>Колпино</th>\n",
       "      <td>338</td>\n",
       "      <td>75424.579098</td>\n",
       "    </tr>\n",
       "    <tr>\n",
       "      <th>посёлок Парголово</th>\n",
       "      <td>327</td>\n",
       "      <td>90175.913458</td>\n",
       "    </tr>\n",
       "    <tr>\n",
       "      <th>Гатчина</th>\n",
       "      <td>307</td>\n",
       "      <td>68746.146763</td>\n",
       "    </tr>\n",
       "    <tr>\n",
       "      <th>деревня Кудрово</th>\n",
       "      <td>299</td>\n",
       "      <td>92473.547576</td>\n",
       "    </tr>\n",
       "    <tr>\n",
       "      <th>Выборг</th>\n",
       "      <td>237</td>\n",
       "      <td>58141.909153</td>\n",
       "    </tr>\n",
       "  </tbody>\n",
       "</table>\n",
       "</div>"
      ],
      "text/plain": [
       "                   count           mean\n",
       "locality_name                          \n",
       "Санкт-Петербург    15721  114849.008794\n",
       "посёлок Мурино       522   85752.189195\n",
       "посёлок Шушары       440   78677.364217\n",
       "Всеволожск           398   68654.473986\n",
       "Пушкин               369  103125.819291\n",
       "Колпино              338   75424.579098\n",
       "посёлок Парголово    327   90175.913458\n",
       "Гатчина              307   68746.146763\n",
       "деревня Кудрово      299   92473.547576\n",
       "Выборг               237   58141.909153"
      ]
     },
     "execution_count": 237,
     "metadata": {},
     "output_type": "execute_result"
    }
   ],
   "source": [
    "group_data = data.groupby('locality_name').agg({'price_per_square_meter': ['count', 'mean']})\n",
    "\n",
    "group_data.columns = ['count', 'mean']\n",
    "\n",
    "group_data = group_data.sort_values('count', ascending=False).head(10)\n",
    "\n",
    "group_data"
   ]
  },
  {
   "cell_type": "markdown",
   "metadata": {},
   "source": [
    "Населённый пункт с самой высокой стоимостью квадратного метра:"
   ]
  },
  {
   "cell_type": "code",
   "execution_count": 238,
   "metadata": {},
   "outputs": [
    {
     "data": {
      "text/html": [
       "<div>\n",
       "<style scoped>\n",
       "    .dataframe tbody tr th:only-of-type {\n",
       "        vertical-align: middle;\n",
       "    }\n",
       "\n",
       "    .dataframe tbody tr th {\n",
       "        vertical-align: top;\n",
       "    }\n",
       "\n",
       "    .dataframe thead th {\n",
       "        text-align: right;\n",
       "    }\n",
       "</style>\n",
       "<table border=\"1\" class=\"dataframe\">\n",
       "  <thead>\n",
       "    <tr style=\"text-align: right;\">\n",
       "      <th></th>\n",
       "      <th>count</th>\n",
       "      <th>mean</th>\n",
       "    </tr>\n",
       "    <tr>\n",
       "      <th>locality_name</th>\n",
       "      <th></th>\n",
       "      <th></th>\n",
       "    </tr>\n",
       "  </thead>\n",
       "  <tbody>\n",
       "    <tr>\n",
       "      <th>Санкт-Петербург</th>\n",
       "      <td>15721</td>\n",
       "      <td>114849.008794</td>\n",
       "    </tr>\n",
       "  </tbody>\n",
       "</table>\n",
       "</div>"
      ],
      "text/plain": [
       "                 count           mean\n",
       "locality_name                        \n",
       "Санкт-Петербург  15721  114849.008794"
      ]
     },
     "execution_count": 238,
     "metadata": {},
     "output_type": "execute_result"
    }
   ],
   "source": [
    "max_price = group_data.sort_values('mean', ascending=False).head(1)\n",
    "max_price"
   ]
  },
  {
   "cell_type": "markdown",
   "metadata": {},
   "source": [
    "Населённый пункт с самой низкой стоимостью квадратного метра:"
   ]
  },
  {
   "cell_type": "code",
   "execution_count": 239,
   "metadata": {},
   "outputs": [
    {
     "data": {
      "text/html": [
       "<div>\n",
       "<style scoped>\n",
       "    .dataframe tbody tr th:only-of-type {\n",
       "        vertical-align: middle;\n",
       "    }\n",
       "\n",
       "    .dataframe tbody tr th {\n",
       "        vertical-align: top;\n",
       "    }\n",
       "\n",
       "    .dataframe thead th {\n",
       "        text-align: right;\n",
       "    }\n",
       "</style>\n",
       "<table border=\"1\" class=\"dataframe\">\n",
       "  <thead>\n",
       "    <tr style=\"text-align: right;\">\n",
       "      <th></th>\n",
       "      <th>count</th>\n",
       "      <th>mean</th>\n",
       "    </tr>\n",
       "    <tr>\n",
       "      <th>locality_name</th>\n",
       "      <th></th>\n",
       "      <th></th>\n",
       "    </tr>\n",
       "  </thead>\n",
       "  <tbody>\n",
       "    <tr>\n",
       "      <th>Выборг</th>\n",
       "      <td>237</td>\n",
       "      <td>58141.909153</td>\n",
       "    </tr>\n",
       "  </tbody>\n",
       "</table>\n",
       "</div>"
      ],
      "text/plain": [
       "               count          mean\n",
       "locality_name                     \n",
       "Выборг           237  58141.909153"
      ]
     },
     "execution_count": 239,
     "metadata": {},
     "output_type": "execute_result"
    }
   ],
   "source": [
    "min_price = group_data.sort_values('mean', ascending=True).head(1)\n",
    "min_price"
   ]
  },
  {
   "cell_type": "markdown",
   "metadata": {},
   "source": [
    "**Выводы**\n",
    "\n",
    "Среди населённых пунктов с наибольшим число объявлений самую высокую стоимость одного квадратного метра имеет Санкт-Петербург - среднее значение составляет 114 849 на основе 15 721 объявлений. Самая низкая стоимость наблюдается в Выборге - 58 142 рубля за один квадратный метр (среднее значение на основе 237 объявлений)."
   ]
  },
  {
   "cell_type": "markdown",
   "metadata": {},
   "source": [
    "Группируем данные по расстоянию до центра и рассчитываем в пределах каждой группы среднюю цену одного квадратного метра:"
   ]
  },
  {
   "cell_type": "code",
   "execution_count": 240,
   "metadata": {},
   "outputs": [
    {
     "data": {
      "text/html": [
       "<div>\n",
       "<style scoped>\n",
       "    .dataframe tbody tr th:only-of-type {\n",
       "        vertical-align: middle;\n",
       "    }\n",
       "\n",
       "    .dataframe tbody tr th {\n",
       "        vertical-align: top;\n",
       "    }\n",
       "\n",
       "    .dataframe thead th {\n",
       "        text-align: right;\n",
       "    }\n",
       "</style>\n",
       "<table border=\"1\" class=\"dataframe\">\n",
       "  <thead>\n",
       "    <tr style=\"text-align: right;\">\n",
       "      <th></th>\n",
       "      <th>price_per_square_meter</th>\n",
       "      <th>total_area</th>\n",
       "    </tr>\n",
       "    <tr>\n",
       "      <th>cityCenters_nearest_km</th>\n",
       "      <th></th>\n",
       "      <th></th>\n",
       "    </tr>\n",
       "  </thead>\n",
       "  <tbody>\n",
       "    <tr>\n",
       "      <th>0.0</th>\n",
       "      <td>245833.530289</td>\n",
       "      <td>117.259259</td>\n",
       "    </tr>\n",
       "    <tr>\n",
       "      <th>1.0</th>\n",
       "      <td>177005.407676</td>\n",
       "      <td>104.999896</td>\n",
       "    </tr>\n",
       "    <tr>\n",
       "      <th>2.0</th>\n",
       "      <td>157849.007329</td>\n",
       "      <td>102.504000</td>\n",
       "    </tr>\n",
       "    <tr>\n",
       "      <th>3.0</th>\n",
       "      <td>121387.453704</td>\n",
       "      <td>90.273429</td>\n",
       "    </tr>\n",
       "    <tr>\n",
       "      <th>4.0</th>\n",
       "      <td>133282.874761</td>\n",
       "      <td>91.475494</td>\n",
       "    </tr>\n",
       "    <tr>\n",
       "      <th>5.0</th>\n",
       "      <td>140509.789046</td>\n",
       "      <td>95.887185</td>\n",
       "    </tr>\n",
       "    <tr>\n",
       "      <th>6.0</th>\n",
       "      <td>151012.193621</td>\n",
       "      <td>90.785615</td>\n",
       "    </tr>\n",
       "    <tr>\n",
       "      <th>7.0</th>\n",
       "      <td>156176.879664</td>\n",
       "      <td>82.058762</td>\n",
       "    </tr>\n",
       "    <tr>\n",
       "      <th>8.0</th>\n",
       "      <td>125671.442742</td>\n",
       "      <td>73.546114</td>\n",
       "    </tr>\n",
       "    <tr>\n",
       "      <th>9.0</th>\n",
       "      <td>113131.041911</td>\n",
       "      <td>59.403626</td>\n",
       "    </tr>\n",
       "    <tr>\n",
       "      <th>10.0</th>\n",
       "      <td>112727.516925</td>\n",
       "      <td>57.061071</td>\n",
       "    </tr>\n",
       "    <tr>\n",
       "      <th>11.0</th>\n",
       "      <td>108630.835324</td>\n",
       "      <td>56.073396</td>\n",
       "    </tr>\n",
       "    <tr>\n",
       "      <th>12.0</th>\n",
       "      <td>107488.734023</td>\n",
       "      <td>54.261969</td>\n",
       "    </tr>\n",
       "    <tr>\n",
       "      <th>13.0</th>\n",
       "      <td>108148.127854</td>\n",
       "      <td>56.172622</td>\n",
       "    </tr>\n",
       "    <tr>\n",
       "      <th>14.0</th>\n",
       "      <td>104252.385047</td>\n",
       "      <td>54.367537</td>\n",
       "    </tr>\n",
       "    <tr>\n",
       "      <th>15.0</th>\n",
       "      <td>104231.976184</td>\n",
       "      <td>56.463597</td>\n",
       "    </tr>\n",
       "    <tr>\n",
       "      <th>16.0</th>\n",
       "      <td>100542.613949</td>\n",
       "      <td>53.559170</td>\n",
       "    </tr>\n",
       "    <tr>\n",
       "      <th>17.0</th>\n",
       "      <td>96597.652408</td>\n",
       "      <td>55.065561</td>\n",
       "    </tr>\n",
       "    <tr>\n",
       "      <th>18.0</th>\n",
       "      <td>96362.263941</td>\n",
       "      <td>53.590575</td>\n",
       "    </tr>\n",
       "    <tr>\n",
       "      <th>19.0</th>\n",
       "      <td>98652.736027</td>\n",
       "      <td>51.578471</td>\n",
       "    </tr>\n",
       "    <tr>\n",
       "      <th>20.0</th>\n",
       "      <td>103045.181922</td>\n",
       "      <td>58.580612</td>\n",
       "    </tr>\n",
       "    <tr>\n",
       "      <th>21.0</th>\n",
       "      <td>94469.584582</td>\n",
       "      <td>58.630085</td>\n",
       "    </tr>\n",
       "    <tr>\n",
       "      <th>22.0</th>\n",
       "      <td>91330.425050</td>\n",
       "      <td>60.308861</td>\n",
       "    </tr>\n",
       "    <tr>\n",
       "      <th>23.0</th>\n",
       "      <td>91828.517765</td>\n",
       "      <td>56.604824</td>\n",
       "    </tr>\n",
       "    <tr>\n",
       "      <th>24.0</th>\n",
       "      <td>85736.904595</td>\n",
       "      <td>45.770385</td>\n",
       "    </tr>\n",
       "    <tr>\n",
       "      <th>25.0</th>\n",
       "      <td>91531.371618</td>\n",
       "      <td>46.506154</td>\n",
       "    </tr>\n",
       "    <tr>\n",
       "      <th>26.0</th>\n",
       "      <td>89285.876593</td>\n",
       "      <td>45.408868</td>\n",
       "    </tr>\n",
       "    <tr>\n",
       "      <th>27.0</th>\n",
       "      <td>132115.709459</td>\n",
       "      <td>53.000000</td>\n",
       "    </tr>\n",
       "    <tr>\n",
       "      <th>28.0</th>\n",
       "      <td>81161.915320</td>\n",
       "      <td>65.428571</td>\n",
       "    </tr>\n",
       "    <tr>\n",
       "      <th>29.0</th>\n",
       "      <td>72953.365445</td>\n",
       "      <td>58.883333</td>\n",
       "    </tr>\n",
       "  </tbody>\n",
       "</table>\n",
       "</div>"
      ],
      "text/plain": [
       "                        price_per_square_meter  total_area\n",
       "cityCenters_nearest_km                                    \n",
       "0.0                              245833.530289  117.259259\n",
       "1.0                              177005.407676  104.999896\n",
       "2.0                              157849.007329  102.504000\n",
       "3.0                              121387.453704   90.273429\n",
       "4.0                              133282.874761   91.475494\n",
       "5.0                              140509.789046   95.887185\n",
       "6.0                              151012.193621   90.785615\n",
       "7.0                              156176.879664   82.058762\n",
       "8.0                              125671.442742   73.546114\n",
       "9.0                              113131.041911   59.403626\n",
       "10.0                             112727.516925   57.061071\n",
       "11.0                             108630.835324   56.073396\n",
       "12.0                             107488.734023   54.261969\n",
       "13.0                             108148.127854   56.172622\n",
       "14.0                             104252.385047   54.367537\n",
       "15.0                             104231.976184   56.463597\n",
       "16.0                             100542.613949   53.559170\n",
       "17.0                              96597.652408   55.065561\n",
       "18.0                              96362.263941   53.590575\n",
       "19.0                              98652.736027   51.578471\n",
       "20.0                             103045.181922   58.580612\n",
       "21.0                              94469.584582   58.630085\n",
       "22.0                              91330.425050   60.308861\n",
       "23.0                              91828.517765   56.604824\n",
       "24.0                              85736.904595   45.770385\n",
       "25.0                              91531.371618   46.506154\n",
       "26.0                              89285.876593   45.408868\n",
       "27.0                             132115.709459   53.000000\n",
       "28.0                              81161.915320   65.428571\n",
       "29.0                              72953.365445   58.883333"
      ]
     },
     "execution_count": 240,
     "metadata": {},
     "output_type": "execute_result"
    }
   ],
   "source": [
    "data_northern_capital = data.query('locality_name == \"Санкт-Петербург\"') # выбираем объявления, относящиеся к Санкт-Петербургу\n",
    "import numpy as np\n",
    "result = data_northern_capital.groupby('cityCenters_nearest_km').agg(\n",
    "    price_per_square_meter=('price_per_square_meter', np.mean),\n",
    "    total_area=('total_area', np.mean))\n",
    "result"
   ]
  },
  {
   "cell_type": "code",
   "execution_count": 241,
   "metadata": {},
   "outputs": [
    {
     "data": {
      "image/png": "[encoded data removed]",
      "text/plain": [
       "<Figure size 432x288 with 1 Axes>"
      ]
     },
     "metadata": {
      "needs_background": "light"
     },
     "output_type": "display_data"
    }
   ],
   "source": [
    "result.plot(kind = 'bar', title='cityCenters_nearest_km');"
   ]
  },
  {
   "cell_type": "markdown",
   "metadata": {},
   "source": [
    "**Выводы**\n",
    "\n",
    "Средняя цена одного квадратного метра квартир, находящихся непосредственно в центре Санкт-Петербурга составляет, 245 834 руб. Цена квартир на расстоянии 1 км уже значительно ниже -  177 005 руб, на расстояниие 2 и 3 км ещё меньше - 157 849 и 121 387 руб. Рост цены для объектов, находящихся на расстоянии 4, 5, 6, 7 и 8 км, можно объяснить другими факторами, например, большей площадью объектов. В целом, имеется закономерность - с удалением от центра города цена объекта уменьшается."
   ]
  },
  {
   "cell_type": "markdown",
   "metadata": {},
   "source": [
    "### Общий вывод"
   ]
  },
  {
   "cell_type": "markdown",
   "metadata": {},
   "source": [
    "Исследование прошло в три этапа:\n",
    " 1. Обзор данных;\n",
    " 2. Предобработка данных;\n",
    " 3. Проверка гипотез.\n",
    " \n",
    "На первом этапе был выполнен обзор данных, в ходе которого определялось их качество и наличие ошибок.\n",
    "\n",
    "На второй этапе эти ошибки были устранены. Предобработка данных включала в себя заполнение пропущенных значений в столбцах, обработку аномальных значений столбца, изменение типов данных столбца, удаление дубликатов и добавление новых столбцов.\n",
    "\n",
    "В ходе последнего этапа - ислледовательского анализа данных и проверке гипотез - было установлено, что по имеющимя данным:\n",
    "1. В среднем объявление закрывают чрез 95 дней после его публикации. Но есть аномально быстрые продажи - 1 день и необычно долгие - больше 4-х лет;\n",
    "2. На общую стоимость объекта больше всего влияет общая площадь квартиры. Имеется связь, однако менее выраженная, с жилой площадью, площадью кухни и числом комнат. Отсутствует линейная связь с типом этажа и датой размещения;\n",
    "3. Среди населённых пунктов с наибольшим число объявлений самую высокую стоимость одного квадратного метра имеет Санкт-Петербург - среднее значение составляет 114 849 на основе 15 721 объявлений. Самая низкая стоимость наблюдается в Выборге - 58 142 рубля за один квадратный метр (среднее значение на основе 237 объявлений);\n",
    "4. С удалением от центра Санкт-Петербурга цена объекта уменьшается.\n",
    "\n",
    "На практике исследования содержат проверки статистических гипотез. Из данных одного файла не всегда можно сделать вывод о всей генеральной совокупности. Проверки статистических гипотез покажут, насколько они достоверны, исходя из имеющихся данных."
   ]
  }
 ],
 "metadata": {
  "ExecuteTimeLog": [
   {
    "duration": 656,
    "start_time": "2022-06-21T07:57:38.495Z"
   },
   {
    "duration": 12,
    "start_time": "2022-06-21T07:58:37.210Z"
   },
   {
    "duration": 49,
    "start_time": "2022-06-21T07:59:45.839Z"
   },
   {
    "duration": 12,
    "start_time": "2022-06-21T08:00:11.328Z"
   },
   {
    "duration": 13,
    "start_time": "2022-06-21T08:00:27.870Z"
   },
   {
    "duration": 16,
    "start_time": "2022-06-21T08:01:00.177Z"
   },
   {
    "duration": 527,
    "start_time": "2022-06-21T08:02:15.303Z"
   },
   {
    "duration": 19,
    "start_time": "2022-06-21T08:03:11.528Z"
   },
   {
    "duration": 94,
    "start_time": "2022-06-21T08:03:28.695Z"
   },
   {
    "duration": 17,
    "start_time": "2022-06-21T08:03:28.791Z"
   },
   {
    "duration": 177,
    "start_time": "2022-06-21T08:05:15.621Z"
   },
   {
    "duration": 16,
    "start_time": "2022-06-21T08:05:31.196Z"
   },
   {
    "duration": 2216,
    "start_time": "2022-06-21T08:05:43.921Z"
   },
   {
    "duration": 110,
    "start_time": "2022-06-21T08:08:55.737Z"
   },
   {
    "duration": 21,
    "start_time": "2022-06-21T08:09:04.722Z"
   },
   {
    "duration": 2419,
    "start_time": "2022-06-21T08:09:05.484Z"
   },
   {
    "duration": 11,
    "start_time": "2022-06-21T08:09:26.138Z"
   },
   {
    "duration": 14,
    "start_time": "2022-06-21T08:10:50.047Z"
   },
   {
    "duration": 4,
    "start_time": "2022-06-21T08:22:27.494Z"
   },
   {
    "duration": 7,
    "start_time": "2022-06-21T08:28:32.819Z"
   },
   {
    "duration": 50,
    "start_time": "2022-06-21T08:45:25.228Z"
   },
   {
    "duration": 8,
    "start_time": "2022-06-21T08:46:42.198Z"
   },
   {
    "duration": 56,
    "start_time": "2022-06-21T08:48:00.920Z"
   },
   {
    "duration": 7,
    "start_time": "2022-06-21T08:48:54.620Z"
   },
   {
    "duration": 71,
    "start_time": "2022-06-21T08:49:00.549Z"
   },
   {
    "duration": 12,
    "start_time": "2022-06-21T08:49:18.209Z"
   },
   {
    "duration": 11,
    "start_time": "2022-06-21T08:49:56.328Z"
   },
   {
    "duration": 14,
    "start_time": "2022-06-21T08:54:28.527Z"
   },
   {
    "duration": 12,
    "start_time": "2022-06-21T08:54:31.854Z"
   },
   {
    "duration": 13,
    "start_time": "2022-06-21T08:56:53.432Z"
   },
   {
    "duration": 547,
    "start_time": "2022-06-21T08:58:39.708Z"
   },
   {
    "duration": 497,
    "start_time": "2022-06-21T09:01:04.018Z"
   },
   {
    "duration": 560,
    "start_time": "2022-06-21T09:01:34.267Z"
   },
   {
    "duration": 435,
    "start_time": "2022-06-21T09:02:28.084Z"
   },
   {
    "duration": 14,
    "start_time": "2022-06-21T09:03:44.989Z"
   },
   {
    "duration": 9,
    "start_time": "2022-06-21T11:16:19.902Z"
   },
   {
    "duration": 8,
    "start_time": "2022-06-21T11:41:19.827Z"
   },
   {
    "duration": 737,
    "start_time": "2022-06-25T09:20:13.239Z"
   },
   {
    "duration": 18,
    "start_time": "2022-06-25T09:20:14.091Z"
   },
   {
    "duration": 2402,
    "start_time": "2022-06-25T09:20:15.093Z"
   },
   {
    "duration": 1907,
    "start_time": "2022-06-25T09:20:26.076Z"
   },
   {
    "duration": 9,
    "start_time": "2022-06-25T09:20:34.456Z"
   },
   {
    "duration": 17,
    "start_time": "2022-06-25T09:20:36.784Z"
   },
   {
    "duration": 11,
    "start_time": "2022-06-25T09:20:37.707Z"
   },
   {
    "duration": 7,
    "start_time": "2022-06-25T09:22:13.534Z"
   },
   {
    "duration": 6,
    "start_time": "2022-06-25T09:27:00.128Z"
   },
   {
    "duration": 6,
    "start_time": "2022-06-25T09:31:23.221Z"
   },
   {
    "duration": 6,
    "start_time": "2022-06-25T09:34:28.447Z"
   },
   {
    "duration": 5,
    "start_time": "2022-06-25T09:35:43.972Z"
   },
   {
    "duration": 4,
    "start_time": "2022-06-25T09:35:56.979Z"
   },
   {
    "duration": 6,
    "start_time": "2022-06-25T09:36:05.127Z"
   },
   {
    "duration": 5,
    "start_time": "2022-06-25T09:37:22.934Z"
   },
   {
    "duration": 61,
    "start_time": "2022-06-25T09:45:41.850Z"
   },
   {
    "duration": 69,
    "start_time": "2022-06-25T09:45:49.536Z"
   },
   {
    "duration": 4,
    "start_time": "2022-06-25T09:59:22.986Z"
   },
   {
    "duration": 6,
    "start_time": "2022-06-25T09:59:35.849Z"
   },
   {
    "duration": 21,
    "start_time": "2022-06-25T10:13:49.746Z"
   },
   {
    "duration": 17,
    "start_time": "2022-06-25T10:13:55.230Z"
   },
   {
    "duration": 481,
    "start_time": "2022-06-25T10:20:43.787Z"
   },
   {
    "duration": 8,
    "start_time": "2022-06-25T10:22:43.340Z"
   },
   {
    "duration": 111,
    "start_time": "2022-06-25T10:24:15.160Z"
   },
   {
    "duration": 15,
    "start_time": "2022-06-25T10:24:15.512Z"
   },
   {
    "duration": 2021,
    "start_time": "2022-06-25T10:24:16.031Z"
   },
   {
    "duration": 8,
    "start_time": "2022-06-25T10:24:18.054Z"
   },
   {
    "duration": 14,
    "start_time": "2022-06-25T10:24:18.064Z"
   },
   {
    "duration": 9,
    "start_time": "2022-06-25T10:24:18.080Z"
   },
   {
    "duration": 8,
    "start_time": "2022-06-25T10:24:18.091Z"
   },
   {
    "duration": 6,
    "start_time": "2022-06-25T10:24:18.362Z"
   },
   {
    "duration": 6,
    "start_time": "2022-06-25T10:24:18.720Z"
   },
   {
    "duration": 7,
    "start_time": "2022-06-25T10:24:19.575Z"
   },
   {
    "duration": 5,
    "start_time": "2022-06-25T10:24:20.172Z"
   },
   {
    "duration": 6,
    "start_time": "2022-06-25T10:24:21.128Z"
   },
   {
    "duration": 11,
    "start_time": "2022-06-25T10:24:24.917Z"
   },
   {
    "duration": 8,
    "start_time": "2022-06-25T10:24:37.239Z"
   },
   {
    "duration": 4,
    "start_time": "2022-06-25T10:25:14.024Z"
   },
   {
    "duration": 51,
    "start_time": "2022-06-25T10:42:53.464Z"
   },
   {
    "duration": 15,
    "start_time": "2022-06-25T10:43:08.665Z"
   },
   {
    "duration": 159,
    "start_time": "2022-06-25T10:43:33.088Z"
   },
   {
    "duration": 7,
    "start_time": "2022-06-25T10:45:22.449Z"
   },
   {
    "duration": 5,
    "start_time": "2022-06-25T10:46:17.371Z"
   },
   {
    "duration": 151,
    "start_time": "2022-06-25T10:47:56.779Z"
   },
   {
    "duration": 5,
    "start_time": "2022-06-25T10:48:02.167Z"
   },
   {
    "duration": 48,
    "start_time": "2022-06-25T13:09:48.145Z"
   },
   {
    "duration": 717,
    "start_time": "2022-06-25T13:09:54.005Z"
   },
   {
    "duration": 23,
    "start_time": "2022-06-25T13:09:54.725Z"
   },
   {
    "duration": 2498,
    "start_time": "2022-06-25T13:09:54.944Z"
   },
   {
    "duration": 11,
    "start_time": "2022-06-25T13:09:57.447Z"
   },
   {
    "duration": 17,
    "start_time": "2022-06-25T13:09:57.462Z"
   },
   {
    "duration": 10,
    "start_time": "2022-06-25T13:09:57.481Z"
   },
   {
    "duration": 11,
    "start_time": "2022-06-25T13:09:57.493Z"
   },
   {
    "duration": 11,
    "start_time": "2022-06-25T13:09:57.632Z"
   },
   {
    "duration": 5,
    "start_time": "2022-06-25T13:09:57.947Z"
   },
   {
    "duration": 6,
    "start_time": "2022-06-25T13:09:58.344Z"
   },
   {
    "duration": 8,
    "start_time": "2022-06-25T13:09:58.722Z"
   },
   {
    "duration": 7,
    "start_time": "2022-06-25T13:09:59.113Z"
   },
   {
    "duration": 176,
    "start_time": "2022-06-25T13:10:00.540Z"
   },
   {
    "duration": 6,
    "start_time": "2022-06-25T13:10:01.052Z"
   },
   {
    "duration": 160,
    "start_time": "2022-06-25T13:10:02.517Z"
   },
   {
    "duration": 161,
    "start_time": "2022-06-25T13:10:43.306Z"
   },
   {
    "duration": 207,
    "start_time": "2022-06-25T13:11:57.824Z"
   },
   {
    "duration": 42,
    "start_time": "2022-06-25T13:12:22.724Z"
   },
   {
    "duration": 8,
    "start_time": "2022-06-25T13:12:39.944Z"
   },
   {
    "duration": 7,
    "start_time": "2022-06-25T13:13:04.756Z"
   },
   {
    "duration": 6,
    "start_time": "2022-06-25T13:13:26.577Z"
   },
   {
    "duration": 5,
    "start_time": "2022-06-25T13:13:59.395Z"
   },
   {
    "duration": 4,
    "start_time": "2022-06-25T13:14:02.083Z"
   },
   {
    "duration": 6,
    "start_time": "2022-06-25T13:14:04.952Z"
   },
   {
    "duration": 14,
    "start_time": "2022-06-25T13:14:31.086Z"
   },
   {
    "duration": 145,
    "start_time": "2022-06-25T13:16:19.064Z"
   },
   {
    "duration": 5,
    "start_time": "2022-06-25T13:16:32.251Z"
   },
   {
    "duration": 5,
    "start_time": "2022-06-25T13:16:32.923Z"
   },
   {
    "duration": 9,
    "start_time": "2022-06-25T13:16:33.509Z"
   },
   {
    "duration": 185,
    "start_time": "2022-06-25T13:20:32.877Z"
   },
   {
    "duration": 178,
    "start_time": "2022-06-25T13:20:39.255Z"
   },
   {
    "duration": 7,
    "start_time": "2022-06-25T13:23:16.700Z"
   },
   {
    "duration": 6,
    "start_time": "2022-06-25T13:23:33.443Z"
   },
   {
    "duration": 920,
    "start_time": "2022-06-25T13:25:51.285Z"
   },
   {
    "duration": 175,
    "start_time": "2022-06-25T13:25:58.721Z"
   },
   {
    "duration": 6,
    "start_time": "2022-06-25T13:26:38.942Z"
   },
   {
    "duration": 189,
    "start_time": "2022-06-25T13:28:03.696Z"
   },
   {
    "duration": 6,
    "start_time": "2022-06-25T13:28:28.986Z"
   },
   {
    "duration": 6,
    "start_time": "2022-06-25T13:28:36.975Z"
   },
   {
    "duration": 184,
    "start_time": "2022-06-25T13:29:31.542Z"
   },
   {
    "duration": 6,
    "start_time": "2022-06-25T13:29:51.968Z"
   },
   {
    "duration": 167,
    "start_time": "2022-06-25T13:33:20.194Z"
   },
   {
    "duration": 5,
    "start_time": "2022-06-25T13:33:41.872Z"
   },
   {
    "duration": 207,
    "start_time": "2022-06-25T13:35:08.069Z"
   },
   {
    "duration": 7,
    "start_time": "2022-06-25T13:35:27.709Z"
   },
   {
    "duration": 262,
    "start_time": "2022-06-25T13:36:03.790Z"
   },
   {
    "duration": 6,
    "start_time": "2022-06-25T13:36:28.183Z"
   },
   {
    "duration": 9,
    "start_time": "2022-06-25T13:45:47.971Z"
   },
   {
    "duration": 45,
    "start_time": "2022-06-25T13:54:59.279Z"
   },
   {
    "duration": 19,
    "start_time": "2022-06-25T13:55:31.094Z"
   },
   {
    "duration": 78,
    "start_time": "2022-06-25T14:02:59.717Z"
   },
   {
    "duration": 162,
    "start_time": "2022-06-25T14:03:14.987Z"
   },
   {
    "duration": 89,
    "start_time": "2022-06-25T14:03:24.310Z"
   },
   {
    "duration": 17,
    "start_time": "2022-06-25T14:03:33.644Z"
   },
   {
    "duration": 13,
    "start_time": "2022-06-25T14:05:41.068Z"
   },
   {
    "duration": 61,
    "start_time": "2022-06-25T14:05:56.923Z"
   },
   {
    "duration": 9,
    "start_time": "2022-06-25T14:06:45.839Z"
   },
   {
    "duration": 76,
    "start_time": "2022-06-25T14:06:58.289Z"
   },
   {
    "duration": 15,
    "start_time": "2022-06-25T14:07:41.681Z"
   },
   {
    "duration": 9,
    "start_time": "2022-06-25T14:08:13.991Z"
   },
   {
    "duration": 14,
    "start_time": "2022-06-25T14:08:25.873Z"
   },
   {
    "duration": 15,
    "start_time": "2022-06-25T14:08:39.763Z"
   },
   {
    "duration": 16,
    "start_time": "2022-06-25T14:08:49.771Z"
   },
   {
    "duration": 23,
    "start_time": "2022-06-25T14:09:02.423Z"
   },
   {
    "duration": 19,
    "start_time": "2022-06-25T14:09:07.059Z"
   },
   {
    "duration": 994,
    "start_time": "2022-06-25T14:11:13.678Z"
   },
   {
    "duration": 911,
    "start_time": "2022-06-25T14:11:21.470Z"
   },
   {
    "duration": 19,
    "start_time": "2022-06-25T14:11:31.224Z"
   },
   {
    "duration": 27,
    "start_time": "2022-06-25T14:11:45.440Z"
   },
   {
    "duration": 10,
    "start_time": "2022-06-25T14:12:04.393Z"
   },
   {
    "duration": 22,
    "start_time": "2022-06-25T14:12:12.662Z"
   },
   {
    "duration": 11,
    "start_time": "2022-06-25T14:20:08.495Z"
   },
   {
    "duration": 43,
    "start_time": "2022-06-25T14:20:19.955Z"
   },
   {
    "duration": 10,
    "start_time": "2022-06-25T14:26:04.839Z"
   },
   {
    "duration": 8,
    "start_time": "2022-06-25T15:34:29.752Z"
   },
   {
    "duration": 110,
    "start_time": "2022-06-25T15:34:38.529Z"
   },
   {
    "duration": 110,
    "start_time": "2022-06-25T15:34:45.100Z"
   },
   {
    "duration": 16,
    "start_time": "2022-06-25T15:34:45.903Z"
   },
   {
    "duration": 1841,
    "start_time": "2022-06-25T15:34:46.698Z"
   },
   {
    "duration": 10,
    "start_time": "2022-06-25T15:34:48.542Z"
   },
   {
    "duration": 16,
    "start_time": "2022-06-25T15:34:48.553Z"
   },
   {
    "duration": 10,
    "start_time": "2022-06-25T15:34:48.887Z"
   },
   {
    "duration": 7,
    "start_time": "2022-06-25T15:34:49.640Z"
   },
   {
    "duration": 7,
    "start_time": "2022-06-25T15:34:50.262Z"
   },
   {
    "duration": 5,
    "start_time": "2022-06-25T15:34:50.874Z"
   },
   {
    "duration": 6,
    "start_time": "2022-06-25T15:34:51.474Z"
   },
   {
    "duration": 5,
    "start_time": "2022-06-25T15:34:52.087Z"
   },
   {
    "duration": 6,
    "start_time": "2022-06-25T15:34:52.743Z"
   },
   {
    "duration": 263,
    "start_time": "2022-06-25T15:34:53.878Z"
   },
   {
    "duration": 4,
    "start_time": "2022-06-25T15:34:54.518Z"
   },
   {
    "duration": 132,
    "start_time": "2022-06-25T15:34:56.022Z"
   },
   {
    "duration": 6,
    "start_time": "2022-06-25T15:34:56.473Z"
   },
   {
    "duration": 7,
    "start_time": "2022-06-25T15:34:57.034Z"
   },
   {
    "duration": 9,
    "start_time": "2022-06-25T15:34:57.688Z"
   },
   {
    "duration": 169,
    "start_time": "2022-06-25T15:34:58.691Z"
   },
   {
    "duration": 5,
    "start_time": "2022-06-25T15:35:00.290Z"
   },
   {
    "duration": 184,
    "start_time": "2022-06-25T15:35:01.058Z"
   },
   {
    "duration": 6,
    "start_time": "2022-06-25T15:35:01.883Z"
   },
   {
    "duration": 169,
    "start_time": "2022-06-25T15:35:03.023Z"
   },
   {
    "duration": 5,
    "start_time": "2022-06-25T15:35:03.680Z"
   },
   {
    "duration": 188,
    "start_time": "2022-06-25T15:35:09.983Z"
   },
   {
    "duration": 5,
    "start_time": "2022-06-25T15:35:10.454Z"
   },
   {
    "duration": 178,
    "start_time": "2022-06-25T15:35:11.077Z"
   },
   {
    "duration": 5,
    "start_time": "2022-06-25T15:35:11.500Z"
   },
   {
    "duration": 171,
    "start_time": "2022-06-25T15:35:12.017Z"
   },
   {
    "duration": 6,
    "start_time": "2022-06-25T15:35:12.439Z"
   },
   {
    "duration": 180,
    "start_time": "2022-06-25T15:35:12.890Z"
   },
   {
    "duration": 5,
    "start_time": "2022-06-25T15:35:13.353Z"
   },
   {
    "duration": 11,
    "start_time": "2022-06-25T15:35:14.044Z"
   },
   {
    "duration": 12,
    "start_time": "2022-06-25T15:35:14.901Z"
   },
   {
    "duration": 10,
    "start_time": "2022-06-25T15:36:07.449Z"
   },
   {
    "duration": 41,
    "start_time": "2022-06-25T15:36:28.004Z"
   },
   {
    "duration": 9,
    "start_time": "2022-06-25T15:36:54.060Z"
   },
   {
    "duration": 1163,
    "start_time": "2022-06-25T18:01:03.838Z"
   },
   {
    "duration": 17,
    "start_time": "2022-06-25T18:01:05.003Z"
   },
   {
    "duration": 3052,
    "start_time": "2022-06-25T18:01:05.022Z"
   },
   {
    "duration": 14,
    "start_time": "2022-06-25T18:01:08.078Z"
   },
   {
    "duration": 19,
    "start_time": "2022-06-25T18:01:08.094Z"
   },
   {
    "duration": 14,
    "start_time": "2022-06-25T18:01:08.115Z"
   },
   {
    "duration": 29,
    "start_time": "2022-06-25T18:01:08.131Z"
   },
   {
    "duration": 24,
    "start_time": "2022-06-25T18:01:08.165Z"
   },
   {
    "duration": 11,
    "start_time": "2022-06-25T18:01:08.192Z"
   },
   {
    "duration": 9,
    "start_time": "2022-06-25T18:01:08.206Z"
   },
   {
    "duration": 5,
    "start_time": "2022-06-25T18:01:08.222Z"
   },
   {
    "duration": 11,
    "start_time": "2022-06-25T18:01:08.558Z"
   },
   {
    "duration": 232,
    "start_time": "2022-06-25T18:01:09.377Z"
   },
   {
    "duration": 7,
    "start_time": "2022-06-25T18:01:17.213Z"
   },
   {
    "duration": 156,
    "start_time": "2022-06-25T18:01:19.305Z"
   },
   {
    "duration": 6,
    "start_time": "2022-06-25T18:01:19.848Z"
   },
   {
    "duration": 8,
    "start_time": "2022-06-25T18:01:20.341Z"
   },
   {
    "duration": 12,
    "start_time": "2022-06-25T18:01:20.839Z"
   },
   {
    "duration": 240,
    "start_time": "2022-06-25T18:01:21.230Z"
   },
   {
    "duration": 7,
    "start_time": "2022-06-25T18:01:21.822Z"
   },
   {
    "duration": 312,
    "start_time": "2022-06-25T18:01:22.226Z"
   },
   {
    "duration": 7,
    "start_time": "2022-06-25T18:01:22.767Z"
   },
   {
    "duration": 227,
    "start_time": "2022-06-25T18:01:23.272Z"
   },
   {
    "duration": 7,
    "start_time": "2022-06-25T18:01:23.839Z"
   },
   {
    "duration": 288,
    "start_time": "2022-06-25T18:01:24.375Z"
   },
   {
    "duration": 7,
    "start_time": "2022-06-25T18:01:24.968Z"
   },
   {
    "duration": 230,
    "start_time": "2022-06-25T18:01:25.510Z"
   },
   {
    "duration": 7,
    "start_time": "2022-06-25T18:01:25.979Z"
   },
   {
    "duration": 217,
    "start_time": "2022-06-25T18:01:26.596Z"
   },
   {
    "duration": 6,
    "start_time": "2022-06-25T18:01:27.177Z"
   },
   {
    "duration": 226,
    "start_time": "2022-06-25T18:01:27.764Z"
   },
   {
    "duration": 6,
    "start_time": "2022-06-25T18:01:28.721Z"
   },
   {
    "duration": 13,
    "start_time": "2022-06-25T18:01:32.406Z"
   },
   {
    "duration": 18,
    "start_time": "2022-06-25T18:01:35.966Z"
   },
   {
    "duration": 61,
    "start_time": "2022-06-25T18:03:28.903Z"
   },
   {
    "duration": 15,
    "start_time": "2022-06-25T18:04:14.278Z"
   },
   {
    "duration": 15,
    "start_time": "2022-06-25T18:04:37.323Z"
   },
   {
    "duration": 27,
    "start_time": "2022-06-25T18:04:49.841Z"
   },
   {
    "duration": 65,
    "start_time": "2022-06-25T18:53:13.961Z"
   },
   {
    "duration": 60,
    "start_time": "2022-06-25T19:16:41.118Z"
   },
   {
    "duration": 7,
    "start_time": "2022-06-25T19:29:50.730Z"
   },
   {
    "duration": 130,
    "start_time": "2022-06-25T20:02:23.280Z"
   },
   {
    "duration": 17,
    "start_time": "2022-06-25T20:02:23.528Z"
   },
   {
    "duration": 2485,
    "start_time": "2022-06-25T20:02:24.016Z"
   },
   {
    "duration": 16,
    "start_time": "2022-06-25T20:02:26.504Z"
   },
   {
    "duration": 43,
    "start_time": "2022-06-25T20:02:26.522Z"
   },
   {
    "duration": 11,
    "start_time": "2022-06-25T20:02:26.568Z"
   },
   {
    "duration": 10,
    "start_time": "2022-06-25T20:02:26.581Z"
   },
   {
    "duration": 9,
    "start_time": "2022-06-25T20:02:26.593Z"
   },
   {
    "duration": 7,
    "start_time": "2022-06-25T20:02:26.772Z"
   },
   {
    "duration": 7,
    "start_time": "2022-06-25T20:02:27.535Z"
   },
   {
    "duration": 6,
    "start_time": "2022-06-25T20:02:27.795Z"
   },
   {
    "duration": 7,
    "start_time": "2022-06-25T20:02:28.073Z"
   },
   {
    "duration": 238,
    "start_time": "2022-06-25T20:02:30.072Z"
   },
   {
    "duration": 7,
    "start_time": "2022-06-25T20:05:10.314Z"
   },
   {
    "duration": 25,
    "start_time": "2022-06-25T20:07:06.164Z"
   },
   {
    "duration": 9,
    "start_time": "2022-06-25T20:07:07.740Z"
   },
   {
    "duration": 97,
    "start_time": "2022-06-25T20:20:39.994Z"
   },
   {
    "duration": 14,
    "start_time": "2022-06-25T20:22:41.677Z"
   },
   {
    "duration": 1061,
    "start_time": "2022-06-26T07:33:21.237Z"
   },
   {
    "duration": 12,
    "start_time": "2022-06-26T07:33:22.299Z"
   },
   {
    "duration": 2041,
    "start_time": "2022-06-26T07:33:22.637Z"
   },
   {
    "duration": 8,
    "start_time": "2022-06-26T07:33:24.942Z"
   },
   {
    "duration": 16,
    "start_time": "2022-06-26T07:33:25.568Z"
   },
   {
    "duration": 10,
    "start_time": "2022-06-26T07:33:26.030Z"
   },
   {
    "duration": 7,
    "start_time": "2022-06-26T07:33:27.067Z"
   },
   {
    "duration": 7,
    "start_time": "2022-06-26T07:33:28.935Z"
   },
   {
    "duration": 5,
    "start_time": "2022-06-26T07:33:29.666Z"
   },
   {
    "duration": 6,
    "start_time": "2022-06-26T07:33:30.908Z"
   },
   {
    "duration": 4,
    "start_time": "2022-06-26T07:33:31.426Z"
   },
   {
    "duration": 5,
    "start_time": "2022-06-26T07:33:31.984Z"
   },
   {
    "duration": 251,
    "start_time": "2022-06-26T07:34:04.237Z"
   },
   {
    "duration": 217,
    "start_time": "2022-06-26T07:34:17.993Z"
   },
   {
    "duration": 4,
    "start_time": "2022-06-26T07:34:21.616Z"
   },
   {
    "duration": 980,
    "start_time": "2022-06-26T07:36:59.024Z"
   },
   {
    "duration": 5,
    "start_time": "2022-06-26T07:37:00.195Z"
   },
   {
    "duration": 92,
    "start_time": "2022-06-26T07:38:18.766Z"
   },
   {
    "duration": 18,
    "start_time": "2022-06-26T07:38:19.140Z"
   },
   {
    "duration": 1882,
    "start_time": "2022-06-26T07:38:19.577Z"
   },
   {
    "duration": 11,
    "start_time": "2022-06-26T07:38:21.465Z"
   },
   {
    "duration": 15,
    "start_time": "2022-06-26T07:38:21.478Z"
   },
   {
    "duration": 8,
    "start_time": "2022-06-26T07:38:22.367Z"
   },
   {
    "duration": 10,
    "start_time": "2022-06-26T07:38:22.964Z"
   },
   {
    "duration": 6,
    "start_time": "2022-06-26T07:38:24.147Z"
   },
   {
    "duration": 7,
    "start_time": "2022-06-26T07:38:24.668Z"
   },
   {
    "duration": 9,
    "start_time": "2022-06-26T07:38:26.050Z"
   },
   {
    "duration": 9,
    "start_time": "2022-06-26T07:38:26.451Z"
   },
   {
    "duration": 17,
    "start_time": "2022-06-26T07:38:26.760Z"
   },
   {
    "duration": 14,
    "start_time": "2022-06-26T07:38:29.291Z"
   },
   {
    "duration": 871,
    "start_time": "2022-06-26T07:38:35.679Z"
   },
   {
    "duration": 857,
    "start_time": "2022-06-26T07:38:53.297Z"
   },
   {
    "duration": 12,
    "start_time": "2022-06-26T07:39:11.453Z"
   },
   {
    "duration": 98,
    "start_time": "2022-06-26T07:39:30.781Z"
   },
   {
    "duration": 13,
    "start_time": "2022-06-26T07:39:31.321Z"
   },
   {
    "duration": 1519,
    "start_time": "2022-06-26T07:39:31.894Z"
   },
   {
    "duration": 9,
    "start_time": "2022-06-26T07:39:33.475Z"
   },
   {
    "duration": 12,
    "start_time": "2022-06-26T07:39:34.143Z"
   },
   {
    "duration": 8,
    "start_time": "2022-06-26T07:39:34.817Z"
   },
   {
    "duration": 7,
    "start_time": "2022-06-26T07:39:37.276Z"
   },
   {
    "duration": 6,
    "start_time": "2022-06-26T07:39:39.649Z"
   },
   {
    "duration": 6,
    "start_time": "2022-06-26T07:39:40.093Z"
   },
   {
    "duration": 5,
    "start_time": "2022-06-26T07:39:40.794Z"
   },
   {
    "duration": 5,
    "start_time": "2022-06-26T07:39:41.080Z"
   },
   {
    "duration": 5,
    "start_time": "2022-06-26T07:39:41.431Z"
   },
   {
    "duration": 16,
    "start_time": "2022-06-26T07:40:09.234Z"
   },
   {
    "duration": 6,
    "start_time": "2022-06-26T07:40:20.133Z"
   },
   {
    "duration": 743,
    "start_time": "2022-06-26T07:40:37.886Z"
   },
   {
    "duration": 15,
    "start_time": "2022-06-26T07:41:04.050Z"
   },
   {
    "duration": 6,
    "start_time": "2022-06-26T07:41:05.972Z"
   },
   {
    "duration": 17,
    "start_time": "2022-06-26T07:41:34.673Z"
   },
   {
    "duration": 5,
    "start_time": "2022-06-26T07:41:35.481Z"
   },
   {
    "duration": 20,
    "start_time": "2022-06-26T07:42:59.906Z"
   },
   {
    "duration": 4,
    "start_time": "2022-06-26T07:43:30.426Z"
   },
   {
    "duration": 128,
    "start_time": "2022-06-26T07:45:20.000Z"
   },
   {
    "duration": 5,
    "start_time": "2022-06-26T07:46:53.962Z"
   },
   {
    "duration": 848,
    "start_time": "2022-06-26T07:47:08.085Z"
   },
   {
    "duration": 11,
    "start_time": "2022-06-26T07:47:18.782Z"
   },
   {
    "duration": 18,
    "start_time": "2022-06-26T07:55:39.893Z"
   },
   {
    "duration": 17,
    "start_time": "2022-06-26T07:55:48.085Z"
   },
   {
    "duration": 22,
    "start_time": "2022-06-26T07:58:05.544Z"
   },
   {
    "duration": 785,
    "start_time": "2022-06-26T07:58:43.501Z"
   },
   {
    "duration": 235,
    "start_time": "2022-06-26T08:00:15.811Z"
   },
   {
    "duration": 241,
    "start_time": "2022-06-26T08:00:37.632Z"
   },
   {
    "duration": 304,
    "start_time": "2022-06-26T08:19:29.200Z"
   },
   {
    "duration": 866,
    "start_time": "2022-06-26T08:19:50.136Z"
   },
   {
    "duration": 327,
    "start_time": "2022-06-26T08:21:25.694Z"
   },
   {
    "duration": 1027,
    "start_time": "2022-06-26T08:23:25.623Z"
   },
   {
    "duration": 414,
    "start_time": "2022-06-26T08:24:00.755Z"
   },
   {
    "duration": 867,
    "start_time": "2022-06-26T08:24:08.226Z"
   },
   {
    "duration": 1673,
    "start_time": "2022-06-26T08:24:58.446Z"
   },
   {
    "duration": 10,
    "start_time": "2022-06-26T08:31:18.414Z"
   },
   {
    "duration": 8,
    "start_time": "2022-06-26T08:32:01.747Z"
   },
   {
    "duration": 120,
    "start_time": "2022-06-26T08:32:15.743Z"
   },
   {
    "duration": 94,
    "start_time": "2022-06-26T08:33:01.217Z"
   },
   {
    "duration": 98,
    "start_time": "2022-06-26T08:34:31.712Z"
   },
   {
    "duration": 102,
    "start_time": "2022-06-26T08:35:01.468Z"
   },
   {
    "duration": 2452,
    "start_time": "2022-06-26T08:47:09.403Z"
   },
   {
    "duration": 162,
    "start_time": "2022-06-26T08:48:09.441Z"
   },
   {
    "duration": 9,
    "start_time": "2022-06-26T08:51:24.713Z"
   },
   {
    "duration": 166,
    "start_time": "2022-06-26T09:17:17.628Z"
   },
   {
    "duration": 148,
    "start_time": "2022-06-26T09:17:54.821Z"
   },
   {
    "duration": 287,
    "start_time": "2022-06-26T09:19:18.970Z"
   },
   {
    "duration": 10,
    "start_time": "2022-06-26T09:35:59.119Z"
   },
   {
    "duration": 14,
    "start_time": "2022-06-26T09:36:02.010Z"
   },
   {
    "duration": 77,
    "start_time": "2022-06-26T09:38:14.775Z"
   },
   {
    "duration": 12,
    "start_time": "2022-06-26T09:38:51.875Z"
   },
   {
    "duration": 45,
    "start_time": "2022-06-26T09:39:45.742Z"
   },
   {
    "duration": 92,
    "start_time": "2022-06-26T09:40:33.208Z"
   },
   {
    "duration": 959,
    "start_time": "2022-06-26T09:40:50.090Z"
   },
   {
    "duration": 10,
    "start_time": "2022-06-26T09:42:33.554Z"
   },
   {
    "duration": 10,
    "start_time": "2022-06-26T09:43:33.173Z"
   },
   {
    "duration": 13,
    "start_time": "2022-06-26T09:44:10.219Z"
   },
   {
    "duration": 12,
    "start_time": "2022-06-26T09:44:48.830Z"
   },
   {
    "duration": 12,
    "start_time": "2022-06-26T09:45:33.346Z"
   },
   {
    "duration": 12,
    "start_time": "2022-06-26T09:46:01.898Z"
   },
   {
    "duration": 16,
    "start_time": "2022-06-26T09:47:20.570Z"
   },
   {
    "duration": 204,
    "start_time": "2022-06-26T09:59:29.621Z"
   },
   {
    "duration": 5,
    "start_time": "2022-06-26T09:59:52.920Z"
   },
   {
    "duration": 159,
    "start_time": "2022-06-26T10:00:09.414Z"
   },
   {
    "duration": 5,
    "start_time": "2022-06-26T10:00:19.750Z"
   },
   {
    "duration": 14,
    "start_time": "2022-06-26T10:28:04.727Z"
   },
   {
    "duration": 10,
    "start_time": "2022-06-26T10:28:08.822Z"
   },
   {
    "duration": 49,
    "start_time": "2022-06-26T10:33:38.694Z"
   },
   {
    "duration": 54,
    "start_time": "2022-06-26T10:34:38.249Z"
   },
   {
    "duration": 60,
    "start_time": "2022-06-26T10:35:25.461Z"
   },
   {
    "duration": 700,
    "start_time": "2022-06-26T13:04:43.195Z"
   },
   {
    "duration": 14,
    "start_time": "2022-06-26T13:04:45.124Z"
   },
   {
    "duration": 2105,
    "start_time": "2022-06-26T13:04:47.483Z"
   },
   {
    "duration": 9,
    "start_time": "2022-06-26T13:04:52.461Z"
   },
   {
    "duration": 15,
    "start_time": "2022-06-26T13:04:53.405Z"
   },
   {
    "duration": 9,
    "start_time": "2022-06-26T13:04:54.620Z"
   },
   {
    "duration": 9,
    "start_time": "2022-06-26T13:05:00.875Z"
   },
   {
    "duration": 8,
    "start_time": "2022-06-26T13:05:10.451Z"
   },
   {
    "duration": 6,
    "start_time": "2022-06-26T13:05:11.536Z"
   },
   {
    "duration": 6,
    "start_time": "2022-06-26T13:05:12.080Z"
   },
   {
    "duration": 6,
    "start_time": "2022-06-26T13:05:13.048Z"
   },
   {
    "duration": 5,
    "start_time": "2022-06-26T13:05:13.572Z"
   },
   {
    "duration": 6,
    "start_time": "2022-06-26T13:05:14.036Z"
   },
   {
    "duration": 19,
    "start_time": "2022-06-26T13:05:17.075Z"
   },
   {
    "duration": 26,
    "start_time": "2022-06-26T13:05:17.907Z"
   },
   {
    "duration": 2680,
    "start_time": "2022-06-26T13:05:24.723Z"
   },
   {
    "duration": 126,
    "start_time": "2022-06-26T13:05:27.405Z"
   },
   {
    "duration": 73,
    "start_time": "2022-06-26T13:05:27.533Z"
   },
   {
    "duration": 183,
    "start_time": "2022-06-26T13:05:48.587Z"
   },
   {
    "duration": 8,
    "start_time": "2022-06-26T13:05:49.993Z"
   },
   {
    "duration": 267,
    "start_time": "2022-06-26T13:05:51.912Z"
   },
   {
    "duration": 6,
    "start_time": "2022-06-26T13:05:53.018Z"
   },
   {
    "duration": 173,
    "start_time": "2022-06-26T13:05:53.547Z"
   },
   {
    "duration": 6,
    "start_time": "2022-06-26T13:05:53.952Z"
   },
   {
    "duration": 188,
    "start_time": "2022-06-26T13:05:54.309Z"
   },
   {
    "duration": 7,
    "start_time": "2022-06-26T13:05:54.740Z"
   },
   {
    "duration": 250,
    "start_time": "2022-06-26T13:05:55.158Z"
   },
   {
    "duration": 7,
    "start_time": "2022-06-26T13:05:55.502Z"
   },
   {
    "duration": 159,
    "start_time": "2022-06-26T13:05:55.884Z"
   },
   {
    "duration": 185,
    "start_time": "2022-06-26T13:05:56.258Z"
   },
   {
    "duration": 5,
    "start_time": "2022-06-26T13:05:56.653Z"
   },
   {
    "duration": 181,
    "start_time": "2022-06-26T13:05:57.034Z"
   },
   {
    "duration": 5,
    "start_time": "2022-06-26T13:05:57.396Z"
   },
   {
    "duration": 170,
    "start_time": "2022-06-26T13:05:57.796Z"
   },
   {
    "duration": 5,
    "start_time": "2022-06-26T13:05:58.384Z"
   },
   {
    "duration": 14,
    "start_time": "2022-06-26T13:05:59.470Z"
   },
   {
    "duration": 15,
    "start_time": "2022-06-26T13:06:01.198Z"
   },
   {
    "duration": 627,
    "start_time": "2022-06-27T09:42:06.325Z"
   },
   {
    "duration": 24,
    "start_time": "2022-06-27T09:42:06.955Z"
   },
   {
    "duration": 2497,
    "start_time": "2022-06-27T09:42:06.982Z"
   },
   {
    "duration": 14,
    "start_time": "2022-06-27T09:42:09.482Z"
   },
   {
    "duration": 21,
    "start_time": "2022-06-27T09:42:09.498Z"
   },
   {
    "duration": 17,
    "start_time": "2022-06-27T09:42:09.520Z"
   },
   {
    "duration": 23,
    "start_time": "2022-06-27T09:42:09.539Z"
   },
   {
    "duration": 18,
    "start_time": "2022-06-27T09:42:09.564Z"
   },
   {
    "duration": 10,
    "start_time": "2022-06-27T09:42:09.583Z"
   },
   {
    "duration": 8,
    "start_time": "2022-06-27T09:42:09.596Z"
   },
   {
    "duration": 10,
    "start_time": "2022-06-27T09:42:09.606Z"
   },
   {
    "duration": 16,
    "start_time": "2022-06-27T09:42:09.618Z"
   },
   {
    "duration": 28,
    "start_time": "2022-06-27T09:42:09.636Z"
   },
   {
    "duration": 30,
    "start_time": "2022-06-27T09:42:09.665Z"
   },
   {
    "duration": 3025,
    "start_time": "2022-06-27T09:42:09.697Z"
   },
   {
    "duration": 167,
    "start_time": "2022-06-27T09:42:12.729Z"
   },
   {
    "duration": 80,
    "start_time": "2022-06-27T09:42:12.898Z"
   },
   {
    "duration": 214,
    "start_time": "2022-06-27T09:42:12.980Z"
   },
   {
    "duration": 10,
    "start_time": "2022-06-27T09:42:13.195Z"
   },
   {
    "duration": 195,
    "start_time": "2022-06-27T09:42:13.207Z"
   },
   {
    "duration": 5,
    "start_time": "2022-06-27T09:42:13.404Z"
   },
   {
    "duration": 346,
    "start_time": "2022-06-27T09:42:13.411Z"
   },
   {
    "duration": 7,
    "start_time": "2022-06-27T09:42:13.759Z"
   },
   {
    "duration": 203,
    "start_time": "2022-06-27T09:42:13.768Z"
   },
   {
    "duration": 6,
    "start_time": "2022-06-27T09:42:13.973Z"
   },
   {
    "duration": 256,
    "start_time": "2022-06-27T09:42:13.981Z"
   },
   {
    "duration": 6,
    "start_time": "2022-06-27T09:42:14.238Z"
   },
   {
    "duration": 202,
    "start_time": "2022-06-27T09:42:14.249Z"
   },
   {
    "duration": 213,
    "start_time": "2022-06-27T09:42:14.455Z"
   },
   {
    "duration": 6,
    "start_time": "2022-06-27T09:42:14.670Z"
   },
   {
    "duration": 222,
    "start_time": "2022-06-27T09:42:14.678Z"
   },
   {
    "duration": 6,
    "start_time": "2022-06-27T09:42:14.902Z"
   },
   {
    "duration": 228,
    "start_time": "2022-06-27T09:42:14.925Z"
   },
   {
    "duration": 5,
    "start_time": "2022-06-27T09:42:15.155Z"
   },
   {
    "duration": 17,
    "start_time": "2022-06-27T09:42:15.162Z"
   },
   {
    "duration": 16,
    "start_time": "2022-06-27T09:42:15.181Z"
   },
   {
    "duration": 16,
    "start_time": "2022-06-27T09:53:17.776Z"
   },
   {
    "duration": 189,
    "start_time": "2022-06-27T10:28:20.263Z"
   },
   {
    "duration": 42,
    "start_time": "2022-07-10T08:19:00.349Z"
   },
   {
    "duration": 530,
    "start_time": "2022-07-10T08:19:08.837Z"
   },
   {
    "duration": 13,
    "start_time": "2022-07-10T08:19:09.447Z"
   },
   {
    "duration": 2075,
    "start_time": "2022-07-10T08:19:10.214Z"
   },
   {
    "duration": 35,
    "start_time": "2022-07-10T08:19:12.291Z"
   },
   {
    "duration": 29,
    "start_time": "2022-07-10T08:20:02.138Z"
   },
   {
    "duration": 31,
    "start_time": "2022-07-10T08:21:03.637Z"
   },
   {
    "duration": 51,
    "start_time": "2022-07-10T08:24:10.567Z"
   },
   {
    "duration": 1781,
    "start_time": "2022-07-10T08:39:00.509Z"
   },
   {
    "duration": 9,
    "start_time": "2022-07-10T08:39:50.838Z"
   },
   {
    "duration": 8,
    "start_time": "2022-07-10T08:40:04.905Z"
   },
   {
    "duration": 51,
    "start_time": "2022-07-10T08:40:18.740Z"
   },
   {
    "duration": 19,
    "start_time": "2022-07-10T08:40:24.228Z"
   },
   {
    "duration": 4,
    "start_time": "2022-07-10T08:53:46.108Z"
   },
   {
    "duration": 47,
    "start_time": "2022-07-10T08:54:20.580Z"
   },
   {
    "duration": 4,
    "start_time": "2022-07-10T08:54:59.810Z"
   },
   {
    "duration": 7,
    "start_time": "2022-07-10T08:56:17.357Z"
   },
   {
    "duration": 6,
    "start_time": "2022-07-10T08:56:44.592Z"
   },
   {
    "duration": 8,
    "start_time": "2022-07-10T09:27:16.448Z"
   },
   {
    "duration": 50,
    "start_time": "2022-07-10T09:27:37.692Z"
   },
   {
    "duration": 7,
    "start_time": "2022-07-10T09:27:42.908Z"
   },
   {
    "duration": 73,
    "start_time": "2022-07-10T09:30:28.021Z"
   },
   {
    "duration": 6,
    "start_time": "2022-07-10T09:30:47.829Z"
   },
   {
    "duration": 4,
    "start_time": "2022-07-10T09:30:55.228Z"
   },
   {
    "duration": 7,
    "start_time": "2022-07-10T09:30:56.292Z"
   },
   {
    "duration": 4,
    "start_time": "2022-07-10T09:36:20.701Z"
   },
   {
    "duration": 9,
    "start_time": "2022-07-10T09:37:23.433Z"
   },
   {
    "duration": 82,
    "start_time": "2022-07-10T09:37:40.903Z"
   },
   {
    "duration": 13,
    "start_time": "2022-07-10T09:37:41.310Z"
   },
   {
    "duration": 1670,
    "start_time": "2022-07-10T09:37:41.747Z"
   },
   {
    "duration": 8,
    "start_time": "2022-07-10T09:37:43.418Z"
   },
   {
    "duration": 32,
    "start_time": "2022-07-10T09:37:43.427Z"
   },
   {
    "duration": 4,
    "start_time": "2022-07-10T09:37:45.013Z"
   },
   {
    "duration": 4,
    "start_time": "2022-07-10T09:37:45.420Z"
   },
   {
    "duration": 4,
    "start_time": "2022-07-10T09:37:45.833Z"
   },
   {
    "duration": 4,
    "start_time": "2022-07-10T09:37:46.229Z"
   },
   {
    "duration": 5,
    "start_time": "2022-07-10T09:37:46.725Z"
   },
   {
    "duration": 5,
    "start_time": "2022-07-10T09:37:47.242Z"
   },
   {
    "duration": 8,
    "start_time": "2022-07-10T09:37:49.155Z"
   },
   {
    "duration": 8,
    "start_time": "2022-07-10T09:37:51.505Z"
   },
   {
    "duration": 6,
    "start_time": "2022-07-10T09:37:52.368Z"
   },
   {
    "duration": 5,
    "start_time": "2022-07-10T09:37:53.207Z"
   },
   {
    "duration": 7,
    "start_time": "2022-07-10T09:37:55.072Z"
   },
   {
    "duration": 4,
    "start_time": "2022-07-10T09:37:56.362Z"
   },
   {
    "duration": 7,
    "start_time": "2022-07-10T09:37:56.646Z"
   },
   {
    "duration": 4,
    "start_time": "2022-07-10T09:38:01.170Z"
   },
   {
    "duration": 11,
    "start_time": "2022-07-10T09:38:04.275Z"
   },
   {
    "duration": 13,
    "start_time": "2022-07-10T09:51:46.041Z"
   },
   {
    "duration": 5,
    "start_time": "2022-07-10T09:52:52.590Z"
   },
   {
    "duration": 88,
    "start_time": "2022-07-10T09:53:52.762Z"
   },
   {
    "duration": 132,
    "start_time": "2022-07-10T09:54:18.484Z"
   },
   {
    "duration": 5,
    "start_time": "2022-07-10T09:55:05.597Z"
   },
   {
    "duration": 14,
    "start_time": "2022-07-10T09:55:26.433Z"
   },
   {
    "duration": 7,
    "start_time": "2022-07-10T09:56:51.303Z"
   },
   {
    "duration": 14,
    "start_time": "2022-07-10T09:57:04.175Z"
   },
   {
    "duration": 5,
    "start_time": "2022-07-10T09:57:28.190Z"
   },
   {
    "duration": 4,
    "start_time": "2022-07-10T10:06:41.229Z"
   },
   {
    "duration": 46,
    "start_time": "2022-07-10T12:45:41.715Z"
   },
   {
    "duration": 567,
    "start_time": "2022-07-10T12:46:00.880Z"
   },
   {
    "duration": 16,
    "start_time": "2022-07-10T12:46:01.677Z"
   },
   {
    "duration": 2412,
    "start_time": "2022-07-10T12:46:02.128Z"
   },
   {
    "duration": 11,
    "start_time": "2022-07-10T12:46:04.542Z"
   },
   {
    "duration": 45,
    "start_time": "2022-07-10T12:46:04.555Z"
   },
   {
    "duration": 5,
    "start_time": "2022-07-10T12:46:06.793Z"
   },
   {
    "duration": 5,
    "start_time": "2022-07-10T12:46:07.377Z"
   },
   {
    "duration": 13,
    "start_time": "2022-07-10T12:46:07.862Z"
   },
   {
    "duration": 4,
    "start_time": "2022-07-10T12:46:08.277Z"
   },
   {
    "duration": 9,
    "start_time": "2022-07-10T12:46:08.921Z"
   },
   {
    "duration": 11,
    "start_time": "2022-07-10T12:46:09.455Z"
   },
   {
    "duration": 9,
    "start_time": "2022-07-10T12:46:10.177Z"
   },
   {
    "duration": 8,
    "start_time": "2022-07-10T12:46:20.177Z"
   },
   {
    "duration": 4,
    "start_time": "2022-07-10T12:46:21.228Z"
   },
   {
    "duration": 7,
    "start_time": "2022-07-10T12:46:22.121Z"
   },
   {
    "duration": 8,
    "start_time": "2022-07-10T12:46:22.752Z"
   },
   {
    "duration": 7,
    "start_time": "2022-07-10T12:46:23.814Z"
   },
   {
    "duration": 5,
    "start_time": "2022-07-10T12:46:29.876Z"
   },
   {
    "duration": 8,
    "start_time": "2022-07-10T12:46:30.285Z"
   },
   {
    "duration": 4,
    "start_time": "2022-07-10T12:46:34.300Z"
   },
   {
    "duration": 11,
    "start_time": "2022-07-10T12:46:35.096Z"
   },
   {
    "duration": 8,
    "start_time": "2022-07-10T12:46:35.793Z"
   },
   {
    "duration": 4,
    "start_time": "2022-07-10T12:46:36.610Z"
   },
   {
    "duration": 27,
    "start_time": "2022-07-10T12:46:38.392Z"
   },
   {
    "duration": 2911,
    "start_time": "2022-07-10T12:46:41.496Z"
   },
   {
    "duration": 127,
    "start_time": "2022-07-10T12:46:44.409Z"
   },
   {
    "duration": 74,
    "start_time": "2022-07-10T12:46:44.538Z"
   },
   {
    "duration": 202,
    "start_time": "2022-07-10T12:46:44.614Z"
   },
   {
    "duration": 8,
    "start_time": "2022-07-10T12:46:44.817Z"
   },
   {
    "duration": 297,
    "start_time": "2022-07-10T12:46:45.781Z"
   },
   {
    "duration": 6,
    "start_time": "2022-07-10T12:46:46.211Z"
   },
   {
    "duration": 169,
    "start_time": "2022-07-10T12:46:46.752Z"
   },
   {
    "duration": 6,
    "start_time": "2022-07-10T12:46:46.999Z"
   },
   {
    "duration": 172,
    "start_time": "2022-07-10T12:46:47.525Z"
   },
   {
    "duration": 5,
    "start_time": "2022-07-10T12:46:47.823Z"
   },
   {
    "duration": 178,
    "start_time": "2022-07-10T12:46:48.553Z"
   },
   {
    "duration": 5,
    "start_time": "2022-07-10T12:46:48.921Z"
   },
   {
    "duration": 162,
    "start_time": "2022-07-10T12:46:49.587Z"
   },
   {
    "duration": 192,
    "start_time": "2022-07-10T12:46:50.346Z"
   },
   {
    "duration": 6,
    "start_time": "2022-07-10T12:47:01.053Z"
   },
   {
    "duration": 175,
    "start_time": "2022-07-10T12:47:03.456Z"
   },
   {
    "duration": 7,
    "start_time": "2022-07-10T12:47:04.053Z"
   },
   {
    "duration": 170,
    "start_time": "2022-07-10T12:47:04.990Z"
   },
   {
    "duration": 6,
    "start_time": "2022-07-10T12:47:05.486Z"
   },
   {
    "duration": 26,
    "start_time": "2022-07-10T12:47:08.855Z"
   },
   {
    "duration": 13,
    "start_time": "2022-07-10T12:47:26.326Z"
   },
   {
    "duration": 10,
    "start_time": "2022-07-10T12:48:30.786Z"
   },
   {
    "duration": 49,
    "start_time": "2022-07-10T12:48:59.709Z"
   },
   {
    "duration": 6,
    "start_time": "2022-07-10T12:49:05.105Z"
   },
   {
    "duration": 8,
    "start_time": "2022-07-10T12:49:16.512Z"
   },
   {
    "duration": 83,
    "start_time": "2022-07-10T13:01:29.865Z"
   },
   {
    "duration": 221,
    "start_time": "2022-07-10T13:08:13.472Z"
   },
   {
    "duration": 11,
    "start_time": "2022-07-10T13:12:03.962Z"
   },
   {
    "duration": 64,
    "start_time": "2022-07-10T13:15:03.348Z"
   },
   {
    "duration": 222,
    "start_time": "2022-07-10T13:18:34.923Z"
   },
   {
    "duration": 11,
    "start_time": "2022-07-10T13:18:39.524Z"
   },
   {
    "duration": 255,
    "start_time": "2022-07-10T13:20:40.362Z"
   },
   {
    "duration": 10,
    "start_time": "2022-07-10T13:20:46.328Z"
   },
   {
    "duration": 306,
    "start_time": "2022-07-10T13:22:53.820Z"
   },
   {
    "duration": 237,
    "start_time": "2022-07-10T13:23:00.457Z"
   },
   {
    "duration": 163,
    "start_time": "2022-07-10T13:23:18.120Z"
   },
   {
    "duration": 142,
    "start_time": "2022-07-10T13:23:29.887Z"
   },
   {
    "duration": 260,
    "start_time": "2022-07-10T13:23:40.581Z"
   },
   {
    "duration": 38,
    "start_time": "2022-07-10T13:27:49.692Z"
   },
   {
    "duration": 226,
    "start_time": "2022-07-10T13:28:05.316Z"
   },
   {
    "duration": 222,
    "start_time": "2022-07-10T13:32:52.007Z"
   },
   {
    "duration": 10,
    "start_time": "2022-07-10T13:32:53.288Z"
   },
   {
    "duration": 286,
    "start_time": "2022-07-10T13:36:18.642Z"
   },
   {
    "duration": 17,
    "start_time": "2022-07-10T13:36:19.861Z"
   },
   {
    "duration": 10,
    "start_time": "2022-07-10T13:39:16.308Z"
   },
   {
    "duration": 64,
    "start_time": "2022-07-10T13:41:34.665Z"
   },
   {
    "duration": 278,
    "start_time": "2022-07-10T13:43:30.384Z"
   },
   {
    "duration": 11,
    "start_time": "2022-07-10T13:43:39.621Z"
   },
   {
    "duration": 60,
    "start_time": "2022-07-10T13:46:47.786Z"
   },
   {
    "duration": 274,
    "start_time": "2022-07-10T13:48:19.428Z"
   },
   {
    "duration": 11,
    "start_time": "2022-07-10T13:48:21.491Z"
   },
   {
    "duration": 330,
    "start_time": "2022-07-10T13:52:09.826Z"
   },
   {
    "duration": 10,
    "start_time": "2022-07-10T13:52:12.842Z"
   },
   {
    "duration": 88,
    "start_time": "2022-07-10T13:54:25.129Z"
   },
   {
    "duration": 220,
    "start_time": "2022-07-10T13:54:31.508Z"
   },
   {
    "duration": 10,
    "start_time": "2022-07-10T13:54:33.939Z"
   },
   {
    "duration": 227,
    "start_time": "2022-07-10T13:55:04.172Z"
   },
   {
    "duration": 12,
    "start_time": "2022-07-10T13:55:08.688Z"
   },
   {
    "duration": 241,
    "start_time": "2022-07-10T13:58:35.036Z"
   },
   {
    "duration": 9,
    "start_time": "2022-07-10T13:58:36.895Z"
   },
   {
    "duration": 234,
    "start_time": "2022-07-10T14:00:28.797Z"
   },
   {
    "duration": 218,
    "start_time": "2022-07-10T14:00:43.541Z"
   },
   {
    "duration": 10,
    "start_time": "2022-07-10T14:00:48.648Z"
   },
   {
    "duration": 56,
    "start_time": "2022-07-10T14:07:59.682Z"
   },
   {
    "duration": 65,
    "start_time": "2022-07-10T15:32:28.542Z"
   },
   {
    "duration": 53,
    "start_time": "2022-07-13T12:50:57.051Z"
   },
   {
    "duration": 660,
    "start_time": "2022-07-13T12:51:14.059Z"
   },
   {
    "duration": 14,
    "start_time": "2022-07-13T12:51:15.096Z"
   },
   {
    "duration": 2034,
    "start_time": "2022-07-13T12:51:15.998Z"
   },
   {
    "duration": 8,
    "start_time": "2022-07-13T12:51:18.034Z"
   },
   {
    "duration": 22,
    "start_time": "2022-07-13T12:51:18.044Z"
   },
   {
    "duration": 4,
    "start_time": "2022-07-13T12:51:21.447Z"
   },
   {
    "duration": 5,
    "start_time": "2022-07-13T12:51:22.243Z"
   },
   {
    "duration": 4,
    "start_time": "2022-07-13T12:51:23.017Z"
   },
   {
    "duration": 4,
    "start_time": "2022-07-13T12:51:23.808Z"
   },
   {
    "duration": 6,
    "start_time": "2022-07-13T12:51:24.597Z"
   },
   {
    "duration": 6,
    "start_time": "2022-07-13T12:51:25.643Z"
   },
   {
    "duration": 9,
    "start_time": "2022-07-13T12:51:26.772Z"
   },
   {
    "duration": 8,
    "start_time": "2022-07-13T12:51:29.097Z"
   },
   {
    "duration": 4,
    "start_time": "2022-07-13T12:51:30.548Z"
   },
   {
    "duration": 5,
    "start_time": "2022-07-13T12:51:31.167Z"
   },
   {
    "duration": 5,
    "start_time": "2022-07-13T12:51:31.544Z"
   },
   {
    "duration": 7,
    "start_time": "2022-07-13T12:51:32.903Z"
   },
   {
    "duration": 4,
    "start_time": "2022-07-13T12:51:34.144Z"
   },
   {
    "duration": 8,
    "start_time": "2022-07-13T12:51:34.461Z"
   },
   {
    "duration": 3,
    "start_time": "2022-07-13T12:51:37.911Z"
   },
   {
    "duration": 11,
    "start_time": "2022-07-13T12:51:38.544Z"
   },
   {
    "duration": 7,
    "start_time": "2022-07-13T12:51:39.172Z"
   },
   {
    "duration": 4,
    "start_time": "2022-07-13T12:51:39.766Z"
   },
   {
    "duration": 25,
    "start_time": "2022-07-13T12:51:41.043Z"
   },
   {
    "duration": 215,
    "start_time": "2022-07-13T12:51:45.067Z"
   },
   {
    "duration": 9,
    "start_time": "2022-07-13T12:51:46.205Z"
   },
   {
    "duration": 190,
    "start_time": "2022-07-13T12:51:49.653Z"
   },
   {
    "duration": 9,
    "start_time": "2022-07-13T12:51:51.417Z"
   },
   {
    "duration": 169,
    "start_time": "2022-07-13T12:51:55.511Z"
   },
   {
    "duration": 9,
    "start_time": "2022-07-13T12:51:56.034Z"
   },
   {
    "duration": 108,
    "start_time": "2022-07-13T12:51:57.248Z"
   },
   {
    "duration": 205,
    "start_time": "2022-07-13T12:51:57.599Z"
   },
   {
    "duration": 9,
    "start_time": "2022-07-13T12:51:57.990Z"
   },
   {
    "duration": 271,
    "start_time": "2022-07-13T12:51:59.367Z"
   },
   {
    "duration": 11,
    "start_time": "2022-07-13T12:51:59.848Z"
   },
   {
    "duration": 80,
    "start_time": "2022-07-13T12:52:00.476Z"
   },
   {
    "duration": 186,
    "start_time": "2022-07-13T12:52:00.849Z"
   },
   {
    "duration": 10,
    "start_time": "2022-07-13T12:52:01.200Z"
   },
   {
    "duration": 179,
    "start_time": "2022-07-13T12:52:15.275Z"
   },
   {
    "duration": 9,
    "start_time": "2022-07-13T12:52:15.777Z"
   },
   {
    "duration": 192,
    "start_time": "2022-07-13T12:52:17.809Z"
   },
   {
    "duration": 8,
    "start_time": "2022-07-13T12:52:18.555Z"
   },
   {
    "duration": 161,
    "start_time": "2022-07-13T12:52:19.643Z"
   },
   {
    "duration": 190,
    "start_time": "2022-07-13T12:52:19.992Z"
   },
   {
    "duration": 183,
    "start_time": "2022-07-13T12:52:35.703Z"
   },
   {
    "duration": 8,
    "start_time": "2022-07-13T12:52:36.523Z"
   },
   {
    "duration": 174,
    "start_time": "2022-07-13T12:52:39.087Z"
   },
   {
    "duration": 7,
    "start_time": "2022-07-13T12:52:39.943Z"
   },
   {
    "duration": 99,
    "start_time": "2022-07-13T12:52:42.289Z"
   },
   {
    "duration": 177,
    "start_time": "2022-07-13T12:52:44.380Z"
   },
   {
    "duration": 7,
    "start_time": "2022-07-13T12:52:44.954Z"
   },
   {
    "duration": 185,
    "start_time": "2022-07-13T12:52:46.816Z"
   },
   {
    "duration": 9,
    "start_time": "2022-07-13T12:52:47.359Z"
   },
   {
    "duration": 237,
    "start_time": "2022-07-13T12:52:49.122Z"
   },
   {
    "duration": 9,
    "start_time": "2022-07-13T12:52:49.673Z"
   },
   {
    "duration": 169,
    "start_time": "2022-07-13T12:52:51.443Z"
   },
   {
    "duration": 9,
    "start_time": "2022-07-13T12:52:51.861Z"
   },
   {
    "duration": 176,
    "start_time": "2022-07-13T12:52:53.228Z"
   },
   {
    "duration": 8,
    "start_time": "2022-07-13T12:52:53.647Z"
   },
   {
    "duration": 184,
    "start_time": "2022-07-13T12:52:54.998Z"
   },
   {
    "duration": 8,
    "start_time": "2022-07-13T12:52:55.447Z"
   },
   {
    "duration": 158,
    "start_time": "2022-07-13T12:53:01.180Z"
   },
   {
    "duration": 9,
    "start_time": "2022-07-13T12:53:02.056Z"
   },
   {
    "duration": 152,
    "start_time": "2022-07-13T12:53:10.295Z"
   },
   {
    "duration": 5,
    "start_time": "2022-07-13T12:53:11.367Z"
   },
   {
    "duration": 152,
    "start_time": "2022-07-13T12:53:23.910Z"
   },
   {
    "duration": 5,
    "start_time": "2022-07-13T12:53:25.056Z"
   },
   {
    "duration": 164,
    "start_time": "2022-07-13T12:53:29.049Z"
   },
   {
    "duration": 5,
    "start_time": "2022-07-13T12:53:30.645Z"
   },
   {
    "duration": 160,
    "start_time": "2022-07-13T12:53:35.478Z"
   },
   {
    "duration": 6,
    "start_time": "2022-07-13T12:53:39.016Z"
   },
   {
    "duration": 291005,
    "start_time": "2022-07-13T12:53:44.197Z"
   },
   {
    "duration": 35,
    "start_time": "2022-07-13T13:02:51.802Z"
   },
   {
    "duration": 721,
    "start_time": "2022-07-13T13:10:03.368Z"
   },
   {
    "duration": 289,
    "start_time": "2022-07-13T13:17:02.308Z"
   },
   {
    "duration": 328,
    "start_time": "2022-07-13T13:17:23.329Z"
   },
   {
    "duration": 348,
    "start_time": "2022-07-13T13:18:19.569Z"
   },
   {
    "duration": 439,
    "start_time": "2022-07-13T13:28:43.890Z"
   },
   {
    "duration": 331,
    "start_time": "2022-07-13T13:32:46.277Z"
   },
   {
    "duration": 45,
    "start_time": "2022-07-14T10:18:39.166Z"
   },
   {
    "duration": 7,
    "start_time": "2022-07-14T10:18:40.410Z"
   },
   {
    "duration": 640,
    "start_time": "2022-07-14T10:18:53.672Z"
   },
   {
    "duration": 17,
    "start_time": "2022-07-14T10:18:54.692Z"
   },
   {
    "duration": 2501,
    "start_time": "2022-07-14T10:18:56.069Z"
   },
   {
    "duration": 11,
    "start_time": "2022-07-14T10:18:58.573Z"
   },
   {
    "duration": 28,
    "start_time": "2022-07-14T10:18:58.586Z"
   },
   {
    "duration": 4,
    "start_time": "2022-07-14T10:19:03.642Z"
   },
   {
    "duration": 5,
    "start_time": "2022-07-14T10:19:04.672Z"
   },
   {
    "duration": 4,
    "start_time": "2022-07-14T10:19:05.571Z"
   },
   {
    "duration": 3,
    "start_time": "2022-07-14T10:19:06.317Z"
   },
   {
    "duration": 8,
    "start_time": "2022-07-14T10:19:07.085Z"
   },
   {
    "duration": 7,
    "start_time": "2022-07-14T10:19:07.871Z"
   },
   {
    "duration": 11,
    "start_time": "2022-07-14T10:19:08.801Z"
   },
   {
    "duration": 9,
    "start_time": "2022-07-14T10:19:10.569Z"
   },
   {
    "duration": 5,
    "start_time": "2022-07-14T10:19:11.771Z"
   },
   {
    "duration": 6,
    "start_time": "2022-07-14T10:19:12.436Z"
   },
   {
    "duration": 6,
    "start_time": "2022-07-14T10:19:12.839Z"
   },
   {
    "duration": 9,
    "start_time": "2022-07-14T10:19:14.237Z"
   },
   {
    "duration": 6,
    "start_time": "2022-07-14T10:19:15.295Z"
   },
   {
    "duration": 7,
    "start_time": "2022-07-14T10:19:15.667Z"
   },
   {
    "duration": 4,
    "start_time": "2022-07-14T10:19:19.171Z"
   },
   {
    "duration": 11,
    "start_time": "2022-07-14T10:19:19.779Z"
   },
   {
    "duration": 7,
    "start_time": "2022-07-14T10:19:20.412Z"
   },
   {
    "duration": 4,
    "start_time": "2022-07-14T10:19:21.018Z"
   },
   {
    "duration": 30,
    "start_time": "2022-07-14T10:19:22.272Z"
   },
   {
    "duration": 208,
    "start_time": "2022-07-14T10:19:24.694Z"
   },
   {
    "duration": 9,
    "start_time": "2022-07-14T10:19:24.919Z"
   },
   {
    "duration": 214,
    "start_time": "2022-07-14T10:19:25.633Z"
   },
   {
    "duration": 10,
    "start_time": "2022-07-14T10:19:25.849Z"
   },
   {
    "duration": 221,
    "start_time": "2022-07-14T10:19:26.464Z"
   },
   {
    "duration": 9,
    "start_time": "2022-07-14T10:19:26.687Z"
   },
   {
    "duration": 205,
    "start_time": "2022-07-14T10:19:27.319Z"
   },
   {
    "duration": 9,
    "start_time": "2022-07-14T10:19:27.533Z"
   },
   {
    "duration": 320,
    "start_time": "2022-07-14T10:19:28.170Z"
   },
   {
    "duration": 9,
    "start_time": "2022-07-14T10:19:28.492Z"
   },
   {
    "duration": 209,
    "start_time": "2022-07-14T10:19:29.080Z"
   },
   {
    "duration": 11,
    "start_time": "2022-07-14T10:19:29.333Z"
   },
   {
    "duration": 211,
    "start_time": "2022-07-14T10:19:30.066Z"
   },
   {
    "duration": 10,
    "start_time": "2022-07-14T10:19:30.338Z"
   },
   {
    "duration": 106,
    "start_time": "2022-07-14T10:19:31.075Z"
   },
   {
    "duration": 190,
    "start_time": "2022-07-14T10:19:32.071Z"
   },
   {
    "duration": 10,
    "start_time": "2022-07-14T10:19:32.669Z"
   },
   {
    "duration": 200,
    "start_time": "2022-07-14T10:19:34.213Z"
   },
   {
    "duration": 12,
    "start_time": "2022-07-14T10:19:34.689Z"
   },
   {
    "duration": 226,
    "start_time": "2022-07-14T10:19:35.876Z"
   },
   {
    "duration": 10,
    "start_time": "2022-07-14T10:19:36.113Z"
   },
   {
    "duration": 179,
    "start_time": "2022-07-14T10:19:36.770Z"
   },
   {
    "duration": 11,
    "start_time": "2022-07-14T10:19:36.969Z"
   },
   {
    "duration": 197,
    "start_time": "2022-07-14T10:19:37.511Z"
   },
   {
    "duration": 9,
    "start_time": "2022-07-14T10:19:37.710Z"
   },
   {
    "duration": 189,
    "start_time": "2022-07-14T10:19:38.295Z"
   },
   {
    "duration": 10,
    "start_time": "2022-07-14T10:19:38.486Z"
   },
   {
    "duration": 258,
    "start_time": "2022-07-14T10:19:40.137Z"
   },
   {
    "duration": 9,
    "start_time": "2022-07-14T10:19:41.072Z"
   },
   {
    "duration": 156,
    "start_time": "2022-07-14T10:19:43.675Z"
   },
   {
    "duration": 6,
    "start_time": "2022-07-14T10:19:44.191Z"
   },
   {
    "duration": 169,
    "start_time": "2022-07-14T10:19:45.236Z"
   },
   {
    "duration": 6,
    "start_time": "2022-07-14T10:19:45.681Z"
   },
   {
    "duration": 157,
    "start_time": "2022-07-14T10:19:46.746Z"
   },
   {
    "duration": 5,
    "start_time": "2022-07-14T10:19:47.232Z"
   },
   {
    "duration": 180,
    "start_time": "2022-07-14T10:19:48.783Z"
   },
   {
    "duration": 5,
    "start_time": "2022-07-14T10:19:49.469Z"
   },
   {
    "duration": 752,
    "start_time": "2022-07-14T10:19:51.317Z"
   },
   {
    "duration": 342,
    "start_time": "2022-07-14T10:19:53.186Z"
   },
   {
    "duration": 443,
    "start_time": "2022-07-14T10:19:55.311Z"
   },
   {
    "duration": 320,
    "start_time": "2022-07-14T10:19:56.265Z"
   },
   {
    "duration": 13,
    "start_time": "2022-07-14T10:19:58.975Z"
   },
   {
    "duration": 8,
    "start_time": "2022-07-14T10:20:04.527Z"
   },
   {
    "duration": 6,
    "start_time": "2022-07-14T10:20:05.771Z"
   },
   {
    "duration": 22,
    "start_time": "2022-07-14T10:20:08.572Z"
   },
   {
    "duration": 10,
    "start_time": "2022-07-14T12:41:13.945Z"
   },
   {
    "duration": 8,
    "start_time": "2022-07-14T12:41:22.768Z"
   },
   {
    "duration": 8,
    "start_time": "2022-07-14T12:49:23.826Z"
   },
   {
    "duration": 6,
    "start_time": "2022-07-14T12:52:53.345Z"
   },
   {
    "duration": 10,
    "start_time": "2022-07-14T12:53:08.023Z"
   },
   {
    "duration": 12,
    "start_time": "2022-07-14T12:53:20.177Z"
   },
   {
    "duration": 108,
    "start_time": "2022-07-14T12:59:33.413Z"
   },
   {
    "duration": 14,
    "start_time": "2022-07-14T12:59:35.432Z"
   },
   {
    "duration": 1909,
    "start_time": "2022-07-14T12:59:37.452Z"
   },
   {
    "duration": 11,
    "start_time": "2022-07-14T12:59:39.364Z"
   },
   {
    "duration": 29,
    "start_time": "2022-07-14T12:59:39.889Z"
   },
   {
    "duration": 5,
    "start_time": "2022-07-14T12:59:47.714Z"
   },
   {
    "duration": 6,
    "start_time": "2022-07-14T12:59:48.914Z"
   },
   {
    "duration": 7,
    "start_time": "2022-07-14T12:59:49.872Z"
   },
   {
    "duration": 4,
    "start_time": "2022-07-14T12:59:50.781Z"
   },
   {
    "duration": 11,
    "start_time": "2022-07-14T12:59:51.917Z"
   },
   {
    "duration": 9,
    "start_time": "2022-07-14T12:59:52.903Z"
   },
   {
    "duration": 14,
    "start_time": "2022-07-14T12:59:58.277Z"
   },
   {
    "duration": 8,
    "start_time": "2022-07-14T13:00:20.826Z"
   },
   {
    "duration": 4,
    "start_time": "2022-07-14T13:00:22.638Z"
   },
   {
    "duration": 6,
    "start_time": "2022-07-14T13:00:23.509Z"
   },
   {
    "duration": 7,
    "start_time": "2022-07-14T13:00:24.090Z"
   },
   {
    "duration": 7,
    "start_time": "2022-07-14T13:00:26.878Z"
   },
   {
    "duration": 5,
    "start_time": "2022-07-14T13:00:29.631Z"
   },
   {
    "duration": 9,
    "start_time": "2022-07-14T13:00:30.167Z"
   },
   {
    "duration": 4,
    "start_time": "2022-07-14T13:00:36.584Z"
   },
   {
    "duration": 12,
    "start_time": "2022-07-14T13:00:38.677Z"
   },
   {
    "duration": 7,
    "start_time": "2022-07-14T13:00:40.178Z"
   },
   {
    "duration": 5,
    "start_time": "2022-07-14T13:00:41.510Z"
   },
   {
    "duration": 29,
    "start_time": "2022-07-14T13:00:45.148Z"
   },
   {
    "duration": 199,
    "start_time": "2022-07-14T13:00:53.916Z"
   },
   {
    "duration": 8,
    "start_time": "2022-07-14T13:00:54.608Z"
   },
   {
    "duration": 216,
    "start_time": "2022-07-14T13:01:00.507Z"
   },
   {
    "duration": 21,
    "start_time": "2022-07-14T13:01:01.745Z"
   },
   {
    "duration": 228,
    "start_time": "2022-07-14T13:01:05.001Z"
   },
   {
    "duration": 217,
    "start_time": "2022-07-14T13:01:13.071Z"
   },
   {
    "duration": 10,
    "start_time": "2022-07-14T13:01:14.614Z"
   },
   {
    "duration": 225,
    "start_time": "2022-07-14T13:05:19.203Z"
   },
   {
    "duration": 16,
    "start_time": "2022-07-14T13:05:20.162Z"
   },
   {
    "duration": 279,
    "start_time": "2022-07-14T13:05:22.893Z"
   },
   {
    "duration": 10,
    "start_time": "2022-07-14T13:05:23.532Z"
   },
   {
    "duration": 251,
    "start_time": "2022-07-14T13:05:25.113Z"
   },
   {
    "duration": 10,
    "start_time": "2022-07-14T13:05:25.726Z"
   },
   {
    "duration": 376,
    "start_time": "2022-07-14T13:05:27.970Z"
   },
   {
    "duration": 12,
    "start_time": "2022-07-14T13:05:28.837Z"
   },
   {
    "duration": 208,
    "start_time": "2022-07-14T13:07:07.171Z"
   },
   {
    "duration": 8,
    "start_time": "2022-07-14T13:07:08.121Z"
   },
   {
    "duration": 117,
    "start_time": "2022-07-14T13:07:09.275Z"
   },
   {
    "duration": 232,
    "start_time": "2022-07-14T13:07:10.449Z"
   },
   {
    "duration": 11,
    "start_time": "2022-07-14T13:07:10.904Z"
   },
   {
    "duration": 228,
    "start_time": "2022-07-14T13:07:12.784Z"
   },
   {
    "duration": 9,
    "start_time": "2022-07-14T13:07:15.919Z"
   },
   {
    "duration": 202,
    "start_time": "2022-07-14T13:07:16.765Z"
   },
   {
    "duration": 9,
    "start_time": "2022-07-14T13:07:16.972Z"
   },
   {
    "duration": 192,
    "start_time": "2022-07-14T13:07:17.710Z"
   },
   {
    "duration": 10,
    "start_time": "2022-07-14T13:07:18.018Z"
   },
   {
    "duration": 195,
    "start_time": "2022-07-14T13:07:18.891Z"
   },
   {
    "duration": 7,
    "start_time": "2022-07-14T13:07:19.090Z"
   },
   {
    "duration": 192,
    "start_time": "2022-07-14T13:07:19.846Z"
   },
   {
    "duration": 9,
    "start_time": "2022-07-14T13:07:20.080Z"
   },
   {
    "duration": 113,
    "start_time": "2022-07-14T13:10:51.967Z"
   },
   {
    "duration": 13,
    "start_time": "2022-07-14T13:10:52.892Z"
   },
   {
    "duration": 1841,
    "start_time": "2022-07-14T13:10:53.937Z"
   },
   {
    "duration": 9,
    "start_time": "2022-07-14T13:10:55.780Z"
   },
   {
    "duration": 26,
    "start_time": "2022-07-14T13:10:55.845Z"
   },
   {
    "duration": 4,
    "start_time": "2022-07-14T13:10:59.798Z"
   },
   {
    "duration": 15,
    "start_time": "2022-07-14T13:11:00.447Z"
   },
   {
    "duration": 5,
    "start_time": "2022-07-14T13:11:00.927Z"
   },
   {
    "duration": 4,
    "start_time": "2022-07-14T13:11:01.426Z"
   },
   {
    "duration": 7,
    "start_time": "2022-07-14T13:11:01.921Z"
   },
   {
    "duration": 8,
    "start_time": "2022-07-14T13:11:02.436Z"
   },
   {
    "duration": 9,
    "start_time": "2022-07-14T13:11:03.724Z"
   },
   {
    "duration": 7,
    "start_time": "2022-07-14T13:11:05.469Z"
   },
   {
    "duration": 5,
    "start_time": "2022-07-14T13:11:06.515Z"
   },
   {
    "duration": 6,
    "start_time": "2022-07-14T13:11:07.068Z"
   },
   {
    "duration": 6,
    "start_time": "2022-07-14T13:11:07.338Z"
   },
   {
    "duration": 10,
    "start_time": "2022-07-14T13:11:08.468Z"
   },
   {
    "duration": 13,
    "start_time": "2022-07-14T13:11:09.250Z"
   },
   {
    "duration": 10,
    "start_time": "2022-07-14T13:11:09.523Z"
   },
   {
    "duration": 7,
    "start_time": "2022-07-14T13:11:12.872Z"
   },
   {
    "duration": 11,
    "start_time": "2022-07-14T13:11:13.381Z"
   },
   {
    "duration": 19,
    "start_time": "2022-07-14T13:11:13.946Z"
   },
   {
    "duration": 5,
    "start_time": "2022-07-14T13:11:14.541Z"
   },
   {
    "duration": 36,
    "start_time": "2022-07-14T13:11:15.599Z"
   },
   {
    "duration": 204,
    "start_time": "2022-07-14T13:11:17.967Z"
   },
   {
    "duration": 21,
    "start_time": "2022-07-14T13:11:18.250Z"
   },
   {
    "duration": 222,
    "start_time": "2022-07-14T13:11:18.977Z"
   },
   {
    "duration": 13,
    "start_time": "2022-07-14T13:11:19.244Z"
   },
   {
    "duration": 207,
    "start_time": "2022-07-14T13:11:19.971Z"
   },
   {
    "duration": 9,
    "start_time": "2022-07-14T13:11:20.205Z"
   },
   {
    "duration": 317,
    "start_time": "2022-07-14T13:11:21.269Z"
   },
   {
    "duration": 11,
    "start_time": "2022-07-14T13:11:21.588Z"
   },
   {
    "duration": 231,
    "start_time": "2022-07-14T13:11:22.272Z"
   },
   {
    "duration": 8,
    "start_time": "2022-07-14T13:11:22.529Z"
   },
   {
    "duration": 214,
    "start_time": "2022-07-14T13:11:23.295Z"
   },
   {
    "duration": 10,
    "start_time": "2022-07-14T13:11:23.565Z"
   },
   {
    "duration": 230,
    "start_time": "2022-07-14T13:11:26.653Z"
   },
   {
    "duration": 11,
    "start_time": "2022-07-14T13:11:26.961Z"
   },
   {
    "duration": 138,
    "start_time": "2022-07-14T13:11:28.349Z"
   },
   {
    "duration": 209,
    "start_time": "2022-07-14T13:11:29.082Z"
   },
   {
    "duration": 8,
    "start_time": "2022-07-14T13:11:29.315Z"
   },
   {
    "duration": 217,
    "start_time": "2022-07-14T13:11:29.965Z"
   },
   {
    "duration": 10,
    "start_time": "2022-07-14T13:11:30.184Z"
   },
   {
    "duration": 183,
    "start_time": "2022-07-14T13:11:31.016Z"
   },
   {
    "duration": 9,
    "start_time": "2022-07-14T13:11:31.298Z"
   },
   {
    "duration": 229,
    "start_time": "2022-07-14T13:11:32.231Z"
   },
   {
    "duration": 11,
    "start_time": "2022-07-14T13:11:32.608Z"
   },
   {
    "duration": 306,
    "start_time": "2022-07-14T13:11:33.407Z"
   },
   {
    "duration": 9,
    "start_time": "2022-07-14T13:11:33.725Z"
   },
   {
    "duration": 213,
    "start_time": "2022-07-14T13:11:34.573Z"
   },
   {
    "duration": 9,
    "start_time": "2022-07-14T13:11:34.869Z"
   },
   {
    "duration": 178,
    "start_time": "2022-07-14T13:11:41.291Z"
   },
   {
    "duration": 11,
    "start_time": "2022-07-14T13:11:42.949Z"
   },
   {
    "duration": 154,
    "start_time": "2022-07-14T13:11:51.766Z"
   },
   {
    "duration": 5,
    "start_time": "2022-07-14T13:11:54.080Z"
   },
   {
    "duration": 171,
    "start_time": "2022-07-14T13:11:59.524Z"
   },
   {
    "duration": 5,
    "start_time": "2022-07-14T13:12:01.700Z"
   },
   {
    "duration": 7,
    "start_time": "2022-07-14T13:12:25.662Z"
   },
   {
    "duration": 169,
    "start_time": "2022-07-14T13:12:32.207Z"
   },
   {
    "duration": 6,
    "start_time": "2022-07-14T13:12:38.094Z"
   },
   {
    "duration": 182,
    "start_time": "2022-07-14T13:15:30.817Z"
   },
   {
    "duration": 6,
    "start_time": "2022-07-14T13:15:32.601Z"
   },
   {
    "duration": 283,
    "start_time": "2022-07-14T13:15:38.819Z"
   },
   {
    "duration": 381,
    "start_time": "2022-07-14T13:15:42.332Z"
   },
   {
    "duration": 501,
    "start_time": "2022-07-14T13:15:45.570Z"
   },
   {
    "duration": 412,
    "start_time": "2022-07-14T13:15:47.080Z"
   },
   {
    "duration": 14,
    "start_time": "2022-07-14T13:15:50.304Z"
   },
   {
    "duration": 9,
    "start_time": "2022-07-14T13:15:51.246Z"
   },
   {
    "duration": 8,
    "start_time": "2022-07-14T13:15:52.271Z"
   },
   {
    "duration": 14,
    "start_time": "2022-07-14T13:15:54.224Z"
   },
   {
    "duration": 647,
    "start_time": "2022-07-16T08:54:52.073Z"
   },
   {
    "duration": 15,
    "start_time": "2022-07-16T08:54:52.722Z"
   },
   {
    "duration": 2509,
    "start_time": "2022-07-16T08:54:52.756Z"
   },
   {
    "duration": 9,
    "start_time": "2022-07-16T08:54:55.268Z"
   },
   {
    "duration": 28,
    "start_time": "2022-07-16T08:54:55.278Z"
   },
   {
    "duration": 4,
    "start_time": "2022-07-16T08:54:55.637Z"
   },
   {
    "duration": 6,
    "start_time": "2022-07-16T08:54:56.021Z"
   },
   {
    "duration": 5,
    "start_time": "2022-07-16T08:54:56.442Z"
   },
   {
    "duration": 5,
    "start_time": "2022-07-16T08:54:56.824Z"
   },
   {
    "duration": 10,
    "start_time": "2022-07-16T08:54:57.252Z"
   },
   {
    "duration": 9,
    "start_time": "2022-07-16T08:54:57.615Z"
   },
   {
    "duration": 10,
    "start_time": "2022-07-16T08:54:58.812Z"
   },
   {
    "duration": 9,
    "start_time": "2022-07-16T08:55:00.278Z"
   },
   {
    "duration": 5,
    "start_time": "2022-07-16T08:55:01.115Z"
   },
   {
    "duration": 7,
    "start_time": "2022-07-16T08:55:01.545Z"
   },
   {
    "duration": 6,
    "start_time": "2022-07-16T08:55:01.785Z"
   },
   {
    "duration": 8,
    "start_time": "2022-07-16T08:55:02.616Z"
   },
   {
    "duration": 4,
    "start_time": "2022-07-16T08:55:03.402Z"
   },
   {
    "duration": 8,
    "start_time": "2022-07-16T08:55:03.580Z"
   },
   {
    "duration": 5,
    "start_time": "2022-07-16T08:55:06.422Z"
   },
   {
    "duration": 13,
    "start_time": "2022-07-16T08:55:06.832Z"
   },
   {
    "duration": 9,
    "start_time": "2022-07-16T08:55:07.237Z"
   },
   {
    "duration": 4,
    "start_time": "2022-07-16T08:55:07.642Z"
   },
   {
    "duration": 30,
    "start_time": "2022-07-16T08:55:08.648Z"
   },
   {
    "duration": 218,
    "start_time": "2022-07-16T08:55:10.616Z"
   },
   {
    "duration": 9,
    "start_time": "2022-07-16T08:55:10.836Z"
   },
   {
    "duration": 236,
    "start_time": "2022-07-16T08:55:11.419Z"
   },
   {
    "duration": 11,
    "start_time": "2022-07-16T08:55:11.657Z"
   },
   {
    "duration": 219,
    "start_time": "2022-07-16T08:55:12.218Z"
   },
   {
    "duration": 10,
    "start_time": "2022-07-16T08:55:12.439Z"
   },
   {
    "duration": 241,
    "start_time": "2022-07-16T08:55:12.974Z"
   },
   {
    "duration": 9,
    "start_time": "2022-07-16T08:55:13.217Z"
   },
   {
    "duration": 349,
    "start_time": "2022-07-16T08:55:13.761Z"
   },
   {
    "duration": 10,
    "start_time": "2022-07-16T08:55:14.113Z"
   },
   {
    "duration": 214,
    "start_time": "2022-07-16T08:55:14.551Z"
   },
   {
    "duration": 10,
    "start_time": "2022-07-16T08:55:14.767Z"
   },
   {
    "duration": 230,
    "start_time": "2022-07-16T08:55:15.345Z"
   },
   {
    "duration": 8,
    "start_time": "2022-07-16T08:55:15.577Z"
   },
   {
    "duration": 135,
    "start_time": "2022-07-16T08:55:16.148Z"
   },
   {
    "duration": 231,
    "start_time": "2022-07-16T08:55:16.721Z"
   },
   {
    "duration": 9,
    "start_time": "2022-07-16T08:55:16.954Z"
   },
   {
    "duration": 231,
    "start_time": "2022-07-16T08:55:17.520Z"
   },
   {
    "duration": 10,
    "start_time": "2022-07-16T08:55:17.753Z"
   },
   {
    "duration": 200,
    "start_time": "2022-07-16T08:55:18.318Z"
   },
   {
    "duration": 10,
    "start_time": "2022-07-16T08:55:18.540Z"
   },
   {
    "duration": 208,
    "start_time": "2022-07-16T08:55:19.161Z"
   },
   {
    "duration": 10,
    "start_time": "2022-07-16T08:55:19.371Z"
   },
   {
    "duration": 230,
    "start_time": "2022-07-16T08:55:19.983Z"
   },
   {
    "duration": 12,
    "start_time": "2022-07-16T08:55:20.215Z"
   },
   {
    "duration": 214,
    "start_time": "2022-07-16T08:55:20.815Z"
   },
   {
    "duration": 9,
    "start_time": "2022-07-16T08:55:21.031Z"
   },
   {
    "duration": 304,
    "start_time": "2022-07-16T08:55:28.049Z"
   },
   {
    "duration": 11,
    "start_time": "2022-07-16T08:55:28.485Z"
   },
   {
    "duration": 190,
    "start_time": "2022-07-16T08:55:30.188Z"
   },
   {
    "duration": 7,
    "start_time": "2022-07-16T08:55:30.557Z"
   },
   {
    "duration": 202,
    "start_time": "2022-07-16T08:55:31.822Z"
   },
   {
    "duration": 7,
    "start_time": "2022-07-16T08:55:32.258Z"
   },
   {
    "duration": 190,
    "start_time": "2022-07-16T08:55:33.438Z"
   },
   {
    "duration": 5,
    "start_time": "2022-07-16T08:55:33.828Z"
   },
   {
    "duration": 206,
    "start_time": "2022-07-16T08:55:35.207Z"
   },
   {
    "duration": 5,
    "start_time": "2022-07-16T08:55:35.609Z"
   },
   {
    "duration": 804,
    "start_time": "2022-07-16T08:55:37.040Z"
   },
   {
    "duration": 386,
    "start_time": "2022-07-16T08:55:39.076Z"
   },
   {
    "duration": 520,
    "start_time": "2022-07-16T08:55:40.839Z"
   },
   {
    "duration": 368,
    "start_time": "2022-07-16T08:55:41.703Z"
   },
   {
    "duration": 15,
    "start_time": "2022-07-16T08:55:43.912Z"
   },
   {
    "duration": 8,
    "start_time": "2022-07-16T08:55:44.341Z"
   },
   {
    "duration": 9,
    "start_time": "2022-07-16T08:55:44.803Z"
   },
   {
    "duration": 20,
    "start_time": "2022-07-16T08:55:45.832Z"
   },
   {
    "duration": 50,
    "start_time": "2022-07-16T08:57:36.758Z"
   },
   {
    "duration": 105,
    "start_time": "2022-07-16T09:00:04.538Z"
   },
   {
    "duration": 9,
    "start_time": "2022-07-16T09:00:12.277Z"
   },
   {
    "duration": 8,
    "start_time": "2022-07-16T09:00:54.844Z"
   },
   {
    "duration": 9,
    "start_time": "2022-07-16T09:02:54.352Z"
   },
   {
    "duration": 4,
    "start_time": "2022-07-16T09:04:58.686Z"
   },
   {
    "duration": 9,
    "start_time": "2022-07-16T09:05:06.827Z"
   },
   {
    "duration": 275,
    "start_time": "2022-07-16T09:05:14.045Z"
   },
   {
    "duration": 255,
    "start_time": "2022-07-16T09:05:26.149Z"
   },
   {
    "duration": 11,
    "start_time": "2022-07-16T09:07:56.419Z"
   },
   {
    "duration": 10,
    "start_time": "2022-07-16T09:09:36.285Z"
   },
   {
    "duration": 407,
    "start_time": "2022-07-16T09:09:45.424Z"
   },
   {
    "duration": 121,
    "start_time": "2022-07-16T09:10:30.897Z"
   },
   {
    "duration": 16,
    "start_time": "2022-07-16T09:10:31.248Z"
   },
   {
    "duration": 2138,
    "start_time": "2022-07-16T09:10:31.630Z"
   },
   {
    "duration": 10,
    "start_time": "2022-07-16T09:10:33.770Z"
   },
   {
    "duration": 49,
    "start_time": "2022-07-16T09:10:33.782Z"
   },
   {
    "duration": 5,
    "start_time": "2022-07-16T09:10:34.566Z"
   },
   {
    "duration": 6,
    "start_time": "2022-07-16T09:10:34.938Z"
   },
   {
    "duration": 7,
    "start_time": "2022-07-16T09:10:35.339Z"
   },
   {
    "duration": 6,
    "start_time": "2022-07-16T09:10:35.717Z"
   },
   {
    "duration": 9,
    "start_time": "2022-07-16T09:10:36.122Z"
   },
   {
    "duration": 10,
    "start_time": "2022-07-16T09:10:36.522Z"
   },
   {
    "duration": 9,
    "start_time": "2022-07-16T09:10:39.873Z"
   },
   {
    "duration": 8,
    "start_time": "2022-07-16T09:15:15.027Z"
   },
   {
    "duration": 5,
    "start_time": "2022-07-16T09:15:15.717Z"
   },
   {
    "duration": 7,
    "start_time": "2022-07-16T09:15:16.068Z"
   },
   {
    "duration": 7,
    "start_time": "2022-07-16T09:15:16.219Z"
   },
   {
    "duration": 10,
    "start_time": "2022-07-16T09:15:16.876Z"
   },
   {
    "duration": 5,
    "start_time": "2022-07-16T09:15:17.559Z"
   },
   {
    "duration": 8,
    "start_time": "2022-07-16T09:15:17.754Z"
   },
   {
    "duration": 4,
    "start_time": "2022-07-16T09:15:20.214Z"
   },
   {
    "duration": 14,
    "start_time": "2022-07-16T09:15:20.561Z"
   },
   {
    "duration": 8,
    "start_time": "2022-07-16T09:15:20.952Z"
   },
   {
    "duration": 6,
    "start_time": "2022-07-16T09:15:21.943Z"
   },
   {
    "duration": 33,
    "start_time": "2022-07-16T09:15:22.254Z"
   },
   {
    "duration": 252,
    "start_time": "2022-07-16T09:15:24.072Z"
   },
   {
    "duration": 13,
    "start_time": "2022-07-16T09:15:24.326Z"
   },
   {
    "duration": 257,
    "start_time": "2022-07-16T09:15:24.820Z"
   },
   {
    "duration": 10,
    "start_time": "2022-07-16T09:15:25.079Z"
   },
   {
    "duration": 377,
    "start_time": "2022-07-16T09:15:25.562Z"
   },
   {
    "duration": 13,
    "start_time": "2022-07-16T09:15:25.941Z"
   },
   {
    "duration": 313,
    "start_time": "2022-07-16T09:15:26.322Z"
   },
   {
    "duration": 16,
    "start_time": "2022-07-16T09:15:26.639Z"
   },
   {
    "duration": 273,
    "start_time": "2022-07-16T09:15:27.135Z"
   },
   {
    "duration": 10,
    "start_time": "2022-07-16T09:15:27.410Z"
   },
   {
    "duration": 240,
    "start_time": "2022-07-16T09:15:27.918Z"
   },
   {
    "duration": 14,
    "start_time": "2022-07-16T09:15:28.161Z"
   },
   {
    "duration": 229,
    "start_time": "2022-07-16T09:15:28.667Z"
   },
   {
    "duration": 10,
    "start_time": "2022-07-16T09:15:28.905Z"
   },
   {
    "duration": 132,
    "start_time": "2022-07-16T09:15:29.464Z"
   },
   {
    "duration": 266,
    "start_time": "2022-07-16T09:15:30.027Z"
   },
   {
    "duration": 16,
    "start_time": "2022-07-16T09:15:30.296Z"
   },
   {
    "duration": 276,
    "start_time": "2022-07-16T09:15:30.820Z"
   },
   {
    "duration": 14,
    "start_time": "2022-07-16T09:15:31.099Z"
   },
   {
    "duration": 212,
    "start_time": "2022-07-16T09:15:31.634Z"
   },
   {
    "duration": 12,
    "start_time": "2022-07-16T09:15:31.849Z"
   },
   {
    "duration": 225,
    "start_time": "2022-07-16T09:15:32.710Z"
   },
   {
    "duration": 13,
    "start_time": "2022-07-16T09:15:32.938Z"
   },
   {
    "duration": 358,
    "start_time": "2022-07-16T09:15:33.533Z"
   },
   {
    "duration": 16,
    "start_time": "2022-07-16T09:15:33.893Z"
   },
   {
    "duration": 232,
    "start_time": "2022-07-16T09:15:34.325Z"
   },
   {
    "duration": 11,
    "start_time": "2022-07-16T09:15:34.559Z"
   },
   {
    "duration": 210,
    "start_time": "2022-07-16T09:15:36.934Z"
   },
   {
    "duration": 11,
    "start_time": "2022-07-16T09:15:37.344Z"
   },
   {
    "duration": 179,
    "start_time": "2022-07-16T09:15:45.675Z"
   },
   {
    "duration": 6,
    "start_time": "2022-07-16T09:15:46.057Z"
   },
   {
    "duration": 209,
    "start_time": "2022-07-16T09:15:47.151Z"
   },
   {
    "duration": 7,
    "start_time": "2022-07-16T09:15:47.519Z"
   },
   {
    "duration": 187,
    "start_time": "2022-07-16T09:15:48.577Z"
   },
   {
    "duration": 5,
    "start_time": "2022-07-16T09:15:48.926Z"
   },
   {
    "duration": 239,
    "start_time": "2022-07-16T09:15:50.216Z"
   },
   {
    "duration": 7,
    "start_time": "2022-07-16T09:15:50.595Z"
   },
   {
    "duration": 404,
    "start_time": "2022-07-16T09:15:51.918Z"
   },
   {
    "duration": 404,
    "start_time": "2022-07-16T09:15:53.250Z"
   },
   {
    "duration": 532,
    "start_time": "2022-07-16T09:15:54.650Z"
   },
   {
    "duration": 482,
    "start_time": "2022-07-16T09:15:55.406Z"
   },
   {
    "duration": 15,
    "start_time": "2022-07-16T09:15:57.366Z"
   },
   {
    "duration": 11,
    "start_time": "2022-07-16T09:15:57.760Z"
   },
   {
    "duration": 11,
    "start_time": "2022-07-16T09:15:58.132Z"
   },
   {
    "duration": 19,
    "start_time": "2022-07-16T09:15:59.603Z"
   },
   {
    "duration": 11,
    "start_time": "2022-07-16T09:16:01.204Z"
   },
   {
    "duration": 270,
    "start_time": "2022-07-16T09:16:03.114Z"
   },
   {
    "duration": 9,
    "start_time": "2022-07-16T09:17:53.753Z"
   },
   {
    "duration": 278,
    "start_time": "2022-07-16T09:17:55.428Z"
   },
   {
    "duration": 10,
    "start_time": "2022-07-16T09:18:16.224Z"
   },
   {
    "duration": 251,
    "start_time": "2022-07-16T09:18:17.071Z"
   },
   {
    "duration": 11,
    "start_time": "2022-07-16T09:33:21.674Z"
   },
   {
    "duration": 11,
    "start_time": "2022-07-16T09:36:05.673Z"
   },
   {
    "duration": 12,
    "start_time": "2022-07-16T09:36:17.729Z"
   },
   {
    "duration": 16,
    "start_time": "2022-07-16T09:36:35.804Z"
   },
   {
    "duration": 23,
    "start_time": "2022-07-16T09:38:38.281Z"
   },
   {
    "duration": 347,
    "start_time": "2022-07-16T09:38:44.546Z"
   },
   {
    "duration": 21,
    "start_time": "2022-07-16T09:39:10.982Z"
   },
   {
    "duration": 1459,
    "start_time": "2022-07-16T09:42:40.074Z"
   },
   {
    "duration": 24,
    "start_time": "2022-07-16T09:43:17.222Z"
   },
   {
    "duration": 1611,
    "start_time": "2022-07-16T09:43:20.195Z"
   },
   {
    "duration": 330,
    "start_time": "2022-07-16T09:44:05.670Z"
   },
   {
    "duration": 22,
    "start_time": "2022-07-16T09:44:48.195Z"
   },
   {
    "duration": 452,
    "start_time": "2022-07-16T09:45:16.641Z"
   },
   {
    "duration": 44,
    "start_time": "2022-07-16T09:50:06.501Z"
   },
   {
    "duration": 383,
    "start_time": "2022-07-16T09:51:09.547Z"
   },
   {
    "duration": 133,
    "start_time": "2022-07-16T09:53:16.207Z"
   },
   {
    "duration": 24,
    "start_time": "2022-07-16T09:53:16.545Z"
   },
   {
    "duration": 2150,
    "start_time": "2022-07-16T09:53:16.913Z"
   },
   {
    "duration": 12,
    "start_time": "2022-07-16T09:53:19.065Z"
   },
   {
    "duration": 36,
    "start_time": "2022-07-16T09:53:19.907Z"
   },
   {
    "duration": 5,
    "start_time": "2022-07-16T09:53:22.125Z"
   },
   {
    "duration": 6,
    "start_time": "2022-07-16T09:53:22.466Z"
   },
   {
    "duration": 5,
    "start_time": "2022-07-16T09:53:22.846Z"
   },
   {
    "duration": 6,
    "start_time": "2022-07-16T09:53:23.244Z"
   },
   {
    "duration": 8,
    "start_time": "2022-07-16T09:53:23.584Z"
   },
   {
    "duration": 9,
    "start_time": "2022-07-16T09:53:23.962Z"
   },
   {
    "duration": 11,
    "start_time": "2022-07-16T09:53:25.081Z"
   },
   {
    "duration": 12,
    "start_time": "2022-07-16T09:53:26.602Z"
   },
   {
    "duration": 6,
    "start_time": "2022-07-16T09:53:27.361Z"
   },
   {
    "duration": 6,
    "start_time": "2022-07-16T09:53:27.759Z"
   },
   {
    "duration": 8,
    "start_time": "2022-07-16T09:53:27.914Z"
   },
   {
    "duration": 9,
    "start_time": "2022-07-16T09:53:28.763Z"
   },
   {
    "duration": 6,
    "start_time": "2022-07-16T09:53:29.547Z"
   },
   {
    "duration": 8,
    "start_time": "2022-07-16T09:53:29.744Z"
   },
   {
    "duration": 5,
    "start_time": "2022-07-16T09:53:32.445Z"
   },
   {
    "duration": 14,
    "start_time": "2022-07-16T09:53:32.820Z"
   },
   {
    "duration": 7,
    "start_time": "2022-07-16T09:53:33.206Z"
   },
   {
    "duration": 5,
    "start_time": "2022-07-16T09:53:33.644Z"
   },
   {
    "duration": 41,
    "start_time": "2022-07-16T09:53:34.680Z"
   },
   {
    "duration": 310,
    "start_time": "2022-07-16T09:53:36.644Z"
   },
   {
    "duration": 13,
    "start_time": "2022-07-16T09:53:36.956Z"
   },
   {
    "duration": 250,
    "start_time": "2022-07-16T09:53:37.454Z"
   },
   {
    "duration": 12,
    "start_time": "2022-07-16T09:53:37.708Z"
   },
   {
    "duration": 239,
    "start_time": "2022-07-16T09:53:38.256Z"
   },
   {
    "duration": 10,
    "start_time": "2022-07-16T09:53:38.505Z"
   },
   {
    "duration": 262,
    "start_time": "2022-07-16T09:53:39.074Z"
   },
   {
    "duration": 10,
    "start_time": "2022-07-16T09:53:39.338Z"
   },
   {
    "duration": 276,
    "start_time": "2022-07-16T09:53:39.905Z"
   },
   {
    "duration": 24,
    "start_time": "2022-07-16T09:53:40.184Z"
   },
   {
    "duration": 240,
    "start_time": "2022-07-16T09:53:40.694Z"
   },
   {
    "duration": 10,
    "start_time": "2022-07-16T09:53:40.936Z"
   },
   {
    "duration": 229,
    "start_time": "2022-07-16T09:53:41.520Z"
   },
   {
    "duration": 10,
    "start_time": "2022-07-16T09:53:41.751Z"
   },
   {
    "duration": 124,
    "start_time": "2022-07-16T09:53:42.343Z"
   },
   {
    "duration": 409,
    "start_time": "2022-07-16T09:53:42.928Z"
   },
   {
    "duration": 9,
    "start_time": "2022-07-16T09:53:43.339Z"
   },
   {
    "duration": 233,
    "start_time": "2022-07-16T09:53:43.690Z"
   },
   {
    "duration": 10,
    "start_time": "2022-07-16T09:53:43.925Z"
   },
   {
    "duration": 368,
    "start_time": "2022-07-16T09:53:44.467Z"
   },
   {
    "duration": 13,
    "start_time": "2022-07-16T09:53:44.838Z"
   },
   {
    "duration": 230,
    "start_time": "2022-07-16T09:53:45.243Z"
   },
   {
    "duration": 11,
    "start_time": "2022-07-16T09:53:45.476Z"
   },
   {
    "duration": 246,
    "start_time": "2022-07-16T09:53:45.997Z"
   },
   {
    "duration": 10,
    "start_time": "2022-07-16T09:53:46.245Z"
   },
   {
    "duration": 273,
    "start_time": "2022-07-16T09:53:46.757Z"
   },
   {
    "duration": 10,
    "start_time": "2022-07-16T09:53:47.032Z"
   },
   {
    "duration": 214,
    "start_time": "2022-07-16T09:53:48.792Z"
   },
   {
    "duration": 12,
    "start_time": "2022-07-16T09:53:49.226Z"
   },
   {
    "duration": 180,
    "start_time": "2022-07-16T09:53:50.924Z"
   },
   {
    "duration": 7,
    "start_time": "2022-07-16T09:53:51.352Z"
   },
   {
    "duration": 205,
    "start_time": "2022-07-16T09:53:52.601Z"
   },
   {
    "duration": 9,
    "start_time": "2022-07-16T09:53:53.006Z"
   },
   {
    "duration": 305,
    "start_time": "2022-07-16T09:53:54.154Z"
   },
   {
    "duration": 6,
    "start_time": "2022-07-16T09:53:54.549Z"
   },
   {
    "duration": 211,
    "start_time": "2022-07-16T09:53:55.958Z"
   },
   {
    "duration": 7,
    "start_time": "2022-07-16T09:53:56.347Z"
   },
   {
    "duration": 301,
    "start_time": "2022-07-16T09:53:57.760Z"
   },
   {
    "duration": 410,
    "start_time": "2022-07-16T09:53:59.205Z"
   },
   {
    "duration": 584,
    "start_time": "2022-07-16T09:54:00.654Z"
   },
   {
    "duration": 379,
    "start_time": "2022-07-16T09:54:01.489Z"
   },
   {
    "duration": 16,
    "start_time": "2022-07-16T09:54:03.581Z"
   },
   {
    "duration": 9,
    "start_time": "2022-07-16T09:54:03.956Z"
   },
   {
    "duration": 12,
    "start_time": "2022-07-16T09:54:04.353Z"
   },
   {
    "duration": 33,
    "start_time": "2022-07-16T09:54:05.572Z"
   },
   {
    "duration": 337,
    "start_time": "2022-07-16T09:54:05.787Z"
   }
  ],
  "kernelspec": {
   "display_name": "Python 3 (ipykernel)",
   "language": "python",
   "name": "python3"
  },
  "language_info": {
   "codemirror_mode": {
    "name": "ipython",
    "version": 3
   },
   "file_extension": ".py",
   "mimetype": "text/x-python",
   "name": "python",
   "nbconvert_exporter": "python",
   "pygments_lexer": "ipython3",
   "version": "3.9.12"
  },
  "toc": {
   "base_numbering": 1,
   "nav_menu": {},
   "number_sections": true,
   "sideBar": true,
   "skip_h1_title": true,
   "title_cell": "Table of Contents",
   "title_sidebar": "Contents",
   "toc_cell": false,
   "toc_position": {},
   "toc_section_display": true,
   "toc_window_display": false
  }
 },
 "nbformat": 4,
 "nbformat_minor": 2
}
