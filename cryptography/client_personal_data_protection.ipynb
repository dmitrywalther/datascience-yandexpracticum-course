{
 "cells": [
  {
   "cell_type": "markdown",
   "metadata": {
    "toc": true
   },
   "source": [
    "<h1>Содержание<span class=\"tocSkip\"></span></h1>\n",
    "<div class=\"toc\"><ul class=\"toc-item\"><li><span><a href=\"#Загрузка-данных\" data-toc-modified-id=\"Загрузка-данных-1\"><span class=\"toc-item-num\">1&nbsp;&nbsp;</span>Загрузка данных</a></span></li><li><span><a href=\"#Умножение-матриц\" data-toc-modified-id=\"Умножение-матриц-2\"><span class=\"toc-item-num\">2&nbsp;&nbsp;</span>Умножение матриц</a></span></li><li><span><a href=\"#Алгоритм-преобразования\" data-toc-modified-id=\"Алгоритм-преобразования-3\"><span class=\"toc-item-num\">3&nbsp;&nbsp;</span>Алгоритм преобразования</a></span></li><li><span><a href=\"#Проверка-алгоритма\" data-toc-modified-id=\"Проверка-алгоритма-4\"><span class=\"toc-item-num\">4&nbsp;&nbsp;</span>Проверка алгоритма</a></span></li></ul></div>"
   ]
  },
  {
   "cell_type": "markdown",
   "metadata": {},
   "source": [
    "# Защита персональных данных клиентов"
   ]
  },
  {
   "cell_type": "markdown",
   "metadata": {},
   "source": [
    "Вам нужно защитить данные клиентов страховой компании «Хоть потоп». Разработайте такой метод преобразования данных, чтобы по ним было сложно восстановить персональную информацию. Обоснуйте корректность его работы.\n",
    "\n",
    "Нужно защитить данные, чтобы при преобразовании качество моделей машинного обучения не ухудшилось. Подбирать наилучшую модель не требуется."
   ]
  },
  {
   "cell_type": "markdown",
   "metadata": {},
   "source": [
    "## Загрузка данных"
   ]
  },
  {
   "cell_type": "markdown",
   "metadata": {},
   "source": [
    "Подключаемые все необходимые для выполнения исследования библиотеки:"
   ]
  },
  {
   "cell_type": "code",
   "execution_count": 26,
   "metadata": {},
   "outputs": [],
   "source": [
    "import pandas as pd # работа с табличными данными\n",
    "import numpy as np # работа с векторами и матрицами \n",
    "from sklearn.model_selection import train_test_split # выделение обучающей и тестовой выборок\n",
    "from sklearn.model_selection import cross_val_score # кросс-валидация\n",
    "from sklearn.linear_model import LinearRegression # модель линейной регрессии\n",
    "from sklearn.metrics import r2_score # коэффициент детерминации \n",
    "from sklearn.preprocessing import StandardScaler # масштабирование признаков"
   ]
  },
  {
   "cell_type": "markdown",
   "metadata": {},
   "source": [
    "Загружаем данные из файла и выводим общую информацию:"
   ]
  },
  {
   "cell_type": "code",
   "execution_count": 27,
   "metadata": {},
   "outputs": [
    {
     "name": "stdout",
     "output_type": "stream",
     "text": [
      "<class 'pandas.core.frame.DataFrame'>\n",
      "RangeIndex: 5000 entries, 0 to 4999\n",
      "Data columns (total 5 columns):\n",
      " #   Column             Non-Null Count  Dtype  \n",
      "---  ------             --------------  -----  \n",
      " 0   Пол                5000 non-null   int64  \n",
      " 1   Возраст            5000 non-null   float64\n",
      " 2   Зарплата           5000 non-null   float64\n",
      " 3   Члены семьи        5000 non-null   int64  \n",
      " 4   Страховые выплаты  5000 non-null   int64  \n",
      "dtypes: float64(2), int64(3)\n",
      "memory usage: 195.4 KB\n"
     ]
    }
   ],
   "source": [
    "data = pd.read_csv('/datasets/insurance.csv')\n",
    "data.info()"
   ]
  },
  {
   "cell_type": "markdown",
   "metadata": {},
   "source": [
    "Изучаем данные:"
   ]
  },
  {
   "cell_type": "code",
   "execution_count": 28,
   "metadata": {},
   "outputs": [
    {
     "data": {
      "text/html": [
       "<div>\n",
       "<style scoped>\n",
       "    .dataframe tbody tr th:only-of-type {\n",
       "        vertical-align: middle;\n",
       "    }\n",
       "\n",
       "    .dataframe tbody tr th {\n",
       "        vertical-align: top;\n",
       "    }\n",
       "\n",
       "    .dataframe thead th {\n",
       "        text-align: right;\n",
       "    }\n",
       "</style>\n",
       "<table border=\"1\" class=\"dataframe\">\n",
       "  <thead>\n",
       "    <tr style=\"text-align: right;\">\n",
       "      <th></th>\n",
       "      <th>Пол</th>\n",
       "      <th>Возраст</th>\n",
       "      <th>Зарплата</th>\n",
       "      <th>Члены семьи</th>\n",
       "      <th>Страховые выплаты</th>\n",
       "    </tr>\n",
       "  </thead>\n",
       "  <tbody>\n",
       "    <tr>\n",
       "      <th>0</th>\n",
       "      <td>1</td>\n",
       "      <td>41.0</td>\n",
       "      <td>49600.0</td>\n",
       "      <td>1</td>\n",
       "      <td>0</td>\n",
       "    </tr>\n",
       "    <tr>\n",
       "      <th>1</th>\n",
       "      <td>0</td>\n",
       "      <td>46.0</td>\n",
       "      <td>38000.0</td>\n",
       "      <td>1</td>\n",
       "      <td>1</td>\n",
       "    </tr>\n",
       "    <tr>\n",
       "      <th>2</th>\n",
       "      <td>0</td>\n",
       "      <td>29.0</td>\n",
       "      <td>21000.0</td>\n",
       "      <td>0</td>\n",
       "      <td>0</td>\n",
       "    </tr>\n",
       "    <tr>\n",
       "      <th>3</th>\n",
       "      <td>0</td>\n",
       "      <td>21.0</td>\n",
       "      <td>41700.0</td>\n",
       "      <td>2</td>\n",
       "      <td>0</td>\n",
       "    </tr>\n",
       "    <tr>\n",
       "      <th>4</th>\n",
       "      <td>1</td>\n",
       "      <td>28.0</td>\n",
       "      <td>26100.0</td>\n",
       "      <td>0</td>\n",
       "      <td>0</td>\n",
       "    </tr>\n",
       "  </tbody>\n",
       "</table>\n",
       "</div>"
      ],
      "text/plain": [
       "   Пол  Возраст  Зарплата  Члены семьи  Страховые выплаты\n",
       "0    1     41.0   49600.0            1                  0\n",
       "1    0     46.0   38000.0            1                  1\n",
       "2    0     29.0   21000.0            0                  0\n",
       "3    0     21.0   41700.0            2                  0\n",
       "4    1     28.0   26100.0            0                  0"
      ]
     },
     "execution_count": 28,
     "metadata": {},
     "output_type": "execute_result"
    }
   ],
   "source": [
    "data.head(5)"
   ]
  },
  {
   "cell_type": "markdown",
   "metadata": {},
   "source": [
    "Определяем, в каких признаках есть пропуски:"
   ]
  },
  {
   "cell_type": "code",
   "execution_count": 29,
   "metadata": {},
   "outputs": [
    {
     "data": {
      "text/plain": [
       "Пол                  0\n",
       "Возраст              0\n",
       "Зарплата             0\n",
       "Члены семьи          0\n",
       "Страховые выплаты    0\n",
       "dtype: int64"
      ]
     },
     "execution_count": 29,
     "metadata": {},
     "output_type": "execute_result"
    }
   ],
   "source": [
    "data.isna().sum()"
   ]
  },
  {
   "cell_type": "markdown",
   "metadata": {},
   "source": [
    "Проверяем на наличие явных дубликатов:"
   ]
  },
  {
   "cell_type": "code",
   "execution_count": 30,
   "metadata": {},
   "outputs": [
    {
     "data": {
      "text/plain": [
       "153"
      ]
     },
     "execution_count": 30,
     "metadata": {},
     "output_type": "execute_result"
    }
   ],
   "source": [
    "data.duplicated().sum()"
   ]
  },
  {
   "cell_type": "markdown",
   "metadata": {},
   "source": [
    "Избавляемся от явных дубликатов:"
   ]
  },
  {
   "cell_type": "code",
   "execution_count": 31,
   "metadata": {},
   "outputs": [],
   "source": [
    "data = data.drop_duplicates()"
   ]
  },
  {
   "cell_type": "markdown",
   "metadata": {},
   "source": [
    "Проверяем, что явных дубликатов не осталось:"
   ]
  },
  {
   "cell_type": "code",
   "execution_count": 32,
   "metadata": {},
   "outputs": [
    {
     "data": {
      "text/plain": [
       "0"
      ]
     },
     "execution_count": 32,
     "metadata": {},
     "output_type": "execute_result"
    }
   ],
   "source": [
    "data.duplicated().sum()"
   ]
  },
  {
   "cell_type": "markdown",
   "metadata": {},
   "source": [
    "Переименуем столбцы:"
   ]
  },
  {
   "cell_type": "code",
   "execution_count": 33,
   "metadata": {},
   "outputs": [],
   "source": [
    "data = data.rename(columns=\n",
    "                   {'Пол': 'sex', \n",
    "                    'Возраст': 'age', \n",
    "                    'Зарплата': 'salary', \n",
    "                    'Члены семьи': 'family_members',\n",
    "                    'Страховые выплаты': 'insurance_payments'\n",
    "                   }\n",
    "                  )"
   ]
  },
  {
   "cell_type": "markdown",
   "metadata": {},
   "source": [
    "**Выводы**\n",
    "\n",
    "Исходный набор данных содержит 5 000 наблюдений по 5-ти признакам. Категориальный признак пол представлен числом, подготовительный этап по кодированию не нужен. Пропусков нет, но есть дубликаты, хотя из-за отсутствия уникального идетификатора клиента нельзя утвержать со 100% уверенностью, что они явные. "
   ]
  },
  {
   "cell_type": "markdown",
   "metadata": {},
   "source": [
    "## Умножение матриц"
   ]
  },
  {
   "cell_type": "markdown",
   "metadata": {},
   "source": [
    "Докажем аналитически, что при умножении признаков на случайную обратимую матрицу качество линейной регрессии не изменится."
   ]
  },
  {
   "cell_type": "markdown",
   "metadata": {},
   "source": [
    "Нужно доказать, что прогнозы модели на исходных признаках $a$ тождественно равны прогнозам модели на преобразованных признаках $a'$:"
   ]
  },
  {
   "cell_type": "markdown",
   "metadata": {},
   "source": [
    "$$\n",
    "a = a'\n",
    "$$\n",
    "\n",
    "$$\n",
    "a = Xw\n",
    "$$\n",
    "\n",
    "$$\n",
    "a' = X'w' = XPw'\n",
    "$$"
   ]
  },
  {
   "cell_type": "markdown",
   "metadata": {},
   "source": [
    "Где $X$ - матрица исходных признаков, $X'$ - матрица преобразованных признаков; $P$ - случайная обратимая матрица; $w$ - вектор весов (коэффициентов) исходной модели; $w'$ - вектор весов модели на преобразованных признаках."
   ]
  },
  {
   "cell_type": "markdown",
   "metadata": {},
   "source": [
    "Из аналитического решения линейной регрессии:"
   ]
  },
  {
   "cell_type": "markdown",
   "metadata": {},
   "source": [
    "$$\n",
    "w = (X^T X)^{-1} X^T y\n",
    "$$\n",
    "\n",
    "$$\n",
    "w' = ((XP)^T (XP))^{-1} (XP)^T y\n",
    "$$"
   ]
  },
  {
   "cell_type": "markdown",
   "metadata": {},
   "source": [
    "Раскроем скобки для $w'$. Транспонированная матрица произведения равна произведению транспонированных матриц сомножителей, взятых в обратном порядке $(AB)^T=B^T A^T$:"
   ]
  },
  {
   "cell_type": "markdown",
   "metadata": {},
   "source": [
    "$$\n",
    "w' = ((XP)^T (XP))^{-1} (XP)^T y\n",
    "$$\n",
    "\n",
    "$$\n",
    "w' = (P^T X^T XP)^{-1} P^T X^T y\n",
    "$$"
   ]
  },
  {
   "cell_type": "markdown",
   "metadata": {},
   "source": [
    "Используем ассоциативное (сочетательное) свойство:"
   ]
  },
  {
   "cell_type": "markdown",
   "metadata": {},
   "source": [
    "$$\n",
    "w' = (P^T (X^T X) P)^{-1} P^T X^T y\n",
    "$$"
   ]
  },
  {
   "cell_type": "markdown",
   "metadata": {},
   "source": [
    "Обратное значение произведения обратимых матриц A и B равно значению, полученному при умножении матриц, обратных исходным $(AB)^{-1} = B^{-1} A^{-1}$:"
   ]
  },
  {
   "cell_type": "markdown",
   "metadata": {},
   "source": [
    "Обратная матрица транспонированной матрицы эквивалентна транспонированной обратной матрице $(P^T)^{-1} = (P^{-1})^T$:"
   ]
  },
  {
   "cell_type": "markdown",
   "metadata": {},
   "source": [
    "$$\n",
    "w' = P^{-1}(X^T X)^{-1} (P^{-1})^T P^T X^T y\n",
    "$$"
   ]
  },
  {
   "cell_type": "markdown",
   "metadata": {},
   "source": [
    "Используем сочетательное свойство - сначала умножаем $(P^{-1})^T P^T$, чтобы воспользоваться свойством $(P^{-1})^T P^T = (PP^{-1})^{T} = E^T = E$:"
   ]
  },
  {
   "cell_type": "markdown",
   "metadata": {},
   "source": [
    "$$\n",
    "w' = P^{-1}(X^T X)^{-1} ((P^{-1})^T P^T) X^T y\n",
    "$$\n",
    "\n",
    "$$\n",
    "w' = P^{-1}(X^T X)^{-1}(PP^{-1})^T X^T y\n",
    "$$\n",
    "\n",
    "$$\n",
    "w' = P^{-1}(X^T X)^{-1} E^T X^T y\n",
    "$$\n",
    "\n",
    "$$\n",
    "w' = P^{-1}(X^T X)^{-1} E X^T y\n",
    "$$"
   ]
  },
  {
   "cell_type": "markdown",
   "metadata": {},
   "source": [
    "Используем сочетательное свойство - сначала умножаем $E X^T$, чтобы воспользоваться свойством $E X^T = X^T$:"
   ]
  },
  {
   "cell_type": "markdown",
   "metadata": {},
   "source": [
    "$$\n",
    "w' = P^{-1}(X^T X)^{-1} (E X^T) y\n",
    "$$\n",
    "\n",
    "$$\n",
    "w' = P^{-1}(X^T X)^{-1} X^T y\n",
    "$$"
   ]
  },
  {
   "cell_type": "markdown",
   "metadata": {},
   "source": [
    "Заметим, что в полученном выражении $(X^T X)^{-1} X^T y$ - это $w$ (из аналитического решения линейной регрессии в случае w), поэтому $w'$ можно выразить через $w$:"
   ]
  },
  {
   "cell_type": "markdown",
   "metadata": {},
   "source": [
    "$$\n",
    "w' = P^{-1}(X^T X)^{-1} X^T y\n",
    "$$\n",
    "\n",
    "$$\n",
    "w = (X^T X)^{-1} X^T y\n",
    "$$\n",
    "\n",
    "$$\n",
    "w' = P^{-1}((X^T X)^{-1} X^T y) = P^{-1} w\n",
    "$$"
   ]
  },
  {
   "cell_type": "markdown",
   "metadata": {},
   "source": [
    "Подставим полученное значение в формулу для $a'$:"
   ]
  },
  {
   "cell_type": "markdown",
   "metadata": {},
   "source": [
    "$$\n",
    "a' = XPw'\n",
    "$$\n",
    "\n",
    "$$\n",
    "w' = P^{-1} w\n",
    "$$\n",
    "\n",
    "$$\n",
    "a' = X P P^{-1} w\n",
    "$$\n",
    "\n",
    "$$\n",
    "a' = X (P P^{-1}) w\n",
    "$$\n",
    "\n",
    "$$\n",
    "a' = X E w\n",
    "$$\n",
    "\n",
    "$$\n",
    "a' = X w\n",
    "$$"
   ]
  },
  {
   "cell_type": "markdown",
   "metadata": {},
   "source": [
    "Полученное выражение равно формуле для $a$:"
   ]
  },
  {
   "cell_type": "markdown",
   "metadata": {},
   "source": [
    "$$\n",
    "a = X w\n",
    "$$\n",
    "\n",
    "$$\n",
    "a' = X w\n",
    "$$\n",
    "\n",
    "$$\n",
    "a = a'\n",
    "$$"
   ]
  },
  {
   "cell_type": "markdown",
   "metadata": {},
   "source": [
    "Что и требовалось доказать."
   ]
  },
  {
   "cell_type": "markdown",
   "metadata": {},
   "source": [
    "**Выводы**\n",
    "\n",
    "Из аналитического решения следует, что качество линейной регресии после преобразования признаков умножением на обратимую матрицу не должно изменится. На следующем этапе проверим это на практике."
   ]
  },
  {
   "cell_type": "markdown",
   "metadata": {},
   "source": [
    "## Алгоритм преобразования"
   ]
  },
  {
   "cell_type": "markdown",
   "metadata": {},
   "source": [
    "Для преобразования дотаточно будет умножить матрицу исходных признаков на случайную обратимую матрицу:"
   ]
  },
  {
   "cell_type": "markdown",
   "metadata": {},
   "source": [
    "$$\n",
    "X' = XP\n",
    "$$"
   ]
  },
  {
   "cell_type": "markdown",
   "metadata": {},
   "source": [
    "Тогда исходные значения признаков можно восстановить умножением на обратную матрицу:"
   ]
  },
  {
   "cell_type": "markdown",
   "metadata": {},
   "source": [
    "$$\n",
    "X = X' P^{-1} = XP P^{-1} = X(P P^{-1}) = X E = X\n",
    "$$"
   ]
  },
  {
   "cell_type": "markdown",
   "metadata": {},
   "source": [
    "## Проверка алгоритма"
   ]
  },
  {
   "cell_type": "markdown",
   "metadata": {},
   "source": [
    "Выделяем регрессоры и целевой признак, преобразуем в матрицу и в вектор:"
   ]
  },
  {
   "cell_type": "code",
   "execution_count": 34,
   "metadata": {},
   "outputs": [],
   "source": [
    "features = data.drop('insurance_payments', axis=1)\n",
    "target = data['insurance_payments']\n",
    "\n",
    "X = features.values\n",
    "y = target.values"
   ]
  },
  {
   "cell_type": "markdown",
   "metadata": {},
   "source": [
    "Напишем функцию для получения квадратной обратимой матрицы:"
   ]
  },
  {
   "cell_type": "code",
   "execution_count": 35,
   "metadata": {},
   "outputs": [],
   "source": [
    "def get_invertible_matrix(size):\n",
    "    np.random.seed(12345)\n",
    "    det = 0\n",
    "    # проверяем, чтобы определитель не был равен 0 - признак обратимости\n",
    "    while det == 0:\n",
    "        matrix = np.random.rand(size, size)\n",
    "        # находим определитель матрицы\n",
    "        det = np.linalg.det(matrix)\n",
    "        return matrix"
   ]
  },
  {
   "cell_type": "markdown",
   "metadata": {},
   "source": [
    "Вычисляем  квадратную матрицу:"
   ]
  },
  {
   "cell_type": "code",
   "execution_count": 36,
   "metadata": {},
   "outputs": [],
   "source": [
    "square_matrix = get_invertible_matrix(X.shape[1])"
   ]
  },
  {
   "cell_type": "markdown",
   "metadata": {},
   "source": [
    "Преобразуем признаки - умножаем их на обратимую матрицу:"
   ]
  },
  {
   "cell_type": "code",
   "execution_count": 37,
   "metadata": {},
   "outputs": [],
   "source": [
    "X_new = X.dot(square_matrix)"
   ]
  },
  {
   "cell_type": "markdown",
   "metadata": {},
   "source": [
    "Выделяем обучающий и тестовый набор данных для исходных и преобразованных признаков:"
   ]
  },
  {
   "cell_type": "code",
   "execution_count": 38,
   "metadata": {},
   "outputs": [],
   "source": [
    "X_train, X_test, y_train, y_test = train_test_split(X, y, test_size=0.33, random_state=12345)\n",
    "X_train_new, X_test_new, y_train, y_test = train_test_split(X_new, y, test_size=0.33, random_state=12345)"
   ]
  },
  {
   "cell_type": "markdown",
   "metadata": {},
   "source": [
    "Стандартизируем численные признаки:"
   ]
  },
  {
   "cell_type": "code",
   "execution_count": 39,
   "metadata": {},
   "outputs": [],
   "source": [
    "scaler = StandardScaler()\n",
    "scaler.fit(X_train)\n",
    "X_train = scaler.transform(X_train)\n",
    "X_test = scaler.transform(X_test)\n",
    "\n",
    "scaler.fit(X_train_new)\n",
    "X_train_new = scaler.transform(X_train_new)\n",
    "X_test_new = scaler.transform(X_test_new)"
   ]
  },
  {
   "cell_type": "markdown",
   "metadata": {},
   "source": [
    "Доказываем, что качество моделей не изменится на практике:"
   ]
  },
  {
   "cell_type": "markdown",
   "metadata": {},
   "source": [
    "Качество модели до преобразования признаков:"
   ]
  },
  {
   "cell_type": "code",
   "execution_count": 40,
   "metadata": {},
   "outputs": [
    {
     "name": "stdout",
     "output_type": "stream",
     "text": [
      "Значение метрики R2 для модели линейной регрессии до преобразования на обучающей выборке: 0.4277942580280493\n"
     ]
    }
   ],
   "source": [
    "model_lr = LinearRegression() # инициализация модели линейной регрессии\n",
    "scores = cross_val_score(model_lr, X, y, cv=5, scoring='r2') \n",
    "final_score = scores.mean()\n",
    "print('Значение метрики R2 для модели линейной регрессии до преобразования на обучающей выборке:', final_score)"
   ]
  },
  {
   "cell_type": "code",
   "execution_count": 41,
   "metadata": {},
   "outputs": [
    {
     "name": "stdout",
     "output_type": "stream",
     "text": [
      "R2 модели до преобразования признаков на тествой выборке 0.43460146736926875\n"
     ]
    }
   ],
   "source": [
    "model_lr = LinearRegression() # инициализация модели линейной регрессии\n",
    "model_lr.fit(X_train, y_train)\n",
    "predictions_test = model_lr.predict(X_test)\n",
    "\n",
    "score = r2_score(y_test, predictions_test)\n",
    "\n",
    "print('R2 модели до преобразования признаков на тествой выборке', score)"
   ]
  },
  {
   "cell_type": "markdown",
   "metadata": {},
   "source": [
    "Качество модели после преобразования признаков (умножения на обратимую матрицу):"
   ]
  },
  {
   "cell_type": "code",
   "execution_count": 42,
   "metadata": {},
   "outputs": [
    {
     "name": "stdout",
     "output_type": "stream",
     "text": [
      "Значение метрики R2 для модели линейной регрессии после преобразования на обучающей выборке: 0.42501725798126105\n"
     ]
    }
   ],
   "source": [
    "model_lr = LinearRegression() # инициализация модели линейной регрессии\n",
    "scores = cross_val_score(model_lr, X_train_new, y_train, cv=5, scoring='r2') \n",
    "final_score = scores.mean()\n",
    "print('Значение метрики R2 для модели линейной регрессии после преобразования на обучающей выборке:', final_score)"
   ]
  },
  {
   "cell_type": "code",
   "execution_count": 43,
   "metadata": {},
   "outputs": [
    {
     "name": "stdout",
     "output_type": "stream",
     "text": [
      "R2 модели после преобразования признаков на тествой выборке 0.4346014673689439\n"
     ]
    }
   ],
   "source": [
    "model_lr = LinearRegression() # инициализация модели линейной регрессии\n",
    "model_lr.fit(X_train_new, y_train)\n",
    "predictions_test = model_lr.predict(X_test_new)\n",
    "\n",
    "score = r2_score(y_test, predictions_test)\n",
    "\n",
    "print('R2 модели после преобразования признаков на тествой выборке', score)"
   ]
  },
  {
   "cell_type": "markdown",
   "metadata": {},
   "source": [
    "**Выводы**\n",
    "\n",
    "Качество линейной регресии после преобразования признаков умножением на обратимую матрицу практически не изменилось."
   ]
  },
  {
   "cell_type": "markdown",
   "metadata": {},
   "source": [
    "Проверим, что после умножения на обратную матрицу восстанавливаем исходные значения:"
   ]
  },
  {
   "cell_type": "code",
   "execution_count": 44,
   "metadata": {},
   "outputs": [
    {
     "data": {
      "text/plain": [
       "array([[ True,  True,  True,  True],\n",
       "       [ True,  True,  True,  True],\n",
       "       [ True,  True,  True,  True],\n",
       "       ...,\n",
       "       [ True,  True,  True,  True],\n",
       "       [ True,  True,  True,  True],\n",
       "       [ True,  True,  True,  True]])"
      ]
     },
     "execution_count": 44,
     "metadata": {},
     "output_type": "execute_result"
    }
   ],
   "source": [
    "np.isclose(X, X_new.dot(np.linalg.inv(square_matrix)))"
   ]
  },
  {
   "cell_type": "markdown",
   "metadata": {},
   "source": [
    "**Выводы**\n",
    "\n",
    "После уможения на обратную матрицу удаётся восстановить исходные значения признаков."
   ]
  }
 ],
 "metadata": {
  "ExecuteTimeLog": [
   {
    "duration": 394,
    "start_time": "2022-09-29T08:03:26.694Z"
   },
   {
    "duration": 85,
    "start_time": "2022-09-29T08:04:20.722Z"
   },
   {
    "duration": 19,
    "start_time": "2022-09-29T08:04:28.041Z"
   },
   {
    "duration": 5,
    "start_time": "2022-09-29T08:04:55.489Z"
   },
   {
    "duration": 36,
    "start_time": "2022-09-29T08:13:25.577Z"
   },
   {
    "duration": 8,
    "start_time": "2022-09-29T08:13:39.434Z"
   },
   {
    "duration": 6,
    "start_time": "2022-09-29T08:14:31.568Z"
   },
   {
    "duration": 6,
    "start_time": "2022-09-29T08:15:20.362Z"
   },
   {
    "duration": 71,
    "start_time": "2022-09-29T08:16:56.938Z"
   },
   {
    "duration": 7,
    "start_time": "2022-09-29T08:32:57.629Z"
   },
   {
    "duration": 3,
    "start_time": "2022-09-29T08:37:00.316Z"
   },
   {
    "duration": 4,
    "start_time": "2022-09-29T08:37:47.717Z"
   },
   {
    "duration": 11,
    "start_time": "2022-09-29T08:38:01.890Z"
   },
   {
    "duration": 4,
    "start_time": "2022-09-29T08:38:09.356Z"
   },
   {
    "duration": 5,
    "start_time": "2022-09-29T08:42:57.566Z"
   },
   {
    "duration": 2,
    "start_time": "2022-09-29T08:43:41.992Z"
   },
   {
    "duration": 40,
    "start_time": "2022-09-29T08:43:42.451Z"
   },
   {
    "duration": 8,
    "start_time": "2022-09-29T08:43:42.974Z"
   },
   {
    "duration": 6,
    "start_time": "2022-09-29T08:43:43.716Z"
   },
   {
    "duration": 6,
    "start_time": "2022-09-29T08:43:45.142Z"
   },
   {
    "duration": 4,
    "start_time": "2022-09-29T08:43:46.406Z"
   },
   {
    "duration": 5,
    "start_time": "2022-09-29T08:43:47.803Z"
   },
   {
    "duration": 5,
    "start_time": "2022-09-29T08:44:02.278Z"
   },
   {
    "duration": 3,
    "start_time": "2022-09-29T08:44:18.063Z"
   },
   {
    "duration": 5,
    "start_time": "2022-09-29T08:44:33.239Z"
   },
   {
    "duration": 5,
    "start_time": "2022-09-29T08:44:34.090Z"
   },
   {
    "duration": 3,
    "start_time": "2022-09-29T09:00:43.232Z"
   },
   {
    "duration": 34,
    "start_time": "2022-09-29T09:00:44.002Z"
   },
   {
    "duration": 8,
    "start_time": "2022-09-29T09:00:44.428Z"
   },
   {
    "duration": 6,
    "start_time": "2022-09-29T09:00:45.240Z"
   },
   {
    "duration": 6,
    "start_time": "2022-09-29T09:00:46.415Z"
   },
   {
    "duration": 4,
    "start_time": "2022-09-29T09:00:47.369Z"
   },
   {
    "duration": 4,
    "start_time": "2022-09-29T09:00:49.883Z"
   },
   {
    "duration": 129,
    "start_time": "2022-09-29T09:02:59.191Z"
   },
   {
    "duration": 649,
    "start_time": "2022-09-29T09:04:32.737Z"
   },
   {
    "duration": 4,
    "start_time": "2022-09-29T09:09:14.901Z"
   },
   {
    "duration": 3,
    "start_time": "2022-09-29T09:10:50.051Z"
   },
   {
    "duration": 45,
    "start_time": "2022-09-29T09:29:55.087Z"
   },
   {
    "duration": 3,
    "start_time": "2022-09-29T09:30:19.746Z"
   },
   {
    "duration": 35,
    "start_time": "2022-09-29T09:30:21.221Z"
   },
   {
    "duration": 8,
    "start_time": "2022-09-29T09:30:21.973Z"
   },
   {
    "duration": 6,
    "start_time": "2022-09-29T09:30:22.765Z"
   },
   {
    "duration": 6,
    "start_time": "2022-09-29T09:30:23.273Z"
   },
   {
    "duration": 4,
    "start_time": "2022-09-29T09:30:23.765Z"
   },
   {
    "duration": 4,
    "start_time": "2022-09-29T09:30:24.695Z"
   },
   {
    "duration": 3,
    "start_time": "2022-09-29T09:34:52.346Z"
   },
   {
    "duration": 4,
    "start_time": "2022-09-29T09:43:24.011Z"
   },
   {
    "duration": 6,
    "start_time": "2022-09-29T09:48:10.907Z"
   },
   {
    "duration": 115,
    "start_time": "2022-09-29T10:03:38.924Z"
   },
   {
    "duration": 3,
    "start_time": "2022-09-29T10:05:32.273Z"
   },
   {
    "duration": 43,
    "start_time": "2022-09-29T10:05:33.576Z"
   },
   {
    "duration": 10,
    "start_time": "2022-09-29T10:05:36.132Z"
   },
   {
    "duration": 7,
    "start_time": "2022-09-29T10:05:37.105Z"
   },
   {
    "duration": 5,
    "start_time": "2022-09-29T10:05:39.132Z"
   },
   {
    "duration": 4,
    "start_time": "2022-09-29T10:07:59.910Z"
   },
   {
    "duration": 39,
    "start_time": "2022-09-29T10:08:00.225Z"
   },
   {
    "duration": 12,
    "start_time": "2022-09-29T10:08:00.707Z"
   },
   {
    "duration": 7,
    "start_time": "2022-09-29T10:08:01.103Z"
   },
   {
    "duration": 6,
    "start_time": "2022-09-29T10:08:01.643Z"
   },
   {
    "duration": 5,
    "start_time": "2022-09-29T10:08:02.770Z"
   },
   {
    "duration": 6,
    "start_time": "2022-09-29T10:08:13.860Z"
   },
   {
    "duration": 7,
    "start_time": "2022-09-29T10:09:10.909Z"
   },
   {
    "duration": 4,
    "start_time": "2022-09-29T10:09:11.682Z"
   },
   {
    "duration": 5,
    "start_time": "2022-09-29T10:09:13.262Z"
   },
   {
    "duration": 113,
    "start_time": "2022-09-29T10:26:29.983Z"
   },
   {
    "duration": 1112,
    "start_time": "2022-10-09T10:06:36.389Z"
   },
   {
    "duration": 92,
    "start_time": "2022-10-09T10:06:37.503Z"
   },
   {
    "duration": 15,
    "start_time": "2022-10-09T10:06:37.596Z"
   },
   {
    "duration": 8,
    "start_time": "2022-10-09T10:06:38.584Z"
   },
   {
    "duration": 7,
    "start_time": "2022-10-09T10:06:39.140Z"
   },
   {
    "duration": 5,
    "start_time": "2022-10-09T10:06:39.626Z"
   },
   {
    "duration": 8,
    "start_time": "2022-10-09T10:06:40.296Z"
   },
   {
    "duration": 4,
    "start_time": "2022-10-09T10:06:40.777Z"
   },
   {
    "duration": 5,
    "start_time": "2022-10-09T10:06:48.717Z"
   },
   {
    "duration": 4,
    "start_time": "2022-10-09T10:06:49.620Z"
   },
   {
    "duration": 4,
    "start_time": "2022-10-09T10:15:22.330Z"
   },
   {
    "duration": 5,
    "start_time": "2022-10-09T10:27:16.160Z"
   },
   {
    "duration": 6,
    "start_time": "2022-10-09T10:27:26.774Z"
   },
   {
    "duration": 4,
    "start_time": "2022-10-09T10:33:47.289Z"
   },
   {
    "duration": 4,
    "start_time": "2022-10-09T10:37:28.759Z"
   },
   {
    "duration": 4,
    "start_time": "2022-10-09T10:37:48.775Z"
   },
   {
    "duration": 4,
    "start_time": "2022-10-09T10:39:00.920Z"
   },
   {
    "duration": 116,
    "start_time": "2022-10-09T10:39:06.925Z"
   },
   {
    "duration": 3,
    "start_time": "2022-10-09T10:39:30.923Z"
   },
   {
    "duration": 41,
    "start_time": "2022-10-09T10:39:31.663Z"
   },
   {
    "duration": 12,
    "start_time": "2022-10-09T10:39:32.080Z"
   },
   {
    "duration": 7,
    "start_time": "2022-10-09T10:39:32.489Z"
   },
   {
    "duration": 6,
    "start_time": "2022-10-09T10:39:32.925Z"
   },
   {
    "duration": 6,
    "start_time": "2022-10-09T10:39:33.388Z"
   },
   {
    "duration": 8,
    "start_time": "2022-10-09T10:39:33.869Z"
   },
   {
    "duration": 5,
    "start_time": "2022-10-09T10:39:34.556Z"
   },
   {
    "duration": 8,
    "start_time": "2022-10-09T10:39:36.149Z"
   },
   {
    "duration": 5,
    "start_time": "2022-10-09T10:39:40.852Z"
   },
   {
    "duration": 4,
    "start_time": "2022-10-09T10:41:07.655Z"
   },
   {
    "duration": 3,
    "start_time": "2022-10-09T10:41:08.668Z"
   },
   {
    "duration": 3,
    "start_time": "2022-10-09T10:41:09.488Z"
   },
   {
    "duration": 15,
    "start_time": "2022-10-09T10:41:12.555Z"
   },
   {
    "duration": 8,
    "start_time": "2022-10-09T10:51:58.812Z"
   },
   {
    "duration": 4,
    "start_time": "2022-10-09T10:52:24.183Z"
   },
   {
    "duration": 3,
    "start_time": "2022-10-09T10:52:32.428Z"
   },
   {
    "duration": 14,
    "start_time": "2022-10-09T10:52:41.764Z"
   },
   {
    "duration": 3,
    "start_time": "2022-10-09T10:56:53.096Z"
   },
   {
    "duration": 33,
    "start_time": "2022-10-09T10:56:53.497Z"
   },
   {
    "duration": 8,
    "start_time": "2022-10-09T10:56:53.893Z"
   },
   {
    "duration": 5,
    "start_time": "2022-10-09T10:56:54.265Z"
   },
   {
    "duration": 7,
    "start_time": "2022-10-09T10:56:54.611Z"
   },
   {
    "duration": 6,
    "start_time": "2022-10-09T10:56:54.936Z"
   },
   {
    "duration": 7,
    "start_time": "2022-10-09T10:56:55.319Z"
   },
   {
    "duration": 4,
    "start_time": "2022-10-09T10:56:55.692Z"
   },
   {
    "duration": 5,
    "start_time": "2022-10-09T10:57:03.889Z"
   },
   {
    "duration": 3,
    "start_time": "2022-10-09T10:58:49.361Z"
   },
   {
    "duration": 3,
    "start_time": "2022-10-09T10:58:49.993Z"
   },
   {
    "duration": 3,
    "start_time": "2022-10-09T10:59:21.516Z"
   },
   {
    "duration": 7,
    "start_time": "2022-10-09T10:59:26.185Z"
   },
   {
    "duration": 3,
    "start_time": "2022-10-09T10:59:33.385Z"
   },
   {
    "duration": 20,
    "start_time": "2022-10-09T10:59:33.800Z"
   },
   {
    "duration": 12,
    "start_time": "2022-10-09T10:59:44.285Z"
   },
   {
    "duration": 14,
    "start_time": "2022-10-09T11:00:03.915Z"
   },
   {
    "duration": 10,
    "start_time": "2022-10-09T11:00:28.766Z"
   },
   {
    "duration": 13,
    "start_time": "2022-10-09T11:00:35.260Z"
   },
   {
    "duration": 14,
    "start_time": "2022-10-09T11:02:21.448Z"
   },
   {
    "duration": 12,
    "start_time": "2022-10-09T11:02:25.365Z"
   },
   {
    "duration": 6,
    "start_time": "2022-10-09T11:05:54.072Z"
   },
   {
    "duration": 7,
    "start_time": "2022-10-09T11:06:14.897Z"
   },
   {
    "duration": 6,
    "start_time": "2022-10-09T11:08:13.839Z"
   },
   {
    "duration": 1170,
    "start_time": "2022-10-09T15:09:44.671Z"
   },
   {
    "duration": 84,
    "start_time": "2022-10-09T15:09:45.842Z"
   },
   {
    "duration": 14,
    "start_time": "2022-10-09T15:09:45.928Z"
   },
   {
    "duration": 9,
    "start_time": "2022-10-09T15:09:45.944Z"
   },
   {
    "duration": 5,
    "start_time": "2022-10-09T15:09:46.055Z"
   },
   {
    "duration": 4,
    "start_time": "2022-10-09T15:09:46.398Z"
   },
   {
    "duration": 6,
    "start_time": "2022-10-09T15:09:46.753Z"
   },
   {
    "duration": 4,
    "start_time": "2022-10-09T15:09:47.101Z"
   },
   {
    "duration": 5,
    "start_time": "2022-10-09T15:09:48.237Z"
   },
   {
    "duration": 3,
    "start_time": "2022-10-09T15:09:48.744Z"
   },
   {
    "duration": 3,
    "start_time": "2022-10-09T15:09:51.591Z"
   },
   {
    "duration": 5,
    "start_time": "2022-10-09T15:09:57.451Z"
   },
   {
    "duration": 3,
    "start_time": "2022-10-09T15:10:17.667Z"
   },
   {
    "duration": 3,
    "start_time": "2022-10-09T15:10:18.500Z"
   },
   {
    "duration": 5,
    "start_time": "2022-10-09T15:10:19.513Z"
   },
   {
    "duration": 15,
    "start_time": "2022-10-09T15:10:24.226Z"
   },
   {
    "duration": 15,
    "start_time": "2022-10-09T15:10:26.667Z"
   },
   {
    "duration": 95,
    "start_time": "2022-10-09T15:10:31.459Z"
   },
   {
    "duration": 6,
    "start_time": "2022-10-09T15:11:27.769Z"
   },
   {
    "duration": 5,
    "start_time": "2022-10-09T15:11:28.835Z"
   },
   {
    "duration": 59,
    "start_time": "2022-10-09T16:33:26.355Z"
   },
   {
    "duration": 47,
    "start_time": "2022-10-09T16:48:54.434Z"
   },
   {
    "duration": 53,
    "start_time": "2022-10-09T16:52:54.282Z"
   },
   {
    "duration": 4,
    "start_time": "2022-10-09T17:10:45.558Z"
   },
   {
    "duration": 3,
    "start_time": "2022-10-09T17:13:22.637Z"
   },
   {
    "duration": 55,
    "start_time": "2022-10-09T17:25:41.306Z"
   },
   {
    "duration": 52,
    "start_time": "2022-10-09T17:49:16.141Z"
   },
   {
    "duration": 51,
    "start_time": "2022-10-09T18:14:22.924Z"
   },
   {
    "duration": 3,
    "start_time": "2022-10-09T19:02:12.780Z"
   },
   {
    "duration": 35,
    "start_time": "2022-10-09T19:02:13.113Z"
   },
   {
    "duration": 8,
    "start_time": "2022-10-09T19:02:13.620Z"
   },
   {
    "duration": 6,
    "start_time": "2022-10-09T19:02:14.115Z"
   },
   {
    "duration": 6,
    "start_time": "2022-10-09T19:02:14.853Z"
   },
   {
    "duration": 6,
    "start_time": "2022-10-09T19:02:15.378Z"
   },
   {
    "duration": 8,
    "start_time": "2022-10-09T19:02:15.768Z"
   },
   {
    "duration": 3,
    "start_time": "2022-10-09T19:02:16.193Z"
   },
   {
    "duration": 4,
    "start_time": "2022-10-09T19:03:03.233Z"
   },
   {
    "duration": 4,
    "start_time": "2022-10-09T19:03:05.718Z"
   },
   {
    "duration": 4,
    "start_time": "2022-10-09T19:03:06.987Z"
   },
   {
    "duration": 2,
    "start_time": "2022-10-09T19:03:08.353Z"
   },
   {
    "duration": 5,
    "start_time": "2022-10-09T19:03:09.588Z"
   },
   {
    "duration": 4,
    "start_time": "2022-10-09T19:03:10.647Z"
   },
   {
    "duration": 13,
    "start_time": "2022-10-09T19:03:12.971Z"
   },
   {
    "duration": 7,
    "start_time": "2022-10-09T19:03:15.261Z"
   },
   {
    "duration": 13,
    "start_time": "2022-10-09T19:03:23.810Z"
   },
   {
    "duration": 6,
    "start_time": "2022-10-09T19:03:27.458Z"
   },
   {
    "duration": 50,
    "start_time": "2022-10-09T19:14:41.766Z"
   },
   {
    "duration": 9,
    "start_time": "2022-10-09T19:17:06.245Z"
   },
   {
    "duration": 4,
    "start_time": "2022-10-09T19:17:12.749Z"
   },
   {
    "duration": 5,
    "start_time": "2022-10-09T19:18:36.713Z"
   },
   {
    "duration": 5,
    "start_time": "2022-10-09T19:20:29.543Z"
   },
   {
    "duration": 3,
    "start_time": "2022-10-09T19:23:12.534Z"
   },
   {
    "duration": 34,
    "start_time": "2022-10-09T19:23:12.882Z"
   },
   {
    "duration": 9,
    "start_time": "2022-10-09T19:23:13.231Z"
   },
   {
    "duration": 6,
    "start_time": "2022-10-09T19:23:13.591Z"
   },
   {
    "duration": 6,
    "start_time": "2022-10-09T19:23:13.949Z"
   },
   {
    "duration": 5,
    "start_time": "2022-10-09T19:23:14.322Z"
   },
   {
    "duration": 7,
    "start_time": "2022-10-09T19:23:14.716Z"
   },
   {
    "duration": 4,
    "start_time": "2022-10-09T19:23:15.109Z"
   },
   {
    "duration": 4,
    "start_time": "2022-10-09T19:23:23.817Z"
   },
   {
    "duration": 4,
    "start_time": "2022-10-09T19:23:24.435Z"
   },
   {
    "duration": 3,
    "start_time": "2022-10-09T19:23:25.099Z"
   },
   {
    "duration": 3,
    "start_time": "2022-10-09T19:23:25.661Z"
   },
   {
    "duration": 6,
    "start_time": "2022-10-09T19:23:26.290Z"
   },
   {
    "duration": 7,
    "start_time": "2022-10-09T19:23:27.495Z"
   },
   {
    "duration": 15,
    "start_time": "2022-10-09T19:23:33.862Z"
   },
   {
    "duration": 6,
    "start_time": "2022-10-09T19:23:35.933Z"
   },
   {
    "duration": 21,
    "start_time": "2022-10-09T19:23:39.534Z"
   },
   {
    "duration": 7,
    "start_time": "2022-10-09T19:23:40.621Z"
   },
   {
    "duration": 6,
    "start_time": "2022-10-09T19:23:52.847Z"
   },
   {
    "duration": 6,
    "start_time": "2022-10-09T19:24:55.030Z"
   },
   {
    "duration": 6,
    "start_time": "2022-10-09T19:24:59.689Z"
   },
   {
    "duration": 6,
    "start_time": "2022-10-09T19:25:26.307Z"
   },
   {
    "duration": 6,
    "start_time": "2022-10-09T19:26:51.117Z"
   },
   {
    "duration": 1123,
    "start_time": "2022-10-10T09:10:43.609Z"
   },
   {
    "duration": 85,
    "start_time": "2022-10-10T09:10:44.734Z"
   },
   {
    "duration": 16,
    "start_time": "2022-10-10T09:10:44.821Z"
   },
   {
    "duration": 7,
    "start_time": "2022-10-10T09:10:44.840Z"
   },
   {
    "duration": 8,
    "start_time": "2022-10-10T09:10:45.167Z"
   },
   {
    "duration": 6,
    "start_time": "2022-10-10T09:10:47.470Z"
   },
   {
    "duration": 7,
    "start_time": "2022-10-10T09:10:48.409Z"
   },
   {
    "duration": 4,
    "start_time": "2022-10-10T09:10:48.896Z"
   },
   {
    "duration": 5,
    "start_time": "2022-10-10T09:11:14.622Z"
   },
   {
    "duration": 4,
    "start_time": "2022-10-10T09:11:14.987Z"
   },
   {
    "duration": 3,
    "start_time": "2022-10-10T09:11:15.674Z"
   },
   {
    "duration": 4,
    "start_time": "2022-10-10T09:11:17.717Z"
   },
   {
    "duration": 5,
    "start_time": "2022-10-10T09:11:19.080Z"
   },
   {
    "duration": 7,
    "start_time": "2022-10-10T09:11:20.960Z"
   },
   {
    "duration": 108,
    "start_time": "2022-10-10T09:11:44.601Z"
   },
   {
    "duration": 17,
    "start_time": "2022-10-10T09:17:45.425Z"
   },
   {
    "duration": 11,
    "start_time": "2022-10-10T09:18:14.770Z"
   },
   {
    "duration": 5,
    "start_time": "2022-10-10T09:18:45.594Z"
   },
   {
    "duration": 13,
    "start_time": "2022-10-10T09:19:11.447Z"
   },
   {
    "duration": 16,
    "start_time": "2022-10-10T09:25:16.118Z"
   },
   {
    "duration": 7,
    "start_time": "2022-10-10T09:26:23.501Z"
   },
   {
    "duration": 14,
    "start_time": "2022-10-10T09:26:33.651Z"
   },
   {
    "duration": 6,
    "start_time": "2022-10-10T09:26:35.446Z"
   },
   {
    "duration": 8,
    "start_time": "2022-10-10T09:26:55.642Z"
   },
   {
    "duration": 61,
    "start_time": "2022-10-10T10:02:08.461Z"
   },
   {
    "duration": 4,
    "start_time": "2022-10-10T10:03:59.968Z"
   },
   {
    "duration": 35,
    "start_time": "2022-10-10T10:04:00.318Z"
   },
   {
    "duration": 9,
    "start_time": "2022-10-10T10:04:00.795Z"
   },
   {
    "duration": 7,
    "start_time": "2022-10-10T10:04:01.349Z"
   },
   {
    "duration": 7,
    "start_time": "2022-10-10T10:04:01.874Z"
   },
   {
    "duration": 6,
    "start_time": "2022-10-10T10:04:03.078Z"
   },
   {
    "duration": 8,
    "start_time": "2022-10-10T10:04:03.876Z"
   },
   {
    "duration": 4,
    "start_time": "2022-10-10T10:04:04.620Z"
   },
   {
    "duration": 5,
    "start_time": "2022-10-10T10:04:20.805Z"
   },
   {
    "duration": 4,
    "start_time": "2022-10-10T10:04:21.753Z"
   },
   {
    "duration": 3,
    "start_time": "2022-10-10T10:04:22.925Z"
   },
   {
    "duration": 3,
    "start_time": "2022-10-10T10:04:23.687Z"
   },
   {
    "duration": 6,
    "start_time": "2022-10-10T10:04:24.623Z"
   },
   {
    "duration": 8,
    "start_time": "2022-10-10T10:04:25.211Z"
   },
   {
    "duration": 16,
    "start_time": "2022-10-10T10:04:26.439Z"
   },
   {
    "duration": 6,
    "start_time": "2022-10-10T10:04:33.845Z"
   },
   {
    "duration": 14,
    "start_time": "2022-10-10T10:04:34.651Z"
   },
   {
    "duration": 6,
    "start_time": "2022-10-10T10:04:35.200Z"
   },
   {
    "duration": 6,
    "start_time": "2022-10-10T10:04:44.863Z"
   }
  ],
  "kernelspec": {
   "display_name": "Python 3 (ipykernel)",
   "language": "python",
   "name": "python3"
  },
  "language_info": {
   "codemirror_mode": {
    "name": "ipython",
    "version": 3
   },
   "file_extension": ".py",
   "mimetype": "text/x-python",
   "name": "python",
   "nbconvert_exporter": "python",
   "pygments_lexer": "ipython3",
   "version": "3.9.12"
  },
  "toc": {
   "base_numbering": 1,
   "nav_menu": {},
   "number_sections": true,
   "sideBar": true,
   "skip_h1_title": true,
   "title_cell": "Содержание",
   "title_sidebar": "Contents",
   "toc_cell": true,
   "toc_position": {
    "height": "calc(100% - 180px)",
    "left": "10px",
    "top": "150px",
    "width": "164.988px"
   },
   "toc_section_display": true,
   "toc_window_display": true
  }
 },
 "nbformat": 4,
 "nbformat_minor": 2
}
