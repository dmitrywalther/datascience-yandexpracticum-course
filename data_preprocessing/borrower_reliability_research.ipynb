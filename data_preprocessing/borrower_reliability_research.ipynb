{
 "cells": [
  {
   "cell_type": "markdown",
   "id": "c81daeeb",
   "metadata": {
    "deletable": false,
    "id": "c81daeeb"
   },
   "source": [
    "# Исследование надежности заемщиков\n"
   ]
  },
  {
   "cell_type": "markdown",
   "id": "8c112a56",
   "metadata": {},
   "source": [
    "Нужно разобраться, какие параметры клиента влияют на факт погашения кредита в срок. Результаты исследования будут учтены при построении модели кредитного скоринга — специальной системы, которая оценивает способность потенциального заёмщика вернуть кредит банку.\n",
    "\n",
    "**Цель исследования** — проверить четыре гипотезы:\n",
    "1. Существует зависимость между количеством детей и возвратом кредита в срок;\n",
    "2. На возврат кредита в срок влияет семейное положение;\n",
    "3. На возврат кредита в срок влияет уровень доход;\n",
    "4. Разные цели кредита по разному влияют на его возврат в срок.\n",
    "\n",
    "**Ход исследования**\n",
    "\n",
    "Входные данные от банка — статистика о платёжеспособности клиентов. О качестве данных ничего не известно. Поэтому перед проверкой гипотез понадобится обзор данных. \n",
    "\n",
    "Проверив данные на ошибки, на этапе предобработки будем искать возможность исправить самые критичные из них.\n",
    " \n",
    "Таким образом, исследование пройдёт в три этапа:\n",
    " 1. Обзор данных;\n",
    " 2. Предобработка данных;\n",
    " 3. Проверка гипотез."
   ]
  },
  {
   "cell_type": "markdown",
   "id": "744d7639",
   "metadata": {
    "deletable": false,
    "id": "744d7639"
   },
   "source": [
    "## Откройте таблицу и изучите общую информацию о данных"
   ]
  },
  {
   "cell_type": "markdown",
   "id": "e7a14c31",
   "metadata": {
    "deletable": false,
    "id": "e7a14c31"
   },
   "source": [
    "**Задание 1. Импортируйте библиотеку pandas. Считайте данные из csv-файла в датафрейм и сохраните в переменную `data`. Путь к файлу:**\n",
    "\n",
    "`/datasets/data.csv`"
   ]
  },
  {
   "cell_type": "code",
   "execution_count": 2,
   "id": "7bcf75c9",
   "metadata": {
    "deletable": false,
    "id": "7bcf75c9"
   },
   "outputs": [],
   "source": [
    "import pandas as pd\n",
    "\n",
    "try:\n",
    "    data = pd.read_csv('/datasets/data.csv')\n",
    "except:\n",
    "    data = pd.read_csv('https://code.s3.yandex.net/datasets/data.csv')"
   ]
  },
  {
   "cell_type": "markdown",
   "id": "b8038fe3",
   "metadata": {
    "deletable": false,
    "id": "b8038fe3"
   },
   "source": [
    "**Задание 2. Выведите первые 20 строчек датафрейма `data` на экран.**"
   ]
  },
  {
   "cell_type": "code",
   "execution_count": 3,
   "id": "2a7cab99",
   "metadata": {
    "deletable": false,
    "id": "2a7cab99",
    "outputId": "1a8f3ef2-d323-4ec2-ddf7-89670b5944c4"
   },
   "outputs": [
    {
     "data": {
      "text/html": [
       "<div>\n",
       "<style scoped>\n",
       "    .dataframe tbody tr th:only-of-type {\n",
       "        vertical-align: middle;\n",
       "    }\n",
       "\n",
       "    .dataframe tbody tr th {\n",
       "        vertical-align: top;\n",
       "    }\n",
       "\n",
       "    .dataframe thead th {\n",
       "        text-align: right;\n",
       "    }\n",
       "</style>\n",
       "<table border=\"1\" class=\"dataframe\">\n",
       "  <thead>\n",
       "    <tr style=\"text-align: right;\">\n",
       "      <th></th>\n",
       "      <th>children</th>\n",
       "      <th>days_employed</th>\n",
       "      <th>dob_years</th>\n",
       "      <th>education</th>\n",
       "      <th>education_id</th>\n",
       "      <th>family_status</th>\n",
       "      <th>family_status_id</th>\n",
       "      <th>gender</th>\n",
       "      <th>income_type</th>\n",
       "      <th>debt</th>\n",
       "      <th>total_income</th>\n",
       "      <th>purpose</th>\n",
       "    </tr>\n",
       "  </thead>\n",
       "  <tbody>\n",
       "    <tr>\n",
       "      <th>0</th>\n",
       "      <td>1</td>\n",
       "      <td>-8437.673028</td>\n",
       "      <td>42</td>\n",
       "      <td>высшее</td>\n",
       "      <td>0</td>\n",
       "      <td>женат / замужем</td>\n",
       "      <td>0</td>\n",
       "      <td>F</td>\n",
       "      <td>сотрудник</td>\n",
       "      <td>0</td>\n",
       "      <td>253875.639453</td>\n",
       "      <td>покупка жилья</td>\n",
       "    </tr>\n",
       "    <tr>\n",
       "      <th>1</th>\n",
       "      <td>1</td>\n",
       "      <td>-4024.803754</td>\n",
       "      <td>36</td>\n",
       "      <td>среднее</td>\n",
       "      <td>1</td>\n",
       "      <td>женат / замужем</td>\n",
       "      <td>0</td>\n",
       "      <td>F</td>\n",
       "      <td>сотрудник</td>\n",
       "      <td>0</td>\n",
       "      <td>112080.014102</td>\n",
       "      <td>приобретение автомобиля</td>\n",
       "    </tr>\n",
       "    <tr>\n",
       "      <th>2</th>\n",
       "      <td>0</td>\n",
       "      <td>-5623.422610</td>\n",
       "      <td>33</td>\n",
       "      <td>Среднее</td>\n",
       "      <td>1</td>\n",
       "      <td>женат / замужем</td>\n",
       "      <td>0</td>\n",
       "      <td>M</td>\n",
       "      <td>сотрудник</td>\n",
       "      <td>0</td>\n",
       "      <td>145885.952297</td>\n",
       "      <td>покупка жилья</td>\n",
       "    </tr>\n",
       "    <tr>\n",
       "      <th>3</th>\n",
       "      <td>3</td>\n",
       "      <td>-4124.747207</td>\n",
       "      <td>32</td>\n",
       "      <td>среднее</td>\n",
       "      <td>1</td>\n",
       "      <td>женат / замужем</td>\n",
       "      <td>0</td>\n",
       "      <td>M</td>\n",
       "      <td>сотрудник</td>\n",
       "      <td>0</td>\n",
       "      <td>267628.550329</td>\n",
       "      <td>дополнительное образование</td>\n",
       "    </tr>\n",
       "    <tr>\n",
       "      <th>4</th>\n",
       "      <td>0</td>\n",
       "      <td>340266.072047</td>\n",
       "      <td>53</td>\n",
       "      <td>среднее</td>\n",
       "      <td>1</td>\n",
       "      <td>гражданский брак</td>\n",
       "      <td>1</td>\n",
       "      <td>F</td>\n",
       "      <td>пенсионер</td>\n",
       "      <td>0</td>\n",
       "      <td>158616.077870</td>\n",
       "      <td>сыграть свадьбу</td>\n",
       "    </tr>\n",
       "    <tr>\n",
       "      <th>5</th>\n",
       "      <td>0</td>\n",
       "      <td>-926.185831</td>\n",
       "      <td>27</td>\n",
       "      <td>высшее</td>\n",
       "      <td>0</td>\n",
       "      <td>гражданский брак</td>\n",
       "      <td>1</td>\n",
       "      <td>M</td>\n",
       "      <td>компаньон</td>\n",
       "      <td>0</td>\n",
       "      <td>255763.565419</td>\n",
       "      <td>покупка жилья</td>\n",
       "    </tr>\n",
       "    <tr>\n",
       "      <th>6</th>\n",
       "      <td>0</td>\n",
       "      <td>-2879.202052</td>\n",
       "      <td>43</td>\n",
       "      <td>высшее</td>\n",
       "      <td>0</td>\n",
       "      <td>женат / замужем</td>\n",
       "      <td>0</td>\n",
       "      <td>F</td>\n",
       "      <td>компаньон</td>\n",
       "      <td>0</td>\n",
       "      <td>240525.971920</td>\n",
       "      <td>операции с жильем</td>\n",
       "    </tr>\n",
       "    <tr>\n",
       "      <th>7</th>\n",
       "      <td>0</td>\n",
       "      <td>-152.779569</td>\n",
       "      <td>50</td>\n",
       "      <td>СРЕДНЕЕ</td>\n",
       "      <td>1</td>\n",
       "      <td>женат / замужем</td>\n",
       "      <td>0</td>\n",
       "      <td>M</td>\n",
       "      <td>сотрудник</td>\n",
       "      <td>0</td>\n",
       "      <td>135823.934197</td>\n",
       "      <td>образование</td>\n",
       "    </tr>\n",
       "    <tr>\n",
       "      <th>8</th>\n",
       "      <td>2</td>\n",
       "      <td>-6929.865299</td>\n",
       "      <td>35</td>\n",
       "      <td>ВЫСШЕЕ</td>\n",
       "      <td>0</td>\n",
       "      <td>гражданский брак</td>\n",
       "      <td>1</td>\n",
       "      <td>F</td>\n",
       "      <td>сотрудник</td>\n",
       "      <td>0</td>\n",
       "      <td>95856.832424</td>\n",
       "      <td>на проведение свадьбы</td>\n",
       "    </tr>\n",
       "    <tr>\n",
       "      <th>9</th>\n",
       "      <td>0</td>\n",
       "      <td>-2188.756445</td>\n",
       "      <td>41</td>\n",
       "      <td>среднее</td>\n",
       "      <td>1</td>\n",
       "      <td>женат / замужем</td>\n",
       "      <td>0</td>\n",
       "      <td>M</td>\n",
       "      <td>сотрудник</td>\n",
       "      <td>0</td>\n",
       "      <td>144425.938277</td>\n",
       "      <td>покупка жилья для семьи</td>\n",
       "    </tr>\n",
       "    <tr>\n",
       "      <th>10</th>\n",
       "      <td>2</td>\n",
       "      <td>-4171.483647</td>\n",
       "      <td>36</td>\n",
       "      <td>высшее</td>\n",
       "      <td>0</td>\n",
       "      <td>женат / замужем</td>\n",
       "      <td>0</td>\n",
       "      <td>M</td>\n",
       "      <td>компаньон</td>\n",
       "      <td>0</td>\n",
       "      <td>113943.491460</td>\n",
       "      <td>покупка недвижимости</td>\n",
       "    </tr>\n",
       "    <tr>\n",
       "      <th>11</th>\n",
       "      <td>0</td>\n",
       "      <td>-792.701887</td>\n",
       "      <td>40</td>\n",
       "      <td>среднее</td>\n",
       "      <td>1</td>\n",
       "      <td>женат / замужем</td>\n",
       "      <td>0</td>\n",
       "      <td>F</td>\n",
       "      <td>сотрудник</td>\n",
       "      <td>0</td>\n",
       "      <td>77069.234271</td>\n",
       "      <td>покупка коммерческой недвижимости</td>\n",
       "    </tr>\n",
       "    <tr>\n",
       "      <th>12</th>\n",
       "      <td>0</td>\n",
       "      <td>NaN</td>\n",
       "      <td>65</td>\n",
       "      <td>среднее</td>\n",
       "      <td>1</td>\n",
       "      <td>гражданский брак</td>\n",
       "      <td>1</td>\n",
       "      <td>M</td>\n",
       "      <td>пенсионер</td>\n",
       "      <td>0</td>\n",
       "      <td>NaN</td>\n",
       "      <td>сыграть свадьбу</td>\n",
       "    </tr>\n",
       "    <tr>\n",
       "      <th>13</th>\n",
       "      <td>0</td>\n",
       "      <td>-1846.641941</td>\n",
       "      <td>54</td>\n",
       "      <td>неоконченное высшее</td>\n",
       "      <td>2</td>\n",
       "      <td>женат / замужем</td>\n",
       "      <td>0</td>\n",
       "      <td>F</td>\n",
       "      <td>сотрудник</td>\n",
       "      <td>0</td>\n",
       "      <td>130458.228857</td>\n",
       "      <td>приобретение автомобиля</td>\n",
       "    </tr>\n",
       "    <tr>\n",
       "      <th>14</th>\n",
       "      <td>0</td>\n",
       "      <td>-1844.956182</td>\n",
       "      <td>56</td>\n",
       "      <td>высшее</td>\n",
       "      <td>0</td>\n",
       "      <td>гражданский брак</td>\n",
       "      <td>1</td>\n",
       "      <td>F</td>\n",
       "      <td>компаньон</td>\n",
       "      <td>1</td>\n",
       "      <td>165127.911772</td>\n",
       "      <td>покупка жилой недвижимости</td>\n",
       "    </tr>\n",
       "    <tr>\n",
       "      <th>15</th>\n",
       "      <td>1</td>\n",
       "      <td>-972.364419</td>\n",
       "      <td>26</td>\n",
       "      <td>среднее</td>\n",
       "      <td>1</td>\n",
       "      <td>женат / замужем</td>\n",
       "      <td>0</td>\n",
       "      <td>F</td>\n",
       "      <td>сотрудник</td>\n",
       "      <td>0</td>\n",
       "      <td>116820.904450</td>\n",
       "      <td>строительство собственной недвижимости</td>\n",
       "    </tr>\n",
       "    <tr>\n",
       "      <th>16</th>\n",
       "      <td>0</td>\n",
       "      <td>-1719.934226</td>\n",
       "      <td>35</td>\n",
       "      <td>среднее</td>\n",
       "      <td>1</td>\n",
       "      <td>женат / замужем</td>\n",
       "      <td>0</td>\n",
       "      <td>F</td>\n",
       "      <td>сотрудник</td>\n",
       "      <td>0</td>\n",
       "      <td>289202.704229</td>\n",
       "      <td>недвижимость</td>\n",
       "    </tr>\n",
       "    <tr>\n",
       "      <th>17</th>\n",
       "      <td>0</td>\n",
       "      <td>-2369.999720</td>\n",
       "      <td>33</td>\n",
       "      <td>высшее</td>\n",
       "      <td>0</td>\n",
       "      <td>гражданский брак</td>\n",
       "      <td>1</td>\n",
       "      <td>M</td>\n",
       "      <td>сотрудник</td>\n",
       "      <td>0</td>\n",
       "      <td>90410.586745</td>\n",
       "      <td>строительство недвижимости</td>\n",
       "    </tr>\n",
       "    <tr>\n",
       "      <th>18</th>\n",
       "      <td>0</td>\n",
       "      <td>400281.136913</td>\n",
       "      <td>53</td>\n",
       "      <td>среднее</td>\n",
       "      <td>1</td>\n",
       "      <td>вдовец / вдова</td>\n",
       "      <td>2</td>\n",
       "      <td>F</td>\n",
       "      <td>пенсионер</td>\n",
       "      <td>0</td>\n",
       "      <td>56823.777243</td>\n",
       "      <td>на покупку подержанного автомобиля</td>\n",
       "    </tr>\n",
       "    <tr>\n",
       "      <th>19</th>\n",
       "      <td>0</td>\n",
       "      <td>-10038.818549</td>\n",
       "      <td>48</td>\n",
       "      <td>СРЕДНЕЕ</td>\n",
       "      <td>1</td>\n",
       "      <td>в разводе</td>\n",
       "      <td>3</td>\n",
       "      <td>F</td>\n",
       "      <td>сотрудник</td>\n",
       "      <td>0</td>\n",
       "      <td>242831.107982</td>\n",
       "      <td>на покупку своего автомобиля</td>\n",
       "    </tr>\n",
       "  </tbody>\n",
       "</table>\n",
       "</div>"
      ],
      "text/plain": [
       "    children  days_employed  dob_years            education  education_id  \\\n",
       "0          1   -8437.673028         42               высшее             0   \n",
       "1          1   -4024.803754         36              среднее             1   \n",
       "2          0   -5623.422610         33              Среднее             1   \n",
       "3          3   -4124.747207         32              среднее             1   \n",
       "4          0  340266.072047         53              среднее             1   \n",
       "5          0    -926.185831         27               высшее             0   \n",
       "6          0   -2879.202052         43               высшее             0   \n",
       "7          0    -152.779569         50              СРЕДНЕЕ             1   \n",
       "8          2   -6929.865299         35               ВЫСШЕЕ             0   \n",
       "9          0   -2188.756445         41              среднее             1   \n",
       "10         2   -4171.483647         36               высшее             0   \n",
       "11         0    -792.701887         40              среднее             1   \n",
       "12         0            NaN         65              среднее             1   \n",
       "13         0   -1846.641941         54  неоконченное высшее             2   \n",
       "14         0   -1844.956182         56               высшее             0   \n",
       "15         1    -972.364419         26              среднее             1   \n",
       "16         0   -1719.934226         35              среднее             1   \n",
       "17         0   -2369.999720         33               высшее             0   \n",
       "18         0  400281.136913         53              среднее             1   \n",
       "19         0  -10038.818549         48              СРЕДНЕЕ             1   \n",
       "\n",
       "       family_status  family_status_id gender income_type  debt  \\\n",
       "0    женат / замужем                 0      F   сотрудник     0   \n",
       "1    женат / замужем                 0      F   сотрудник     0   \n",
       "2    женат / замужем                 0      M   сотрудник     0   \n",
       "3    женат / замужем                 0      M   сотрудник     0   \n",
       "4   гражданский брак                 1      F   пенсионер     0   \n",
       "5   гражданский брак                 1      M   компаньон     0   \n",
       "6    женат / замужем                 0      F   компаньон     0   \n",
       "7    женат / замужем                 0      M   сотрудник     0   \n",
       "8   гражданский брак                 1      F   сотрудник     0   \n",
       "9    женат / замужем                 0      M   сотрудник     0   \n",
       "10   женат / замужем                 0      M   компаньон     0   \n",
       "11   женат / замужем                 0      F   сотрудник     0   \n",
       "12  гражданский брак                 1      M   пенсионер     0   \n",
       "13   женат / замужем                 0      F   сотрудник     0   \n",
       "14  гражданский брак                 1      F   компаньон     1   \n",
       "15   женат / замужем                 0      F   сотрудник     0   \n",
       "16   женат / замужем                 0      F   сотрудник     0   \n",
       "17  гражданский брак                 1      M   сотрудник     0   \n",
       "18    вдовец / вдова                 2      F   пенсионер     0   \n",
       "19         в разводе                 3      F   сотрудник     0   \n",
       "\n",
       "     total_income                                 purpose  \n",
       "0   253875.639453                           покупка жилья  \n",
       "1   112080.014102                 приобретение автомобиля  \n",
       "2   145885.952297                           покупка жилья  \n",
       "3   267628.550329              дополнительное образование  \n",
       "4   158616.077870                         сыграть свадьбу  \n",
       "5   255763.565419                           покупка жилья  \n",
       "6   240525.971920                       операции с жильем  \n",
       "7   135823.934197                             образование  \n",
       "8    95856.832424                   на проведение свадьбы  \n",
       "9   144425.938277                 покупка жилья для семьи  \n",
       "10  113943.491460                    покупка недвижимости  \n",
       "11   77069.234271       покупка коммерческой недвижимости  \n",
       "12            NaN                         сыграть свадьбу  \n",
       "13  130458.228857                 приобретение автомобиля  \n",
       "14  165127.911772              покупка жилой недвижимости  \n",
       "15  116820.904450  строительство собственной недвижимости  \n",
       "16  289202.704229                            недвижимость  \n",
       "17   90410.586745              строительство недвижимости  \n",
       "18   56823.777243      на покупку подержанного автомобиля  \n",
       "19  242831.107982            на покупку своего автомобиля  "
      ]
     },
     "execution_count": 3,
     "metadata": {},
     "output_type": "execute_result"
    }
   ],
   "source": [
    "data.head(20)"
   ]
  },
  {
   "cell_type": "markdown",
   "id": "1c12e233",
   "metadata": {
    "deletable": false,
    "id": "1c12e233"
   },
   "source": [
    "**Задание 3. Выведите основную информацию о датафрейме с помощью метода `info()`.**"
   ]
  },
  {
   "cell_type": "code",
   "execution_count": 4,
   "id": "2b757bca",
   "metadata": {
    "deletable": false,
    "id": "2b757bca",
    "outputId": "15376089-8dad-46c9-b520-c05248d43158",
    "scrolled": true
   },
   "outputs": [
    {
     "name": "stdout",
     "output_type": "stream",
     "text": [
      "<class 'pandas.core.frame.DataFrame'>\n",
      "RangeIndex: 21525 entries, 0 to 21524\n",
      "Data columns (total 12 columns):\n",
      " #   Column            Non-Null Count  Dtype  \n",
      "---  ------            --------------  -----  \n",
      " 0   children          21525 non-null  int64  \n",
      " 1   days_employed     19351 non-null  float64\n",
      " 2   dob_years         21525 non-null  int64  \n",
      " 3   education         21525 non-null  object \n",
      " 4   education_id      21525 non-null  int64  \n",
      " 5   family_status     21525 non-null  object \n",
      " 6   family_status_id  21525 non-null  int64  \n",
      " 7   gender            21525 non-null  object \n",
      " 8   income_type       21525 non-null  object \n",
      " 9   debt              21525 non-null  int64  \n",
      " 10  total_income      19351 non-null  float64\n",
      " 11  purpose           21525 non-null  object \n",
      "dtypes: float64(2), int64(5), object(5)\n",
      "memory usage: 2.0+ MB\n"
     ]
    }
   ],
   "source": [
    "data.info()"
   ]
  },
  {
   "cell_type": "markdown",
   "id": "b5b5825f",
   "metadata": {},
   "source": [
    "**Выводы**\n",
    "\n",
    "Итак, в таблице 21 525 записей и 12 столбцов. Предварительно можно утверждать, что, данных достаточно для проверки гипотез. Однако количество значений в столбцах различается - значит, в данных есть пропущенные значения. \n",
    "\n",
    "Чтобы двигаться дальше, нужно устранить проблемы в данных."
   ]
  },
  {
   "cell_type": "markdown",
   "id": "333ec665",
   "metadata": {
    "deletable": false,
    "id": "333ec665"
   },
   "source": [
    "## Предобработка данных"
   ]
  },
  {
   "cell_type": "markdown",
   "id": "02d92d53",
   "metadata": {
    "deletable": false,
    "id": "02d92d53"
   },
   "source": [
    "### Удаление пропусков"
   ]
  },
  {
   "cell_type": "markdown",
   "id": "cd84967c",
   "metadata": {
    "deletable": false,
    "id": "cd84967c"
   },
   "source": [
    "**Задание 4. Выведите количество пропущенных значений для каждого столбца. Используйте комбинацию двух методов.**"
   ]
  },
  {
   "cell_type": "code",
   "execution_count": 5,
   "id": "7f9b2309",
   "metadata": {
    "deletable": false,
    "id": "7f9b2309",
    "outputId": "81f4d817-781c-465c-ed15-91ce4446810d",
    "scrolled": true
   },
   "outputs": [
    {
     "data": {
      "text/plain": [
       "children               0\n",
       "days_employed       2174\n",
       "dob_years              0\n",
       "education              0\n",
       "education_id           0\n",
       "family_status          0\n",
       "family_status_id       0\n",
       "gender                 0\n",
       "income_type            0\n",
       "debt                   0\n",
       "total_income        2174\n",
       "purpose                0\n",
       "dtype: int64"
      ]
     },
     "execution_count": 5,
     "metadata": {},
     "output_type": "execute_result"
    }
   ],
   "source": [
    "data.isna().sum()"
   ]
  },
  {
   "cell_type": "markdown",
   "id": "db86e27b",
   "metadata": {
    "deletable": false,
    "id": "db86e27b"
   },
   "source": [
    "**Задание 5. В двух столбцах есть пропущенные значения. Один из них — `days_employed`. Пропуски в этом столбце вы обработаете на следующем этапе. Другой столбец с пропущенными значениями — `total_income` — хранит данные о доходах. На сумму дохода сильнее всего влияет тип занятости, поэтому заполнить пропуски в этом столбце нужно медианным значением по каждому типу из столбца `income_type`. Например, у человека с типом занятости `сотрудник` пропуск в столбце `total_income` должен быть заполнен медианным доходом среди всех записей с тем же типом.**"
   ]
  },
  {
   "cell_type": "code",
   "execution_count": 6,
   "id": "42006a93",
   "metadata": {
    "deletable": false,
    "id": "42006a93"
   },
   "outputs": [],
   "source": [
    "for t in data['income_type'].unique():\n",
    "    data.loc[(data['income_type'] == t) & (data['total_income'].isna()), 'total_income'] = \\\n",
    "    data.loc[(data['income_type'] == t), 'total_income'].median()"
   ]
  },
  {
   "cell_type": "code",
   "execution_count": 7,
   "id": "f3fae3b2",
   "metadata": {},
   "outputs": [
    {
     "data": {
      "text/plain": [
       "children               0\n",
       "days_employed       2174\n",
       "dob_years              0\n",
       "education              0\n",
       "education_id           0\n",
       "family_status          0\n",
       "family_status_id       0\n",
       "gender                 0\n",
       "income_type            0\n",
       "debt                   0\n",
       "total_income           0\n",
       "purpose                0\n",
       "dtype: int64"
      ]
     },
     "execution_count": 7,
     "metadata": {},
     "output_type": "execute_result"
    }
   ],
   "source": [
    "# Проверим результат - убедимся, что пропуски в столбце 'total_income' теперь отсутствуют \n",
    "data.isna().sum()"
   ]
  },
  {
   "cell_type": "markdown",
   "id": "89da5ece",
   "metadata": {
    "deletable": false,
    "id": "89da5ece"
   },
   "source": [
    "### Обработка аномальных значений"
   ]
  },
  {
   "cell_type": "markdown",
   "id": "57964554",
   "metadata": {
    "deletable": false,
    "id": "57964554"
   },
   "source": [
    "**Задание 6. В данных могут встречаться артефакты (аномалии) — значения, которые не отражают действительность и появились по какой-то ошибке. таким артефактом будет отрицательное количество дней трудового стажа в столбце `days_employed`. Для реальных данных это нормально. Обработайте значения в этом столбце: замените все отрицательные значения положительными с помощью метода `abs()`.**"
   ]
  },
  {
   "cell_type": "code",
   "execution_count": 8,
   "id": "f6f055bf",
   "metadata": {
    "deletable": false,
    "id": "f6f055bf"
   },
   "outputs": [],
   "source": [
    "data['days_employed'] = data['days_employed'].abs()"
   ]
  },
  {
   "cell_type": "markdown",
   "id": "6107dd2f",
   "metadata": {
    "deletable": false,
    "id": "6107dd2f"
   },
   "source": [
    "**Задание 7. Для каждого типа занятости выведите медианное значение трудового стажа `days_employed` в днях.**"
   ]
  },
  {
   "cell_type": "code",
   "execution_count": 8,
   "id": "85a5faf6",
   "metadata": {
    "deletable": false,
    "id": "85a5faf6",
    "outputId": "801ef80e-522b-4668-f34e-565af7432bcf"
   },
   "outputs": [
    {
     "data": {
      "text/plain": [
       "income_type\n",
       "безработный        366413.652744\n",
       "в декрете            3296.759962\n",
       "госслужащий          2689.368353\n",
       "компаньон            1547.382223\n",
       "пенсионер          365213.306266\n",
       "предприниматель       520.848083\n",
       "сотрудник            1574.202821\n",
       "студент               578.751554\n",
       "Name: days_employed, dtype: float64"
      ]
     },
     "execution_count": 8,
     "metadata": {},
     "output_type": "execute_result"
    }
   ],
   "source": [
    "data.groupby('income_type')['days_employed'].agg('median')"
   ]
  },
  {
   "cell_type": "markdown",
   "id": "38d1a030",
   "metadata": {
    "deletable": false,
    "id": "38d1a030"
   },
   "source": [
    "У двух типов (безработные и пенсионеры) получатся аномально большие значения. Исправить такие значения сложно, поэтому оставьте их как есть. Тем более этот столбец не понадобится вам для исследования."
   ]
  },
  {
   "cell_type": "markdown",
   "id": "d8a9f147",
   "metadata": {
    "deletable": false,
    "id": "d8a9f147"
   },
   "source": [
    "**Задание 8. Выведите перечень уникальных значений столбца `children`.**"
   ]
  },
  {
   "cell_type": "code",
   "execution_count": 9,
   "id": "ef5056eb",
   "metadata": {
    "deletable": false,
    "id": "ef5056eb",
    "outputId": "6975b15c-7f95-4697-d16d-a0c79b657b03"
   },
   "outputs": [
    {
     "data": {
      "text/plain": [
       "array([ 1,  0,  3,  2, -1,  4, 20,  5])"
      ]
     },
     "execution_count": 9,
     "metadata": {},
     "output_type": "execute_result"
    }
   ],
   "source": [
    "data['children'].unique()"
   ]
  },
  {
   "cell_type": "markdown",
   "id": "40b9ebf2",
   "metadata": {
    "deletable": false,
    "id": "40b9ebf2"
   },
   "source": [
    "**Задание 9. В столбце `children` есть два аномальных значения. Удалите строки, в которых встречаются такие аномальные значения из датафрейма `data`.**"
   ]
  },
  {
   "cell_type": "code",
   "execution_count": 10,
   "id": "3ff9801d",
   "metadata": {
    "deletable": false,
    "id": "3ff9801d"
   },
   "outputs": [],
   "source": [
    "data = data[(data['children'] != -1) & (data['children'] != 20)]"
   ]
  },
  {
   "cell_type": "markdown",
   "id": "bbc4d0ce",
   "metadata": {
    "deletable": false,
    "id": "bbc4d0ce"
   },
   "source": [
    "**Задание 10. Ещё раз выведите перечень уникальных значений столбца `children`, чтобы убедиться, что артефакты удалены.**"
   ]
  },
  {
   "cell_type": "code",
   "execution_count": 11,
   "id": "ad4fa8b7",
   "metadata": {
    "deletable": false,
    "id": "ad4fa8b7",
    "outputId": "b2097101-d49d-44d9-901b-32a65c9463d1"
   },
   "outputs": [
    {
     "data": {
      "text/plain": [
       "array([1, 0, 3, 2, 4, 5])"
      ]
     },
     "execution_count": 11,
     "metadata": {},
     "output_type": "execute_result"
    }
   ],
   "source": [
    "data['children'].unique()"
   ]
  },
  {
   "cell_type": "markdown",
   "id": "75440b63",
   "metadata": {
    "deletable": false,
    "id": "75440b63"
   },
   "source": [
    "### Удаление пропусков (продолжение)"
   ]
  },
  {
   "cell_type": "markdown",
   "id": "f4ea573f",
   "metadata": {
    "deletable": false,
    "id": "f4ea573f"
   },
   "source": [
    "**Задание 11. Заполните пропуски в столбце `days_employed` медианными значениями по каждого типа занятости `income_type`.**"
   ]
  },
  {
   "cell_type": "code",
   "execution_count": 12,
   "id": "af6b1a7e",
   "metadata": {
    "deletable": false,
    "id": "af6b1a7e"
   },
   "outputs": [],
   "source": [
    "for t in data['income_type'].unique():\n",
    "    data.loc[(data['income_type'] == t) & (data['days_employed'].isna()), 'days_employed'] = \\\n",
    "    data.loc[(data['income_type'] == t), 'days_employed'].median()"
   ]
  },
  {
   "cell_type": "markdown",
   "id": "2753f40d",
   "metadata": {
    "deletable": false,
    "id": "2753f40d"
   },
   "source": [
    "**Задание 12. Убедитесь, что все пропуски заполнены. Проверьте себя и ещё раз выведите количество пропущенных значений для каждого столбца с помощью двух методов.**"
   ]
  },
  {
   "cell_type": "code",
   "execution_count": 13,
   "id": "55f78bc2",
   "metadata": {
    "deletable": false,
    "id": "55f78bc2",
    "outputId": "8da1e4e1-358e-4e87-98c9-f261bce0a7b2",
    "scrolled": true
   },
   "outputs": [
    {
     "data": {
      "text/plain": [
       "children            0\n",
       "days_employed       0\n",
       "dob_years           0\n",
       "education           0\n",
       "education_id        0\n",
       "family_status       0\n",
       "family_status_id    0\n",
       "gender              0\n",
       "income_type         0\n",
       "debt                0\n",
       "total_income        0\n",
       "purpose             0\n",
       "dtype: int64"
      ]
     },
     "execution_count": 13,
     "metadata": {},
     "output_type": "execute_result"
    }
   ],
   "source": [
    "data.isna().sum()"
   ]
  },
  {
   "cell_type": "markdown",
   "id": "ddc81e43",
   "metadata": {
    "deletable": false,
    "id": "ddc81e43"
   },
   "source": [
    "### Изменение типов данных"
   ]
  },
  {
   "cell_type": "markdown",
   "id": "42d19d24",
   "metadata": {
    "deletable": false,
    "id": "42d19d24"
   },
   "source": [
    "**Задание 13. Замените вещественный тип данных в столбце `total_income` на целочисленный с помощью метода `astype()`.**"
   ]
  },
  {
   "cell_type": "code",
   "execution_count": 14,
   "id": "920b65ad",
   "metadata": {
    "deletable": false,
    "id": "920b65ad"
   },
   "outputs": [],
   "source": [
    "data['total_income'] = data['total_income'].astype(int)"
   ]
  },
  {
   "cell_type": "code",
   "execution_count": 15,
   "id": "ed846b85",
   "metadata": {},
   "outputs": [
    {
     "data": {
      "text/plain": [
       "dtype('int64')"
      ]
     },
     "execution_count": 15,
     "metadata": {},
     "output_type": "execute_result"
    }
   ],
   "source": [
    "# Проверим результат - выведем тип поля 'total_income'\n",
    "data['total_income'].dtypes"
   ]
  },
  {
   "cell_type": "markdown",
   "id": "80c420ba",
   "metadata": {
    "deletable": false,
    "id": "80c420ba"
   },
   "source": [
    "### Обработка дубликатов"
   ]
  },
  {
   "cell_type": "markdown",
   "id": "dc587695",
   "metadata": {
    "deletable": false,
    "id": "dc587695"
   },
   "source": [
    "**Задание 14. Выведите на экран количество строк-дубликатов в данных. Если такие строки присутствуют, удалите их.**"
   ]
  },
  {
   "cell_type": "code",
   "execution_count": 16,
   "id": "3ee445e4",
   "metadata": {
    "deletable": false,
    "id": "3ee445e4",
    "outputId": "9684deba-1934-42d1-99e1-cda61740f822"
   },
   "outputs": [
    {
     "data": {
      "text/plain": [
       "54"
      ]
     },
     "execution_count": 16,
     "metadata": {},
     "output_type": "execute_result"
    }
   ],
   "source": [
    "data.duplicated().sum()"
   ]
  },
  {
   "cell_type": "code",
   "execution_count": 17,
   "id": "8575fe05",
   "metadata": {
    "deletable": false,
    "id": "8575fe05"
   },
   "outputs": [],
   "source": [
    "data = data.drop_duplicates()"
   ]
  },
  {
   "cell_type": "markdown",
   "id": "9771a76c",
   "metadata": {
    "deletable": false,
    "id": "9771a76c"
   },
   "source": [
    "**Задание 15. Обработайте неявные дубликаты в столбце `education`. В этом столбце есть одни и те же значения, но записанные по-разному: с использованием заглавных и строчных букв. Приведите их к нижнему регистру. Проверьте остальные столбцы.**"
   ]
  },
  {
   "cell_type": "code",
   "execution_count": 18,
   "id": "a9f8e2bf",
   "metadata": {
    "deletable": false,
    "id": "a9f8e2bf"
   },
   "outputs": [],
   "source": [
    "data['education'] = data['education'].str.lower()"
   ]
  },
  {
   "cell_type": "markdown",
   "id": "9904cf55",
   "metadata": {
    "deletable": false,
    "id": "9904cf55"
   },
   "source": [
    "### Категоризация данных"
   ]
  },
  {
   "cell_type": "markdown",
   "id": "72fcc8a2",
   "metadata": {
    "deletable": false,
    "id": "72fcc8a2"
   },
   "source": [
    "**Задание 16. На основании диапазонов, указанных ниже, создайте в датафрейме `data` столбец `total_income_category` с категориями:**\n",
    "\n",
    "- 0–30000 — `'E'`;\n",
    "- 30001–50000 — `'D'`;\n",
    "- 50001–200000 — `'C'`;\n",
    "- 200001–1000000 — `'B'`;\n",
    "- 1000001 и выше — `'A'`.\n",
    "\n",
    "\n",
    "**Например, кредитополучателю с доходом 25000 нужно назначить категорию `'E'`, а клиенту, получающему 235000, — `'B'`. Используйте собственную функцию с именем `categorize_income()` и метод `apply()`.**"
   ]
  },
  {
   "cell_type": "code",
   "execution_count": 19,
   "id": "e1771346",
   "metadata": {
    "deletable": false,
    "id": "e1771346"
   },
   "outputs": [],
   "source": [
    "def categorize_income(income):\n",
    "    try:\n",
    "        if 0 <= income <= 30000:\n",
    "            return 'E'\n",
    "        elif 30001 <= income <= 50000:\n",
    "            return 'D'\n",
    "        elif 50001 <= income <= 200000:\n",
    "            return 'C'\n",
    "        elif 200001 <= income <= 1000000:\n",
    "            return 'B'\n",
    "        elif income >= 1000001:\n",
    "            return 'A'\n",
    "    except:\n",
    "        pass"
   ]
  },
  {
   "cell_type": "code",
   "execution_count": 20,
   "id": "d5f3586d",
   "metadata": {
    "deletable": false,
    "id": "d5f3586d"
   },
   "outputs": [],
   "source": [
    "data['total_income_category'] = data['total_income'].apply(categorize_income)"
   ]
  },
  {
   "cell_type": "markdown",
   "id": "dde49b5c",
   "metadata": {
    "deletable": false,
    "id": "dde49b5c"
   },
   "source": [
    "**Задание 17. Выведите на экран перечень уникальных целей взятия кредита из столбца `purpose`.**"
   ]
  },
  {
   "cell_type": "code",
   "execution_count": 21,
   "id": "f67ce9b3",
   "metadata": {
    "deletable": false,
    "id": "f67ce9b3",
    "outputId": "673c12d9-7d7e-4ae0-9812-c622c89dd244"
   },
   "outputs": [
    {
     "data": {
      "text/plain": [
       "array(['покупка жилья', 'приобретение автомобиля',\n",
       "       'дополнительное образование', 'сыграть свадьбу',\n",
       "       'операции с жильем', 'образование', 'на проведение свадьбы',\n",
       "       'покупка жилья для семьи', 'покупка недвижимости',\n",
       "       'покупка коммерческой недвижимости', 'покупка жилой недвижимости',\n",
       "       'строительство собственной недвижимости', 'недвижимость',\n",
       "       'строительство недвижимости', 'на покупку подержанного автомобиля',\n",
       "       'на покупку своего автомобиля',\n",
       "       'операции с коммерческой недвижимостью',\n",
       "       'строительство жилой недвижимости', 'жилье',\n",
       "       'операции со своей недвижимостью', 'автомобили',\n",
       "       'заняться образованием', 'сделка с подержанным автомобилем',\n",
       "       'получение образования', 'автомобиль', 'свадьба',\n",
       "       'получение дополнительного образования', 'покупка своего жилья',\n",
       "       'операции с недвижимостью', 'получение высшего образования',\n",
       "       'свой автомобиль', 'сделка с автомобилем',\n",
       "       'профильное образование', 'высшее образование',\n",
       "       'покупка жилья для сдачи', 'на покупку автомобиля', 'ремонт жилью',\n",
       "       'заняться высшим образованием'], dtype=object)"
      ]
     },
     "execution_count": 21,
     "metadata": {},
     "output_type": "execute_result"
    }
   ],
   "source": [
    "data['purpose'].unique()"
   ]
  },
  {
   "cell_type": "markdown",
   "id": "85d0aef0",
   "metadata": {
    "deletable": false,
    "id": "85d0aef0"
   },
   "source": [
    "**Задание 18. Создайте функцию, которая на основании данных из столбца `purpose` сформирует новый столбец `purpose_category`, в который войдут следующие категории:**\n",
    "\n",
    "- `'операции с автомобилем'`,\n",
    "- `'операции с недвижимостью'`,\n",
    "- `'проведение свадьбы'`,\n",
    "- `'получение образования'`.\n",
    "\n",
    "**Например, если в столбце `purpose` находится подстрока `'на покупку автомобиля'`, то в столбце `purpose_category` должна появиться строка `'операции с автомобилем'`.**\n",
    "\n",
    "**Используйте собственную функцию с именем `categorize_purpose()` и метод `apply()`. Изучите данные в столбце `purpose` и определите, какие подстроки помогут вам правильно определить категорию.**"
   ]
  },
  {
   "cell_type": "code",
   "execution_count": 22,
   "id": "e149fab4",
   "metadata": {
    "deletable": false,
    "id": "e149fab4"
   },
   "outputs": [],
   "source": [
    "def categorize_purpose(row):\n",
    "    try:\n",
    "        if 'автом' in row:\n",
    "            return 'операции с автомобилем'\n",
    "        elif 'жил' in row or 'недвиж' in row:\n",
    "            return 'операции с недвижимостью'\n",
    "        elif 'свад' in row:\n",
    "            return 'проведение свадьбы'\n",
    "        elif 'образов' in row:\n",
    "            return 'получение образования'\n",
    "    except:\n",
    "        return 'нет категории'"
   ]
  },
  {
   "cell_type": "code",
   "execution_count": 23,
   "id": "bf36e69b",
   "metadata": {
    "deletable": false,
    "id": "bf36e69b"
   },
   "outputs": [],
   "source": [
    "data['purpose_category'] = data['purpose'].apply(categorize_purpose)"
   ]
  },
  {
   "cell_type": "markdown",
   "id": "e76ca244",
   "metadata": {},
   "source": [
    "**Выводы**\n",
    "\n",
    "Предобработка данных включала в себя:\n",
    "\n",
    "- заполнение пропущенных значений в столбцах `total_income` и `days_employed`,\n",
    "- обработку аномальных значений столбца `children`,\n",
    "- изменение типов данных столбца `total_income`\n",
    "- удаление дубликатов — явных и неявных для столбца `education`,\n",
    "- категоризацию данных по доходам и целям кредита.\n",
    "\n",
    "Теперь можно перейти к проверке гипотез."
   ]
  },
  {
   "cell_type": "markdown",
   "id": "09b242bf",
   "metadata": {
    "deletable": false,
    "editable": false,
    "id": "09b242bf"
   },
   "source": [
    "## Исследуйте данные и ответьте на вопросы"
   ]
  },
  {
   "cell_type": "markdown",
   "id": "c5d66278",
   "metadata": {
    "deletable": false,
    "editable": false,
    "id": "c5d66278"
   },
   "source": [
    "**Задание 19. Есть ли зависимость между количеством детей и возвратом кредита в срок?**"
   ]
  },
  {
   "cell_type": "code",
   "execution_count": 24,
   "id": "2cacfc4a",
   "metadata": {
    "id": "2cacfc4a",
    "scrolled": true
   },
   "outputs": [
    {
     "data": {
      "text/html": [
       "<div>\n",
       "<style scoped>\n",
       "    .dataframe tbody tr th:only-of-type {\n",
       "        vertical-align: middle;\n",
       "    }\n",
       "\n",
       "    .dataframe tbody tr th {\n",
       "        vertical-align: top;\n",
       "    }\n",
       "\n",
       "    .dataframe thead tr th {\n",
       "        text-align: left;\n",
       "    }\n",
       "\n",
       "    .dataframe thead tr:last-of-type th {\n",
       "        text-align: right;\n",
       "    }\n",
       "</style>\n",
       "<table border=\"1\" class=\"dataframe\">\n",
       "  <thead>\n",
       "    <tr>\n",
       "      <th></th>\n",
       "      <th colspan=\"2\" halign=\"left\">debt</th>\n",
       "      <th>share</th>\n",
       "    </tr>\n",
       "    <tr>\n",
       "      <th></th>\n",
       "      <th>sum</th>\n",
       "      <th>count</th>\n",
       "      <th></th>\n",
       "    </tr>\n",
       "    <tr>\n",
       "      <th>children</th>\n",
       "      <th></th>\n",
       "      <th></th>\n",
       "      <th></th>\n",
       "    </tr>\n",
       "  </thead>\n",
       "  <tbody>\n",
       "    <tr>\n",
       "      <th>0</th>\n",
       "      <td>1063</td>\n",
       "      <td>14107</td>\n",
       "      <td>7.535266</td>\n",
       "    </tr>\n",
       "    <tr>\n",
       "      <th>1</th>\n",
       "      <td>444</td>\n",
       "      <td>4809</td>\n",
       "      <td>9.232689</td>\n",
       "    </tr>\n",
       "    <tr>\n",
       "      <th>2</th>\n",
       "      <td>194</td>\n",
       "      <td>2052</td>\n",
       "      <td>9.454191</td>\n",
       "    </tr>\n",
       "    <tr>\n",
       "      <th>3</th>\n",
       "      <td>27</td>\n",
       "      <td>330</td>\n",
       "      <td>8.181818</td>\n",
       "    </tr>\n",
       "    <tr>\n",
       "      <th>4</th>\n",
       "      <td>4</td>\n",
       "      <td>41</td>\n",
       "      <td>9.756098</td>\n",
       "    </tr>\n",
       "    <tr>\n",
       "      <th>5</th>\n",
       "      <td>0</td>\n",
       "      <td>9</td>\n",
       "      <td>0.000000</td>\n",
       "    </tr>\n",
       "  </tbody>\n",
       "</table>\n",
       "</div>"
      ],
      "text/plain": [
       "          debt            share\n",
       "           sum  count          \n",
       "children                       \n",
       "0         1063  14107  7.535266\n",
       "1          444   4809  9.232689\n",
       "2          194   2052  9.454191\n",
       "3           27    330  8.181818\n",
       "4            4     41  9.756098\n",
       "5            0      9  0.000000"
      ]
     },
     "execution_count": 24,
     "metadata": {},
     "output_type": "execute_result"
    }
   ],
   "source": [
    "'''Формируем группы по количеству детей, в пределах каждой группы считаем абсолютное число невозвратов кредита и\n",
    "общее число элементов в каждой группе (для последующего расчёта относительного значения)''' \n",
    "data_group_by_children = data.groupby('children').agg({'debt': ['sum', 'count']})\n",
    "data_group_by_children['share'] = data_group_by_children['debt']['sum'] / data_group_by_children['debt']['count'] * 100\n",
    "data_group_by_children "
   ]
  },
  {
   "cell_type": "code",
   "execution_count": 25,
   "id": "2cdab5e6",
   "metadata": {},
   "outputs": [
    {
     "data": {
      "image/png": "[encoded data removed]",
      "text/plain": [
       "<Figure size 432x288 with 1 Axes>"
      ]
     },
     "metadata": {
      "needs_background": "light"
     },
     "output_type": "display_data"
    }
   ],
   "source": [
    "# Визуализируем данные средствами библиотеки seaborn\n",
    "import seaborn as sns\n",
    "sns.lineplot(data=data_group_by_children, x=\"children\", y=\"share\");"
   ]
  },
  {
   "cell_type": "markdown",
   "id": "3a6b99ec",
   "metadata": {
    "deletable": false,
    "id": "3a6b99ec"
   },
   "source": [
    "**Вывод:** Если брать абсолютные значения, то имеется линейная зависимость между количеством детей и возвратом кредита в срок. На самом деле это не так - выделенные группы значительно различаются по количеству элементов. Поэтому правильнее рассматривать относительный показатель - в этом случае зависимости нет, что хорошо видно на линейном графике. Наибольший процент невозвратов наблюдается у людей с 4-мя детьми - 9.76 %, наименьший в случае 5-ти детей - в этом случае должников нет (процент невозврата 0). Также высокие значения наблюдаются у людей с 1-м ребёнком (9.23 %) и с 2-мя детьми (9.45 %)."
   ]
  },
  {
   "cell_type": "markdown",
   "id": "97be82ca",
   "metadata": {
    "deletable": false,
    "editable": false,
    "id": "97be82ca"
   },
   "source": [
    "**Задание 20. Есть ли зависимость между семейным положением и возвратом кредита в срок?**"
   ]
  },
  {
   "cell_type": "code",
   "execution_count": 26,
   "id": "dc3f7ee8",
   "metadata": {
    "id": "dc3f7ee8"
   },
   "outputs": [
    {
     "data": {
      "text/html": [
       "<div>\n",
       "<style scoped>\n",
       "    .dataframe tbody tr th:only-of-type {\n",
       "        vertical-align: middle;\n",
       "    }\n",
       "\n",
       "    .dataframe tbody tr th {\n",
       "        vertical-align: top;\n",
       "    }\n",
       "\n",
       "    .dataframe thead tr th {\n",
       "        text-align: left;\n",
       "    }\n",
       "\n",
       "    .dataframe thead tr:last-of-type th {\n",
       "        text-align: right;\n",
       "    }\n",
       "</style>\n",
       "<table border=\"1\" class=\"dataframe\">\n",
       "  <thead>\n",
       "    <tr>\n",
       "      <th></th>\n",
       "      <th colspan=\"2\" halign=\"left\">debt</th>\n",
       "      <th>share</th>\n",
       "    </tr>\n",
       "    <tr>\n",
       "      <th></th>\n",
       "      <th>sum</th>\n",
       "      <th>count</th>\n",
       "      <th></th>\n",
       "    </tr>\n",
       "    <tr>\n",
       "      <th>family_status</th>\n",
       "      <th></th>\n",
       "      <th></th>\n",
       "      <th></th>\n",
       "    </tr>\n",
       "  </thead>\n",
       "  <tbody>\n",
       "    <tr>\n",
       "      <th>Не женат / не замужем</th>\n",
       "      <td>273</td>\n",
       "      <td>2796</td>\n",
       "      <td>9.763948</td>\n",
       "    </tr>\n",
       "    <tr>\n",
       "      <th>в разводе</th>\n",
       "      <td>84</td>\n",
       "      <td>1189</td>\n",
       "      <td>7.064760</td>\n",
       "    </tr>\n",
       "    <tr>\n",
       "      <th>вдовец / вдова</th>\n",
       "      <td>63</td>\n",
       "      <td>951</td>\n",
       "      <td>6.624606</td>\n",
       "    </tr>\n",
       "    <tr>\n",
       "      <th>гражданский брак</th>\n",
       "      <td>385</td>\n",
       "      <td>4146</td>\n",
       "      <td>9.286059</td>\n",
       "    </tr>\n",
       "    <tr>\n",
       "      <th>женат / замужем</th>\n",
       "      <td>927</td>\n",
       "      <td>12266</td>\n",
       "      <td>7.557476</td>\n",
       "    </tr>\n",
       "  </tbody>\n",
       "</table>\n",
       "</div>"
      ],
      "text/plain": [
       "                      debt            share\n",
       "                       sum  count          \n",
       "family_status                              \n",
       "Не женат / не замужем  273   2796  9.763948\n",
       "в разводе               84   1189  7.064760\n",
       "вдовец / вдова          63    951  6.624606\n",
       "гражданский брак       385   4146  9.286059\n",
       "женат / замужем        927  12266  7.557476"
      ]
     },
     "execution_count": 26,
     "metadata": {},
     "output_type": "execute_result"
    }
   ],
   "source": [
    "'''Формируем группы по семейному положению, в пределах каждой группы считаем абсолютное число невозвратов кредита и\n",
    "общее число элементов в каждой группе (для последующего расчёта относительного значения)''' \n",
    "data_group_by_family_status = data.groupby('family_status').agg({'debt': ['sum', 'count']})\n",
    "data_group_by_family_status['share'] = data_group_by_family_status['debt']['sum'] / data_group_by_family_status['debt']['count'] * 100\n",
    "data_group_by_family_status"
   ]
  },
  {
   "cell_type": "markdown",
   "id": "1cef7837",
   "metadata": {
    "deletable": false,
    "id": "1cef7837"
   },
   "source": [
    "**Вывод:** Наибольший процент невозвратов наблюдается у людей со статусом «Не женат / не замужем» - 9.76 %, наименьший в статусе «вдовец / вдова» - 6.62 %. Также высокие значения наблюдаются у людей с семейным положением «гражданский брак» (9, 29 %). Так как значения показателя по группам отличаются, можно говорить о наличии зависимости."
   ]
  },
  {
   "cell_type": "markdown",
   "id": "1e8b2fca",
   "metadata": {
    "deletable": false,
    "editable": false,
    "id": "1e8b2fca"
   },
   "source": [
    "**Задание 21. Есть ли зависимость между уровнем дохода и возвратом кредита в срок?**"
   ]
  },
  {
   "cell_type": "code",
   "execution_count": 27,
   "id": "cd7e3720",
   "metadata": {
    "id": "cd7e3720",
    "scrolled": true
   },
   "outputs": [
    {
     "data": {
      "text/html": [
       "<div>\n",
       "<style scoped>\n",
       "    .dataframe tbody tr th:only-of-type {\n",
       "        vertical-align: middle;\n",
       "    }\n",
       "\n",
       "    .dataframe tbody tr th {\n",
       "        vertical-align: top;\n",
       "    }\n",
       "\n",
       "    .dataframe thead tr th {\n",
       "        text-align: left;\n",
       "    }\n",
       "\n",
       "    .dataframe thead tr:last-of-type th {\n",
       "        text-align: right;\n",
       "    }\n",
       "</style>\n",
       "<table border=\"1\" class=\"dataframe\">\n",
       "  <thead>\n",
       "    <tr>\n",
       "      <th></th>\n",
       "      <th colspan=\"2\" halign=\"left\">debt</th>\n",
       "      <th>share</th>\n",
       "    </tr>\n",
       "    <tr>\n",
       "      <th></th>\n",
       "      <th>sum</th>\n",
       "      <th>count</th>\n",
       "      <th></th>\n",
       "    </tr>\n",
       "    <tr>\n",
       "      <th>total_income_category</th>\n",
       "      <th></th>\n",
       "      <th></th>\n",
       "      <th></th>\n",
       "    </tr>\n",
       "  </thead>\n",
       "  <tbody>\n",
       "    <tr>\n",
       "      <th>A</th>\n",
       "      <td>2</td>\n",
       "      <td>25</td>\n",
       "      <td>8.000000</td>\n",
       "    </tr>\n",
       "    <tr>\n",
       "      <th>B</th>\n",
       "      <td>354</td>\n",
       "      <td>5014</td>\n",
       "      <td>7.060231</td>\n",
       "    </tr>\n",
       "    <tr>\n",
       "      <th>C</th>\n",
       "      <td>1353</td>\n",
       "      <td>15938</td>\n",
       "      <td>8.489145</td>\n",
       "    </tr>\n",
       "    <tr>\n",
       "      <th>D</th>\n",
       "      <td>21</td>\n",
       "      <td>349</td>\n",
       "      <td>6.017192</td>\n",
       "    </tr>\n",
       "    <tr>\n",
       "      <th>E</th>\n",
       "      <td>2</td>\n",
       "      <td>22</td>\n",
       "      <td>9.090909</td>\n",
       "    </tr>\n",
       "  </tbody>\n",
       "</table>\n",
       "</div>"
      ],
      "text/plain": [
       "                       debt            share\n",
       "                        sum  count          \n",
       "total_income_category                       \n",
       "A                         2     25  8.000000\n",
       "B                       354   5014  7.060231\n",
       "C                      1353  15938  8.489145\n",
       "D                        21    349  6.017192\n",
       "E                         2     22  9.090909"
      ]
     },
     "execution_count": 27,
     "metadata": {},
     "output_type": "execute_result"
    }
   ],
   "source": [
    "'''Формируем группы по уровню дохода, в пределах каждой группы считаем абсолютное число невозвратов кредита и\n",
    "общее число элементов в каждой группе (для последующего расчёта относительного значения)''' \n",
    "data_group_by_income_category = data.groupby('total_income_category').agg({'debt': ['sum', 'count']})\n",
    "data_group_by_income_category['share'] = data_group_by_income_category['debt']['sum'] / data_group_by_income_category['debt']['count'] * 100\n",
    "data_group_by_income_category"
   ]
  },
  {
   "cell_type": "markdown",
   "id": "e8593def",
   "metadata": {
    "deletable": false,
    "id": "e8593def"
   },
   "source": [
    "**Вывод:** Наибольший процент невозвратов наблюдается у людей с самым низким уровнем дохода (категория «E» - до 30 000) - 9.09 %, наименьший с уровнем дохода «D» (от 30 001 до 50 000) - 6.02 %. Так как под категорией дохода скрывается количественная переменная, то можно говорить об отсутствии линейной зависимости (конкретно на имеющихся данных)."
   ]
  },
  {
   "cell_type": "markdown",
   "id": "99ecbd1f",
   "metadata": {
    "deletable": false,
    "editable": false,
    "id": "99ecbd1f"
   },
   "source": [
    "**Задание 22. Как разные цели кредита влияют на его возврат в срок?**"
   ]
  },
  {
   "cell_type": "code",
   "execution_count": 28,
   "id": "2b687290",
   "metadata": {
    "id": "2b687290",
    "scrolled": true
   },
   "outputs": [
    {
     "data": {
      "text/html": [
       "<div>\n",
       "<style scoped>\n",
       "    .dataframe tbody tr th:only-of-type {\n",
       "        vertical-align: middle;\n",
       "    }\n",
       "\n",
       "    .dataframe tbody tr th {\n",
       "        vertical-align: top;\n",
       "    }\n",
       "\n",
       "    .dataframe thead tr th {\n",
       "        text-align: left;\n",
       "    }\n",
       "\n",
       "    .dataframe thead tr:last-of-type th {\n",
       "        text-align: right;\n",
       "    }\n",
       "</style>\n",
       "<table border=\"1\" class=\"dataframe\">\n",
       "  <thead>\n",
       "    <tr>\n",
       "      <th></th>\n",
       "      <th colspan=\"2\" halign=\"left\">debt</th>\n",
       "      <th>share</th>\n",
       "    </tr>\n",
       "    <tr>\n",
       "      <th></th>\n",
       "      <th>sum</th>\n",
       "      <th>count</th>\n",
       "      <th></th>\n",
       "    </tr>\n",
       "    <tr>\n",
       "      <th>purpose_category</th>\n",
       "      <th></th>\n",
       "      <th></th>\n",
       "      <th></th>\n",
       "    </tr>\n",
       "  </thead>\n",
       "  <tbody>\n",
       "    <tr>\n",
       "      <th>операции с автомобилем</th>\n",
       "      <td>400</td>\n",
       "      <td>4281</td>\n",
       "      <td>9.343611</td>\n",
       "    </tr>\n",
       "    <tr>\n",
       "      <th>операции с недвижимостью</th>\n",
       "      <td>780</td>\n",
       "      <td>10754</td>\n",
       "      <td>7.253115</td>\n",
       "    </tr>\n",
       "    <tr>\n",
       "      <th>получение образования</th>\n",
       "      <td>369</td>\n",
       "      <td>3989</td>\n",
       "      <td>9.250439</td>\n",
       "    </tr>\n",
       "    <tr>\n",
       "      <th>проведение свадьбы</th>\n",
       "      <td>183</td>\n",
       "      <td>2324</td>\n",
       "      <td>7.874355</td>\n",
       "    </tr>\n",
       "  </tbody>\n",
       "</table>\n",
       "</div>"
      ],
      "text/plain": [
       "                         debt            share\n",
       "                          sum  count          \n",
       "purpose_category                              \n",
       "операции с автомобилем    400   4281  9.343611\n",
       "операции с недвижимостью  780  10754  7.253115\n",
       "получение образования     369   3989  9.250439\n",
       "проведение свадьбы        183   2324  7.874355"
      ]
     },
     "execution_count": 28,
     "metadata": {},
     "output_type": "execute_result"
    }
   ],
   "source": [
    "'''Формируем группы по целям кредита, в пределах каждой группы считаем абсолютное число невозвратов кредита и\n",
    "общее число элементов в каждой группе (для последующего расчёта относительного значения)''' \n",
    "data_group_by_purpose_category = data.groupby('purpose_category').agg({'debt': ['sum', 'count']})\n",
    "data_group_by_purpose_category['share'] = data_group_by_purpose_category['debt']['sum'] / data_group_by_purpose_category['debt']['count'] * 100\n",
    "data_group_by_purpose_category"
   ]
  },
  {
   "cell_type": "markdown",
   "id": "b4bb2ce6",
   "metadata": {
    "deletable": false,
    "id": "b4bb2ce6"
   },
   "source": [
    "**Вывод:** Наибольший процент невозвратов наблюдается у людей, чья цель кредита была связана с автомобилем - 9.34 %, наименьший  - связанный с недвижимостью (7.25 %). Также высокие значения наблюдаются у людей с целью кредита «получение образования» (9.25 %). Так как значения показателя по группам отличаются, можно говорить о наличии зависимости."
   ]
  },
  {
   "cell_type": "markdown",
   "id": "09c3ac4c",
   "metadata": {
    "deletable": false,
    "editable": false,
    "id": "09c3ac4c"
   },
   "source": [
    "**Задание 23. Приведите возможные причины появления пропусков в исходных данных.**"
   ]
  },
  {
   "cell_type": "markdown",
   "id": "9da2ceda",
   "metadata": {
    "deletable": false,
    "id": "9da2ceda"
   },
   "source": [
    "*Ответ:* \n",
    "Причинами появления пропусков могут быть: \n",
    "1. Ошибки ввода данных;\n",
    "2. Сокрытие информации - например, нежелание респондента при проведении статистического опроса отвечать на вопросы о своих доходах."
   ]
  },
  {
   "cell_type": "markdown",
   "id": "7b0487d6",
   "metadata": {
    "deletable": false,
    "editable": false,
    "id": "7b0487d6"
   },
   "source": [
    "**Задание 24. Объясните, почему заполнить пропуски медианным значением — лучшее решение для количественных переменных.**"
   ]
  },
  {
   "cell_type": "markdown",
   "id": "7ecf2b8e",
   "metadata": {
    "deletable": false,
    "id": "7ecf2b8e"
   },
   "source": [
    "*Ответ:* Пропуски в количественных переменных заполняют характерными значениями. Это значения, характеризующие состояние выборки. Чтобы примерно оценить типичные значения выборки, годятся среднее арифметическое или медиана. Однако среднее значение некорректно характеризует данные, когда некоторые значения сильно выделяются среди большинства, поэтому лучше использовать медиану. Другое решение - использование усечённого среднего - статистической меры центральной тенденции, рассчитанной как среднее значение для имеющегося набора данных, из которого исключены k % наибольших и k % наименьших значений."
   ]
  },
  {
   "cell_type": "markdown",
   "id": "6db5255a",
   "metadata": {
    "deletable": false,
    "editable": false,
    "id": "6db5255a"
   },
   "source": [
    "## Общий вывод."
   ]
  },
  {
   "cell_type": "markdown",
   "id": "bad65432",
   "metadata": {
    "id": "bad65432"
   },
   "source": [
    "Исследование прошло в три этапа:\n",
    " 1. Обзор данных;\n",
    " 2. Предобработка данных;\n",
    " 3. Проверка гипотез.\n",
    " \n",
    "На первом этапе был выполнен обзор данных, в ходе которого определялось их качество и наличие ошибок.\n",
    "\n",
    "На второй этапе эти ошибки были устранены. Предобработка данных включала в себя заполнение пропущенных значений в столбцах, обработку аномальных значений столбца, изменение типов данных столбца, удаление дубликатов и категоризацию данных.\n",
    "\n",
    "В ходе последнего этапа - проверке гипотез - было установлено, что по имеющимя данным: \n",
    "1. Отсутствует линейная зависимость между количеством детей и возвратом кредита в срок - с увеличием числа детей не происходит увеличения (прямая зависимость) или уменьшения (обратная зависимость) числа невозвратов;\n",
    "2. Можно говорить о зависимости между семейным положением и возвратом кредита в срок, так как значения метрики по группам различаются. Наибольший процент невозвратов наблюдается у людей со статусом «Не женат / не замужем» - 9.76 %, наименьший в статусе «вдовец / вдова» - 6.62 %;\n",
    "3. Отсутствует линейная зависимость между доходом и возвратом кредита в срок - с увеличием дохода не происходит увеличения (прямая зависимость) или уменьшения (обратная) числа невозвратов;\n",
    "4. Можно говорить о том, что разные цели кредита по разному влияют на его возврат в срок. Наибольший процент невозвратов наблюдается у людей, чья цель кредита была связана с автомобилем - 9.34 %, наименьший - связанный с недвижимостью (7.25 %).\n",
    "\n",
    "На практике исследования содержат проверки статистических гипотез. Из данных одного файла не всегда можно сделать вывод о всей генеральной совокупности. Проверки статистических гипотез покажут, насколько они достоверны, исходя из имеющихся данных."
   ]
  }
 ],
 "metadata": {
  "ExecuteTimeLog": [
   {
    "duration": 78,
    "start_time": "2022-06-05T15:53:11.446Z"
   },
   {
    "duration": 737,
    "start_time": "2022-06-05T15:53:22.644Z"
   },
   {
    "duration": 21,
    "start_time": "2022-06-05T15:53:24.049Z"
   },
   {
    "duration": 17,
    "start_time": "2022-06-05T15:53:25.581Z"
   },
   {
    "duration": 11,
    "start_time": "2022-06-05T15:53:27.345Z"
   },
   {
    "duration": 36,
    "start_time": "2022-06-05T15:53:28.145Z"
   },
   {
    "duration": 4,
    "start_time": "2022-06-05T15:53:29.540Z"
   },
   {
    "duration": 7,
    "start_time": "2022-06-05T15:53:30.179Z"
   },
   {
    "duration": 5,
    "start_time": "2022-06-05T15:53:31.118Z"
   },
   {
    "duration": 8,
    "start_time": "2022-06-05T15:53:31.705Z"
   },
   {
    "duration": 4,
    "start_time": "2022-06-05T15:53:32.415Z"
   },
   {
    "duration": 39,
    "start_time": "2022-06-05T15:53:33.511Z"
   },
   {
    "duration": 17,
    "start_time": "2022-06-05T15:53:34.221Z"
   },
   {
    "duration": 4,
    "start_time": "2022-06-05T15:53:35.978Z"
   },
   {
    "duration": 21,
    "start_time": "2022-06-05T15:53:37.045Z"
   },
   {
    "duration": 22,
    "start_time": "2022-06-05T15:53:37.421Z"
   },
   {
    "duration": 12,
    "start_time": "2022-06-05T15:53:38.145Z"
   },
   {
    "duration": 5,
    "start_time": "2022-06-05T15:53:39.473Z"
   },
   {
    "duration": 10,
    "start_time": "2022-06-05T15:53:40.188Z"
   },
   {
    "duration": 6,
    "start_time": "2022-06-05T15:53:42.178Z"
   },
   {
    "duration": 4,
    "start_time": "2022-06-05T15:53:43.143Z"
   },
   {
    "duration": 12,
    "start_time": "2022-06-05T15:53:43.878Z"
   },
   {
    "duration": 6,
    "start_time": "2022-06-05T15:53:46.081Z"
   },
   {
    "duration": 13,
    "start_time": "2022-06-05T15:57:05.984Z"
   },
   {
    "duration": 28,
    "start_time": "2022-06-05T15:59:32.183Z"
   },
   {
    "duration": 12,
    "start_time": "2022-06-05T15:59:39.621Z"
   },
   {
    "duration": 6,
    "start_time": "2022-06-05T16:00:41.183Z"
   },
   {
    "duration": 476,
    "start_time": "2022-06-05T16:02:23.471Z"
   },
   {
    "duration": 9,
    "start_time": "2022-06-05T16:02:48.088Z"
   },
   {
    "duration": 15,
    "start_time": "2022-06-05T16:03:03.872Z"
   },
   {
    "duration": 17,
    "start_time": "2022-06-05T16:11:25.218Z"
   },
   {
    "duration": 15,
    "start_time": "2022-06-05T16:11:42.376Z"
   },
   {
    "duration": 14,
    "start_time": "2022-06-05T16:13:42.877Z"
   },
   {
    "duration": 18,
    "start_time": "2022-06-05T16:16:07.079Z"
   },
   {
    "duration": 59,
    "start_time": "2022-06-07T15:01:07.207Z"
   },
   {
    "duration": 746,
    "start_time": "2022-06-07T15:01:15.658Z"
   },
   {
    "duration": 30,
    "start_time": "2022-06-07T15:01:16.406Z"
   },
   {
    "duration": 22,
    "start_time": "2022-06-07T15:01:16.438Z"
   },
   {
    "duration": 11,
    "start_time": "2022-06-07T15:01:17.093Z"
   },
   {
    "duration": 36,
    "start_time": "2022-06-07T15:01:17.427Z"
   },
   {
    "duration": 3,
    "start_time": "2022-06-07T15:01:17.952Z"
   },
   {
    "duration": 9,
    "start_time": "2022-06-07T15:01:18.316Z"
   },
   {
    "duration": 4,
    "start_time": "2022-06-07T15:01:19.184Z"
   },
   {
    "duration": 8,
    "start_time": "2022-06-07T15:01:19.562Z"
   },
   {
    "duration": 5,
    "start_time": "2022-06-07T15:01:19.905Z"
   },
   {
    "duration": 44,
    "start_time": "2022-06-07T15:01:20.425Z"
   },
   {
    "duration": 11,
    "start_time": "2022-06-07T15:01:20.806Z"
   },
   {
    "duration": 4,
    "start_time": "2022-06-07T15:01:21.402Z"
   },
   {
    "duration": 19,
    "start_time": "2022-06-07T15:01:23.254Z"
   },
   {
    "duration": 25,
    "start_time": "2022-06-07T15:01:23.424Z"
   },
   {
    "duration": 17,
    "start_time": "2022-06-07T15:01:23.795Z"
   },
   {
    "duration": 5,
    "start_time": "2022-06-07T15:01:24.350Z"
   },
   {
    "duration": 15,
    "start_time": "2022-06-07T15:01:24.751Z"
   },
   {
    "duration": 7,
    "start_time": "2022-06-07T15:01:25.122Z"
   },
   {
    "duration": 4,
    "start_time": "2022-06-07T15:01:26.506Z"
   },
   {
    "duration": 13,
    "start_time": "2022-06-07T15:01:26.721Z"
   },
   {
    "duration": 18,
    "start_time": "2022-06-07T15:01:28.251Z"
   },
   {
    "duration": 1081,
    "start_time": "2022-06-07T15:06:00.364Z"
   },
   {
    "duration": 19,
    "start_time": "2022-06-07T15:06:36.660Z"
   },
   {
    "duration": 216,
    "start_time": "2022-06-07T15:06:55.597Z"
   },
   {
    "duration": 74,
    "start_time": "2022-06-07T15:08:55.559Z"
   },
   {
    "duration": 141,
    "start_time": "2022-06-07T15:09:02.086Z"
   },
   {
    "duration": 37,
    "start_time": "2022-06-07T15:38:37.393Z"
   },
   {
    "duration": 17,
    "start_time": "2022-06-07T15:39:01.646Z"
   },
   {
    "duration": 23,
    "start_time": "2022-06-07T15:39:16.175Z"
   },
   {
    "duration": 16,
    "start_time": "2022-06-07T15:39:54.134Z"
   },
   {
    "duration": 17,
    "start_time": "2022-06-07T15:40:57.877Z"
   },
   {
    "duration": 15,
    "start_time": "2022-06-07T15:41:07.717Z"
   },
   {
    "duration": 75,
    "start_time": "2022-06-07T15:41:16.898Z"
   },
   {
    "duration": 16,
    "start_time": "2022-06-07T15:41:17.752Z"
   },
   {
    "duration": 18,
    "start_time": "2022-06-07T15:41:18.360Z"
   },
   {
    "duration": 12,
    "start_time": "2022-06-07T15:41:19.339Z"
   },
   {
    "duration": 40,
    "start_time": "2022-06-07T15:41:19.696Z"
   },
   {
    "duration": 3,
    "start_time": "2022-06-07T15:41:21.454Z"
   },
   {
    "duration": 7,
    "start_time": "2022-06-07T15:41:21.993Z"
   },
   {
    "duration": 5,
    "start_time": "2022-06-07T15:41:22.756Z"
   },
   {
    "duration": 9,
    "start_time": "2022-06-07T15:41:23.242Z"
   },
   {
    "duration": 4,
    "start_time": "2022-06-07T15:41:23.691Z"
   },
   {
    "duration": 34,
    "start_time": "2022-06-07T15:41:24.274Z"
   },
   {
    "duration": 14,
    "start_time": "2022-06-07T15:41:24.731Z"
   },
   {
    "duration": 4,
    "start_time": "2022-06-07T15:41:25.376Z"
   },
   {
    "duration": 19,
    "start_time": "2022-06-07T15:41:26.237Z"
   },
   {
    "duration": 18,
    "start_time": "2022-06-07T15:41:26.614Z"
   },
   {
    "duration": 12,
    "start_time": "2022-06-07T15:41:27.057Z"
   },
   {
    "duration": 3,
    "start_time": "2022-06-07T15:41:27.697Z"
   },
   {
    "duration": 10,
    "start_time": "2022-06-07T15:41:27.911Z"
   },
   {
    "duration": 6,
    "start_time": "2022-06-07T15:41:28.290Z"
   },
   {
    "duration": 4,
    "start_time": "2022-06-07T15:41:28.719Z"
   },
   {
    "duration": 13,
    "start_time": "2022-06-07T15:41:28.946Z"
   },
   {
    "duration": 15,
    "start_time": "2022-06-07T15:41:29.562Z"
   },
   {
    "duration": 121,
    "start_time": "2022-06-07T15:41:29.776Z"
   },
   {
    "duration": 21,
    "start_time": "2022-06-07T15:41:31.438Z"
   },
   {
    "duration": 20,
    "start_time": "2022-06-07T15:41:32.547Z"
   },
   {
    "duration": 19,
    "start_time": "2022-06-07T15:41:32.976Z"
   },
   {
    "duration": 15,
    "start_time": "2022-06-07T15:42:10.705Z"
   },
   {
    "duration": 16,
    "start_time": "2022-06-07T15:42:17.834Z"
   },
   {
    "duration": 15,
    "start_time": "2022-06-07T15:53:23.402Z"
   },
   {
    "duration": 23,
    "start_time": "2022-06-07T15:53:26.197Z"
   },
   {
    "duration": 15,
    "start_time": "2022-06-07T15:53:37.183Z"
   },
   {
    "duration": 22,
    "start_time": "2022-06-07T15:57:42.384Z"
   },
   {
    "duration": 986,
    "start_time": "2022-06-07T19:59:40.076Z"
   },
   {
    "duration": 27,
    "start_time": "2022-06-07T19:59:41.069Z"
   },
   {
    "duration": 15,
    "start_time": "2022-06-07T19:59:41.098Z"
   },
   {
    "duration": 19,
    "start_time": "2022-06-07T19:59:41.114Z"
   },
   {
    "duration": 87,
    "start_time": "2022-06-07T19:59:41.136Z"
   },
   {
    "duration": 7,
    "start_time": "2022-06-07T19:59:41.225Z"
   },
   {
    "duration": 75,
    "start_time": "2022-06-07T19:59:41.235Z"
   },
   {
    "duration": 7,
    "start_time": "2022-06-07T19:59:41.312Z"
   },
   {
    "duration": 65,
    "start_time": "2022-06-07T19:59:41.321Z"
   },
   {
    "duration": 9,
    "start_time": "2022-06-07T19:59:41.388Z"
   },
   {
    "duration": 49,
    "start_time": "2022-06-07T19:59:41.399Z"
   },
   {
    "duration": 22,
    "start_time": "2022-06-07T19:59:41.452Z"
   },
   {
    "duration": 29,
    "start_time": "2022-06-07T19:59:41.476Z"
   },
   {
    "duration": 34,
    "start_time": "2022-06-07T19:59:41.509Z"
   },
   {
    "duration": 35,
    "start_time": "2022-06-07T19:59:41.544Z"
   },
   {
    "duration": 30,
    "start_time": "2022-06-07T19:59:41.581Z"
   },
   {
    "duration": 8,
    "start_time": "2022-06-07T19:59:41.613Z"
   },
   {
    "duration": 67,
    "start_time": "2022-06-07T19:59:41.625Z"
   },
   {
    "duration": 12,
    "start_time": "2022-06-07T19:59:41.694Z"
   },
   {
    "duration": 3,
    "start_time": "2022-06-07T19:59:41.708Z"
   },
   {
    "duration": 15,
    "start_time": "2022-06-07T19:59:41.713Z"
   },
   {
    "duration": 65,
    "start_time": "2022-06-07T19:59:41.736Z"
   },
   {
    "duration": 1726,
    "start_time": "2022-06-07T19:59:41.802Z"
   },
   {
    "duration": 23,
    "start_time": "2022-06-07T19:59:43.533Z"
   },
   {
    "duration": 47,
    "start_time": "2022-06-07T19:59:43.560Z"
   },
   {
    "duration": 21,
    "start_time": "2022-06-07T19:59:43.609Z"
   },
   {
    "duration": 67,
    "start_time": "2022-06-19T08:59:58.880Z"
   },
   {
    "duration": 1024,
    "start_time": "2022-06-19T09:00:09.854Z"
   },
   {
    "duration": 22,
    "start_time": "2022-06-19T09:00:10.880Z"
   },
   {
    "duration": 15,
    "start_time": "2022-06-19T09:00:11.353Z"
   },
   {
    "duration": 10,
    "start_time": "2022-06-19T09:00:12.858Z"
   },
   {
    "duration": 34,
    "start_time": "2022-06-19T09:00:13.892Z"
   },
   {
    "duration": 5,
    "start_time": "2022-06-19T09:00:15.367Z"
   },
   {
    "duration": 8,
    "start_time": "2022-06-19T09:00:16.986Z"
   },
   {
    "duration": 5,
    "start_time": "2022-06-19T09:00:19.172Z"
   },
   {
    "duration": 6,
    "start_time": "2022-06-19T09:00:20.094Z"
   },
   {
    "duration": 5,
    "start_time": "2022-06-19T09:00:21.823Z"
   },
   {
    "duration": 33,
    "start_time": "2022-06-19T09:00:23.108Z"
   },
   {
    "duration": 10,
    "start_time": "2022-06-19T09:00:23.871Z"
   },
   {
    "duration": 4,
    "start_time": "2022-06-19T09:00:25.818Z"
   },
   {
    "duration": 23,
    "start_time": "2022-06-19T09:00:27.076Z"
   },
   {
    "duration": 17,
    "start_time": "2022-06-19T09:12:34.408Z"
   },
   {
    "duration": 22,
    "start_time": "2022-06-19T09:13:01.147Z"
   },
   {
    "duration": 49,
    "start_time": "2022-06-19T09:13:19.846Z"
   },
   {
    "duration": 4,
    "start_time": "2022-06-19T09:13:36.260Z"
   },
   {
    "duration": 49,
    "start_time": "2022-06-19T09:13:46.667Z"
   },
   {
    "duration": 4,
    "start_time": "2022-06-19T09:15:07.352Z"
   },
   {
    "duration": 3,
    "start_time": "2022-06-19T09:20:33.157Z"
   },
   {
    "duration": 3,
    "start_time": "2022-06-19T09:21:07.058Z"
   },
   {
    "duration": 18,
    "start_time": "2022-06-19T09:21:08.408Z"
   },
   {
    "duration": 16,
    "start_time": "2022-06-19T09:21:08.873Z"
   },
   {
    "duration": 11,
    "start_time": "2022-06-19T09:21:09.511Z"
   },
   {
    "duration": 4,
    "start_time": "2022-06-19T09:21:12.333Z"
   },
   {
    "duration": 10,
    "start_time": "2022-06-19T09:21:13.642Z"
   },
   {
    "duration": 6,
    "start_time": "2022-06-19T09:21:25.512Z"
   },
   {
    "duration": 2,
    "start_time": "2022-06-19T09:21:43.996Z"
   },
   {
    "duration": 9,
    "start_time": "2022-06-19T09:21:51.490Z"
   },
   {
    "duration": 17,
    "start_time": "2022-06-19T09:21:54.557Z"
   },
   {
    "duration": 1019,
    "start_time": "2022-06-19T09:21:56.162Z"
   },
   {
    "duration": 25,
    "start_time": "2022-06-19T09:23:44.942Z"
   },
   {
    "duration": 21,
    "start_time": "2022-06-19T09:24:03.676Z"
   },
   {
    "duration": 29,
    "start_time": "2022-06-19T09:24:44.594Z"
   },
   {
    "duration": 23,
    "start_time": "2022-06-19T09:24:54.562Z"
   },
   {
    "duration": 21,
    "start_time": "2022-06-19T09:25:02.170Z"
   },
   {
    "duration": 67,
    "start_time": "2022-06-19T09:25:09.846Z"
   },
   {
    "duration": 15,
    "start_time": "2022-06-19T09:25:10.964Z"
   },
   {
    "duration": 20,
    "start_time": "2022-06-19T09:25:12.177Z"
   },
   {
    "duration": 9,
    "start_time": "2022-06-19T09:25:20.401Z"
   },
   {
    "duration": 34,
    "start_time": "2022-06-19T09:25:22.038Z"
   },
   {
    "duration": 3,
    "start_time": "2022-06-19T09:25:25.634Z"
   },
   {
    "duration": 8,
    "start_time": "2022-06-19T09:25:26.512Z"
   },
   {
    "duration": 5,
    "start_time": "2022-06-19T09:25:27.815Z"
   },
   {
    "duration": 8,
    "start_time": "2022-06-19T09:25:28.682Z"
   },
   {
    "duration": 6,
    "start_time": "2022-06-19T09:25:30.142Z"
   },
   {
    "duration": 49,
    "start_time": "2022-06-19T09:25:31.674Z"
   },
   {
    "duration": 10,
    "start_time": "2022-06-19T09:25:32.630Z"
   },
   {
    "duration": 4,
    "start_time": "2022-06-19T09:25:34.499Z"
   },
   {
    "duration": 4,
    "start_time": "2022-06-19T09:25:42.464Z"
   },
   {
    "duration": 17,
    "start_time": "2022-06-19T09:25:43.689Z"
   },
   {
    "duration": 17,
    "start_time": "2022-06-19T09:25:44.112Z"
   },
   {
    "duration": 11,
    "start_time": "2022-06-19T09:25:45.146Z"
   },
   {
    "duration": 3,
    "start_time": "2022-06-19T09:25:48.846Z"
   },
   {
    "duration": 10,
    "start_time": "2022-06-19T09:25:49.682Z"
   },
   {
    "duration": 7,
    "start_time": "2022-06-19T09:25:51.123Z"
   },
   {
    "duration": 3,
    "start_time": "2022-06-19T09:25:52.062Z"
   },
   {
    "duration": 12,
    "start_time": "2022-06-19T09:25:52.571Z"
   },
   {
    "duration": 15,
    "start_time": "2022-06-19T09:25:54.638Z"
   },
   {
    "duration": 175,
    "start_time": "2022-06-19T09:25:55.150Z"
   },
   {
    "duration": 21,
    "start_time": "2022-06-19T09:25:58.140Z"
   },
   {
    "duration": 123,
    "start_time": "2022-06-19T09:26:31.259Z"
   },
   {
    "duration": 69,
    "start_time": "2022-06-19T09:29:19.146Z"
   },
   {
    "duration": 16,
    "start_time": "2022-06-19T09:29:19.839Z"
   },
   {
    "duration": 14,
    "start_time": "2022-06-19T09:29:20.208Z"
   },
   {
    "duration": 9,
    "start_time": "2022-06-19T09:29:21.861Z"
   },
   {
    "duration": 31,
    "start_time": "2022-06-19T09:29:22.896Z"
   },
   {
    "duration": 10,
    "start_time": "2022-06-19T09:30:19.957Z"
   },
   {
    "duration": 10,
    "start_time": "2022-06-19T09:30:39.069Z"
   },
   {
    "duration": 21,
    "start_time": "2022-06-19T09:32:40.172Z"
   },
   {
    "duration": 816,
    "start_time": "2022-06-19T11:36:12.883Z"
   },
   {
    "duration": 45,
    "start_time": "2022-06-19T11:36:13.701Z"
   },
   {
    "duration": 16,
    "start_time": "2022-06-19T11:36:14.564Z"
   },
   {
    "duration": 11,
    "start_time": "2022-06-19T11:36:19.056Z"
   },
   {
    "duration": 57,
    "start_time": "2022-06-19T11:36:29.271Z"
   },
   {
    "duration": 23,
    "start_time": "2022-06-19T11:37:07.610Z"
   },
   {
    "duration": 14,
    "start_time": "2022-06-19T11:37:17.970Z"
   },
   {
    "duration": 20,
    "start_time": "2022-06-19T11:38:12.289Z"
   },
   {
    "duration": 16,
    "start_time": "2022-06-19T11:40:58.353Z"
   },
   {
    "duration": 9,
    "start_time": "2022-06-19T11:41:01.554Z"
   },
   {
    "duration": 11,
    "start_time": "2022-06-19T11:41:02.595Z"
   },
   {
    "duration": 10,
    "start_time": "2022-06-19T11:41:04.059Z"
   },
   {
    "duration": 33,
    "start_time": "2022-06-19T11:41:05.049Z"
   },
   {
    "duration": 5,
    "start_time": "2022-06-19T11:41:06.951Z"
   },
   {
    "duration": 44,
    "start_time": "2022-06-19T11:41:08.761Z"
   },
   {
    "duration": 16,
    "start_time": "2022-06-19T11:41:09.592Z"
   },
   {
    "duration": 9,
    "start_time": "2022-06-19T11:41:16.031Z"
   },
   {
    "duration": 4,
    "start_time": "2022-06-19T11:41:50.684Z"
   },
   {
    "duration": 5,
    "start_time": "2022-06-19T11:42:37.177Z"
   },
   {
    "duration": 26,
    "start_time": "2022-06-19T11:42:39.267Z"
   },
   {
    "duration": 22,
    "start_time": "2022-06-19T11:42:39.683Z"
   },
   {
    "duration": 13,
    "start_time": "2022-06-19T11:42:41.044Z"
   },
   {
    "duration": 4,
    "start_time": "2022-06-19T11:42:43.243Z"
   },
   {
    "duration": 12,
    "start_time": "2022-06-19T11:42:44.408Z"
   },
   {
    "duration": 8,
    "start_time": "2022-06-19T11:42:46.671Z"
   },
   {
    "duration": 4,
    "start_time": "2022-06-19T11:42:48.043Z"
   },
   {
    "duration": 8,
    "start_time": "2022-06-19T11:42:48.485Z"
   },
   {
    "duration": 24,
    "start_time": "2022-06-19T11:42:50.251Z"
   },
   {
    "duration": 1165,
    "start_time": "2022-06-19T11:42:50.949Z"
   },
   {
    "duration": 22,
    "start_time": "2022-06-19T11:42:56.165Z"
   },
   {
    "duration": 31,
    "start_time": "2022-06-19T11:42:57.531Z"
   },
   {
    "duration": 24,
    "start_time": "2022-06-19T11:42:59.109Z"
   },
   {
    "duration": 26,
    "start_time": "2022-06-19T12:29:50.466Z"
   },
   {
    "duration": 75,
    "start_time": "2022-06-19T12:50:06.199Z"
   },
   {
    "duration": 645,
    "start_time": "2022-06-19T19:31:19.968Z"
   },
   {
    "duration": 20,
    "start_time": "2022-06-19T19:31:20.615Z"
   },
   {
    "duration": 17,
    "start_time": "2022-06-19T19:31:20.637Z"
   },
   {
    "duration": 8,
    "start_time": "2022-06-19T19:31:20.656Z"
   },
   {
    "duration": 31,
    "start_time": "2022-06-19T19:31:20.665Z"
   },
   {
    "duration": 25,
    "start_time": "2022-06-19T19:31:20.698Z"
   },
   {
    "duration": 4,
    "start_time": "2022-06-19T19:31:20.725Z"
   },
   {
    "duration": 10,
    "start_time": "2022-06-19T19:31:20.731Z"
   },
   {
    "duration": 6,
    "start_time": "2022-06-19T19:31:20.742Z"
   },
   {
    "duration": 7,
    "start_time": "2022-06-19T19:31:20.752Z"
   },
   {
    "duration": 5,
    "start_time": "2022-06-19T19:31:20.761Z"
   },
   {
    "duration": 69,
    "start_time": "2022-06-19T19:31:20.767Z"
   },
   {
    "duration": 10,
    "start_time": "2022-06-19T19:31:20.838Z"
   },
   {
    "duration": 6,
    "start_time": "2022-06-19T19:31:20.849Z"
   },
   {
    "duration": 16,
    "start_time": "2022-06-19T19:31:20.856Z"
   },
   {
    "duration": 30,
    "start_time": "2022-06-19T19:31:20.874Z"
   },
   {
    "duration": 20,
    "start_time": "2022-06-19T19:31:20.906Z"
   },
   {
    "duration": 11,
    "start_time": "2022-06-19T19:31:20.928Z"
   },
   {
    "duration": 7,
    "start_time": "2022-06-19T19:31:20.940Z"
   },
   {
    "duration": 13,
    "start_time": "2022-06-19T19:31:20.948Z"
   },
   {
    "duration": 6,
    "start_time": "2022-06-19T19:31:20.962Z"
   },
   {
    "duration": 3,
    "start_time": "2022-06-19T19:31:20.970Z"
   },
   {
    "duration": 9,
    "start_time": "2022-06-19T19:31:20.975Z"
   },
   {
    "duration": 39,
    "start_time": "2022-06-19T19:31:20.986Z"
   },
   {
    "duration": 839,
    "start_time": "2022-06-19T19:31:21.026Z"
   },
   {
    "duration": 16,
    "start_time": "2022-06-19T19:31:21.866Z"
   },
   {
    "duration": 20,
    "start_time": "2022-06-19T19:31:21.883Z"
   },
   {
    "duration": 23,
    "start_time": "2022-06-19T19:31:21.905Z"
   },
   {
    "duration": 58,
    "start_time": "2022-06-25T18:35:43.976Z"
   },
   {
    "duration": 805,
    "start_time": "2022-06-25T18:35:58.047Z"
   },
   {
    "duration": 28,
    "start_time": "2022-06-25T18:35:58.855Z"
   },
   {
    "duration": 19,
    "start_time": "2022-06-25T18:35:59.842Z"
   },
   {
    "duration": 13,
    "start_time": "2022-06-25T18:36:02.203Z"
   },
   {
    "duration": 59,
    "start_time": "2022-06-25T18:36:03.446Z"
   },
   {
    "duration": 14,
    "start_time": "2022-06-25T18:36:03.763Z"
   },
   {
    "duration": 5,
    "start_time": "2022-06-25T18:36:05.648Z"
   }
  ],
  "celltoolbar": "Edit Metadata",
  "colab": {
   "name": "dpp_template_part2.ipynb",
   "provenance": []
  },
  "kernelspec": {
   "display_name": "Python 3 (ipykernel)",
   "language": "python",
   "name": "python3"
  },
  "language_info": {
   "codemirror_mode": {
    "name": "ipython",
    "version": 3
   },
   "file_extension": ".py",
   "mimetype": "text/x-python",
   "name": "python",
   "nbconvert_exporter": "python",
   "pygments_lexer": "ipython3",
   "version": "3.9.12"
  },
  "toc": {
   "base_numbering": 1,
   "nav_menu": {},
   "number_sections": true,
   "sideBar": true,
   "skip_h1_title": true,
   "title_cell": "Table of Contents",
   "title_sidebar": "Contents",
   "toc_cell": false,
   "toc_position": {},
   "toc_section_display": true,
   "toc_window_display": true
  }
 },
 "nbformat": 4,
 "nbformat_minor": 5
}
