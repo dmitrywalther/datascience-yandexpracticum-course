{
 "cells": [
  {
   "cell_type": "markdown",
   "metadata": {
    "toc": true
   },
   "source": [
    "<h1>Содержание<span class=\"tocSkip\"></span></h1>\n",
    "<div class=\"toc\"><ul class=\"toc-item\"><li><span><a href=\"#Подготовка\" data-toc-modified-id=\"Подготовка-1\"><span class=\"toc-item-num\">1&nbsp;&nbsp;</span>Подготовка</a></span></li><li><span><a href=\"#Обучение\" data-toc-modified-id=\"Обучение-2\"><span class=\"toc-item-num\">2&nbsp;&nbsp;</span>Обучение</a></span></li><li><span><a href=\"#Выводы\" data-toc-modified-id=\"Выводы-3\"><span class=\"toc-item-num\">3&nbsp;&nbsp;</span>Выводы</a></span></li><li><span><a href=\"#Чек-лист-проверки\" data-toc-modified-id=\"Чек-лист-проверки-4\"><span class=\"toc-item-num\">4&nbsp;&nbsp;</span>Чек-лист проверки</a></span></li></ul></div>"
   ]
  },
  {
   "cell_type": "markdown",
   "metadata": {},
   "source": [
    "# Проект для «Викишоп»"
   ]
  },
  {
   "cell_type": "markdown",
   "metadata": {},
   "source": [
    "Интернет-магазин «Викишоп» запускает новый сервис. Теперь пользователи могут редактировать и дополнять описания товаров, как в вики-сообществах. То есть клиенты предлагают свои правки и комментируют изменения других. Магазину нужен инструмент, который будет искать токсичные комментарии и отправлять их на модерацию. \n",
    "\n",
    "Обучите модель классифицировать комментарии на позитивные и негативные. В вашем распоряжении набор данных с разметкой о токсичности правок.\n",
    "\n",
    "Постройте модель со значением метрики качества *F1* не меньше 0.75. \n",
    "\n",
    "**Инструкция по выполнению проекта**\n",
    "\n",
    "1. Загрузите и подготовьте данные.\n",
    "2. Обучите разные модели. \n",
    "3. Сделайте выводы.\n",
    "\n",
    "Для выполнения проекта применять *BERT* необязательно, но вы можете попробовать.\n",
    "\n",
    "**Описание данных**\n",
    "\n",
    "Данные находятся в файле `toxic_comments.csv`. Столбец *text* в нём содержит текст комментария, а *toxic* — целевой признак."
   ]
  },
  {
   "cell_type": "markdown",
   "metadata": {},
   "source": [
    "## Подготовка"
   ]
  },
  {
   "cell_type": "markdown",
   "metadata": {},
   "source": [
    "Подключаем все необходимые для выполнения проекта библиотеки:"
   ]
  },
  {
   "cell_type": "code",
   "execution_count": 114,
   "metadata": {},
   "outputs": [
    {
     "name": "stderr",
     "output_type": "stream",
     "text": [
      "[nltk_data] Downloading package stopwords to /home/jovyan/nltk_data...\n",
      "[nltk_data]   Package stopwords is already up-to-date!\n",
      "[nltk_data] Downloading package wordnet to /home/jovyan/nltk_data...\n",
      "[nltk_data]   Package wordnet is already up-to-date!\n",
      "[nltk_data] Downloading package averaged_perceptron_tagger to\n",
      "[nltk_data]     /home/jovyan/nltk_data...\n",
      "[nltk_data]   Package averaged_perceptron_tagger is already up-to-\n",
      "[nltk_data]       date!\n"
     ]
    }
   ],
   "source": [
    "import pandas as pd # обработка и анализ табличных данных\n",
    "\n",
    "import nltk # обработка естественного языка\n",
    "from nltk.corpus import stopwords as nltk_stopwords # применение стоп-слов\n",
    "from nltk.corpus import wordnet # лемматизация c POS Tag\n",
    "nltk.download(\"stopwords\") # чтобы применить стоп-листы, их нужно предварительно скачать\n",
    "nltk.download('wordnet') # лемматизация\n",
    "nltk.download('averaged_perceptron_tagger') # лемматизация c POS Tag\n",
    "\n",
    "import re # регулярные выражения\n",
    "\n",
    "from sklearn.feature_extraction.text import TfidfVectorizer # создание признаков на основе слов\n",
    "\n",
    "from sklearn.linear_model import LogisticRegression # модель линейной регрессии\n",
    "from sklearn.ensemble import RandomForestClassifier # модель случайного леса\n",
    "\n",
    "from sklearn.model_selection import train_test_split # выделение тестовой и обучающей выборок\n",
    "from sklearn.model_selection import cross_val_score # кросс-валидация\n",
    "from sklearn.model_selection import GridSearchCV # подбор гиперпараметров для лучшей модели\n",
    "\n",
    "from sklearn.metrics import f1_score # F1-мера\n",
    "from sklearn.metrics import roc_curve # ROC-кривая\n",
    "from sklearn.metrics import roc_auc_score # AUC-ROC\n",
    "\n",
    "from sklearn.pipeline import Pipeline # конвейер преобразований\n",
    "\n",
    "import seaborn as sns # построение графиков\n",
    "import matplotlib.pyplot as plt # построение графиков"
   ]
  },
  {
   "cell_type": "markdown",
   "metadata": {},
   "source": [
    "Загружаем данные из текстового файла:"
   ]
  },
  {
   "cell_type": "code",
   "execution_count": 115,
   "metadata": {},
   "outputs": [],
   "source": [
    "data = pd.read_csv('/datasets/toxic_comments.csv', index_col=[0])"
   ]
  },
  {
   "cell_type": "markdown",
   "metadata": {},
   "source": [
    "Выводим общую информацию о данных:"
   ]
  },
  {
   "cell_type": "code",
   "execution_count": 116,
   "metadata": {},
   "outputs": [
    {
     "name": "stdout",
     "output_type": "stream",
     "text": [
      "<class 'pandas.core.frame.DataFrame'>\n",
      "Int64Index: 159292 entries, 0 to 159450\n",
      "Data columns (total 2 columns):\n",
      " #   Column  Non-Null Count   Dtype \n",
      "---  ------  --------------   ----- \n",
      " 0   text    159292 non-null  object\n",
      " 1   toxic   159292 non-null  int64 \n",
      "dtypes: int64(1), object(1)\n",
      "memory usage: 3.6+ MB\n"
     ]
    }
   ],
   "source": [
    "data.info()"
   ]
  },
  {
   "cell_type": "markdown",
   "metadata": {},
   "source": [
    "Изучаем данные:"
   ]
  },
  {
   "cell_type": "code",
   "execution_count": 117,
   "metadata": {},
   "outputs": [
    {
     "data": {
      "text/html": [
       "<div>\n",
       "<style scoped>\n",
       "    .dataframe tbody tr th:only-of-type {\n",
       "        vertical-align: middle;\n",
       "    }\n",
       "\n",
       "    .dataframe tbody tr th {\n",
       "        vertical-align: top;\n",
       "    }\n",
       "\n",
       "    .dataframe thead th {\n",
       "        text-align: right;\n",
       "    }\n",
       "</style>\n",
       "<table border=\"1\" class=\"dataframe\">\n",
       "  <thead>\n",
       "    <tr style=\"text-align: right;\">\n",
       "      <th></th>\n",
       "      <th>text</th>\n",
       "      <th>toxic</th>\n",
       "    </tr>\n",
       "  </thead>\n",
       "  <tbody>\n",
       "    <tr>\n",
       "      <th>0</th>\n",
       "      <td>Explanation\\nWhy the edits made under my usern...</td>\n",
       "      <td>0</td>\n",
       "    </tr>\n",
       "    <tr>\n",
       "      <th>1</th>\n",
       "      <td>D'aww! He matches this background colour I'm s...</td>\n",
       "      <td>0</td>\n",
       "    </tr>\n",
       "    <tr>\n",
       "      <th>2</th>\n",
       "      <td>Hey man, I'm really not trying to edit war. It...</td>\n",
       "      <td>0</td>\n",
       "    </tr>\n",
       "    <tr>\n",
       "      <th>3</th>\n",
       "      <td>\"\\nMore\\nI can't make any real suggestions on ...</td>\n",
       "      <td>0</td>\n",
       "    </tr>\n",
       "    <tr>\n",
       "      <th>4</th>\n",
       "      <td>You, sir, are my hero. Any chance you remember...</td>\n",
       "      <td>0</td>\n",
       "    </tr>\n",
       "  </tbody>\n",
       "</table>\n",
       "</div>"
      ],
      "text/plain": [
       "                                                text  toxic\n",
       "0  Explanation\\nWhy the edits made under my usern...      0\n",
       "1  D'aww! He matches this background colour I'm s...      0\n",
       "2  Hey man, I'm really not trying to edit war. It...      0\n",
       "3  \"\\nMore\\nI can't make any real suggestions on ...      0\n",
       "4  You, sir, are my hero. Any chance you remember...      0"
      ]
     },
     "execution_count": 117,
     "metadata": {},
     "output_type": "execute_result"
    }
   ],
   "source": [
    "data.head(5)"
   ]
  },
  {
   "cell_type": "markdown",
   "metadata": {},
   "source": [
    "Проверим на дисбаланс классов:"
   ]
  },
  {
   "cell_type": "code",
   "execution_count": 106,
   "metadata": {},
   "outputs": [
    {
     "data": {
      "text/plain": [
       "0    0.898388\n",
       "1    0.101612\n",
       "Name: toxic, dtype: float64"
      ]
     },
     "execution_count": 106,
     "metadata": {},
     "output_type": "execute_result"
    }
   ],
   "source": [
    "data['toxic'].value_counts(normalize=True)"
   ]
  },
  {
   "cell_type": "code",
   "execution_count": 107,
   "metadata": {},
   "outputs": [
    {
     "data": {
      "image/png": "[encoded data removed]",
      "text/plain": [
       "<Figure size 432x288 with 1 Axes>"
      ]
     },
     "metadata": {
      "needs_background": "light"
     },
     "output_type": "display_data"
    }
   ],
   "source": [
    "sns.countplot(data=data, x=\"toxic\");"
   ]
  },
  {
   "cell_type": "markdown",
   "metadata": {},
   "source": [
    "**Выводы**\n",
    "\n",
    "В исходном наборе данных 159 292 размеченных текста. Наблюдается дисбаланс классов - текстов, размеченных как токсичные, в 9 раз меньше, чем нетоксичных - будем это учитывать при выделение обучающей и тестовой выборок и при построении моделей. Переходим к подготовке признаков."
   ]
  },
  {
   "cell_type": "markdown",
   "metadata": {},
   "source": [
    "Очищаем тексты от неалфавитных символов, выполняем токенизацию и лемматизацию, создаём корпус слов:"
   ]
  },
  {
   "cell_type": "code",
   "execution_count": 87,
   "metadata": {},
   "outputs": [
    {
     "name": "stdout",
     "output_type": "stream",
     "text": [
      "CPU times: user 15min 42s, sys: 1min 33s, total: 17min 16s\n",
      "Wall time: 17min 17s\n"
     ]
    },
    {
     "data": {
      "text/plain": [
       "'# Функция для определения правильного тэга для слова\\ndef get_wordnet_pos(word):\\n    tag = nltk.pos_tag([word])[0][1][0].upper()\\n    tag_dict = {\"J\": wordnet.ADJ,\\n                \"N\": wordnet.NOUN,\\n                \"V\": wordnet.VERB,\\n                \"R\": wordnet.ADV}\\n    return tag_dict.get(tag, wordnet.NOUN)\\n\\nlemmatize = nltk.WordNetLemmatizer()\\ndef get_prepared_text(source_text):\\n    #удаляем неалфавитные символы\\n    text = re.sub(\"[^a-zA-Z]\",\" \",source_text) \\n    # токенизируем слова\\n    text = nltk.word_tokenize(text,language = \"english\")\\n    # лемматирзируем слова\\n    text = [lemmatize.lemmatize(word, get_wordnet_pos(word)) for word in text]\\n    # соединяем слова\\n    text = \"\".join(text)\\n\\nnew_text = data[\\'text\\'].apply(get_prepared_text).tolist() \\n'"
      ]
     },
     "execution_count": 87,
     "metadata": {},
     "output_type": "execute_result"
    }
   ],
   "source": [
    "%%time\n",
    "\n",
    "# Функция для определения правильного тэга для слова\n",
    "def get_wordnet_pos(word):\n",
    "    tag = nltk.pos_tag([word])[0][1][0].upper()\n",
    "    tag_dict = {\"J\": wordnet.ADJ,\n",
    "                \"N\": wordnet.NOUN,\n",
    "                \"V\": wordnet.VERB,\n",
    "                \"R\": wordnet.ADV}\n",
    "    return tag_dict.get(tag, wordnet.NOUN)\n",
    "\n",
    "lemmatize = nltk.WordNetLemmatizer()\n",
    "new_text = []\n",
    "for i in data.text:\n",
    "    #удаляем неалфавитные символы\n",
    "    text = re.sub(\"[^a-zA-Z]\",\" \",i) \n",
    "    # токенизируем слова\n",
    "    text = nltk.word_tokenize(text,language = \"english\")\n",
    "    # лемматирзируем слова\n",
    "    text = [lemmatize.lemmatize(word, get_wordnet_pos(word)) for word in text]\n",
    "    # соединяем слова\n",
    "    text = \" \".join(text)\n",
    "    new_text.append(text)"
   ]
  },
  {
   "cell_type": "markdown",
   "metadata": {},
   "source": [
    "Выделяем обучающую и тестовую выборки с учётом имеющегося дисбаланса классов (параметр stratify), предварительно отдельно выделяем целевой признак токсичности:"
   ]
  },
  {
   "cell_type": "code",
   "execution_count": 118,
   "metadata": {},
   "outputs": [],
   "source": [
    "target = data['toxic'] # целевой признак\n",
    "\n",
    "features_train, features_test, target_train, target_test = train_test_split(\n",
    "    new_text, target, test_size=0.25, stratify = target, random_state=12345\n",
    ")"
   ]
  },
  {
   "cell_type": "markdown",
   "metadata": {},
   "source": [
    "Векторизовать тексты с помощью метода TF-IDF будем на этапе подбора гиперпараметров внутри Pipeline. Если сделать заранее - будет утечка признаков, так как GridSearchCV() использует кросс-валидацию."
   ]
  },
  {
   "cell_type": "markdown",
   "metadata": {},
   "source": [
    "## Обучение"
   ]
  },
  {
   "cell_type": "markdown",
   "metadata": {},
   "source": [
    "Строим модель линейной регресии:"
   ]
  },
  {
   "cell_type": "code",
   "execution_count": 121,
   "metadata": {},
   "outputs": [
    {
     "name": "stdout",
     "output_type": "stream",
     "text": [
      "{'lr_model__C': 11}\n",
      "Значение метрики F1 лучшей модели линейной регрессии: 0.7609729522320716\n",
      "CPU times: user 4min 21s, sys: 8min 6s, total: 12min 28s\n",
      "Wall time: 12min 29s\n"
     ]
    }
   ],
   "source": [
    "%%time\n",
    "\n",
    "stopwords = set(nltk_stopwords.words('english'))\n",
    "vectorizer = TfidfVectorizer(stop_words=stopwords)\n",
    "lr_model = LogisticRegression(class_weight = 'balanced', max_iter=10000)\n",
    "\n",
    "pipeline = Pipeline(\n",
    "    [\n",
    "        (\"tfidf\", vectorizer),\n",
    "        (\"lr_model\", lr_model),\n",
    "    ]\n",
    ")\n",
    "\n",
    "\n",
    "\n",
    "param_grid = {\n",
    "    \"lr_model__C\": range(5,15),\n",
    "}\n",
    "best_model_lr = GridSearchCV(pipeline, param_grid, scoring='f1')\n",
    "best_model_lr.fit(features_train, target_train)\n",
    "print(best_model_lr.best_params_)\n",
    "print(\"Значение метрики F1 лучшей модели линейной регрессии:\", best_model_lr.best_score_)"
   ]
  },
  {
   "cell_type": "markdown",
   "metadata": {},
   "source": [
    "Строим модель случайного леса:"
   ]
  },
  {
   "cell_type": "code",
   "execution_count": 126,
   "metadata": {},
   "outputs": [
    {
     "name": "stdout",
     "output_type": "stream",
     "text": [
      "{'model_rf__max_depth': 10, 'model_rf__n_estimators': 50}\n",
      "Значение метрики F1 лучшей модели случайного леса: 0.3422440155668017\n",
      "CPU times: user 41 s, sys: 139 ms, total: 41.1 s\n",
      "Wall time: 41.2 s\n"
     ]
    }
   ],
   "source": [
    "%%time\n",
    "\n",
    "\n",
    "model_rf = RandomForestClassifier(class_weight = 'balanced', random_state=12345)\n",
    "\n",
    "pipeline = Pipeline(\n",
    "    [\n",
    "        (\"tfidf\", vectorizer),\n",
    "        (\"model_rf\", model_rf),\n",
    "    ]\n",
    ")\n",
    "\n",
    "hyperparameters_rf = dict(model_rf__n_estimators=[50], model_rf__max_depth=[10])\n",
    "\n",
    "gridsearch_rf = GridSearchCV(pipeline, hyperparameters_rf, scoring='f1')\n",
    "best_model_rf = gridsearch_rf.fit(features_train, target_train)\n",
    "print(best_model_rf.best_params_)\n",
    "print(\"Значение метрики F1 лучшей модели случайного леса:\", best_model_rf.best_score_)"
   ]
  },
  {
   "cell_type": "markdown",
   "metadata": {},
   "source": [
    "**Выводы** \n",
    "\n",
    "На обучающей выборке наилучший результат показала модель линейной регрессии - F1-мера модели равна 0.76."
   ]
  },
  {
   "cell_type": "markdown",
   "metadata": {},
   "source": [
    "## Выводы"
   ]
  },
  {
   "cell_type": "markdown",
   "metadata": {},
   "source": [
    "Векторизуем тексты с помощью метода TF-IDF (при подборе гиперпараметров этот этап был внутри пайплайна):"
   ]
  },
  {
   "cell_type": "code",
   "execution_count": 109,
   "metadata": {},
   "outputs": [],
   "source": [
    "vectorizer.fit(features_train)\n",
    "\n",
    "features_train = vectorizer.transform(features_train)\n",
    "features_test = vectorizer.transform(features_test)"
   ]
  },
  {
   "cell_type": "code",
   "execution_count": 111,
   "metadata": {},
   "outputs": [
    {
     "name": "stdout",
     "output_type": "stream",
     "text": [
      "F1 наилучшей модели линейной регрессии на тестовой выборке 0.7592485882217357\n"
     ]
    }
   ],
   "source": [
    "best_model = LogisticRegression(class_weight = 'balanced', C=11, max_iter=10000)\n",
    "\n",
    "best_model.fit(features_train, target_train)\n",
    "predictions_test = best_model.predict(features_test)\n",
    "\n",
    "f1_bm = f1_score(target_test, predictions_test)\n",
    "\n",
    "print('F1 наилучшей модели линейной регрессии на тестовой выборке', f1_bm)"
   ]
  },
  {
   "cell_type": "markdown",
   "metadata": {},
   "source": [
    "Строим ROC-кривую:"
   ]
  },
  {
   "cell_type": "code",
   "execution_count": 112,
   "metadata": {},
   "outputs": [
    {
     "data": {
      "image/png": "[encoded data removed]",
      "text/plain": [
       "<Figure size 432x288 with 1 Axes>"
      ]
     },
     "metadata": {
      "needs_background": "light"
     },
     "output_type": "display_data"
    }
   ],
   "source": [
    "probabilities_test = best_model.predict_proba(features_test)\n",
    "probabilities_one_test = probabilities_test[:, 1]\n",
    "\n",
    "fpr, tpr, thresholds = roc_curve(target_test, probabilities_one_test)\n",
    "\n",
    "plt.figure()\n",
    "\n",
    "plt.plot(fpr, tpr, linestyle='--')\n",
    "\n",
    "# ROC-кривая случайной модели (выглядит как прямая)\n",
    "plt.plot([0, 1], [0, 1], linestyle='--')\n",
    "\n",
    "plt.xlim([0, 1])\n",
    "plt.ylim([0, 1])\n",
    "\n",
    "plt.xlabel('False Positive Rate')\n",
    "plt.ylabel('True Positive Rate')\n",
    "\n",
    "plt.title('ROC-кривая')\n",
    "\n",
    "plt.grid()\n",
    "plt.show()"
   ]
  },
  {
   "cell_type": "markdown",
   "metadata": {},
   "source": [
    "Чтобы выявить, как сильно наша модель отличается от случайной, посчитаем площадь под ROC-кривой — AUC-ROC (от англ. Area Under Curve ROC, «площадь под ROC-кривой»):"
   ]
  },
  {
   "cell_type": "code",
   "execution_count": 113,
   "metadata": {},
   "outputs": [
    {
     "name": "stdout",
     "output_type": "stream",
     "text": [
      "0.966384050368798\n"
     ]
    }
   ],
   "source": [
    "auc_roc = roc_auc_score(target_test, probabilities_one_test)\n",
    "\n",
    "print(auc_roc)"
   ]
  },
  {
   "cell_type": "markdown",
   "metadata": {},
   "source": [
    "**Выводы**\n",
    "\n",
    "На тестовой выборке F1-мера равна 0.76. Для модели, которая всегда отвечает случайно, ROC-кривая выглядит как прямая, идущая из левого нижнего угла в верхний правый,  AUC-ROC случайной модели равна 0.5. В нашем случае график выше, выше значение TPR и лучше качество модели, AUC-ROC составляет 0.97 - модель проходит проверку на адекватность (вменяемость)."
   ]
  }
 ],
 "metadata": {
  "ExecuteTimeLog": [
   {
    "duration": 452,
    "start_time": "2022-11-04T14:29:38.026Z"
   },
   {
    "duration": 103,
    "start_time": "2022-11-04T14:30:15.367Z"
   },
   {
    "duration": 30,
    "start_time": "2022-11-04T14:30:33.320Z"
   },
   {
    "duration": 2583,
    "start_time": "2022-11-04T14:31:27.483Z"
   },
   {
    "duration": 33,
    "start_time": "2022-11-04T14:31:40.095Z"
   },
   {
    "duration": 23,
    "start_time": "2022-11-04T14:32:01.627Z"
   },
   {
    "duration": 8,
    "start_time": "2022-11-04T14:32:47.273Z"
   },
   {
    "duration": 3,
    "start_time": "2022-11-04T14:37:21.122Z"
   },
   {
    "duration": 881,
    "start_time": "2022-11-04T14:37:21.618Z"
   },
   {
    "duration": 35,
    "start_time": "2022-11-04T14:37:23.096Z"
   },
   {
    "duration": 7,
    "start_time": "2022-11-04T14:37:24.593Z"
   },
   {
    "duration": 1183,
    "start_time": "2022-11-04T14:51:37.831Z"
   },
   {
    "duration": 811,
    "start_time": "2022-11-04T14:51:42.828Z"
   },
   {
    "duration": 42,
    "start_time": "2022-11-04T14:51:43.641Z"
   },
   {
    "duration": 10,
    "start_time": "2022-11-04T14:51:43.855Z"
   },
   {
    "duration": 968,
    "start_time": "2022-11-04T14:51:46.938Z"
   },
   {
    "duration": 1928,
    "start_time": "2022-11-04T14:52:00.666Z"
   },
   {
    "duration": 13,
    "start_time": "2022-11-04T14:53:12.504Z"
   },
   {
    "duration": 12960,
    "start_time": "2022-11-04T14:53:32.925Z"
   },
   {
    "duration": 12893,
    "start_time": "2022-11-04T14:55:09.675Z"
   },
   {
    "duration": 13229,
    "start_time": "2022-11-04T14:55:46.621Z"
   },
   {
    "duration": 11,
    "start_time": "2022-11-04T14:59:45.825Z"
   },
   {
    "duration": 3,
    "start_time": "2022-11-04T15:04:07.644Z"
   },
   {
    "duration": 14,
    "start_time": "2022-11-04T15:04:14.136Z"
   },
   {
    "duration": 4,
    "start_time": "2022-11-04T15:04:39.825Z"
   },
   {
    "duration": 912,
    "start_time": "2022-11-04T15:04:40.333Z"
   },
   {
    "duration": 45,
    "start_time": "2022-11-04T15:04:41.248Z"
   },
   {
    "duration": 9,
    "start_time": "2022-11-04T15:04:42.526Z"
   },
   {
    "duration": 1630,
    "start_time": "2022-11-04T15:04:55.329Z"
   },
   {
    "duration": 3024,
    "start_time": "2022-11-04T15:04:57.887Z"
   },
   {
    "duration": 66,
    "start_time": "2022-11-04T15:05:01.634Z"
   },
   {
    "duration": 22,
    "start_time": "2022-11-04T15:05:05.374Z"
   },
   {
    "duration": 2125,
    "start_time": "2022-11-04T15:05:08.507Z"
   },
   {
    "duration": 13400,
    "start_time": "2022-11-04T15:05:12.287Z"
   },
   {
    "duration": 69,
    "start_time": "2022-11-04T15:05:33.338Z"
   },
   {
    "duration": 31,
    "start_time": "2022-11-04T15:10:03.469Z"
   },
   {
    "duration": 4,
    "start_time": "2022-11-04T15:10:45.245Z"
   },
   {
    "duration": 146,
    "start_time": "2022-11-04T15:11:36.344Z"
   },
   {
    "duration": 1473,
    "start_time": "2022-11-04T15:14:58.727Z"
   },
   {
    "duration": 1062,
    "start_time": "2022-11-04T15:15:00.203Z"
   },
   {
    "duration": 38,
    "start_time": "2022-11-04T15:15:01.267Z"
   },
   {
    "duration": 92,
    "start_time": "2022-11-04T15:15:01.308Z"
   },
   {
    "duration": 2156,
    "start_time": "2022-11-04T15:15:01.402Z"
   },
   {
    "duration": 13280,
    "start_time": "2022-11-04T15:15:03.566Z"
   },
   {
    "duration": 82,
    "start_time": "2022-11-04T15:15:16.849Z"
   },
   {
    "duration": 143,
    "start_time": "2022-11-04T15:15:43.798Z"
   },
   {
    "duration": 11,
    "start_time": "2022-11-04T15:16:03.229Z"
   },
   {
    "duration": 5,
    "start_time": "2022-11-04T15:16:11.915Z"
   },
   {
    "duration": 858091,
    "start_time": "2022-11-04T15:16:33.728Z"
   },
   {
    "duration": 15,
    "start_time": "2022-11-04T15:50:41.440Z"
   },
   {
    "duration": 4,
    "start_time": "2022-11-04T15:51:29.804Z"
   },
   {
    "duration": 4,
    "start_time": "2022-11-04T15:52:23.580Z"
   },
   {
    "duration": 811,
    "start_time": "2022-11-04T15:52:24.008Z"
   },
   {
    "duration": 37,
    "start_time": "2022-11-04T15:52:24.821Z"
   },
   {
    "duration": 8,
    "start_time": "2022-11-04T15:52:25.029Z"
   },
   {
    "duration": 1416,
    "start_time": "2022-11-04T15:52:35.708Z"
   },
   {
    "duration": 2480,
    "start_time": "2022-11-04T15:52:37.126Z"
   },
   {
    "duration": 36,
    "start_time": "2022-11-04T15:52:41.861Z"
   },
   {
    "duration": 14,
    "start_time": "2022-11-04T15:52:42.514Z"
   },
   {
    "duration": 1998,
    "start_time": "2022-11-04T15:52:43.293Z"
   },
   {
    "duration": 10452,
    "start_time": "2022-11-04T15:52:45.293Z"
   },
   {
    "duration": 51,
    "start_time": "2022-11-04T15:53:00.026Z"
   },
   {
    "duration": 269516,
    "start_time": "2022-11-04T15:53:05.355Z"
   },
   {
    "duration": 775996,
    "start_time": "2022-11-04T16:05:22.450Z"
   },
   {
    "duration": 42,
    "start_time": "2022-11-05T08:22:07.807Z"
   },
   {
    "duration": 1257,
    "start_time": "2022-11-05T08:22:13.295Z"
   },
   {
    "duration": 1311,
    "start_time": "2022-11-05T08:22:18.517Z"
   },
   {
    "duration": 453,
    "start_time": "2022-11-05T08:26:45.524Z"
   },
   {
    "duration": 2165,
    "start_time": "2022-11-05T08:26:48.858Z"
   },
   {
    "duration": 30,
    "start_time": "2022-11-05T08:26:52.793Z"
   },
   {
    "duration": 107,
    "start_time": "2022-11-05T08:27:39.751Z"
   },
   {
    "duration": 91,
    "start_time": "2022-11-05T08:27:46.771Z"
   },
   {
    "duration": 97,
    "start_time": "2022-11-05T08:33:09.263Z"
   },
   {
    "duration": 9,
    "start_time": "2022-11-05T08:33:18.962Z"
   },
   {
    "duration": 90,
    "start_time": "2022-11-05T08:33:21.510Z"
   },
   {
    "duration": 5,
    "start_time": "2022-11-05T08:35:38.936Z"
   },
   {
    "duration": 731,
    "start_time": "2022-11-05T08:35:39.791Z"
   },
   {
    "duration": 23,
    "start_time": "2022-11-05T08:35:40.524Z"
   },
   {
    "duration": 9,
    "start_time": "2022-11-05T08:35:40.609Z"
   },
   {
    "duration": 7,
    "start_time": "2022-11-05T08:35:41.030Z"
   },
   {
    "duration": 106,
    "start_time": "2022-11-05T08:35:41.365Z"
   },
   {
    "duration": 1816,
    "start_time": "2022-11-05T08:35:42.074Z"
   },
   {
    "duration": 9261,
    "start_time": "2022-11-05T08:35:45.695Z"
   },
   {
    "duration": 81,
    "start_time": "2022-11-05T08:36:43.274Z"
   },
   {
    "duration": 258664,
    "start_time": "2022-11-05T08:36:54.165Z"
   },
   {
    "duration": 745445,
    "start_time": "2022-11-05T08:42:23.400Z"
   },
   {
    "duration": 51,
    "start_time": "2022-11-05T09:02:36.292Z"
   },
   {
    "duration": 766,
    "start_time": "2022-11-05T09:02:37.886Z"
   },
   {
    "duration": 29,
    "start_time": "2022-11-05T09:02:38.683Z"
   },
   {
    "duration": 7,
    "start_time": "2022-11-05T09:02:44.517Z"
   },
   {
    "duration": 7,
    "start_time": "2022-11-05T09:02:47.213Z"
   },
   {
    "duration": 97,
    "start_time": "2022-11-05T09:02:47.751Z"
   },
   {
    "duration": 39,
    "start_time": "2022-11-05T09:05:18.709Z"
   },
   {
    "duration": 190156,
    "start_time": "2022-11-05T09:06:12.794Z"
   },
   {
    "duration": 53,
    "start_time": "2022-11-05T09:09:59.236Z"
   },
   {
    "duration": 4,
    "start_time": "2022-11-05T09:11:01.247Z"
   },
   {
    "duration": 5,
    "start_time": "2022-11-05T09:12:04.046Z"
   },
   {
    "duration": 3,
    "start_time": "2022-11-05T09:12:13.909Z"
   },
   {
    "duration": 9,
    "start_time": "2022-11-05T09:12:27.715Z"
   },
   {
    "duration": 8,
    "start_time": "2022-11-05T09:13:24.730Z"
   },
   {
    "duration": 6727,
    "start_time": "2022-11-05T09:18:18.952Z"
   },
   {
    "duration": 85,
    "start_time": "2022-11-05T09:18:48.620Z"
   },
   {
    "duration": 258478,
    "start_time": "2022-11-05T09:18:53.447Z"
   },
   {
    "duration": 742869,
    "start_time": "2022-11-05T09:26:04.354Z"
   },
   {
    "duration": 155,
    "start_time": "2022-11-05T09:41:41.235Z"
   },
   {
    "duration": 46091,
    "start_time": "2022-11-05T09:43:12.454Z"
   },
   {
    "duration": 45769,
    "start_time": "2022-11-05T10:00:57.854Z"
   },
   {
    "duration": 45943,
    "start_time": "2022-11-05T10:03:07.292Z"
   },
   {
    "duration": 47,
    "start_time": "2022-11-05T13:08:34.361Z"
   },
   {
    "duration": 1989,
    "start_time": "2022-11-05T13:08:57.677Z"
   },
   {
    "duration": 2228,
    "start_time": "2022-11-05T13:09:02.423Z"
   },
   {
    "duration": 26,
    "start_time": "2022-11-05T13:09:08.476Z"
   },
   {
    "duration": 12,
    "start_time": "2022-11-05T13:09:12.617Z"
   },
   {
    "duration": 9,
    "start_time": "2022-11-05T13:09:20.154Z"
   },
   {
    "duration": 112,
    "start_time": "2022-11-05T13:09:29.765Z"
   },
   {
    "duration": 6,
    "start_time": "2022-11-05T13:16:35.009Z"
   },
   {
    "duration": 857,
    "start_time": "2022-11-05T13:16:35.736Z"
   },
   {
    "duration": 22,
    "start_time": "2022-11-05T13:16:36.595Z"
   },
   {
    "duration": 7,
    "start_time": "2022-11-05T13:16:36.836Z"
   },
   {
    "duration": 7,
    "start_time": "2022-11-05T13:16:37.814Z"
   },
   {
    "duration": 117,
    "start_time": "2022-11-05T13:16:38.190Z"
   },
   {
    "duration": 227906,
    "start_time": "2022-11-05T13:16:39.132Z"
   },
   {
    "duration": 7301,
    "start_time": "2022-11-05T13:21:38.327Z"
   },
   {
    "duration": 83,
    "start_time": "2022-11-05T13:22:04.811Z"
   },
   {
    "duration": 230098,
    "start_time": "2022-11-05T13:22:10.631Z"
   },
   {
    "duration": 177,
    "start_time": "2022-11-05T13:27:39.781Z"
   },
   {
    "duration": 87,
    "start_time": "2022-11-05T13:27:48.359Z"
   },
   {
    "duration": 79,
    "start_time": "2022-11-05T13:28:38.620Z"
   },
   {
    "duration": 1766,
    "start_time": "2022-11-05T13:29:25.297Z"
   },
   {
    "duration": 2162,
    "start_time": "2022-11-05T13:29:27.065Z"
   },
   {
    "duration": 23,
    "start_time": "2022-11-05T13:29:29.229Z"
   },
   {
    "duration": 9,
    "start_time": "2022-11-05T13:29:29.254Z"
   },
   {
    "duration": 7,
    "start_time": "2022-11-05T13:29:29.264Z"
   },
   {
    "duration": 118,
    "start_time": "2022-11-05T13:29:29.272Z"
   },
   {
    "duration": 229061,
    "start_time": "2022-11-05T13:29:34.195Z"
   },
   {
    "duration": 7028,
    "start_time": "2022-11-05T13:34:20.856Z"
   },
   {
    "duration": 135,
    "start_time": "2022-11-05T13:34:36.405Z"
   },
   {
    "duration": 4,
    "start_time": "2022-11-05T13:34:39.972Z"
   },
   {
    "duration": 1872,
    "start_time": "2022-11-05T13:42:22.599Z"
   },
   {
    "duration": 2200,
    "start_time": "2022-11-05T13:42:29.517Z"
   },
   {
    "duration": 28,
    "start_time": "2022-11-05T13:42:32.733Z"
   },
   {
    "duration": 10,
    "start_time": "2022-11-05T13:42:33.383Z"
   },
   {
    "duration": 8,
    "start_time": "2022-11-05T13:42:34.071Z"
   },
   {
    "duration": 111,
    "start_time": "2022-11-05T13:42:34.600Z"
   },
   {
    "duration": 227539,
    "start_time": "2022-11-05T13:42:36.355Z"
   },
   {
    "duration": 230385,
    "start_time": "2022-11-05T13:49:03.504Z"
   },
   {
    "duration": 7216,
    "start_time": "2022-11-05T13:54:11.327Z"
   },
   {
    "duration": 93,
    "start_time": "2022-11-05T13:54:20.969Z"
   },
   {
    "duration": 235704,
    "start_time": "2022-11-05T13:54:25.908Z"
   },
   {
    "duration": 41875,
    "start_time": "2022-11-05T13:59:26.745Z"
   },
   {
    "duration": 138,
    "start_time": "2022-11-05T14:01:56.132Z"
   },
   {
    "duration": 15,
    "start_time": "2022-11-05T14:02:03.471Z"
   },
   {
    "duration": 42317,
    "start_time": "2022-11-05T14:09:49.301Z"
   },
   {
    "duration": 2066,
    "start_time": "2022-11-06T11:53:15.052Z"
   },
   {
    "duration": 3220,
    "start_time": "2022-11-06T11:53:17.121Z"
   },
   {
    "duration": 34,
    "start_time": "2022-11-06T11:53:20.342Z"
   },
   {
    "duration": 14,
    "start_time": "2022-11-06T11:53:20.380Z"
   },
   {
    "duration": 11,
    "start_time": "2022-11-06T11:53:20.396Z"
   },
   {
    "duration": 121,
    "start_time": "2022-11-06T11:53:20.409Z"
   },
   {
    "duration": 1395,
    "start_time": "2022-11-06T11:54:55.781Z"
   },
   {
    "duration": 5,
    "start_time": "2022-11-06T11:56:21.216Z"
   },
   {
    "duration": 728,
    "start_time": "2022-11-06T11:56:22.126Z"
   },
   {
    "duration": 30,
    "start_time": "2022-11-06T11:56:24.581Z"
   },
   {
    "duration": 9,
    "start_time": "2022-11-06T11:56:26.886Z"
   },
   {
    "duration": 6,
    "start_time": "2022-11-06T11:56:30.304Z"
   },
   {
    "duration": 103,
    "start_time": "2022-11-06T11:56:30.497Z"
   },
   {
    "duration": 4,
    "start_time": "2022-11-06T11:56:51.005Z"
   },
   {
    "duration": 6,
    "start_time": "2022-11-06T11:58:08.484Z"
   },
   {
    "duration": 5,
    "start_time": "2022-11-06T11:58:39.649Z"
   },
   {
    "duration": 705,
    "start_time": "2022-11-06T11:58:40.175Z"
   },
   {
    "duration": 31,
    "start_time": "2022-11-06T11:58:40.881Z"
   },
   {
    "duration": 8,
    "start_time": "2022-11-06T11:58:41.603Z"
   },
   {
    "duration": 6,
    "start_time": "2022-11-06T11:58:42.457Z"
   },
   {
    "duration": 111,
    "start_time": "2022-11-06T11:58:43.449Z"
   },
   {
    "duration": 4,
    "start_time": "2022-11-06T11:58:44.384Z"
   },
   {
    "duration": 8,
    "start_time": "2022-11-06T11:58:45.259Z"
   },
   {
    "duration": 5,
    "start_time": "2022-11-06T12:01:15.055Z"
   },
   {
    "duration": 736,
    "start_time": "2022-11-06T12:01:15.705Z"
   },
   {
    "duration": 24,
    "start_time": "2022-11-06T12:01:16.443Z"
   },
   {
    "duration": 6,
    "start_time": "2022-11-06T12:01:16.637Z"
   },
   {
    "duration": 7,
    "start_time": "2022-11-06T12:01:17.100Z"
   },
   {
    "duration": 103,
    "start_time": "2022-11-06T12:01:17.595Z"
   },
   {
    "duration": 3,
    "start_time": "2022-11-06T12:01:19.250Z"
   },
   {
    "duration": 6,
    "start_time": "2022-11-06T12:01:21.841Z"
   },
   {
    "duration": 7,
    "start_time": "2022-11-06T12:15:51.268Z"
   },
   {
    "duration": 667,
    "start_time": "2022-11-06T12:15:52.200Z"
   },
   {
    "duration": 20,
    "start_time": "2022-11-06T12:15:52.868Z"
   },
   {
    "duration": 6,
    "start_time": "2022-11-06T12:15:53.079Z"
   },
   {
    "duration": 6,
    "start_time": "2022-11-06T12:15:53.437Z"
   },
   {
    "duration": 105,
    "start_time": "2022-11-06T12:15:53.652Z"
   },
   {
    "duration": 73094,
    "start_time": "2022-11-06T12:15:54.374Z"
   },
   {
    "duration": 5,
    "start_time": "2022-11-06T12:17:19.577Z"
   },
   {
    "duration": 678,
    "start_time": "2022-11-06T12:17:20.184Z"
   },
   {
    "duration": 24,
    "start_time": "2022-11-06T12:17:20.864Z"
   },
   {
    "duration": 9,
    "start_time": "2022-11-06T12:17:21.004Z"
   },
   {
    "duration": 6,
    "start_time": "2022-11-06T12:17:21.398Z"
   },
   {
    "duration": 120,
    "start_time": "2022-11-06T12:17:21.802Z"
   },
   {
    "duration": 266,
    "start_time": "2022-11-06T12:17:22.803Z"
   },
   {
    "duration": 438,
    "start_time": "2022-11-06T12:17:57.453Z"
   },
   {
    "duration": 695,
    "start_time": "2022-11-06T12:18:04.171Z"
   },
   {
    "duration": 30,
    "start_time": "2022-11-06T12:18:04.868Z"
   },
   {
    "duration": 7,
    "start_time": "2022-11-06T12:18:05.012Z"
   },
   {
    "duration": 6,
    "start_time": "2022-11-06T12:18:05.654Z"
   },
   {
    "duration": 96,
    "start_time": "2022-11-06T12:18:05.868Z"
   },
   {
    "duration": 1024232,
    "start_time": "2022-11-06T12:18:07.218Z"
   },
   {
    "duration": 14,
    "start_time": "2022-11-06T12:37:50.052Z"
   },
   {
    "duration": 828,
    "start_time": "2022-11-06T12:37:50.827Z"
   },
   {
    "duration": 31,
    "start_time": "2022-11-06T12:37:52.434Z"
   },
   {
    "duration": 9,
    "start_time": "2022-11-06T12:37:53.311Z"
   },
   {
    "duration": 8,
    "start_time": "2022-11-06T12:37:54.326Z"
   },
   {
    "duration": 110,
    "start_time": "2022-11-06T12:37:55.069Z"
   },
   {
    "duration": 1078472,
    "start_time": "2022-11-06T12:38:54.251Z"
   },
   {
    "duration": 18,
    "start_time": "2022-11-06T13:04:26.238Z"
   },
   {
    "duration": 180,
    "start_time": "2022-11-06T13:05:00.034Z"
   },
   {
    "duration": 785,
    "start_time": "2022-11-06T13:05:00.912Z"
   },
   {
    "duration": 32,
    "start_time": "2022-11-06T13:05:03.746Z"
   },
   {
    "duration": 7,
    "start_time": "2022-11-06T13:05:04.195Z"
   },
   {
    "duration": 7,
    "start_time": "2022-11-06T13:05:04.680Z"
   },
   {
    "duration": 127,
    "start_time": "2022-11-06T13:05:05.208Z"
   },
   {
    "duration": 1128256,
    "start_time": "2022-11-06T13:05:08.389Z"
   },
   {
    "duration": 33,
    "start_time": "2022-11-06T13:25:02.467Z"
   },
   {
    "duration": 5,
    "start_time": "2022-11-06T13:25:58.415Z"
   },
   {
    "duration": 704,
    "start_time": "2022-11-06T13:25:59.347Z"
   },
   {
    "duration": 28,
    "start_time": "2022-11-06T13:26:00.214Z"
   },
   {
    "duration": 8,
    "start_time": "2022-11-06T13:26:00.617Z"
   },
   {
    "duration": 6,
    "start_time": "2022-11-06T13:26:01.799Z"
   },
   {
    "duration": 148,
    "start_time": "2022-11-06T13:26:06.525Z"
   },
   {
    "duration": 3,
    "start_time": "2022-11-06T13:26:27.078Z"
   },
   {
    "duration": 14,
    "start_time": "2022-11-06T13:26:28.212Z"
   },
   {
    "duration": 15,
    "start_time": "2022-11-06T13:26:42.187Z"
   },
   {
    "duration": 4,
    "start_time": "2022-11-06T13:27:03.237Z"
   },
   {
    "duration": 12,
    "start_time": "2022-11-06T13:27:16.512Z"
   },
   {
    "duration": 5,
    "start_time": "2022-11-06T13:27:17.793Z"
   },
   {
    "duration": 6,
    "start_time": "2022-11-06T13:28:05.204Z"
   },
   {
    "duration": 718,
    "start_time": "2022-11-06T13:28:05.718Z"
   },
   {
    "duration": 23,
    "start_time": "2022-11-06T13:28:06.438Z"
   },
   {
    "duration": 7,
    "start_time": "2022-11-06T13:28:06.597Z"
   },
   {
    "duration": 6,
    "start_time": "2022-11-06T13:28:07.564Z"
   },
   {
    "duration": 116,
    "start_time": "2022-11-06T13:28:08.069Z"
   },
   {
    "duration": 1037160,
    "start_time": "2022-11-06T13:28:10.713Z"
   },
   {
    "duration": 18,
    "start_time": "2022-11-06T13:52:24.986Z"
   },
   {
    "duration": 85,
    "start_time": "2022-11-06T13:52:33.923Z"
   },
   {
    "duration": 7,
    "start_time": "2022-11-06T13:58:09.815Z"
   },
   {
    "duration": 13,
    "start_time": "2022-11-06T14:01:50.415Z"
   },
   {
    "duration": 7,
    "start_time": "2022-11-06T14:02:04.453Z"
   },
   {
    "duration": 83,
    "start_time": "2022-11-06T14:11:51.727Z"
   },
   {
    "duration": 144,
    "start_time": "2022-11-06T14:12:39.867Z"
   },
   {
    "duration": 15,
    "start_time": "2022-11-06T14:13:29.344Z"
   },
   {
    "duration": 101,
    "start_time": "2022-11-06T14:14:06.877Z"
   },
   {
    "duration": 112,
    "start_time": "2022-11-06T14:16:32.471Z"
   },
   {
    "duration": 102,
    "start_time": "2022-11-06T14:16:55.020Z"
   },
   {
    "duration": 5791843,
    "start_time": "2022-11-06T14:17:26.396Z"
   },
   {
    "duration": 6230,
    "start_time": "2022-11-06T16:15:55.785Z"
   },
   {
    "duration": 27,
    "start_time": "2022-11-06T16:16:05.057Z"
   },
   {
    "duration": 188,
    "start_time": "2022-11-06T16:18:12.441Z"
   },
   {
    "duration": 701,
    "start_time": "2022-11-06T16:18:14.127Z"
   },
   {
    "duration": 30,
    "start_time": "2022-11-06T16:18:14.848Z"
   },
   {
    "duration": 10,
    "start_time": "2022-11-06T16:18:15.546Z"
   },
   {
    "duration": 9,
    "start_time": "2022-11-06T16:18:18.190Z"
   },
   {
    "duration": 100,
    "start_time": "2022-11-06T16:18:18.796Z"
   },
   {
    "duration": 99,
    "start_time": "2022-11-06T16:18:44.197Z"
   },
   {
    "duration": 11613,
    "start_time": "2022-11-06T16:19:01.862Z"
   },
   {
    "duration": 45440,
    "start_time": "2022-11-06T16:19:16.589Z"
   },
   {
    "duration": 154565,
    "start_time": "2022-11-06T16:20:42.271Z"
   },
   {
    "duration": 151,
    "start_time": "2022-11-06T16:24:43.907Z"
   },
   {
    "duration": 17,
    "start_time": "2022-11-06T16:24:47.056Z"
   },
   {
    "duration": 7,
    "start_time": "2022-11-06T16:34:13.160Z"
   },
   {
    "duration": 662,
    "start_time": "2022-11-06T16:34:13.760Z"
   },
   {
    "duration": 31,
    "start_time": "2022-11-06T16:34:14.425Z"
   },
   {
    "duration": 7,
    "start_time": "2022-11-06T16:34:14.521Z"
   },
   {
    "duration": 113,
    "start_time": "2022-11-06T16:34:42.361Z"
   },
   {
    "duration": 38,
    "start_time": "2022-11-06T16:34:55.868Z"
   },
   {
    "duration": 195,
    "start_time": "2022-11-06T16:35:04.957Z"
   },
   {
    "duration": 749423,
    "start_time": "2022-11-06T16:35:22.303Z"
   },
   {
    "duration": 105,
    "start_time": "2022-11-06T16:52:27.152Z"
   },
   {
    "duration": 36464,
    "start_time": "2022-11-06T16:52:48.479Z"
   },
   {
    "duration": 75597,
    "start_time": "2022-11-06T16:55:13.668Z"
   },
   {
    "duration": 107,
    "start_time": "2022-11-06T16:57:08.575Z"
   },
   {
    "duration": 41165,
    "start_time": "2022-11-06T16:57:15.128Z"
   },
   {
    "duration": 27,
    "start_time": "2022-11-06T17:04:51.720Z"
   }
  ],
  "kernelspec": {
   "display_name": "Python 3 (ipykernel)",
   "language": "python",
   "name": "python3"
  },
  "language_info": {
   "codemirror_mode": {
    "name": "ipython",
    "version": 3
   },
   "file_extension": ".py",
   "mimetype": "text/x-python",
   "name": "python",
   "nbconvert_exporter": "python",
   "pygments_lexer": "ipython3",
   "version": "3.9.12"
  },
  "toc": {
   "base_numbering": 1,
   "nav_menu": {},
   "number_sections": true,
   "sideBar": true,
   "skip_h1_title": true,
   "title_cell": "Содержание",
   "title_sidebar": "Contents",
   "toc_cell": true,
   "toc_position": {
    "height": "calc(100% - 180px)",
    "left": "10px",
    "top": "150px",
    "width": "302.391px"
   },
   "toc_section_display": true,
   "toc_window_display": false
  }
 },
 "nbformat": 4,
 "nbformat_minor": 2
}
